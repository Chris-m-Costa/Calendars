{
 "cells": [
  {
   "cell_type": "code",
   "execution_count": 31,
   "id": "862563f4",
   "metadata": {},
   "outputs": [],
   "source": [
    "# from googletrans import Translator, constants\n",
    "# from pprint import pprint\n",
    "\n",
    "# # init the Google API translator\n",
    "# translator = Translator()\n",
    "# # translate a spanish text to english text (by default)\n",
    "# translation = translator.translate(\"Hola Mundo\")\n",
    "# print(f\"{translation.origin} ({translation.src}) --> {translation.text} ({translation.dest})\")"
   ]
  },
  {
   "cell_type": "code",
   "execution_count": 32,
   "id": "5c674848",
   "metadata": {},
   "outputs": [],
   "source": [
    "from bs4 import BeautifulSoup\n",
    "import requests\n",
    "import pandas as pd\n",
    "import numpy as np"
   ]
  },
  {
   "cell_type": "code",
   "execution_count": null,
   "id": "eed9d105",
   "metadata": {},
   "outputs": [],
   "source": []
  },
  {
   "cell_type": "code",
   "execution_count": 33,
   "id": "b69c7d83",
   "metadata": {},
   "outputs": [],
   "source": [
    "def make_soup(url):\n",
    "    \n",
    "    request = requests.get(url)\n",
    "    if request.status_code == 200:\n",
    "        soup = BeautifulSoup(request.content, 'html.parser')\n",
    "    else:\n",
    "        print('failed: ' + request.status_code)\n",
    "    \n",
    "    return soup\n",
    "    \n",
    "# url = 'https://www.nuerburgring-langstrecken-serie.de/en/calendar-nurburgring-langstrecken-serie-2023/'"
   ]
  },
  {
   "cell_type": "code",
   "execution_count": 34,
   "id": "bea1a192",
   "metadata": {},
   "outputs": [],
   "source": [
    "soup = make_soup('https://www.nuerburgring-langstrecken-serie.de/en/calendar-nurburgring-langstrecken-serie-2023/')"
   ]
  },
  {
   "cell_type": "code",
   "execution_count": 35,
   "id": "7c5428b3",
   "metadata": {},
   "outputs": [],
   "source": [
    "# temp_tits = []\n",
    "# count = 1\n",
    "# for i in range(len(soup.find_all('tr')[1:9])):\n",
    "#         temp_tits.append('VLN Race R0' + str(count))\n",
    "#         count += 1\n",
    "# temp_tits"
   ]
  },
  {
   "cell_type": "code",
   "execution_count": 36,
   "id": "9a9c1b61",
   "metadata": {},
   "outputs": [],
   "source": [
    "# soup.find_all('tr')[0]"
   ]
  },
  {
   "cell_type": "code",
   "execution_count": 37,
   "id": "20306b3f",
   "metadata": {},
   "outputs": [],
   "source": [
    "def scrape_nls(soup):\n",
    "    \n",
    "    cln_days = []\n",
    "    cln_mons = []\n",
    "    cln_yrs = []\n",
    "    titles = []\n",
    "    \n",
    "    tr = soup.find_all('tr')\n",
    "    \n",
    "\n",
    "## For each round item (tr) find date, trim day to race date only (ie 11-13 becomes just 13, fri-sat becomes just sat)\n",
    "## store dates in clean_dates in format for iCalendar req's\n",
    "    for i in range(len(soup.find_all('tr'))): \n",
    "        temp_date = soup.find_all('tr')[i].find_all('td')[0].text.strip().split('-')[1].split('.')\n",
    "\n",
    "        temp_day = temp_date[0]\n",
    "        if temp_day[0] == '0':\n",
    "            temp_day = temp_day[1:]\n",
    "        cln_days.append(temp_day)\n",
    "\n",
    "        temp_mon = temp_date[1]\n",
    "        if temp_mon[0] == '0':\n",
    "            temp_mon = temp_mon[1:]\n",
    "        cln_mons.append(temp_mon)\n",
    "\n",
    "        cln_yr = temp_date[2]\n",
    "        cln_yrs.append(cln_yr)\n",
    "\n",
    "#     clean_dates = []\n",
    "#     for yr, mon, day in zip(cln_yrs, cln_mons, cln_days):\n",
    "#         temp_date_ = yr + ', ' + mon + ', ' + day\n",
    "#         clean_dates.append(temp_date_)\n",
    "##\n",
    "\n",
    "\n",
    "## Pull the event names as description and store to description list\n",
    "    descriptions = []\n",
    "    for i in range(len(soup.find_all('tr'))):\n",
    "        temp_desc = soup.find_all('tr')[i].find_all('td')[1].text.strip()\n",
    "        descriptions.append(temp_desc)\n",
    "##\n",
    "\n",
    "## Make a simple title string for each index.\n",
    "#  index 0 is preseason test days, mnaully added to list\n",
    "   \n",
    "    titles = []\n",
    "    titles.append('NLS Test Days')\n",
    "    \n",
    "    count = 1\n",
    "    for i in range(len(soup.find_all('tr')[1:9])):\n",
    "        titles.append('NLS Race R0' + str(count))\n",
    "        count += 1\n",
    "#         titles.append(temp_tit)\n",
    "    \n",
    "    titles.append('NLS Alternative Date')\n",
    "\n",
    "        \n",
    "    return cln_yrs, cln_mons, cln_days, descriptions, titles"
   ]
  },
  {
   "cell_type": "code",
   "execution_count": 38,
   "id": "a9a90ec3",
   "metadata": {},
   "outputs": [],
   "source": [
    "cln_yrs, cln_mons, cln_days, descriptions, titles = scrape_nls(soup)"
   ]
  },
  {
   "cell_type": "code",
   "execution_count": 39,
   "id": "28858241",
   "metadata": {},
   "outputs": [
    {
     "data": {
      "text/plain": [
       "['2023',\n",
       " '2023',\n",
       " '2023',\n",
       " '2023',\n",
       " '2023',\n",
       " '2023',\n",
       " '2023',\n",
       " '2023',\n",
       " '2023',\n",
       " '2023']"
      ]
     },
     "execution_count": 39,
     "metadata": {},
     "output_type": "execute_result"
    }
   ],
   "source": [
    "cln_yrs"
   ]
  },
  {
   "cell_type": "code",
   "execution_count": 40,
   "id": "c7275a12",
   "metadata": {},
   "outputs": [
    {
     "data": {
      "text/plain": [
       "['3', '3', '4', '4', '6', '7', '9', '9', '10', '11']"
      ]
     },
     "execution_count": 40,
     "metadata": {},
     "output_type": "execute_result"
    }
   ],
   "source": [
    "cln_mons"
   ]
  },
  {
   "cell_type": "code",
   "execution_count": 41,
   "id": "24e613d9",
   "metadata": {},
   "outputs": [
    {
     "data": {
      "text/plain": [
       "['12', '18', '1', '15', '17', '8', '10', '23', '7', '4']"
      ]
     },
     "execution_count": 41,
     "metadata": {},
     "output_type": "execute_result"
    }
   ],
   "source": [
    "cln_days"
   ]
  },
  {
   "cell_type": "code",
   "execution_count": 42,
   "id": "0296599b",
   "metadata": {},
   "outputs": [
    {
     "data": {
      "text/plain": [
       "['Test- and Adjustment Drives',\n",
       " 'NLS1: 68. ADAC Westfalenfahrt',\n",
       " 'NLS2: 47. NIMEX DMV 4-Stunden-Rennen',\n",
       " 'NLS3: 54. Adenauer ADAC Rundstrecken-Trophy',\n",
       " 'NLS4: 46. RCM DMV Grenzlandrennen',\n",
       " 'NLS5: ROWE 6h ADAC Ruhr-Pokal-Rennen',\n",
       " '12h Nürburgring\\nRed Bull Formula Nürburgring\\nNLS6: 63. ADAC ACAS Cup\\nNLS7: 62. ADAC Reinoldus-Langstreckenrennen',\n",
       " 'NLS8: 55. ADAC Barbarossapreis',\n",
       " 'NLS9: 47. PAGID RACING DMV Münsterlandpokal',\n",
       " 'Alternative Date']"
      ]
     },
     "execution_count": 42,
     "metadata": {},
     "output_type": "execute_result"
    }
   ],
   "source": [
    "descriptions"
   ]
  },
  {
   "cell_type": "code",
   "execution_count": 43,
   "id": "a60c3a6d",
   "metadata": {},
   "outputs": [
    {
     "data": {
      "text/plain": [
       "['NLS Test Days',\n",
       " 'NLS Race R01',\n",
       " 'NLS Race R02',\n",
       " 'NLS Race R03',\n",
       " 'NLS Race R04',\n",
       " 'NLS Race R05',\n",
       " 'NLS Race R06',\n",
       " 'NLS Race R07',\n",
       " 'NLS Race R08',\n",
       " 'NLS Alternative Date']"
      ]
     },
     "execution_count": 43,
     "metadata": {},
     "output_type": "execute_result"
    }
   ],
   "source": [
    "titles"
   ]
  },
  {
   "cell_type": "code",
   "execution_count": 44,
   "id": "5e068f3f",
   "metadata": {},
   "outputs": [
    {
     "name": "stdout",
     "output_type": "stream",
     "text": [
      "Nürburgring Gesamtrecke\n",
      "Nürburg, Rhineland-Palatinate, Germany\n"
     ]
    }
   ],
   "source": [
    "circuit = 'Nürburgring Gesamtrecke' '\\n' 'Nürburg, Rhineland-Palatinate, Germany'# \n",
    "print(circuit)"
   ]
  },
  {
   "cell_type": "code",
   "execution_count": 45,
   "id": "0652c5f2",
   "metadata": {},
   "outputs": [],
   "source": [
    "## Creating and Populating the Calendar"
   ]
  },
  {
   "cell_type": "code",
   "execution_count": 46,
   "id": "77dd7f99",
   "metadata": {},
   "outputs": [],
   "source": [
    "import pytz\n",
    "import icalendar\n",
    "from datetime import datetime\n",
    "from pathlib import Path\n",
    "import os\n",
    "from icalendar import Calendar, Event,  vText, vCalAddress"
   ]
  },
  {
   "cell_type": "code",
   "execution_count": 47,
   "id": "81078c7a",
   "metadata": {},
   "outputs": [],
   "source": [
    "def new_ical(series_name):\n",
    "    \n",
    "   \n",
    "    series_name = Calendar()\n",
    "    series_name.add('prodid', '-//My calendar product//example.com//')\n",
    "    series_name.add('version', '2.0')\n",
    "    \n",
    "    return series_name\n",
    "\n"
   ]
  },
  {
   "cell_type": "code",
   "execution_count": 48,
   "id": "643af21f",
   "metadata": {},
   "outputs": [
    {
     "data": {
      "text/plain": [
       "VCALENDAR({'PRODID': vText('b'-//My calendar product//example.com//''), 'VERSION': vText('b'2.0'')})"
      ]
     },
     "execution_count": 48,
     "metadata": {},
     "output_type": "execute_result"
    }
   ],
   "source": [
    "NLS = None\n",
    "NLS = new_ical(NLS)\n",
    "NLS"
   ]
  },
  {
   "cell_type": "code",
   "execution_count": 49,
   "id": "24bd7e59",
   "metadata": {},
   "outputs": [],
   "source": [
    "\n",
    "\n",
    "def make_events(cal):\n",
    "    uid = 110\n",
    "    circuit = 'Nürburgring Gesamtrecke' '\\n' 'Nürburg, Rhineland-Palatinate, Germany'\n",
    "\n",
    "    for title, description, year, month, day in zip(titles, descriptions, cln_yrs, cln_mons, cln_days):\n",
    "        ievent = Event()\n",
    "        ievent.add('summary', title) #Title of the event\n",
    "        ievent.add('description', description)     #Description of event\n",
    "        ievent.add('dtstart', datetime(int(year), int(month), int(day), 10, 0, 0, tzinfo=pytz.timezone('utc')))\n",
    "        ievent.add('dtend', datetime(int(year), int(month), int(day), 14, 0, 0, tzinfo=pytz.timezone('utc')))\n",
    "        ievent.add('dtstamp', datetime(2023, 3, 17, 0, 10, 0, tzinfo=pytz.timezone('utc')))\n",
    "        ievent.add('location', vText(circuit))\n",
    "        ievent.add('uid', uid)\n",
    "        uid += 1\n",
    "        cal.add_component(ievent)\n",
    "        \n",
    "    return cal\n",
    "    "
   ]
  },
  {
   "cell_type": "code",
   "execution_count": 50,
   "id": "4a09dc3f",
   "metadata": {},
   "outputs": [],
   "source": [
    "NLS = make_events(NLS)\n",
    "# NLS"
   ]
  },
  {
   "cell_type": "code",
   "execution_count": null,
   "id": "d6460c29",
   "metadata": {},
   "outputs": [],
   "source": []
  },
  {
   "cell_type": "code",
   "execution_count": 51,
   "id": "899977fc",
   "metadata": {},
   "outputs": [],
   "source": [
    "def make_ics():\n",
    "    directory = str(Path(r'C:\\Users\\chris\\Documents\\Calendars')) + \"/\"\n",
    "    print(\"ics file will be generated at \", directory)\n",
    "    f = open(os.path.join(directory, 'NLS 2023.ics'), 'wb')\n",
    "    f.write(NLS.to_ical())\n",
    "    f.close()\n",
    "\n"
   ]
  },
  {
   "cell_type": "code",
   "execution_count": 52,
   "id": "86308bb9",
   "metadata": {},
   "outputs": [
    {
     "name": "stdout",
     "output_type": "stream",
     "text": [
      "ics file will be generated at  C:\\Users\\chris\\Documents\\Calendars/\n"
     ]
    }
   ],
   "source": [
    "make_ics()"
   ]
  },
  {
   "cell_type": "code",
   "execution_count": 53,
   "id": "f8b46c81",
   "metadata": {},
   "outputs": [],
   "source": [
    "# directory = str(Path(r'C:\\Users\\chris\\Documents\\Calendars')) + \"/\"\n",
    "# print(\"ics file will be generated at \", directory)\n",
    "# f = open(os.path.join(directory, 'NLS 2023.ics'), 'wb')\n",
    "# f.write(NLS.to_ical())\n",
    "# f.close()\n"
   ]
  },
  {
   "cell_type": "code",
   "execution_count": null,
   "id": "657d1323",
   "metadata": {},
   "outputs": [],
   "source": []
  },
  {
   "cell_type": "code",
   "execution_count": null,
   "id": "e69fd9dd",
   "metadata": {},
   "outputs": [],
   "source": []
  },
  {
   "cell_type": "code",
   "execution_count": null,
   "id": "ede16c7e",
   "metadata": {},
   "outputs": [],
   "source": []
  }
 ],
 "metadata": {
  "kernelspec": {
   "display_name": "Python 3 (ipykernel)",
   "language": "python",
   "name": "python3"
  },
  "language_info": {
   "codemirror_mode": {
    "name": "ipython",
    "version": 3
   },
   "file_extension": ".py",
   "mimetype": "text/x-python",
   "name": "python",
   "nbconvert_exporter": "python",
   "pygments_lexer": "ipython3",
   "version": "3.9.7"
  }
 },
 "nbformat": 4,
 "nbformat_minor": 5
}
