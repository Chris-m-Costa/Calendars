{
 "cells": [
  {
   "cell_type": "code",
   "execution_count": 1,
   "id": "f61ee1a8",
   "metadata": {},
   "outputs": [],
   "source": [
    "from bs4 import BeautifulSoup\n",
    "import requests\n",
    "from selenium import webdriver\n",
    "from datetime import datetime\n",
    "from selenium.webdriver.support.ui import WebDriverWait\n",
    "from selenium.webdriver.support import expected_conditions as EC\n",
    "from selenium.webdriver.common.by import By\n"
   ]
  },
  {
   "cell_type": "code",
   "execution_count": 2,
   "id": "0aa47d05",
   "metadata": {},
   "outputs": [],
   "source": [
    "driver = webdriver.Chrome()\n",
    "driver.get(\"https://www.europeanlemansseries.com/season\")\n",
    "\n",
    "# Wait for dynamic content to load if needed\n",
    "WebDriverWait(driver, 10).until(EC.presence_of_element_located((By.CLASS_NAME, \"season-calendar__list-item\")))\n",
    "\n",
    "\n",
    "sched_soup = BeautifulSoup(driver.page_source, 'html.parser')\n",
    "schedule_details = sched_soup.find_all('li', {'class':\"season-calendar__list-item\"})\n",
    "\n",
    "driver.quit()\n",
    "\n",
    "# <li class=\"season-calendar__list-item\"><a href=\"/race/4805\" class=\"link event-link -future\" target=\"_self\"><!----><img src=\"https://www.fiawec.com/bundles/easycore/img/flag/es.png\" alt=\"France\" class=\"event-link__flag flag\"><div><span class=\"event-link__name\">Official Tests</span><br><time class=\"event-link__date\">09 April 2024</time></div></a></li>\n"
   ]
  },
  {
   "cell_type": "code",
   "execution_count": 3,
   "id": "e20d2723",
   "metadata": {
    "scrolled": true
   },
   "outputs": [],
   "source": [
    "# schedule_details"
   ]
  },
  {
   "cell_type": "code",
   "execution_count": 4,
   "id": "1ddf11cc",
   "metadata": {},
   "outputs": [],
   "source": [
    "days = [] \n",
    "months = []\n",
    "titles = [] \n",
    "descs = []\n",
    "circuits = []\n",
    "time = []\n",
    "start_hours = []\n",
    "start_minutes = []\n",
    "end_hours = []\n",
    "end_minutes = []\n",
    "\n",
    "year = datetime.now().year\n",
    "\n",
    "round_counter = 1\n",
    "\n",
    "\n",
    "month_mapping = {\n",
    "        'Jan': 1,\n",
    "        'JAN': 1,\n",
    "        'January': 1,\n",
    "        'Feb': 2,\n",
    "        'FEB': 2,\n",
    "        'February': 2,\n",
    "        'Mar': 3,\n",
    "        'March': 3,\n",
    "        'Apr': 4,\n",
    "        'April': 4,\n",
    "        'May': 5,\n",
    "        'Jun': 6,\n",
    "        'June': 6,\n",
    "        'Jul': 7,\n",
    "        'July': 7,\n",
    "        'Aug': 8,\n",
    "        'August': 8,\n",
    "        'Sep': 9,\n",
    "        'September': 9,\n",
    "        'Oct': 10,\n",
    "        'October': 10,\n",
    "        'Nov': 11,\n",
    "        'November': 11,\n",
    "        'Dec': 12,\n",
    "        'DEC': 12,\n",
    "        'December': 12\n",
    "    }\n",
    "\n"
   ]
  },
  {
   "cell_type": "code",
   "execution_count": 5,
   "id": "97dc1512",
   "metadata": {},
   "outputs": [],
   "source": [
    "##Example building info lists\n",
    "\n",
    "# for i in schedule_details:\n",
    "#     temp_circuit = i.find('div', {'class': 'race-circuit'}).text\n",
    "#     circuits.append(temp_circuit)\n",
    "    \n",
    "#     temp_date = i.find('div', {'class':\"race-date\"}).text\n",
    "#     temp_date = temp_date.split(' ')\n",
    "#     days.append(int(temp_date[0]))\n",
    "    \n",
    "#     temp_month = temp_date[1]\n",
    "#     converted_month = month_mapping[temp_month]\n",
    "#     months.append(converted_month)\n",
    "    \n",
    "#     round_counter = 1\n",
    "#     temp_title = 'AsLMS Round' + ' ' + str(round_counter)\n",
    "#     round_counter += 1\n",
    "#     titles.append(temp_title)"
   ]
  },
  {
   "cell_type": "code",
   "execution_count": 6,
   "id": "b667f2e1",
   "metadata": {},
   "outputs": [],
   "source": [
    "# <div><span class=\"event-link__name\">Official Tests</span><br/><time class=\"event-link__date\">09 April 2024</time></div>"
   ]
  },
  {
   "cell_type": "code",
   "execution_count": 7,
   "id": "c3f20282",
   "metadata": {},
   "outputs": [
    {
     "name": "stdout",
     "output_type": "stream",
     "text": [
      "['09', 'April', '2024']\n",
      "['14', 'April', '2024']\n",
      "['05', 'May', '2024']\n",
      "['07', 'July', '2024']\n",
      "['25', 'August', '2024']\n",
      "['29', 'September', '2024']\n",
      "['19', 'October', '2024']\n"
     ]
    }
   ],
   "source": [
    "\n",
    "for i in schedule_details:\n",
    "    temp_date = i.find('time').text.split()\n",
    "    print(temp_date)"
   ]
  },
  {
   "cell_type": "code",
   "execution_count": 8,
   "id": "9901c570",
   "metadata": {},
   "outputs": [],
   "source": [
    "\n",
    "\n",
    "for i in schedule_details:\n",
    "    temp_date = i.find('time').text.split()\n",
    "    \n",
    "    day = int(temp_date[0])\n",
    "    temp_month = temp_date[1]\n",
    "    month = month_mapping[temp_month]\n",
    "    days.append(day)\n",
    "    months.append(month)\n",
    "    \n",
    "    desc = i.find('span').text\n",
    "    descs.append(desc)\n",
    "    \n",
    "    if desc == 'Official Tests':\n",
    "        titles.append('ELMS Official Tests')\n",
    "        \n",
    "    else:\n",
    "        temp_title = 'ELMS Round' + ' ' + str(round_counter)\n",
    "        round_counter += 1\n",
    "        titles.append(temp_title)\n",
    "\n",
    "    start_hour = 11\n",
    "    start_hours.append(start_hour)\n",
    "        \n",
    "    end_hour = start_hour + 4\n",
    "    end_hours.append(end_hour)\n",
    "\n",
    "    "
   ]
  },
  {
   "cell_type": "code",
   "execution_count": 9,
   "id": "b4a8d553",
   "metadata": {},
   "outputs": [
    {
     "data": {
      "text/plain": [
       "['Official Tests',\n",
       " 'Barcelona',\n",
       " 'Le Castellet',\n",
       " 'Imola',\n",
       " 'Spa-Francorchamps',\n",
       " 'Mugello',\n",
       " 'Portimão']"
      ]
     },
     "execution_count": 9,
     "metadata": {},
     "output_type": "execute_result"
    }
   ],
   "source": [
    "descs"
   ]
  },
  {
   "cell_type": "code",
   "execution_count": 10,
   "id": "e90d5741",
   "metadata": {},
   "outputs": [
    {
     "data": {
      "text/plain": [
       "[11, 11, 11, 11, 11, 11, 11]"
      ]
     },
     "execution_count": 10,
     "metadata": {},
     "output_type": "execute_result"
    }
   ],
   "source": [
    "start_hours"
   ]
  },
  {
   "cell_type": "code",
   "execution_count": 11,
   "id": "6f0bbbd8",
   "metadata": {},
   "outputs": [
    {
     "data": {
      "text/plain": [
       "[15, 15, 15, 15, 15, 15, 15]"
      ]
     },
     "execution_count": 11,
     "metadata": {},
     "output_type": "execute_result"
    }
   ],
   "source": [
    "end_hours"
   ]
  },
  {
   "cell_type": "code",
   "execution_count": 12,
   "id": "3cf7c4fd",
   "metadata": {},
   "outputs": [
    {
     "data": {
      "text/plain": [
       "['ELMS Official Tests',\n",
       " 'ELMS Round 1',\n",
       " 'ELMS Round 2',\n",
       " 'ELMS Round 3',\n",
       " 'ELMS Round 4',\n",
       " 'ELMS Round 5',\n",
       " 'ELMS Round 6']"
      ]
     },
     "execution_count": 12,
     "metadata": {},
     "output_type": "execute_result"
    }
   ],
   "source": [
    "titles"
   ]
  },
  {
   "cell_type": "code",
   "execution_count": 13,
   "id": "6b8dc3dd",
   "metadata": {},
   "outputs": [],
   "source": [
    "import pytz\n",
    "import icalendar\n",
    "from datetime import datetime\n",
    "from pathlib import Path\n",
    "import os\n",
    "from icalendar import Calendar, Event,  vText, vCalAddress"
   ]
  },
  {
   "cell_type": "code",
   "execution_count": 14,
   "id": "f5465cb9",
   "metadata": {},
   "outputs": [],
   "source": [
    "ELMS = Calendar()\n",
    "ELMS.add('prodid', '-//My calendar product//example.com//')\n",
    "ELMS.add('version', '2.0')\n",
    "uid = 110"
   ]
  },
  {
   "cell_type": "code",
   "execution_count": 15,
   "id": "1529f6fc",
   "metadata": {},
   "outputs": [],
   "source": [
    " \n",
    "for title, desc, day, month, s_h, e_h in zip(titles, descs, days, months, start_hours, end_hours):\n",
    "    ievent = Event()\n",
    "    ievent.add('summary', title) #Title of the event\n",
    "    ievent.add('description', desc)     #Description of event\n",
    "    #     ievent.add('description', f\"{event}\\n{length}\")\n",
    "\n",
    "    ievent.add('dtstart', datetime(year, month, day, s_h, 0, 0, tzinfo=pytz.timezone('Europe/Paris')))\n",
    "    ievent.add('dtend', datetime(year, month, day, e_h, 0, 0, tzinfo=pytz.timezone('Europe/Paris')))\n",
    "    ievent.add('dtstamp', datetime(year, 1, 16, 0, 10, 0, tzinfo=pytz.timezone('est')))\n",
    "#     ievent.add('location', circuit)\n",
    "    ievent.add('uid', uid)\n",
    "    uid += 1\n",
    "    ELMS.add_component(ievent)"
   ]
  },
  {
   "cell_type": "code",
   "execution_count": 16,
   "id": "168d1bd2",
   "metadata": {},
   "outputs": [
    {
     "data": {
      "text/plain": [
       "VCALENDAR({'PRODID': vText('b'-//My calendar product//example.com//''), 'VERSION': vText('b'2.0'')}, VEVENT({'SUMMARY': vText('b'ELMS Official Tests''), 'DESCRIPTION': vText('b'Official Tests''), 'DTSTART': <icalendar.prop.vDDDTypes object at 0x0000017D1A6B0BE0>, 'DTEND': <icalendar.prop.vDDDTypes object at 0x0000017D1A6B0C70>, 'DTSTAMP': <icalendar.prop.vDDDTypes object at 0x0000017D1A6B0D90>, 'UID': vText('b'110'')}), VEVENT({'SUMMARY': vText('b'ELMS Round 1''), 'DESCRIPTION': vText('b'Barcelona''), 'DTSTART': <icalendar.prop.vDDDTypes object at 0x0000017D1A6B0EE0>, 'DTEND': <icalendar.prop.vDDDTypes object at 0x0000017D1A6B0F70>, 'DTSTAMP': <icalendar.prop.vDDDTypes object at 0x0000017D1A723040>, 'UID': vText('b'111'')}), VEVENT({'SUMMARY': vText('b'ELMS Round 2''), 'DESCRIPTION': vText('b'Le Castellet''), 'DTSTART': <icalendar.prop.vDDDTypes object at 0x0000017D1A723190>, 'DTEND': <icalendar.prop.vDDDTypes object at 0x0000017D1A723220>, 'DTSTAMP': <icalendar.prop.vDDDTypes object at 0x0000017D1A7232B0>, 'UID': vText('b'112'')}), VEVENT({'SUMMARY': vText('b'ELMS Round 3''), 'DESCRIPTION': vText('b'Imola''), 'DTSTART': <icalendar.prop.vDDDTypes object at 0x0000017D1A723400>, 'DTEND': <icalendar.prop.vDDDTypes object at 0x0000017D1A723490>, 'DTSTAMP': <icalendar.prop.vDDDTypes object at 0x0000017D1A723520>, 'UID': vText('b'113'')}), VEVENT({'SUMMARY': vText('b'ELMS Round 4''), 'DESCRIPTION': vText('b'Spa-Francorchamps''), 'DTSTART': <icalendar.prop.vDDDTypes object at 0x0000017D1A723670>, 'DTEND': <icalendar.prop.vDDDTypes object at 0x0000017D1A723700>, 'DTSTAMP': <icalendar.prop.vDDDTypes object at 0x0000017D1A723790>, 'UID': vText('b'114'')}), VEVENT({'SUMMARY': vText('b'ELMS Round 5''), 'DESCRIPTION': vText('b'Mugello''), 'DTSTART': <icalendar.prop.vDDDTypes object at 0x0000017D1A7238E0>, 'DTEND': <icalendar.prop.vDDDTypes object at 0x0000017D1A723970>, 'DTSTAMP': <icalendar.prop.vDDDTypes object at 0x0000017D1A723A00>, 'UID': vText('b'115'')}), VEVENT({'SUMMARY': vText('b'ELMS Round 6''), 'DESCRIPTION': vText('b'Portim\\xc3\\xa3o''), 'DTSTART': <icalendar.prop.vDDDTypes object at 0x0000017D1A723B50>, 'DTEND': <icalendar.prop.vDDDTypes object at 0x0000017D1A723BE0>, 'DTSTAMP': <icalendar.prop.vDDDTypes object at 0x0000017D1A723C70>, 'UID': vText('b'116'')}))"
      ]
     },
     "execution_count": 16,
     "metadata": {},
     "output_type": "execute_result"
    }
   ],
   "source": [
    "ELMS"
   ]
  },
  {
   "cell_type": "code",
   "execution_count": null,
   "id": "b0b7f7c7",
   "metadata": {},
   "outputs": [],
   "source": []
  },
  {
   "cell_type": "code",
   "execution_count": 17,
   "id": "0146ef04",
   "metadata": {},
   "outputs": [
    {
     "name": "stdout",
     "output_type": "stream",
     "text": [
      "ics file will be generated at  C:\\Users\\chris\\Documents\\Calendars/\n"
     ]
    }
   ],
   "source": [
    "directory = str(Path(r'C:\\Users\\chris\\Documents\\Calendars')) + \"/\"\n",
    "print(\"ics file will be generated at \", directory)\n",
    "f = open(os.path.join(directory, 'ELMS.ics'), 'wb')\n",
    "f.write(ELMS.to_ical())\n",
    "f.close()"
   ]
  }
 ],
 "metadata": {
  "kernelspec": {
   "display_name": "Python 3 (ipykernel)",
   "language": "python",
   "name": "python3"
  },
  "language_info": {
   "codemirror_mode": {
    "name": "ipython",
    "version": 3
   },
   "file_extension": ".py",
   "mimetype": "text/x-python",
   "name": "python",
   "nbconvert_exporter": "python",
   "pygments_lexer": "ipython3",
   "version": "3.9.7"
  }
 },
 "nbformat": 4,
 "nbformat_minor": 5
}
