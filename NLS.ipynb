{
 "cells": [
  {
   "cell_type": "code",
   "execution_count": 1,
   "id": "f61ee1a8",
   "metadata": {},
   "outputs": [],
   "source": [
    "from bs4 import BeautifulSoup\n",
    "import requests\n",
    "from selenium import webdriver\n",
    "from datetime import datetime\n"
   ]
  },
  {
   "cell_type": "code",
   "execution_count": 2,
   "id": "0aa47d05",
   "metadata": {},
   "outputs": [],
   "source": [
    "driver = webdriver.Chrome()\n",
    "driver.get(\"https://www.nuerburgring-langstrecken-serie.de/en/calendar-nurburgring-langstrecken-serie-2024/\")\n",
    "\n",
    "# Wait for dynamic content to load if needed\n",
    "\n",
    "sched_soup = BeautifulSoup(driver.page_source, 'html.parser')\n",
    "schedule_details = sched_soup.find_all('tr')\n",
    "\n",
    "driver.quit()\n"
   ]
  },
  {
   "cell_type": "code",
   "execution_count": 3,
   "id": "e20d2723",
   "metadata": {
    "scrolled": true
   },
   "outputs": [],
   "source": [
    "# schedule_details"
   ]
  },
  {
   "cell_type": "code",
   "execution_count": 4,
   "id": "1ddf11cc",
   "metadata": {},
   "outputs": [],
   "source": [
    "days = [] \n",
    "months = []\n",
    "titles = [] \n",
    "descs = []\n",
    "circuit = 'Nurburgring Nordschleife'\n",
    "time = []\n",
    "start_hours = []\n",
    "start_minutes = []\n",
    "end_hours = []\n",
    "end_minutes = []\n",
    "\n",
    "year = datetime.now().year\n",
    "\n",
    "round_counter = 1\n",
    "\n",
    "\n",
    "month_mapping = {\n",
    "        'Jan': 1,\n",
    "        'JAN': 1,\n",
    "        'January': 1,\n",
    "        'Feb': 2,\n",
    "        'FEB': 2,\n",
    "        'Mar': 3,\n",
    "        'March': 3,\n",
    "        'Apr': 4,\n",
    "        'May': 5,\n",
    "        'Jun': 6,\n",
    "        'Jul': 7,\n",
    "        'Aug': 8,\n",
    "        'Sep': 9,\n",
    "        'Oct': 10,\n",
    "        'October': 10,\n",
    "        'Nov': 11,\n",
    "        'Dec': 12,\n",
    "        'DEC': 12\n",
    "    }\n",
    "\n"
   ]
  },
  {
   "cell_type": "code",
   "execution_count": 5,
   "id": "97dc1512",
   "metadata": {},
   "outputs": [],
   "source": [
    "##Example building info lists\n",
    "\n",
    "# for i in schedule_details:\n",
    "#     temp_circuit = i.find('div', {'class': 'race-circuit'}).text\n",
    "#     circuits.append(temp_circuit)\n",
    "    \n",
    "#     temp_date = i.find('div', {'class':\"race-date\"}).text\n",
    "#     temp_date = temp_date.split(' ')\n",
    "#     days.append(int(temp_date[0]))\n",
    "    \n",
    "#     temp_month = temp_date[1]\n",
    "#     converted_month = month_mapping[temp_month]\n",
    "#     months.append(converted_month)\n",
    "    \n",
    "#     round_counter = 1\n",
    "#     temp_title = 'AsLMS Round' + ' ' + str(round_counter)\n",
    "#     round_counter += 1\n",
    "#     titles.append(temp_title)"
   ]
  },
  {
   "cell_type": "code",
   "execution_count": null,
   "id": "b667f2e1",
   "metadata": {},
   "outputs": [],
   "source": []
  },
  {
   "cell_type": "code",
   "execution_count": 6,
   "id": "9901c570",
   "metadata": {},
   "outputs": [],
   "source": [
    "\n",
    "\n",
    "for i in schedule_details:\n",
    "    temp_date = i.find_all('td')[0].text.split('.')\n",
    "  \n",
    "    \n",
    "    if '+' in temp_date[1]:  # Handle instances with a '+'\n",
    "        first_day = int(temp_date[0])\n",
    "        last_day = int(temp_date[1].split('+')[1])\n",
    "        month = int(temp_date[2])\n",
    "        days.append(first_day)\n",
    "        days.append(last_day)\n",
    "        months.append(month)\n",
    "        months.append(month) #This line is repeated to ensure there is a matching number of months to days\n",
    "        temp_title = 'N24 Qualifying Round' + ' ' + str(round_counter)\n",
    "        round_counter += 1\n",
    "        titles.append(temp_title)\n",
    "        temp_title = 'N24 Qualifying Round' + ' ' + str(round_counter)\n",
    "        round_counter += 1\n",
    "        titles.append(temp_title)\n",
    "    \n",
    "        desc = i.find_all('td')[1].text\n",
    "        descs.append(desc)\n",
    "        descs.append(desc)\n",
    "        \n",
    "        start_hours.append(11)\n",
    "        start_minutes.append(0)\n",
    "        \n",
    "        start_hours.append(11)\n",
    "        start_minutes.append(0)\n",
    "    else:\n",
    "        day = int(temp_date[0])\n",
    "        month = int(temp_date[1])\n",
    "        days.append(day)\n",
    "        months.append(month)\n",
    "        \n",
    "        temp_title = 'NLS Round' + ' ' + str(round_counter)\n",
    "        round_counter += 1\n",
    "        titles.append(temp_title)\n",
    "\n",
    "        desc = i.find_all('td')[1].text\n",
    "        descs.append(desc)\n",
    "        \n",
    "        start_hour = 11\n",
    "        start_hours.append(start_hour)\n",
    "        start_minutes.append(0)\n",
    "        \n",
    "for i in descs:\n",
    "    if '6h' in i:\n",
    "        end_hour = start_hour + 6\n",
    "        end_hours.append(end_hour)\n",
    "    else:\n",
    "        end_hour = start_hour + 4\n",
    "        end_hours.append(end_hour)\n",
    "\n",
    "    "
   ]
  },
  {
   "cell_type": "code",
   "execution_count": 7,
   "id": "b4a8d553",
   "metadata": {},
   "outputs": [
    {
     "data": {
      "text/plain": [
       "['NLS1: 64. ADAC ACAS Cup',\n",
       " 'NLS2: 63. ADAC Reinoldus-Langstreckenrennen',\n",
       " 'ADAC 24h Nürburgring Qualifiers',\n",
       " 'ADAC 24h Nürburgring Qualifiers',\n",
       " 'NLS3: 69. ADAC Westfalenfahrt',\n",
       " 'NLS4: 6h ADAC Ruhr-Pokal-Rennen',\n",
       " 'NLS5: 55. Adenauer ADAC Rundstrecken-Trophy',\n",
       " 'NLS6: 56. ADAC Barbarossapreis']"
      ]
     },
     "execution_count": 7,
     "metadata": {},
     "output_type": "execute_result"
    }
   ],
   "source": [
    "descs"
   ]
  },
  {
   "cell_type": "code",
   "execution_count": 8,
   "id": "e90d5741",
   "metadata": {},
   "outputs": [
    {
     "data": {
      "text/plain": [
       "[11, 11, 11, 11, 11, 11, 11, 11]"
      ]
     },
     "execution_count": 8,
     "metadata": {},
     "output_type": "execute_result"
    }
   ],
   "source": [
    "start_hours"
   ]
  },
  {
   "cell_type": "code",
   "execution_count": 9,
   "id": "6f0bbbd8",
   "metadata": {},
   "outputs": [
    {
     "data": {
      "text/plain": [
       "[15, 15, 15, 15, 15, 17, 15, 15]"
      ]
     },
     "execution_count": 9,
     "metadata": {},
     "output_type": "execute_result"
    }
   ],
   "source": [
    "end_hours"
   ]
  },
  {
   "cell_type": "code",
   "execution_count": 10,
   "id": "6b8dc3dd",
   "metadata": {},
   "outputs": [],
   "source": [
    "import pytz\n",
    "import icalendar\n",
    "from datetime import datetime\n",
    "from pathlib import Path\n",
    "import os\n",
    "from icalendar import Calendar, Event,  vText, vCalAddress"
   ]
  },
  {
   "cell_type": "code",
   "execution_count": 11,
   "id": "f5465cb9",
   "metadata": {},
   "outputs": [],
   "source": [
    "NLS = Calendar()\n",
    "NLS.add('prodid', '-//My calendar product//example.com//')\n",
    "NLS.add('version', '2.0')\n",
    "uid = 110"
   ]
  },
  {
   "cell_type": "code",
   "execution_count": 12,
   "id": "1529f6fc",
   "metadata": {},
   "outputs": [],
   "source": [
    " \n",
    "for title, desc, day, month, s_h, e_h in zip(titles, descs, days, months, start_hours, end_hours):\n",
    "    ievent = Event()\n",
    "    ievent.add('summary', title) #Title of the event\n",
    "    ievent.add('description', desc)     #Description of event\n",
    "    #     ievent.add('description', f\"{event}\\n{length}\")\n",
    "\n",
    "    ievent.add('dtstart', datetime(year, month, day, s_h, 0, 0, tzinfo=pytz.timezone('Europe/Paris')))\n",
    "    ievent.add('dtend', datetime(year, month, day, e_h, 0, 0, tzinfo=pytz.timezone('Europe/Paris')))\n",
    "    ievent.add('dtstamp', datetime(year, 1, 16, 0, 10, 0, tzinfo=pytz.timezone('est')))\n",
    "    ievent.add('location', circuit)\n",
    "    ievent.add('uid', uid)\n",
    "    uid += 1\n",
    "    NLS.add_component(ievent)"
   ]
  },
  {
   "cell_type": "code",
   "execution_count": 13,
   "id": "168d1bd2",
   "metadata": {},
   "outputs": [
    {
     "data": {
      "text/plain": [
       "VCALENDAR({'PRODID': vText('b'-//My calendar product//example.com//''), 'VERSION': vText('b'2.0'')}, VEVENT({'SUMMARY': vText('b'NLS Round 1''), 'DESCRIPTION': vText('b'NLS1: 64. ADAC ACAS Cup''), 'DTSTART': <icalendar.prop.vDDDTypes object at 0x000002302F723D30>, 'DTEND': <icalendar.prop.vDDDTypes object at 0x000002302F723DC0>, 'DTSTAMP': <icalendar.prop.vDDDTypes object at 0x000002302F723EE0>, 'LOCATION': vText('b'Nurburgring Nordschleife''), 'UID': vText('b'110'')}), VEVENT({'SUMMARY': vText('b'NLS Round 2''), 'DESCRIPTION': vText('b'NLS2: 63. ADAC Reinoldus-Langstreckenrennen''), 'DTSTART': <icalendar.prop.vDDDTypes object at 0x000002302F7270D0>, 'DTEND': <icalendar.prop.vDDDTypes object at 0x000002302F727160>, 'DTSTAMP': <icalendar.prop.vDDDTypes object at 0x000002302F7271F0>, 'LOCATION': vText('b'Nurburgring Nordschleife''), 'UID': vText('b'111'')}), VEVENT({'SUMMARY': vText('b'N24 Qualifying Round 3''), 'DESCRIPTION': vText('b'ADAC 24h N\\xc3\\xbcrburgring Qualifiers''), 'DTSTART': <icalendar.prop.vDDDTypes object at 0x000002302F727370>, 'DTEND': <icalendar.prop.vDDDTypes object at 0x000002302F727400>, 'DTSTAMP': <icalendar.prop.vDDDTypes object at 0x000002302F727490>, 'LOCATION': vText('b'Nurburgring Nordschleife''), 'UID': vText('b'112'')}), VEVENT({'SUMMARY': vText('b'N24 Qualifying Round 4''), 'DESCRIPTION': vText('b'ADAC 24h N\\xc3\\xbcrburgring Qualifiers''), 'DTSTART': <icalendar.prop.vDDDTypes object at 0x000002302F727610>, 'DTEND': <icalendar.prop.vDDDTypes object at 0x000002302F7276A0>, 'DTSTAMP': <icalendar.prop.vDDDTypes object at 0x000002302F727730>, 'LOCATION': vText('b'Nurburgring Nordschleife''), 'UID': vText('b'113'')}), VEVENT({'SUMMARY': vText('b'NLS Round 5''), 'DESCRIPTION': vText('b'NLS3: 69. ADAC Westfalenfahrt''), 'DTSTART': <icalendar.prop.vDDDTypes object at 0x000002302F7278B0>, 'DTEND': <icalendar.prop.vDDDTypes object at 0x000002302F727940>, 'DTSTAMP': <icalendar.prop.vDDDTypes object at 0x000002302F7279D0>, 'LOCATION': vText('b'Nurburgring Nordschleife''), 'UID': vText('b'114'')}), VEVENT({'SUMMARY': vText('b'NLS Round 6''), 'DESCRIPTION': vText('b'NLS4: 6h ADAC Ruhr-Pokal-Rennen''), 'DTSTART': <icalendar.prop.vDDDTypes object at 0x000002302F727B50>, 'DTEND': <icalendar.prop.vDDDTypes object at 0x000002302F727BE0>, 'DTSTAMP': <icalendar.prop.vDDDTypes object at 0x000002302F727C70>, 'LOCATION': vText('b'Nurburgring Nordschleife''), 'UID': vText('b'115'')}), VEVENT({'SUMMARY': vText('b'NLS Round 7''), 'DESCRIPTION': vText('b'NLS5: 55. Adenauer ADAC Rundstrecken-Trophy''), 'DTSTART': <icalendar.prop.vDDDTypes object at 0x000002302F727E20>, 'DTEND': <icalendar.prop.vDDDTypes object at 0x000002302F727EB0>, 'DTSTAMP': <icalendar.prop.vDDDTypes object at 0x000002302F727F40>, 'LOCATION': vText('b'Nurburgring Nordschleife''), 'UID': vText('b'116'')}), VEVENT({'SUMMARY': vText('b'NLS Round 8''), 'DESCRIPTION': vText('b'NLS6: 56. ADAC Barbarossapreis''), 'DTSTART': <icalendar.prop.vDDDTypes object at 0x000002302F72D100>, 'DTEND': <icalendar.prop.vDDDTypes object at 0x000002302F72D190>, 'DTSTAMP': <icalendar.prop.vDDDTypes object at 0x000002302F72D220>, 'LOCATION': vText('b'Nurburgring Nordschleife''), 'UID': vText('b'117'')}))"
      ]
     },
     "execution_count": 13,
     "metadata": {},
     "output_type": "execute_result"
    }
   ],
   "source": [
    "NLS"
   ]
  },
  {
   "cell_type": "code",
   "execution_count": 14,
   "id": "b0b7f7c7",
   "metadata": {},
   "outputs": [
    {
     "ename": "NameError",
     "evalue": "name 'br' is not defined",
     "output_type": "error",
     "traceback": [
      "\u001b[1;31m---------------------------------------------------------------------------\u001b[0m",
      "\u001b[1;31mNameError\u001b[0m                                 Traceback (most recent call last)",
      "Cell \u001b[1;32mIn[14], line 1\u001b[0m\n\u001b[1;32m----> 1\u001b[0m \u001b[43mbr\u001b[49m\n",
      "\u001b[1;31mNameError\u001b[0m: name 'br' is not defined"
     ]
    }
   ],
   "source": [
    "br"
   ]
  },
  {
   "cell_type": "code",
   "execution_count": 15,
   "id": "0146ef04",
   "metadata": {},
   "outputs": [
    {
     "name": "stdout",
     "output_type": "stream",
     "text": [
      "ics file will be generated at  C:\\Users\\chris\\Documents\\Calendars/\n"
     ]
    }
   ],
   "source": [
    "directory = str(Path(r'C:\\Users\\chris\\Documents\\Calendars')) + \"/\"\n",
    "print(\"ics file will be generated at \", directory)\n",
    "f = open(os.path.join(directory, 'NLS.ics'), 'wb')\n",
    "f.write(NLS.to_ical())\n",
    "f.close()"
   ]
  }
 ],
 "metadata": {
  "kernelspec": {
   "display_name": "Python 3 (ipykernel)",
   "language": "python",
   "name": "python3"
  },
  "language_info": {
   "codemirror_mode": {
    "name": "ipython",
    "version": 3
   },
   "file_extension": ".py",
   "mimetype": "text/x-python",
   "name": "python",
   "nbconvert_exporter": "python",
   "pygments_lexer": "ipython3",
   "version": "3.9.7"
  }
 },
 "nbformat": 4,
 "nbformat_minor": 5
}
