{
 "cells": [
  {
   "cell_type": "code",
   "execution_count": 1,
   "id": "ee63b9bd",
   "metadata": {},
   "outputs": [],
   "source": [
    "from bs4 import BeautifulSoup\n",
    "import requests\n",
    "import pandas as pd\n",
    "import numpy as np"
   ]
  },
  {
   "cell_type": "code",
   "execution_count": 2,
   "id": "250c851c",
   "metadata": {},
   "outputs": [],
   "source": [
    "url = 'https://www.formula1.com/en/racing/2024.html'\n",
    "\n",
    "response = requests.get(url)\n",
    "soup = BeautifulSoup(response.content, \"html.parser\")\n"
   ]
  },
  {
   "cell_type": "code",
   "execution_count": 3,
   "id": "d3513ff1",
   "metadata": {},
   "outputs": [],
   "source": [
    "days = []   #-<span class=\"end-date\">23</span>\n",
    "months = [] # <span class=\"month-wrapper f1-wide--xxs\">Feb</span>\n",
    "events = [] #<div class=\"event-title f1--xxs\" title=\"FORMULA 1 STC SAUDI ARABIAN GRAND PRIX 2024\">FORMULA 1 STC SAUDI ARABIAN GRAND PRIX 2024</div>\n",
    "rounds = [] #<legend class=\"card-title f1-uppercase f1-color--warmRed\">ROUND 2<span class=\"race-status d-none\"></span></legend>\n",
    "circuits = [] #<div class=\"event-place d-block\">Saudi Arabia <i class=\"icon icon-chevron-right f1-color--warmRed\"></i></div>\n",
    "\n",
    "\n",
    "temp_months = soup.find_all('span', {'class':'month-wrapper f1-wide--xxs'})\n",
    "temp_days = soup.find_all('span', {\"class\":'end-date'})\n",
    "temp_rounds = soup.find_all('legend', {'class':'card-title f1-uppercase f1-color--warmRed'})\n",
    "temp_events = soup.find_all('div', {'class':'event-title f1--xxs'})\n",
    "temp_circ = soup.find_all('div', {'class':\"event-place\"})\n",
    "\n",
    "month_mapping = {\n",
    "        'Jan': 1,\n",
    "        'January': 1,\n",
    "        'Feb': 2,\n",
    "        'Mar': 3,\n",
    "        'March': 3,\n",
    "        'Apr': 4,\n",
    "        'May': 5,\n",
    "        'Jun': 6,\n",
    "        'Jul': 7,\n",
    "        'Aug': 8,\n",
    "        'Sep': 9,\n",
    "        'Oct': 10,\n",
    "        'October': 10,\n",
    "        'Nov': 11,\n",
    "        'Dec': 12}\n",
    "\n",
    "\n",
    "\n",
    "\n",
    "for month in temp_months:\n",
    "    months.append(month_mapping[month.text.split('-')[-1]])\n",
    "    \n",
    "for day in temp_days:\n",
    "    days.append(int(day.text))\n",
    "    \n",
    "for event in temp_events:\n",
    "    events.append(event.text.title())\n",
    "\n",
    "for i in temp_rounds:\n",
    "    rounds.append('Formula One' + ' ' + i.text.title())\n",
    "    \n",
    "for circ in temp_circ:\n",
    "    circuits.append(circ.text)\n",
    "    "
   ]
  },
  {
   "cell_type": "code",
   "execution_count": 4,
   "id": "0d6af6e9",
   "metadata": {},
   "outputs": [
    {
     "data": {
      "text/plain": [
       "['Sakhir ',\n",
       " 'Bahrain ',\n",
       " 'Saudi Arabia ',\n",
       " 'Australia ',\n",
       " 'Japan ',\n",
       " 'China ',\n",
       " 'United States ',\n",
       " 'Italy ',\n",
       " 'Monaco ',\n",
       " 'Canada ',\n",
       " 'Spain ',\n",
       " 'Austria ',\n",
       " 'Great Britain ',\n",
       " 'Hungary ',\n",
       " 'Belgium ',\n",
       " 'Netherlands ',\n",
       " 'Italy ',\n",
       " 'Azerbaijan ',\n",
       " 'Singapore ',\n",
       " 'United States ',\n",
       " 'Mexico ',\n",
       " 'Brazil ',\n",
       " 'United States ',\n",
       " 'Qatar ',\n",
       " 'Abu Dhabi ']"
      ]
     },
     "execution_count": 4,
     "metadata": {},
     "output_type": "execute_result"
    }
   ],
   "source": [
    "circuits"
   ]
  },
  {
   "cell_type": "code",
   "execution_count": 5,
   "id": "95235918",
   "metadata": {},
   "outputs": [],
   "source": [
    "import pytz\n",
    "import icalendar\n",
    "from datetime import datetime\n",
    "from pathlib import Path\n",
    "import os\n",
    "from icalendar import Calendar, Event,  vText, vCalAddress"
   ]
  },
  {
   "cell_type": "code",
   "execution_count": 6,
   "id": "bba6ef5e",
   "metadata": {},
   "outputs": [],
   "source": [
    "\n",
    "\n",
    "\n",
    "Formula_One = Calendar()\n",
    "Formula_One.add('prodid', '-//My calendar product//example.com//')\n",
    "Formula_One.add('version', '2.0')\n"
   ]
  },
  {
   "cell_type": "code",
   "execution_count": 7,
   "id": "f6e7167e",
   "metadata": {},
   "outputs": [],
   "source": [
    "uid = 110\n",
    "\n",
    "for event, roun, circuit, day, month in zip(events, rounds, circuits, days, months):\n",
    "    ievent = Event()\n",
    "    ievent.add('summary', roun) #Title of the event\n",
    "    ievent.add('description', event)     #Description of event\n",
    "    ievent.add('dtstart', datetime(2024, month, day, 3, 0, 0, tzinfo=pytz.timezone('utc')))\n",
    "    ievent.add('dtend', datetime(2024, month, day, 5, 0, 0, tzinfo=pytz.timezone('utc')))\n",
    "    ievent.add('dtstamp', datetime(2024, 3, 17, 0, 10, 0, tzinfo=pytz.timezone('utc')))\n",
    "    ievent.add('location', circuit)\n",
    "    ievent.add('uid', uid)\n",
    "    uid += 1\n",
    "    Formula_One.add_component(ievent)"
   ]
  },
  {
   "cell_type": "code",
   "execution_count": 8,
   "id": "90f3537d",
   "metadata": {},
   "outputs": [
    {
     "data": {
      "text/plain": [
       "VCALENDAR({'PRODID': vText('b'-//My calendar product//example.com//''), 'VERSION': vText('b'2.0'')}, VEVENT({'SUMMARY': vText('b'Formula One Testing''), 'DESCRIPTION': vText('b'Formula 1 Aramco Pre-Season Testing 2024\\\\n                            ''), 'DTSTART': <icalendar.prop.vDDDTypes object at 0x0000020C064DA580>, 'DTEND': <icalendar.prop.vDDDTypes object at 0x0000020C064DA4F0>, 'DTSTAMP': <icalendar.prop.vDDDTypes object at 0x0000020C064D99D0>, 'LOCATION': vText('b'Sakhir ''), 'UID': vText('b'110'')}), VEVENT({'SUMMARY': vText('b'Formula One Round 1''), 'DESCRIPTION': vText('b'Formula 1 Gulf Air Bahrain Grand Prix 2024''), 'DTSTART': <icalendar.prop.vDDDTypes object at 0x0000020C064D97F0>, 'DTEND': <icalendar.prop.vDDDTypes object at 0x0000020C064D9760>, 'DTSTAMP': <icalendar.prop.vDDDTypes object at 0x0000020C064D96D0>, 'LOCATION': vText('b'Bahrain ''), 'UID': vText('b'111'')}), VEVENT({'SUMMARY': vText('b'Formula One Round 2''), 'DESCRIPTION': vText('b'Formula 1 Stc Saudi Arabian Grand Prix 2024''), 'DTSTART': <icalendar.prop.vDDDTypes object at 0x0000020C064C2FD0>, 'DTEND': <icalendar.prop.vDDDTypes object at 0x0000020C064C2E80>, 'DTSTAMP': <icalendar.prop.vDDDTypes object at 0x0000020C064C2F40>, 'LOCATION': vText('b'Saudi Arabia ''), 'UID': vText('b'112'')}), VEVENT({'SUMMARY': vText('b'Formula One Round 3''), 'DESCRIPTION': vText('b'Formula 1 Rolex Australian Grand Prix 2024''), 'DTSTART': <icalendar.prop.vDDDTypes object at 0x0000020C06461E20>, 'DTEND': <icalendar.prop.vDDDTypes object at 0x0000020C06461FA0>, 'DTSTAMP': <icalendar.prop.vDDDTypes object at 0x0000020C06461B50>, 'LOCATION': vText('b'Australia ''), 'UID': vText('b'113'')}), VEVENT({'SUMMARY': vText('b'Formula One Round 4''), 'DESCRIPTION': vText('b'Formula 1 Msc Cruises Japanese Grand Prix 2024''), 'DTSTART': <icalendar.prop.vDDDTypes object at 0x0000020C06459B50>, 'DTEND': <icalendar.prop.vDDDTypes object at 0x0000020C064699A0>, 'DTSTAMP': <icalendar.prop.vDDDTypes object at 0x0000020C064E2070>, 'LOCATION': vText('b'Japan ''), 'UID': vText('b'114'')}), VEVENT({'SUMMARY': vText('b'Formula One Round 5''), 'DESCRIPTION': vText('b'Formula 1 Lenovo Chinese Grand Prix 2024''), 'DTSTART': <icalendar.prop.vDDDTypes object at 0x0000020C064E2220>, 'DTEND': <icalendar.prop.vDDDTypes object at 0x0000020C064E22B0>, 'DTSTAMP': <icalendar.prop.vDDDTypes object at 0x0000020C064E2340>, 'LOCATION': vText('b'China ''), 'UID': vText('b'115'')}), VEVENT({'SUMMARY': vText('b'Formula One Round 6''), 'DESCRIPTION': vText('b'Formula 1 Crypto.Com Miami Grand Prix 2024''), 'DTSTART': <icalendar.prop.vDDDTypes object at 0x0000020C064E24F0>, 'DTEND': <icalendar.prop.vDDDTypes object at 0x0000020C064E2580>, 'DTSTAMP': <icalendar.prop.vDDDTypes object at 0x0000020C064E2610>, 'LOCATION': vText('b'United States ''), 'UID': vText('b'116'')}), VEVENT({'SUMMARY': vText('b'Formula One Round 7''), 'DESCRIPTION': vText('b\"Formula 1 Msc Cruises Gran Premio Dell'Emilia-Romagna 2024\"'), 'DTSTART': <icalendar.prop.vDDDTypes object at 0x0000020C064E2790>, 'DTEND': <icalendar.prop.vDDDTypes object at 0x0000020C064E2820>, 'DTSTAMP': <icalendar.prop.vDDDTypes object at 0x0000020C064E28B0>, 'LOCATION': vText('b'Italy ''), 'UID': vText('b'117'')}), VEVENT({'SUMMARY': vText('b'Formula One Round 8''), 'DESCRIPTION': vText('b'Formula 1 Grand Prix De Monaco 2024''), 'DTSTART': <icalendar.prop.vDDDTypes object at 0x0000020C064E2A60>, 'DTEND': <icalendar.prop.vDDDTypes object at 0x0000020C064E2AF0>, 'DTSTAMP': <icalendar.prop.vDDDTypes object at 0x0000020C064E2B80>, 'LOCATION': vText('b'Monaco ''), 'UID': vText('b'118'')}), VEVENT({'SUMMARY': vText('b'Formula One Round 9''), 'DESCRIPTION': vText('b'Formula 1 Grand Prix Du Canada 2024''), 'DTSTART': <icalendar.prop.vDDDTypes object at 0x0000020C064E2D30>, 'DTEND': <icalendar.prop.vDDDTypes object at 0x0000020C064E2DC0>, 'DTSTAMP': <icalendar.prop.vDDDTypes object at 0x0000020C064E2E50>, 'LOCATION': vText('b'Canada ''), 'UID': vText('b'119'')}), VEVENT({'SUMMARY': vText('b'Formula One Round 10''), 'DESCRIPTION': vText('b'Formula 1 Aramco Gran Premio De Espa\\xc3\\xb1a 2024''), 'DTSTART': <icalendar.prop.vDDDTypes object at 0x0000020C064E9040>, 'DTEND': <icalendar.prop.vDDDTypes object at 0x0000020C064E90D0>, 'DTSTAMP': <icalendar.prop.vDDDTypes object at 0x0000020C064E9160>, 'LOCATION': vText('b'Spain ''), 'UID': vText('b'120'')}), VEVENT({'SUMMARY': vText('b'Formula One Round 11''), 'DESCRIPTION': vText('b'Formula 1 Qatar Airways Austrian Grand Prix 2024''), 'DTSTART': <icalendar.prop.vDDDTypes object at 0x0000020C064E92E0>, 'DTEND': <icalendar.prop.vDDDTypes object at 0x0000020C064E9370>, 'DTSTAMP': <icalendar.prop.vDDDTypes object at 0x0000020C064E9400>, 'LOCATION': vText('b'Austria ''), 'UID': vText('b'121'')}), VEVENT({'SUMMARY': vText('b'Formula One Round 12''), 'DESCRIPTION': vText('b'Formula 1 Qatar Airways British Grand Prix 2024''), 'DTSTART': <icalendar.prop.vDDDTypes object at 0x0000020C064E95B0>, 'DTEND': <icalendar.prop.vDDDTypes object at 0x0000020C064E9640>, 'DTSTAMP': <icalendar.prop.vDDDTypes object at 0x0000020C064E96D0>, 'LOCATION': vText('b'Great Britain ''), 'UID': vText('b'122'')}), VEVENT({'SUMMARY': vText('b'Formula One Round 13''), 'DESCRIPTION': vText('b'Formula 1 Hungarian Grand Prix 2024''), 'DTSTART': <icalendar.prop.vDDDTypes object at 0x0000020C064E9880>, 'DTEND': <icalendar.prop.vDDDTypes object at 0x0000020C064E9910>, 'DTSTAMP': <icalendar.prop.vDDDTypes object at 0x0000020C064E99A0>, 'LOCATION': vText('b'Hungary ''), 'UID': vText('b'123'')}), VEVENT({'SUMMARY': vText('b'Formula One Round 14''), 'DESCRIPTION': vText('b'Formula 1 Rolex Belgian Grand Prix 2024''), 'DTSTART': <icalendar.prop.vDDDTypes object at 0x0000020C064E9B50>, 'DTEND': <icalendar.prop.vDDDTypes object at 0x0000020C064E9BE0>, 'DTSTAMP': <icalendar.prop.vDDDTypes object at 0x0000020C064E9C70>, 'LOCATION': vText('b'Belgium ''), 'UID': vText('b'124'')}), VEVENT({'SUMMARY': vText('b'Formula One Round 15''), 'DESCRIPTION': vText('b'Formula 1 Heineken Dutch Grand Prix 2024''), 'DTSTART': <icalendar.prop.vDDDTypes object at 0x0000020C064E9E20>, 'DTEND': <icalendar.prop.vDDDTypes object at 0x0000020C064E9EB0>, 'DTSTAMP': <icalendar.prop.vDDDTypes object at 0x0000020C064E9F40>, 'LOCATION': vText('b'Netherlands ''), 'UID': vText('b'125'')}), VEVENT({'SUMMARY': vText('b'Formula One Round 16''), 'DESCRIPTION': vText('b'Formula 1 Pirelli Gran Premio D\\xe2\\x80\\x99Italia 2024''), 'DTSTART': <icalendar.prop.vDDDTypes object at 0x0000020C064F0100>, 'DTEND': <icalendar.prop.vDDDTypes object at 0x0000020C064F0190>, 'DTSTAMP': <icalendar.prop.vDDDTypes object at 0x0000020C064F0220>, 'LOCATION': vText('b'Italy ''), 'UID': vText('b'126'')}), VEVENT({'SUMMARY': vText('b'Formula One Round 17''), 'DESCRIPTION': vText('b'Formula 1 Qatar Airways Azerbaijan Grand Prix 2024''), 'DTSTART': <icalendar.prop.vDDDTypes object at 0x0000020C064F03A0>, 'DTEND': <icalendar.prop.vDDDTypes object at 0x0000020C064F0430>, 'DTSTAMP': <icalendar.prop.vDDDTypes object at 0x0000020C064F04C0>, 'LOCATION': vText('b'Azerbaijan ''), 'UID': vText('b'127'')}), VEVENT({'SUMMARY': vText('b'Formula One Round 18''), 'DESCRIPTION': vText('b'Formula 1 Singapore Airlines Singapore Grand Prix 2024''), 'DTSTART': <icalendar.prop.vDDDTypes object at 0x0000020C064F0640>, 'DTEND': <icalendar.prop.vDDDTypes object at 0x0000020C064F06D0>, 'DTSTAMP': <icalendar.prop.vDDDTypes object at 0x0000020C064F0760>, 'LOCATION': vText('b'Singapore ''), 'UID': vText('b'128'')}), VEVENT({'SUMMARY': vText('b'Formula One Round 19''), 'DESCRIPTION': vText('b'Formula 1 Pirelli United States Grand Prix 2024''), 'DTSTART': <icalendar.prop.vDDDTypes object at 0x0000020C064F0910>, 'DTEND': <icalendar.prop.vDDDTypes object at 0x0000020C064F09A0>, 'DTSTAMP': <icalendar.prop.vDDDTypes object at 0x0000020C064F0A30>, 'LOCATION': vText('b'United States ''), 'UID': vText('b'129'')}), VEVENT({'SUMMARY': vText('b'Formula One Round 20''), 'DESCRIPTION': vText('b'Formula 1 Gran Premio De La Ciudad De M\\xc3\\xa9xico 2024''), 'DTSTART': <icalendar.prop.vDDDTypes object at 0x0000020C064F0BB0>, 'DTEND': <icalendar.prop.vDDDTypes object at 0x0000020C064F0C40>, 'DTSTAMP': <icalendar.prop.vDDDTypes object at 0x0000020C064F0CD0>, 'LOCATION': vText('b'Mexico ''), 'UID': vText('b'130'')}), VEVENT({'SUMMARY': vText('b'Formula One Round 21''), 'DESCRIPTION': vText('b'Formula 1 Lenovo Grande Pr\\xc3\\xaamio De S\\xc3\\xa3o Paulo 2024''), 'DTSTART': <icalendar.prop.vDDDTypes object at 0x0000020C064F0E50>, 'DTEND': <icalendar.prop.vDDDTypes object at 0x0000020C064F0EE0>, 'DTSTAMP': <icalendar.prop.vDDDTypes object at 0x0000020C064F0F70>, 'LOCATION': vText('b'Brazil ''), 'UID': vText('b'131'')}), VEVENT({'SUMMARY': vText('b'Formula One Round 22''), 'DESCRIPTION': vText('b'Formula 1 Heineken Silver Las Vegas Grand Prix 2024''), 'DTSTART': <icalendar.prop.vDDDTypes object at 0x0000020C064F7130>, 'DTEND': <icalendar.prop.vDDDTypes object at 0x0000020C064F71C0>, 'DTSTAMP': <icalendar.prop.vDDDTypes object at 0x0000020C064F7250>, 'LOCATION': vText('b'United States ''), 'UID': vText('b'132'')}), VEVENT({'SUMMARY': vText('b'Formula One Round 23''), 'DESCRIPTION': vText('b'Formula 1 Qatar Airways Qatar Grand Prix 2024''), 'DTSTART': <icalendar.prop.vDDDTypes object at 0x0000020C064F7400>, 'DTEND': <icalendar.prop.vDDDTypes object at 0x0000020C064F7490>, 'DTSTAMP': <icalendar.prop.vDDDTypes object at 0x0000020C064F7520>, 'LOCATION': vText('b'Qatar ''), 'UID': vText('b'133'')}), VEVENT({'SUMMARY': vText('b'Formula One Round 24''), 'DESCRIPTION': vText('b'Formula 1 Etihad Airways Abu Dhabi Grand Prix 2024''), 'DTSTART': <icalendar.prop.vDDDTypes object at 0x0000020C064F76A0>, 'DTEND': <icalendar.prop.vDDDTypes object at 0x0000020C064F7730>, 'DTSTAMP': <icalendar.prop.vDDDTypes object at 0x0000020C064F77C0>, 'LOCATION': vText('b'Abu Dhabi ''), 'UID': vText('b'134'')}))"
      ]
     },
     "execution_count": 8,
     "metadata": {},
     "output_type": "execute_result"
    }
   ],
   "source": [
    "Formula_One"
   ]
  },
  {
   "cell_type": "code",
   "execution_count": 9,
   "id": "e7efae8d",
   "metadata": {},
   "outputs": [
    {
     "name": "stdout",
     "output_type": "stream",
     "text": [
      "ics file will be generated at  C:\\Users\\chris\\Documents\\Calendars/\n"
     ]
    }
   ],
   "source": [
    "directory = str(Path(r'C:\\Users\\chris\\Documents\\Calendars')) + \"/\"\n",
    "print(\"ics file will be generated at \", directory)\n",
    "f = open(os.path.join(directory, 'Formula_One.ics'), 'wb')\n",
    "f.write(Formula_One.to_ical())\n",
    "f.close()"
   ]
  },
  {
   "cell_type": "code",
   "execution_count": null,
   "id": "be1cdf78",
   "metadata": {},
   "outputs": [],
   "source": []
  },
  {
   "cell_type": "code",
   "execution_count": null,
   "id": "78f759eb",
   "metadata": {},
   "outputs": [],
   "source": []
  },
  {
   "cell_type": "code",
   "execution_count": 10,
   "id": "1de28044",
   "metadata": {},
   "outputs": [],
   "source": [
    "# for round in sgt_rounds, circuit in sgt_circuits, date in sgt_dates:\n",
    "    \n",
    "#     ievent = Event()\n",
    "\n",
    "#     ievent.add('summary', round ) #Title of the event\n",
    "# #     ievent.add('description', '')     #Description of event\n",
    "#     for date in sgt_dates:\n",
    "#         ievent.add('dtstart', datetime(date[0], date[1], date[2], 3, 0, 0, tzinfo=pytz.timezone('utc')))\n",
    "#         ievent.add('dtend', datetime(date[0], date[1], date[2], 5, 0, 0, tzinfo=pytz.timezone('utc')))\n",
    "#         ievent.add('dtstamp', datetime(2023, 3, 17, 0, 10, 0, tzinfo=pytz.timezone('utc')))\n",
    "#     for i in sgt_circuits:\n",
    "#         ievent['location'] = vText(circuit)\n",
    "#     ievent.add('uid', 110)\n",
    "#     Super_GT.add_component(ievent)\n",
    "\n",
    "# Super_GT\n",
    "\n",
    "# # R1_sgt = event\n",
    "# # Super_GT.add_component(R1_sgt)\n"
   ]
  },
  {
   "cell_type": "code",
   "execution_count": null,
   "id": "24c20ffa",
   "metadata": {},
   "outputs": [],
   "source": []
  },
  {
   "cell_type": "code",
   "execution_count": null,
   "id": "d77b46b4",
   "metadata": {},
   "outputs": [],
   "source": []
  }
 ],
 "metadata": {
  "kernelspec": {
   "display_name": "Python 3 (ipykernel)",
   "language": "python",
   "name": "python3"
  },
  "language_info": {
   "codemirror_mode": {
    "name": "ipython",
    "version": 3
   },
   "file_extension": ".py",
   "mimetype": "text/x-python",
   "name": "python",
   "nbconvert_exporter": "python",
   "pygments_lexer": "ipython3",
   "version": "3.9.7"
  }
 },
 "nbformat": 4,
 "nbformat_minor": 5
}
