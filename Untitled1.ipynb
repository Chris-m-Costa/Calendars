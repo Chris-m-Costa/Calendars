{
 "cells": [
  {
   "cell_type": "code",
   "execution_count": 4,
   "id": "edb10a47",
   "metadata": {},
   "outputs": [],
   "source": [
    "from Calendar_tools import new_ical"
   ]
  },
  {
   "cell_type": "code",
   "execution_count": 7,
   "id": "7700f8c2",
   "metadata": {},
   "outputs": [
    {
     "ename": "NameError",
     "evalue": "name 'series_name' is not defined",
     "output_type": "error",
     "traceback": [
      "\u001b[1;31m---------------------------------------------------------------------------\u001b[0m",
      "\u001b[1;31mNameError\u001b[0m                                 Traceback (most recent call last)",
      "Cell \u001b[1;32mIn[7], line 1\u001b[0m\n\u001b[1;32m----> 1\u001b[0m test \u001b[38;5;241m=\u001b[39m new_ical(\u001b[43mseries_name\u001b[49m)\n",
      "\u001b[1;31mNameError\u001b[0m: name 'series_name' is not defined"
     ]
    }
   ],
   "source": [
    "test = new_ical(series_name)"
   ]
  }
 ],
 "metadata": {
  "kernelspec": {
   "display_name": "Python 3 (ipykernel)",
   "language": "python",
   "name": "python3"
  },
  "language_info": {
   "codemirror_mode": {
    "name": "ipython",
    "version": 3
   },
   "file_extension": ".py",
   "mimetype": "text/x-python",
   "name": "python",
   "nbconvert_exporter": "python",
   "pygments_lexer": "ipython3",
   "version": "3.9.7"
  }
 },
 "nbformat": 4,
 "nbformat_minor": 5
}
