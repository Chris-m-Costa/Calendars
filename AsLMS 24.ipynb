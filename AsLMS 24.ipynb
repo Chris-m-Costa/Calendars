{
 "cells": [
  {
   "cell_type": "code",
   "execution_count": 1,
   "id": "1318cd2f",
   "metadata": {},
   "outputs": [],
   "source": [
    "from bs4 import BeautifulSoup\n",
    "import requests\n",
    "from selenium import webdriver"
   ]
  },
  {
   "cell_type": "code",
   "execution_count": 2,
   "id": "cea655c8",
   "metadata": {},
   "outputs": [],
   "source": [
    "# <div class=\"race-list\">\n",
    "# \t\t<a href=\"/calendar/2023-2024/race-3-4h-of-dubai\" style=\"text-decoration:none!important;\">\n",
    "#           <!--<div class=\"race-track-img\"  style=\"background-image: url('../assets/track-sepang.svg')\"></div>-->\n",
    "#           <div class=\"race-track\"><span class=\"nat\"><img src=\"../assets/flags/united-arab-emirates.png\"></span>Dubai, United Arab Emirates</div>\n",
    "#           <div class=\"race-date\">4 FEB 2024</div>\n",
    "#           <div class=\"race-circuit\">Dubai Autodrome</div>\n",
    "# \t\t</a>\n",
    "#         </div>"
   ]
  },
  {
   "cell_type": "code",
   "execution_count": 3,
   "id": "38b26ec3",
   "metadata": {},
   "outputs": [],
   "source": [
    "\n",
    "driver = webdriver.Chrome()\n",
    "driver.get(\"https://www.asianlemansseries.com/calendar/\")\n",
    "\n",
    "# Wait for dynamic content to load if needed\n",
    "\n",
    "sched_soup = BeautifulSoup(driver.page_source, 'html.parser')\n",
    "schedule_details = sched_soup.find_all('div', {'class': 'race-list'})\n",
    "\n",
    "driver.quit()\n"
   ]
  },
  {
   "cell_type": "code",
   "execution_count": 4,
   "id": "2d0b659d",
   "metadata": {},
   "outputs": [
    {
     "data": {
      "text/plain": [
       "[<div class=\"race-list\">\n",
       " <a href=\"/calendar/2023-2024/race-1-4h-of-sepang\" style=\"text-decoration:none!important;\">\n",
       " <!--<div class=\"race-track-img\"  style=\"background-image: url('../assets/track-chang.svg')\"></div>-->\n",
       " <div class=\"race-track\"><span class=\"nat\"><img src=\"../assets/flags/malaysia.png\"/></span>Sepang, Malaysia</div>\n",
       " <div class=\"race-date\">2 DEC 2023</div>\n",
       " <div class=\"race-circuit\">Sepang International Circuit</div>\n",
       " </a>\n",
       " </div>,\n",
       " <div class=\"race-list\">\n",
       " <a href=\"/calendar/2023-2024/race-2-4h-of-sepang\" style=\"text-decoration:none!important;\">\n",
       " <!--<div class=\"race-track-img\"  style=\"background-image: url('../assets/track-chang.svg')\"></div>-->\n",
       " <div class=\"race-track\"><span class=\"nat\"><img src=\"../assets/flags/malaysia.png\"/></span>Sepang, Malaysia</div>\n",
       " <div class=\"race-date\">3 DEC 2023</div>\n",
       " <div class=\"race-circuit\">Sepang International Circuit</div>\n",
       " </a>\n",
       " </div>,\n",
       " <div class=\"race-list\">\n",
       " <a href=\"/calendar/2023-2024/race-3-4h-of-dubai\" style=\"text-decoration:none!important;\">\n",
       " <!--<div class=\"race-track-img\"  style=\"background-image: url('../assets/track-sepang.svg')\"></div>-->\n",
       " <div class=\"race-track\"><span class=\"nat\"><img src=\"../assets/flags/united-arab-emirates.png\"/></span>Dubai, United Arab Emirates</div>\n",
       " <div class=\"race-date\">4 FEB 2024</div>\n",
       " <div class=\"race-circuit\">Dubai Autodrome</div>\n",
       " </a>\n",
       " </div>,\n",
       " <div class=\"race-list\">\n",
       " <a href=\"/calendar/2023-2024/race-4-4h-of-abu-dhabi\" style=\"text-decoration:none!important;\">\n",
       " <!--<div class=\"race-track-img\"  style=\"background-image: url('../assets/track-sepang.svg')\"></div>-->\n",
       " <div class=\"race-track\"><span class=\"nat\"><img src=\"../assets/flags/united-arab-emirates.png\"/></span>Abu Dhabi, United Arab Emirates</div>\n",
       " <div class=\"race-date\">10 FEB 2024</div>\n",
       " <div class=\"race-circuit\">Yas Marina Circuit</div>\n",
       " </a>\n",
       " </div>,\n",
       " <div class=\"race-list\">\n",
       " <a href=\"/calendar/2023-2024/race-5-4h-of-abu-dhabi\" style=\"text-decoration:none!important;\">\n",
       " <!--<div class=\"race-track-img\"  style=\"background-image: url('../assets/track-sepang.svg')\"></div>-->\n",
       " <div class=\"race-track\"><span class=\"nat\"><img src=\"../assets/flags/united-arab-emirates.png\"/></span>Abu Dhabi, United Arab Emirates</div>\n",
       " <div class=\"race-date\">11 FEB 2024</div>\n",
       " <div class=\"race-circuit\">Yas Marina Circuit</div>\n",
       " </a>\n",
       " </div>]"
      ]
     },
     "execution_count": 4,
     "metadata": {},
     "output_type": "execute_result"
    }
   ],
   "source": [
    "schedule_details"
   ]
  },
  {
   "cell_type": "code",
   "execution_count": 5,
   "id": "48130d0a",
   "metadata": {},
   "outputs": [
    {
     "data": {
      "text/plain": [
       "['4 Hours', '4 Hours', '4 Hours', '4 Hours', '4 Hours']"
      ]
     },
     "execution_count": 5,
     "metadata": {},
     "output_type": "execute_result"
    }
   ],
   "source": [
    "days = [] # <div class=\"race-date\">11 FEB 2024</div>\n",
    "months = []\n",
    "titles = [] #<a href=\"/calendar/2023-2024/race-5-4h-of-abu-dhabi\" style=\"text-decoration:none!important;\">\n",
    "descs = []\n",
    "circuits = [] # <div class=\"race-circuit\">Yas Marina Circuit</div>\n",
    "\n",
    "\n",
    "month_mapping = {\n",
    "        'Jan': 1,\n",
    "        'JAN': 1,\n",
    "        'January': 1,\n",
    "        'Feb': 2,\n",
    "        'FEB': 2,\n",
    "        'Mar': 3,\n",
    "        'March': 3,\n",
    "        'Apr': 4,\n",
    "        'May': 5,\n",
    "        'Jun': 6,\n",
    "        'Jul': 7,\n",
    "        'Aug': 8,\n",
    "        'Sep': 9,\n",
    "        'Oct': 10,\n",
    "        'October': 10,\n",
    "        'Nov': 11,\n",
    "        'Dec': 12,\n",
    "        'DEC': 12\n",
    "    }\n",
    "\n",
    "round_counter = 1\n",
    "\n",
    "for i in schedule_details:\n",
    "    temp_circuit = i.find('div', {'class': 'race-circuit'}).text\n",
    "    circuits.append(temp_circuit)\n",
    "    \n",
    "    temp_date = i.find('div', {'class':\"race-date\"}).text\n",
    "    temp_date = temp_date.split(' ')\n",
    "    days.append(int(temp_date[0]))\n",
    "    \n",
    "    temp_month = temp_date[1]\n",
    "    converted_month = month_mapping[temp_month]\n",
    "    months.append(converted_month)\n",
    "    \n",
    "    \n",
    "    temp_title = 'AsLMS Round' + ' ' + str(round_counter)\n",
    "    round_counter += 1\n",
    "    titles.append(temp_title)\n",
    "    \n",
    "    descs.append('4 Hours')\n",
    "    \n",
    "\n",
    " \n",
    "descs"
   ]
  },
  {
   "cell_type": "code",
   "execution_count": 6,
   "id": "e51c208e",
   "metadata": {},
   "outputs": [
    {
     "data": {
      "text/plain": [
       "int"
      ]
     },
     "execution_count": 6,
     "metadata": {},
     "output_type": "execute_result"
    }
   ],
   "source": [
    "type(days[0])"
   ]
  },
  {
   "cell_type": "code",
   "execution_count": 7,
   "id": "b241f321",
   "metadata": {},
   "outputs": [],
   "source": [
    "import pytz\n",
    "import icalendar\n",
    "from datetime import datetime\n",
    "from pathlib import Path\n",
    "import os\n",
    "from icalendar import Calendar, Event,  vText, vCalAddress"
   ]
  },
  {
   "cell_type": "code",
   "execution_count": 8,
   "id": "94f5710d",
   "metadata": {},
   "outputs": [],
   "source": [
    "AsLMS = Calendar()\n",
    "AsLMS.add('prodid', '-//My calendar product//example.com//')\n",
    "AsLMS.add('version', '2.0')"
   ]
  },
  {
   "cell_type": "code",
   "execution_count": 9,
   "id": "4db60b05",
   "metadata": {},
   "outputs": [],
   "source": [
    "\n",
    "\n",
    "uid = 110 \n",
    "for title, circuit, day, month, desc in zip(titles, circuits, days, months, descs):\n",
    "    ievent = Event()\n",
    "    ievent.add('summary', title) #Title of the event\n",
    "    ievent.add('description', desc)     #Description of event\n",
    "    #     ievent.add('description', f\"{event}\\n{length}\")\n",
    "\n",
    "    ievent.add('dtstart', datetime(2024, month, day, 4, 0, 0, tzinfo=pytz.timezone('est')))\n",
    "    ievent.add('dtend', datetime(2024, month, day, 8, 0, 0, tzinfo=pytz.timezone('est')))\n",
    "    ievent.add('dtstamp', datetime(2024, 1, 16, 0, 10, 0, tzinfo=pytz.timezone('est')))\n",
    "    ievent.add('location', circuit)\n",
    "    ievent.add('uid', uid)\n",
    "    uid += 1\n",
    "    AsLMS.add_component(ievent)"
   ]
  },
  {
   "cell_type": "code",
   "execution_count": 10,
   "id": "157d07aa",
   "metadata": {},
   "outputs": [
    {
     "data": {
      "text/plain": [
       "VCALENDAR({'PRODID': vText('b'-//My calendar product//example.com//''), 'VERSION': vText('b'2.0'')}, VEVENT({'SUMMARY': vText('b'AsLMS Round 1''), 'DESCRIPTION': vText('b'4 Hours''), 'DTSTART': <icalendar.prop.vDDDTypes object at 0x000001B2ABB222B0>, 'DTEND': <icalendar.prop.vDDDTypes object at 0x000001B2ABB22220>, 'DTSTAMP': <icalendar.prop.vDDDTypes object at 0x000001B2ABB22190>, 'LOCATION': vText('b'Sepang International Circuit''), 'UID': vText('b'110'')}), VEVENT({'SUMMARY': vText('b'AsLMS Round 2''), 'DESCRIPTION': vText('b'4 Hours''), 'DTSTART': <icalendar.prop.vDDDTypes object at 0x000001B2ABB1C580>, 'DTEND': <icalendar.prop.vDDDTypes object at 0x000001B2ABB1CE20>, 'DTSTAMP': <icalendar.prop.vDDDTypes object at 0x000001B2ABB1CF70>, 'LOCATION': vText('b'Sepang International Circuit''), 'UID': vText('b'111'')}), VEVENT({'SUMMARY': vText('b'AsLMS Round 3''), 'DESCRIPTION': vText('b'4 Hours''), 'DTSTART': <icalendar.prop.vDDDTypes object at 0x000001B2ABB1CDC0>, 'DTEND': <icalendar.prop.vDDDTypes object at 0x000001B2ABB1CD30>, 'DTSTAMP': <icalendar.prop.vDDDTypes object at 0x000001B2ABB1CCA0>, 'LOCATION': vText('b'Dubai Autodrome''), 'UID': vText('b'112'')}), VEVENT({'SUMMARY': vText('b'AsLMS Round 4''), 'DESCRIPTION': vText('b'4 Hours''), 'DTSTART': <icalendar.prop.vDDDTypes object at 0x000001B2ABB1CAF0>, 'DTEND': <icalendar.prop.vDDDTypes object at 0x000001B2ABB1CA60>, 'DTSTAMP': <icalendar.prop.vDDDTypes object at 0x000001B2ABB1C9D0>, 'LOCATION': vText('b'Yas Marina Circuit''), 'UID': vText('b'113'')}), VEVENT({'SUMMARY': vText('b'AsLMS Round 5''), 'DESCRIPTION': vText('b'4 Hours''), 'DTSTART': <icalendar.prop.vDDDTypes object at 0x000001B2ABB1C850>, 'DTEND': <icalendar.prop.vDDDTypes object at 0x000001B2ABB1C7C0>, 'DTSTAMP': <icalendar.prop.vDDDTypes object at 0x000001B2ABB1C730>, 'LOCATION': vText('b'Yas Marina Circuit''), 'UID': vText('b'114'')}))"
      ]
     },
     "execution_count": 10,
     "metadata": {},
     "output_type": "execute_result"
    }
   ],
   "source": [
    "AsLMS"
   ]
  },
  {
   "cell_type": "code",
   "execution_count": 11,
   "id": "1aab9258",
   "metadata": {},
   "outputs": [
    {
     "name": "stdout",
     "output_type": "stream",
     "text": [
      "ics file will be generated at  C:\\Users\\chris\\Documents\\Calendars/\n"
     ]
    }
   ],
   "source": [
    "directory = str(Path(r'C:\\Users\\chris\\Documents\\Calendars')) + \"/\"\n",
    "print(\"ics file will be generated at \", directory)\n",
    "f = open(os.path.join(directory, 'AsLMS.ics'), 'wb')\n",
    "f.write(AsLMS.to_ical())\n",
    "f.close()"
   ]
  },
  {
   "cell_type": "code",
   "execution_count": null,
   "id": "5bedbf62",
   "metadata": {},
   "outputs": [],
   "source": []
  },
  {
   "cell_type": "code",
   "execution_count": null,
   "id": "dfedbaba",
   "metadata": {},
   "outputs": [],
   "source": []
  }
 ],
 "metadata": {
  "kernelspec": {
   "display_name": "Python 3 (ipykernel)",
   "language": "python",
   "name": "python3"
  },
  "language_info": {
   "codemirror_mode": {
    "name": "ipython",
    "version": 3
   },
   "file_extension": ".py",
   "mimetype": "text/x-python",
   "name": "python",
   "nbconvert_exporter": "python",
   "pygments_lexer": "ipython3",
   "version": "3.9.7"
  }
 },
 "nbformat": 4,
 "nbformat_minor": 5
}
