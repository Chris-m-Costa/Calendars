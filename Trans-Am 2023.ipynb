{
 "cells": [
  {
   "cell_type": "code",
   "execution_count": 1,
   "id": "862563f4",
   "metadata": {},
   "outputs": [],
   "source": [
    "\n",
    "from bs4 import BeautifulSoup\n",
    "import requests\n",
    "import pandas as pd\n",
    "import numpy as np\n",
    "\n",
    "import re\n",
    "\n",
    "import pytz\n",
    "\n",
    "from time import strptime\n",
    "import calendar\n",
    "\n",
    "from datetime import datetime, date\n",
    "from pathlib import Path\n",
    "import os\n",
    "from icalendar import Calendar, Event,  vText, vCalAddress"
   ]
  },
  {
   "cell_type": "code",
   "execution_count": null,
   "id": "255712da",
   "metadata": {},
   "outputs": [],
   "source": []
  },
  {
   "cell_type": "code",
   "execution_count": 2,
   "id": "b69c7d83",
   "metadata": {},
   "outputs": [],
   "source": [
    "def make_soup(url):\n",
    "    \n",
    "    request = requests.get(url)\n",
    "    if request.status_code == 200:\n",
    "        soup = BeautifulSoup(request.content, 'html.parser')\n",
    "    else:\n",
    "        print('failed: ' + request.status_code)\n",
    "    \n",
    "    return soup\n",
    "    \n",
    "# url = 'https://www.nuerburgring-langstrecken-serie.de/en/calendar-nurburgring-langstrecken-serie-2023/'"
   ]
  },
  {
   "cell_type": "code",
   "execution_count": 3,
   "id": "bea1a192",
   "metadata": {},
   "outputs": [],
   "source": [
    "soup = make_soup('https://gotransam.com/events/2024-Trans-Am-National-Championship/cat/538')\n"
   ]
  },
  {
   "cell_type": "code",
   "execution_count": 4,
   "id": "3f44d950",
   "metadata": {},
   "outputs": [],
   "source": [
    "# events = soup.find_all('div', {'class':'events-listbox'})\n",
    "# test = events[3].find('div', {'class':'event-destination'}).text.split()\n",
    "# # test2 = test.split('Tour  ')[1:]\n",
    "# test"
   ]
  },
  {
   "cell_type": "code",
   "execution_count": 5,
   "id": "8ccae25c",
   "metadata": {},
   "outputs": [],
   "source": [
    "# events"
   ]
  },
  {
   "cell_type": "code",
   "execution_count": 6,
   "id": "60aa5d90",
   "metadata": {},
   "outputs": [
    {
     "name": "stdout",
     "output_type": "stream",
     "text": [
      "['Sebring International Raceway\\nSebring, FL\\n', 'Road Atlanta \\nBraselton, GA\\n', 'NOLA Motorsports Park\\nAvondale, LA\\n', 'World Wide Technology Raceway  (TA2 Only)\\nMadison, IL\\n', 'Lime Rock Park\\nLakeville, CT\\n', 'Pittsburgh International Race Complex\\nWampum, PA\\n', 'Mid-Ohio Sports Car Course\\nLexington, OH\\n', 'Road America\\nElkhart Lake, WI\\n', 'Watkins Glen International\\nWatkins Glen, NY\\n', 'Canadian Tire Motorsport Park\\nBowmanville, ON\\n', 'VIRginia International Raceway\\nAlton, VA\\n', 'Circuit of The Americas\\nAustin, TX\\n']\n"
     ]
    }
   ],
   "source": [
    "import re\n",
    "\n",
    "def TA_scrape_circuits():\n",
    "    circuits = []\n",
    "    events = soup.find_all('div', {'class':'events-listbox'})\n",
    "\n",
    "    for event in events:\n",
    "        event_text = event.find('div', {'class':'event-destination'}).text\n",
    "        circuit = re.split('Tour\\s*', event_text)[-1]  # Split on 'Tour' followed by any number of spaces\n",
    "        circuits.append(circuit)\n",
    "\n",
    "    return circuits\n",
    "\n",
    "circuits = TA_scrape_circuits()\n",
    "print(circuits)\n"
   ]
  },
  {
   "cell_type": "code",
   "execution_count": 7,
   "id": "7d067274",
   "metadata": {},
   "outputs": [
    {
     "data": {
      "text/plain": [
       "['Trans-Am Race 1',\n",
       " 'Trans-Am Race 2',\n",
       " 'Trans-Am Race 3',\n",
       " 'Trans-Am Race 4',\n",
       " 'Trans-Am Race 5',\n",
       " 'Trans-Am Race 6',\n",
       " 'Trans-Am Race 7',\n",
       " 'Trans-Am Race 8',\n",
       " 'Trans-Am Race 9',\n",
       " 'Trans-Am Race 10',\n",
       " 'Trans-Am Race 11',\n",
       " 'Trans-Am Race 12']"
      ]
     },
     "execution_count": 7,
     "metadata": {},
     "output_type": "execute_result"
    }
   ],
   "source": [
    "def TA_create_titles():\n",
    "    \n",
    "    tit_prt = 'Trans-Am Race '\n",
    "    rnd_cnt = 1\n",
    "    titles = []\n",
    "    \n",
    "    events = soup.find_all('div', {'class':'events-listbox'})\n",
    "    \n",
    "    for i in events:\n",
    "        tit = tit_prt + str(rnd_cnt)\n",
    "        rnd_cnt += 1\n",
    "        titles.append(tit) \n",
    "\n",
    "    return titles\n",
    "\n",
    "titles = TA_create_titles()\n",
    "titles"
   ]
  },
  {
   "cell_type": "code",
   "execution_count": 8,
   "id": "ec4859f1",
   "metadata": {},
   "outputs": [
    {
     "ename": "NameError",
     "evalue": "name 'events' is not defined",
     "output_type": "error",
     "traceback": [
      "\u001b[1;31m---------------------------------------------------------------------------\u001b[0m",
      "\u001b[1;31mNameError\u001b[0m                                 Traceback (most recent call last)",
      "Cell \u001b[1;32mIn[8], line 1\u001b[0m\n\u001b[1;32m----> 1\u001b[0m \u001b[43mevents\u001b[49m[\u001b[38;5;241m0\u001b[39m]\u001b[38;5;241m.\u001b[39mfind(\u001b[38;5;124m'\u001b[39m\u001b[38;5;124mdiv\u001b[39m\u001b[38;5;124m'\u001b[39m, {\u001b[38;5;124m'\u001b[39m\u001b[38;5;124mclass\u001b[39m\u001b[38;5;124m'\u001b[39m:\u001b[38;5;124m'\u001b[39m\u001b[38;5;124mevent-calendar\u001b[39m\u001b[38;5;124m'\u001b[39m})\u001b[38;5;241m.\u001b[39mtext\u001b[38;5;241m.\u001b[39msplit()\n",
      "\u001b[1;31mNameError\u001b[0m: name 'events' is not defined"
     ]
    }
   ],
   "source": [
    "events[0].find('div', {'class':'event-calendar'}).text.split()"
   ]
  },
  {
   "cell_type": "code",
   "execution_count": null,
   "id": "7f4e97e3",
   "metadata": {},
   "outputs": [],
   "source": [
    "x = events[0].find('div', {'class':'event-calendar'}).text.split()\n",
    "x"
   ]
  },
  {
   "cell_type": "code",
   "execution_count": null,
   "id": "55c29191",
   "metadata": {},
   "outputs": [],
   "source": [
    "scrp_mon = strptime(x[0],'%b').tm_mon #separates the month and changes to string digit '2'\n",
    "scrp_mon = str(scrp_mon)\n",
    "scrp_mon"
   ]
  },
  {
   "cell_type": "code",
   "execution_count": 10,
   "id": "31dcf805",
   "metadata": {},
   "outputs": [
    {
     "data": {
      "text/plain": [
       "['Feb', '22-25']"
      ]
     },
     "execution_count": 10,
     "metadata": {},
     "output_type": "execute_result"
    }
   ],
   "source": [
    "events = soup.find('div', {'class':'event-calendar'}).text.split()\n",
    "events"
   ]
  },
  {
   "cell_type": "code",
   "execution_count": null,
   "id": "8659dbb6",
   "metadata": {},
   "outputs": [],
   "source": [
    "for event in events:\n",
    "    day_ints = []\n",
    "    scrp_daystr = []\n",
    "\n",
    "    scrp_day = event[1].split('-') #separates the days, changes from '23-26' to ['23', '26']\n",
    "    for i in scrp_day:\n",
    "        day_ints.append(int(i)) # changes to integers [23, 26] needed for .arrange below\n",
    "    scrp_days = np.arange(day_ints[0], day_ints[1]+1, 1).tolist() #creates a list with all days in the event length [23,24,25,26]\n",
    "    for day in scrp_days:\n",
    "        scrp_daystr.append(str(day)) # back to str\n",
    "    scrp_daystr \n",
    "    \n",
    "    dates = []\n",
    "    year = str(datetime.now().year)\n",
    "    for day in scrp_daystr:\n",
    "        assy_date = year + ', ' + day + ', ' + scrp_mon\n",
    "        dates.append(assy_date)\n",
    "\n",
    "    dates\n",
    "    \n",
    "    wknd_dates = []\n",
    "    for date in dates:\n",
    "        date_obj = datetime.strptime(date, '%Y, %d, %m')\n",
    "        year, month, day = date_obj.year, date_obj.month, date_obj.day\n",
    "        if calendar.weekday(year, month, day) >= 5:\n",
    "            wknd_dates.append(date)\n",
    "    wknd_dates"
   ]
  },
  {
   "cell_type": "code",
   "execution_count": null,
   "id": "683ca7ae",
   "metadata": {},
   "outputs": [],
   "source": [
    "day_ints = []\n",
    "scrp_daystr = []\n",
    "\n",
    "scrp_day = event[1].split('-') #separates the days, changes from '23-26' to ['23', '26']\n",
    "for i in scrp_day:\n",
    "    day_ints.append(int(i)) # changes to integers [23, 26] needed for .arrange below\n",
    "scrp_days = np.arange(day_ints[0], day_ints[1]+1, 1).tolist() #creates a list with all days in the event length [23,24,25,26]\n",
    "for day in scrp_days:\n",
    "    scrp_daystr.append(str(day)) # back to str\n",
    "scrp_daystr"
   ]
  },
  {
   "cell_type": "code",
   "execution_count": null,
   "id": "1221ebca",
   "metadata": {},
   "outputs": [],
   "source": [
    "dates = []\n",
    "year = str(datetime.now().year)\n",
    "for day in scrp_daystr:\n",
    "    assy_date = year + ', ' + day + ', ' + scrp_mon\n",
    "    dates.append(assy_date)\n",
    "\n",
    "dates"
   ]
  },
  {
   "cell_type": "code",
   "execution_count": null,
   "id": "98d01422",
   "metadata": {},
   "outputs": [],
   "source": [
    "wknd_dates = []\n",
    "for date in dates:\n",
    "    date_obj = datetime.strptime(date, '%Y, %d, %m')\n",
    "    year, month, day = date_obj.year, date_obj.month, date_obj.day\n",
    "    if calendar.weekday(year, month, day) >= 5:\n",
    "        wknd_dates.append(date)\n",
    "wknd_dates"
   ]
  },
  {
   "cell_type": "code",
   "execution_count": null,
   "id": "8bb40008",
   "metadata": {},
   "outputs": [],
   "source": []
  },
  {
   "cell_type": "code",
   "execution_count": null,
   "id": "dcee6734",
   "metadata": {},
   "outputs": [],
   "source": [
    "wknd_dates"
   ]
  },
  {
   "cell_type": "code",
   "execution_count": null,
   "id": "dabc213e",
   "metadata": {},
   "outputs": [],
   "source": []
  },
  {
   "cell_type": "code",
   "execution_count": null,
   "id": "f95e3f13",
   "metadata": {},
   "outputs": [],
   "source": []
  },
  {
   "cell_type": "code",
   "execution_count": null,
   "id": "84c48ecb",
   "metadata": {},
   "outputs": [],
   "source": []
  },
  {
   "cell_type": "code",
   "execution_count": null,
   "id": "2239f3c5",
   "metadata": {},
   "outputs": [],
   "source": []
  },
  {
   "cell_type": "code",
   "execution_count": null,
   "id": "20306b3f",
   "metadata": {},
   "outputs": [],
   "source": [
    "def scrape_nls(soup):\n",
    "    \n",
    "    cln_days = []\n",
    "    cln_mons = []\n",
    "    year = 2023\n",
    "    titles = []\n",
    "    circuit = []\n",
    "    \n",
    "    tr = soup.find_all('tr')\n",
    "    \n",
    "\n",
    "## For each round item (tr) find date, trim day to race date only (ie 11-13 becomes just 13, fri-sat becomes just sat)\n",
    "## store dates in clean_dates in format for iCalendar req's\n",
    "    for i in range(len(soup.find_all('tr'))): \n",
    "        temp_date = soup.find_all('tr')[i].find_all('td')[0].text.strip().split('-')[1].split('.')\n",
    "\n",
    "        temp_day = temp_date[0]\n",
    "        if temp_day[0] == '0':\n",
    "            temp_day = temp_day[1:]\n",
    "        cln_days.append(temp_day)\n",
    "\n",
    "        temp_mon = temp_date[1]\n",
    "        if temp_mon[0] == '0':\n",
    "            temp_mon = temp_mon[1:]\n",
    "        cln_mons.append(temp_mon)\n",
    "\n",
    "        cln_yr = temp_date[2]\n",
    "        cln_yrs.append(cln_yr)\n",
    "\n",
    "#     clean_dates = []\n",
    "#     for yr, mon, day in zip(cln_yrs, cln_mons, cln_days):\n",
    "#         temp_date_ = yr + ', ' + mon + ', ' + day\n",
    "#         clean_dates.append(temp_date_)\n",
    "##\n",
    "\n",
    "\n",
    "## Pull the event names as description and store to description list\n",
    "    descriptions = []\n",
    "    for i in range(len(soup.find_all('tr'))):\n",
    "        temp_desc = soup.find_all('tr')[i].find_all('td')[1].text.strip()\n",
    "        descriptions.append(temp_desc)\n",
    "##\n",
    "\n",
    "## Make a simple title string for each index.\n",
    "#  index 0 is preseason test days, mnaully added to list\n",
    "   \n",
    "    titles = []\n",
    "    titles.append('NLS Test Days')\n",
    "    \n",
    "    count = 1\n",
    "    for i in range(len(soup.find_all('tr')[1:9])):\n",
    "        titles.append('NLS Race R0' + str(count))\n",
    "        count += 1\n",
    "#         titles.append(temp_tit)\n",
    "    \n",
    "    titles.append('NLS Alternative Date')\n",
    "\n",
    "        \n",
    "    return cln_yrs, cln_mons, cln_days, descriptions, titles"
   ]
  },
  {
   "cell_type": "code",
   "execution_count": null,
   "id": "a9a90ec3",
   "metadata": {},
   "outputs": [],
   "source": [
    "cln_yrs, cln_mons, cln_days, descriptions, titles = scrape_nls(soup)"
   ]
  },
  {
   "cell_type": "code",
   "execution_count": null,
   "id": "28858241",
   "metadata": {},
   "outputs": [],
   "source": [
    "cln_yrs"
   ]
  },
  {
   "cell_type": "code",
   "execution_count": null,
   "id": "c7275a12",
   "metadata": {},
   "outputs": [],
   "source": [
    "cln_mons"
   ]
  },
  {
   "cell_type": "code",
   "execution_count": null,
   "id": "24e613d9",
   "metadata": {},
   "outputs": [],
   "source": [
    "cln_days"
   ]
  },
  {
   "cell_type": "code",
   "execution_count": null,
   "id": "0296599b",
   "metadata": {},
   "outputs": [],
   "source": [
    "descriptions"
   ]
  },
  {
   "cell_type": "code",
   "execution_count": null,
   "id": "a60c3a6d",
   "metadata": {},
   "outputs": [],
   "source": [
    "titles"
   ]
  },
  {
   "cell_type": "code",
   "execution_count": null,
   "id": "5e068f3f",
   "metadata": {},
   "outputs": [],
   "source": [
    "circuit = 'Nürburgring Gesamtrecke' '\\n' 'Nürburg, Rhineland-Palatinate, Germany'# \n",
    "print(circuit)"
   ]
  },
  {
   "cell_type": "code",
   "execution_count": null,
   "id": "0652c5f2",
   "metadata": {},
   "outputs": [],
   "source": [
    "## Creating and Populating the Calendar"
   ]
  },
  {
   "cell_type": "code",
   "execution_count": null,
   "id": "77dd7f99",
   "metadata": {},
   "outputs": [],
   "source": [
    "import pytz\n",
    "import icalendar\n",
    "from datetime import datetime\n",
    "from pathlib import Path\n",
    "import os\n",
    "from icalendar import Calendar, Event,  vText, vCalAddress"
   ]
  },
  {
   "cell_type": "code",
   "execution_count": null,
   "id": "81078c7a",
   "metadata": {},
   "outputs": [],
   "source": [
    "def new_ical(series_name):\n",
    "    \n",
    "   \n",
    "    series_name = Calendar()\n",
    "    series_name.add('prodid', '-//My calendar product//example.com//')\n",
    "    series_name.add('version', '2.0')\n",
    "    \n",
    "    return series_name\n",
    "\n"
   ]
  },
  {
   "cell_type": "code",
   "execution_count": null,
   "id": "643af21f",
   "metadata": {},
   "outputs": [],
   "source": [
    "NLS = None\n",
    "NLS = new_ical(NLS)\n",
    "NLS"
   ]
  },
  {
   "cell_type": "code",
   "execution_count": null,
   "id": "24bd7e59",
   "metadata": {},
   "outputs": [],
   "source": [
    "\n",
    "\n",
    "def make_events(cal):\n",
    "    uid = 110\n",
    "    circuit = 'Nürburgring Gesamtrecke' '\\n' 'Nürburg, Rhineland-Palatinate, Germany'\n",
    "\n",
    "    for title, description, year, month, day in zip(titles, descriptions, cln_yrs, cln_mons, cln_days):\n",
    "        ievent = Event()\n",
    "        ievent.add('summary', title) #Title of the event\n",
    "        ievent.add('description', description)     #Description of event\n",
    "        ievent.add('dtstart', datetime(int(year), int(month), int(day), 10, 0, 0, tzinfo=pytz.timezone('utc')))\n",
    "        ievent.add('dtend', datetime(int(year), int(month), int(day), 14, 0, 0, tzinfo=pytz.timezone('utc')))\n",
    "        ievent.add('dtstamp', datetime(2023, 3, 17, 0, 10, 0, tzinfo=pytz.timezone('utc')))\n",
    "        ievent.add('location', vText(circuit))\n",
    "        ievent.add('uid', uid)\n",
    "        uid += 1\n",
    "        cal.add_component(ievent)\n",
    "        \n",
    "    return cal\n",
    "    "
   ]
  },
  {
   "cell_type": "code",
   "execution_count": null,
   "id": "4a09dc3f",
   "metadata": {},
   "outputs": [],
   "source": [
    "NLS = make_events(NLS)\n",
    "# NLS"
   ]
  },
  {
   "cell_type": "code",
   "execution_count": null,
   "id": "f8b46c81",
   "metadata": {},
   "outputs": [],
   "source": [
    "directory = str(Path(r'C:\\Users\\chris\\Documents\\Calendars')) + \"/\"\n",
    "print(\"ics file will be generated at \", directory)\n",
    "f = open(os.path.join(directory, 'NLS 2023.ics'), 'wb')\n",
    "f.write(NLS.to_ical())\n",
    "f.close()\n"
   ]
  },
  {
   "cell_type": "code",
   "execution_count": null,
   "id": "657d1323",
   "metadata": {},
   "outputs": [],
   "source": []
  },
  {
   "cell_type": "code",
   "execution_count": null,
   "id": "e69fd9dd",
   "metadata": {},
   "outputs": [],
   "source": []
  },
  {
   "cell_type": "code",
   "execution_count": null,
   "id": "ede16c7e",
   "metadata": {},
   "outputs": [],
   "source": []
  }
 ],
 "metadata": {
  "kernelspec": {
   "display_name": "Python 3 (ipykernel)",
   "language": "python",
   "name": "python3"
  },
  "language_info": {
   "codemirror_mode": {
    "name": "ipython",
    "version": 3
   },
   "file_extension": ".py",
   "mimetype": "text/x-python",
   "name": "python",
   "nbconvert_exporter": "python",
   "pygments_lexer": "ipython3",
   "version": "3.9.7"
  }
 },
 "nbformat": 4,
 "nbformat_minor": 5
}
