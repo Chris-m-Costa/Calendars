{
 "cells": [
  {
   "cell_type": "code",
   "execution_count": 1,
   "id": "869aaef4",
   "metadata": {},
   "outputs": [],
   "source": [
    "from bs4 import BeautifulSoup\n",
    "import requests\n",
    "import pandas as pd\n",
    "import numpy as np"
   ]
  },
  {
   "cell_type": "code",
   "execution_count": 2,
   "id": "46b1d47e",
   "metadata": {},
   "outputs": [],
   "source": [
    "from selenium import webdriver\n",
    "\n",
    "driver = webdriver.Chrome()\n",
    "driver.get(\"https://www.imsa.com/weathertech/weathertech-2024-schedule/\")\n",
    "\n",
    "# Wait for dynamic content to load if needed\n",
    "\n",
    "soup = BeautifulSoup(driver.page_source, 'html.parser')\n",
    "schedule_details = soup.find_all('div', {'class': 'schedule-details'})\n",
    "\n",
    "driver.quit()\n"
   ]
  },
  {
   "cell_type": "code",
   "execution_count": 3,
   "id": "edb89fa8",
   "metadata": {},
   "outputs": [
    {
     "data": {
      "text/plain": [
       "[<div class=\"schedule-details\">\n",
       " <h2 class=\"schedule-title\" tabindex=\"0\">Roar Before The Rolex 24</h2>\n",
       " <div class=\"schedule-date\" tabindex=\"0\">Jan 19 - Jan 21</div>\n",
       " <div class=\"schedule-location\" tabindex=\"0\">Daytona International Speedway</div>\n",
       " <div class=\"schedule-duration\" tabindex=\"0\">DURATION: N/A</div>\n",
       " </div>,\n",
       " <div class=\"schedule-details\">\n",
       " <h2 class=\"schedule-title\" tabindex=\"0\">Rolex 24 At DAYTONA</h2>\n",
       " <div class=\"schedule-date\" tabindex=\"0\">Jan 24 - Jan 28</div>\n",
       " <div class=\"schedule-location\" tabindex=\"0\">Daytona International Speedway</div>\n",
       " <div class=\"schedule-duration\" tabindex=\"0\">DURATION: 24 Hours</div>\n",
       " </div>,\n",
       " <div class=\"schedule-details\">\n",
       " <h2 class=\"schedule-title\" tabindex=\"0\">Mobil 1 Twelve Hours of Sebring</h2>\n",
       " <div class=\"schedule-date\" tabindex=\"0\">Mar 13 - Mar 16</div>\n",
       " <div class=\"schedule-location\" tabindex=\"0\">Sebring International Raceway</div>\n",
       " <div class=\"schedule-duration\" tabindex=\"0\">DURATION: 12 Hours</div>\n",
       " </div>,\n",
       " <div class=\"schedule-details\">\n",
       " <h2 class=\"schedule-title\" tabindex=\"0\">Acura Grand Prix of Long Beach</h2>\n",
       " <div class=\"schedule-date\" tabindex=\"0\">Apr 19 - Apr 20</div>\n",
       " <div class=\"schedule-location\" tabindex=\"0\">Long Beach Street Circuit</div>\n",
       " <div class=\"schedule-duration\" tabindex=\"0\">DURATION: 100 Minutes</div>\n",
       " </div>,\n",
       " <div class=\"schedule-details\">\n",
       " <h2 class=\"schedule-title\" tabindex=\"0\">MOTUL Course de Monterey Powered by Hyundai N</h2>\n",
       " <div class=\"schedule-date\" tabindex=\"0\">May 10 - May 12</div>\n",
       " <div class=\"schedule-location\" tabindex=\"0\">WeatherTech Raceway Laguna Seca</div>\n",
       " <div class=\"schedule-duration\" tabindex=\"0\">DURATION: 2 Hours 40 Minutes</div>\n",
       " </div>,\n",
       " <div class=\"schedule-details\">\n",
       " <h2 class=\"schedule-title\" tabindex=\"0\">Detroit Grand Prix</h2>\n",
       " <div class=\"schedule-date\" tabindex=\"0\">May 31 - Jun 1</div>\n",
       " <div class=\"schedule-location\" tabindex=\"0\">Detroit Street Circuit</div>\n",
       " <div class=\"schedule-duration\" tabindex=\"0\">DURATION: 100 Minutes</div>\n",
       " </div>,\n",
       " <div class=\"schedule-details\">\n",
       " <h2 class=\"schedule-title\" tabindex=\"0\">Sahlen's Six Hours of The Glen</h2>\n",
       " <div class=\"schedule-date\" tabindex=\"0\">Jun 20 - Jun 23</div>\n",
       " <div class=\"schedule-location\" tabindex=\"0\">Watkins Glen International</div>\n",
       " <div class=\"schedule-duration\" tabindex=\"0\">DURATION: 6 Hours</div>\n",
       " </div>,\n",
       " <div class=\"schedule-details\">\n",
       " <h2 class=\"schedule-title\" tabindex=\"0\">Chevrolet Grand Prix</h2>\n",
       " <div class=\"schedule-date\" tabindex=\"0\">Jul 12 - Jul 14</div>\n",
       " <div class=\"schedule-location\" tabindex=\"0\">Canadian Tire Motorsport Park</div>\n",
       " <div class=\"schedule-duration\" tabindex=\"0\">DURATION: 2 Hours 40 Minutes</div>\n",
       " </div>,\n",
       " <div class=\"schedule-details\">\n",
       " <h2 class=\"schedule-title\" tabindex=\"0\">IMSA SportsCar Weekend</h2>\n",
       " <div class=\"schedule-date\" tabindex=\"0\">Aug 2 - Aug 4</div>\n",
       " <div class=\"schedule-location\" tabindex=\"0\">Road America</div>\n",
       " <div class=\"schedule-duration\" tabindex=\"0\">DURATION: 2 Hours 40 Minutes</div>\n",
       " </div>,\n",
       " <div class=\"schedule-details\">\n",
       " <h2 class=\"schedule-title\" tabindex=\"0\">Michelin GT Challenge At VIR</h2>\n",
       " <div class=\"schedule-date\" tabindex=\"0\">Aug 23 - Aug 25</div>\n",
       " <div class=\"schedule-location\" tabindex=\"0\">VIRginia International Raceway</div>\n",
       " <div class=\"schedule-duration\" tabindex=\"0\">DURATION: 2 Hours 40 Minutes</div>\n",
       " </div>,\n",
       " <div class=\"schedule-details\">\n",
       " <h2 class=\"schedule-title\" tabindex=\"0\">TireRack.com Battle on the Bricks</h2>\n",
       " <div class=\"schedule-date\" tabindex=\"0\">Sep 20 - Sep 22</div>\n",
       " <div class=\"schedule-location\" tabindex=\"0\">Indianapolis Motor Speedway</div>\n",
       " <div class=\"schedule-duration\" tabindex=\"0\">DURATION: 6 Hours</div>\n",
       " </div>,\n",
       " <div class=\"schedule-details\">\n",
       " <h2 class=\"schedule-title\" tabindex=\"0\">MOTUL Petit Le Mans</h2>\n",
       " <div class=\"schedule-date\" tabindex=\"0\">Oct 9 - Oct 12</div>\n",
       " <div class=\"schedule-location\" tabindex=\"0\">Michelin Raceway Road Atlanta</div>\n",
       " <div class=\"schedule-duration\" tabindex=\"0\">DURATION: 10 Hours</div>\n",
       " </div>]"
      ]
     },
     "execution_count": 3,
     "metadata": {},
     "output_type": "execute_result"
    }
   ],
   "source": [
    "schedule_details"
   ]
  },
  {
   "cell_type": "code",
   "execution_count": null,
   "id": "ec681b80",
   "metadata": {},
   "outputs": [],
   "source": []
  },
  {
   "cell_type": "code",
   "execution_count": 4,
   "id": "4869a295",
   "metadata": {},
   "outputs": [],
   "source": [
    "events = []\n",
    "circuit = []\n",
    "length = []\n",
    "dates = []\n",
    "\n",
    "\n",
    "for div in schedule_details:\n",
    "    events.append(div.find('h2', class_='schedule-title').text)\n",
    "    circuit.append(div.find('div', class_='schedule-location').text)\n",
    "    length.append(div.find('div', class_='schedule-duration').text)\n",
    "    dates.append(div.find('div', class_='schedule-date').text)"
   ]
  },
  {
   "cell_type": "code",
   "execution_count": 5,
   "id": "1f103faf",
   "metadata": {},
   "outputs": [
    {
     "data": {
      "text/plain": [
       "['DURATION: N/A',\n",
       " 'DURATION: 24 Hours',\n",
       " 'DURATION: 12 Hours',\n",
       " 'DURATION: 100 Minutes',\n",
       " 'DURATION: 2 Hours 40 Minutes',\n",
       " 'DURATION: 100 Minutes',\n",
       " 'DURATION: 6 Hours',\n",
       " 'DURATION: 2 Hours 40 Minutes',\n",
       " 'DURATION: 2 Hours 40 Minutes',\n",
       " 'DURATION: 2 Hours 40 Minutes',\n",
       " 'DURATION: 6 Hours',\n",
       " 'DURATION: 10 Hours']"
      ]
     },
     "execution_count": 5,
     "metadata": {},
     "output_type": "execute_result"
    }
   ],
   "source": [
    "length"
   ]
  },
  {
   "cell_type": "code",
   "execution_count": 6,
   "id": "c5ed5ec4",
   "metadata": {},
   "outputs": [
    {
     "data": {
      "text/plain": [
       "['Jan 19 - Jan 21',\n",
       " 'Jan 24 - Jan 28',\n",
       " 'Mar 13 - Mar 16',\n",
       " 'Apr 19 - Apr 20',\n",
       " 'May 10 - May 12',\n",
       " 'May 31 - Jun 1',\n",
       " 'Jun 20 - Jun 23',\n",
       " 'Jul 12 - Jul 14',\n",
       " 'Aug 2 - Aug 4',\n",
       " 'Aug 23 - Aug 25',\n",
       " 'Sep 20 - Sep 22',\n",
       " 'Oct 9 - Oct 12']"
      ]
     },
     "execution_count": 6,
     "metadata": {},
     "output_type": "execute_result"
    }
   ],
   "source": [
    "dates"
   ]
  },
  {
   "cell_type": "code",
   "execution_count": 7,
   "id": "ec8f3610",
   "metadata": {},
   "outputs": [
    {
     "name": "stdout",
     "output_type": "stream",
     "text": [
      "[1, 1, 1, 1, 1, 3, 4, 5, 6, 6, 7, 8, 8, 9, 10]\n",
      "[19, 20, 21, 27, 28, 16, 20, 12, 1, 23, 14, 4, 25, 22, 12]\n"
     ]
    }
   ],
   "source": [
    "def convert_dates(dates):\n",
    "    month_mapping = {\n",
    "        'Jan': 1,\n",
    "        'Feb': 2,\n",
    "        'Mar': 3,\n",
    "        'Apr': 4,\n",
    "        'May': 5,\n",
    "        'Jun': 6,\n",
    "        'Jul': 7,\n",
    "        'Aug': 8,\n",
    "        'Sep': 9,\n",
    "        'Oct': 10,\n",
    "        'Nov': 11,\n",
    "        'Dec': 12\n",
    "    }\n",
    "\n",
    "    converted_months = []\n",
    "    converted_days = []\n",
    "\n",
    "    for i, date_range in enumerate(dates):\n",
    "        start_month, start_day, _, end_month, end_day = date_range.split()\n",
    "\n",
    "        start_month_number = month_mapping[start_month]\n",
    "        end_month_number = month_mapping[end_month]\n",
    "\n",
    "        if i == 0:  # Include all days for the roar\n",
    "            for day in range(int(start_day), int(end_day) + 1):\n",
    "                converted_months.append(start_month_number)\n",
    "                converted_days.append(day)\n",
    "        elif i == 1:  # Include both days of 24hr\n",
    "            for day in range(max(1, int(end_day) - 1), int(end_day) + 1):\n",
    "                converted_months.append(end_month_number)\n",
    "                converted_days.append(day)\n",
    "        else:  # Include only the last day for other events\n",
    "            converted_months.append(end_month_number)\n",
    "            converted_days.append(int(end_day))\n",
    "\n",
    "    return converted_months, converted_days\n",
    "\n",
    "\n",
    "\n",
    "converted_months, converted_days = convert_dates(dates)\n",
    "\n",
    "print(converted_months)\n",
    "print(converted_days)\n",
    "\n"
   ]
  },
  {
   "cell_type": "code",
   "execution_count": 8,
   "id": "ae8e346f",
   "metadata": {},
   "outputs": [
    {
     "data": {
      "text/plain": [
       "15"
      ]
     },
     "execution_count": 8,
     "metadata": {},
     "output_type": "execute_result"
    }
   ],
   "source": [
    "len(converted_months)"
   ]
  },
  {
   "cell_type": "code",
   "execution_count": 9,
   "id": "88450246",
   "metadata": {},
   "outputs": [
    {
     "data": {
      "text/plain": [
       "15"
      ]
     },
     "execution_count": 9,
     "metadata": {},
     "output_type": "execute_result"
    }
   ],
   "source": [
    "len(converted_days)"
   ]
  },
  {
   "cell_type": "code",
   "execution_count": null,
   "id": "97d66fd2",
   "metadata": {},
   "outputs": [],
   "source": []
  },
  {
   "cell_type": "code",
   "execution_count": 10,
   "id": "d9d15d80",
   "metadata": {},
   "outputs": [
    {
     "data": {
      "text/plain": [
       "['IMSA WTSC Round 0',\n",
       " 'IMSA WTSC Round 1',\n",
       " 'IMSA WTSC Round 2',\n",
       " 'IMSA WTSC Round 3',\n",
       " 'IMSA WTSC Round 4',\n",
       " 'IMSA WTSC Round 5',\n",
       " 'IMSA WTSC Round 6',\n",
       " 'IMSA WTSC Round 7',\n",
       " 'IMSA WTSC Round 8',\n",
       " 'IMSA WTSC Round 9',\n",
       " 'IMSA WTSC Round 10',\n",
       " 'IMSA WTSC Round 11']"
      ]
     },
     "execution_count": 10,
     "metadata": {},
     "output_type": "execute_result"
    }
   ],
   "source": [
    "rounds = []\n",
    "\n",
    "for i, date_range in enumerate(dates):\n",
    "    temp_round = f'IMSA WTSC Round {i}'\n",
    "    rounds.append(temp_round)\n",
    "\n",
    "rounds\n"
   ]
  },
  {
   "cell_type": "code",
   "execution_count": null,
   "id": "669c7251",
   "metadata": {},
   "outputs": [],
   "source": []
  },
  {
   "cell_type": "code",
   "execution_count": null,
   "id": "e1129f2c",
   "metadata": {},
   "outputs": [],
   "source": [
    "#Scraping and adding all Daytona Sessions"
   ]
  },
  {
   "cell_type": "code",
   "execution_count": 16,
   "id": "0f76431f",
   "metadata": {},
   "outputs": [],
   "source": [
    "from selenium import webdriver\n",
    "\n",
    "driver = webdriver.Chrome()\n",
    "driver.get(\"https://www.imsa.com/events/2024-rolex-24-at-daytona/\")\n",
    "\n",
    "# Wait for dynamic content to load if needed\n",
    "\n",
    "daytona_soup = BeautifulSoup(driver.page_source, 'html.parser')\n",
    "driver.quit()"
   ]
  },
  {
   "cell_type": "code",
   "execution_count": null,
   "id": "a8c68f5f",
   "metadata": {},
   "outputs": [],
   "source": [
    "daytona_soup"
   ]
  },
  {
   "cell_type": "code",
   "execution_count": 11,
   "id": "f77f21da",
   "metadata": {},
   "outputs": [],
   "source": [
    "import pytz\n",
    "import icalendar\n",
    "from datetime import datetime\n",
    "from pathlib import Path\n",
    "import os\n",
    "from icalendar import Calendar, Event,  vText, vCalAddress"
   ]
  },
  {
   "cell_type": "code",
   "execution_count": 12,
   "id": "e7b57b17",
   "metadata": {},
   "outputs": [],
   "source": [
    "IMSA_WTSC = Calendar()\n",
    "IMSA_WTSC.add('prodid', '-//My calendar product//example.com//')\n",
    "IMSA_WTSC.add('version', '2.0')"
   ]
  },
  {
   "cell_type": "code",
   "execution_count": 13,
   "id": "5e60c1ea",
   "metadata": {},
   "outputs": [],
   "source": [
    "uid = 110\n",
    "\n",
    "for round, circuit, day, month, length, event in zip(rounds, circuit, converted_days, converted_months, length, events):\n",
    "    ievent = Event()\n",
    "    ievent.add('summary', round) #Title of the event\n",
    "#     ievent.add('description', event)     #Description of event\n",
    "#     ievent.add('description', f\"{event}\\n{length}\")\n",
    "\n",
    "  \n",
    "    # Format the length for a cleaner display\n",
    "    formatted_length = length.replace('DURATION: ', '')\n",
    "    \n",
    "    # Include the formatted length in the description\n",
    "    ievent.add('description', f\"{event}\\nDuration: {formatted_length}\")\n",
    "\n",
    "    ievent.add('dtstart', datetime(2024, month, day, 3, 0, 0, tzinfo=pytz.timezone('utc')))\n",
    "    ievent.add('dtend', datetime(2024, month, day, 5, 0, 0, tzinfo=pytz.timezone('utc')))\n",
    "    ievent.add('dtstamp', datetime(2024, 1, 9, 0, 10, 0, tzinfo=pytz.timezone('utc')))\n",
    "    ievent.add('location', vText(circuit))\n",
    "    ievent.add('uid', uid)\n",
    "    uid += 1\n",
    "    IMSA_WTSC.add_component(ievent)"
   ]
  },
  {
   "cell_type": "code",
   "execution_count": 14,
   "id": "8c0af03f",
   "metadata": {},
   "outputs": [
    {
     "data": {
      "text/plain": [
       "VCALENDAR({'PRODID': vText('b'-//My calendar product//example.com//''), 'VERSION': vText('b'2.0'')}, VEVENT({'SUMMARY': vText('b'IMSA WTSC Round 0''), 'DESCRIPTION': vText('b'Roar Before The Rolex 24\\\\nDuration: N/A''), 'DTSTART': <icalendar.prop.vDDDTypes object at 0x000002D6D5D054C0>, 'DTEND': <icalendar.prop.vDDDTypes object at 0x000002D6D5D05430>, 'DTSTAMP': <icalendar.prop.vDDDTypes object at 0x000002D6D5D053A0>, 'LOCATION': vText('b'Daytona International Speedway''), 'UID': vText('b'110'')}), VEVENT({'SUMMARY': vText('b'IMSA WTSC Round 1''), 'DESCRIPTION': vText('b'Rolex 24 At DAYTONA\\\\nDuration: 24 Hours''), 'DTSTART': <icalendar.prop.vDDDTypes object at 0x000002D6D5D06070>, 'DTEND': <icalendar.prop.vDDDTypes object at 0x000002D6D5D06AF0>, 'DTSTAMP': <icalendar.prop.vDDDTypes object at 0x000002D6D5D06B80>, 'LOCATION': vText('b'Daytona International Speedway''), 'UID': vText('b'111'')}), VEVENT({'SUMMARY': vText('b'IMSA WTSC Round 2''), 'DESCRIPTION': vText('b'Mobil 1 Twelve Hours of Sebring\\\\nDuration: 12 Hours''), 'DTSTART': <icalendar.prop.vDDDTypes object at 0x000002D6D5D06D00>, 'DTEND': <icalendar.prop.vDDDTypes object at 0x000002D6D5D06D90>, 'DTSTAMP': <icalendar.prop.vDDDTypes object at 0x000002D6D5D0D070>, 'LOCATION': vText('b'Sebring International Raceway''), 'UID': vText('b'112'')}), VEVENT({'SUMMARY': vText('b'IMSA WTSC Round 3''), 'DESCRIPTION': vText('b'Acura Grand Prix of Long Beach\\\\nDuration: 100 Minutes''), 'DTSTART': <icalendar.prop.vDDDTypes object at 0x000002D6D5D0D1F0>, 'DTEND': <icalendar.prop.vDDDTypes object at 0x000002D6D5D0D280>, 'DTSTAMP': <icalendar.prop.vDDDTypes object at 0x000002D6D5D0D310>, 'LOCATION': vText('b'Long Beach Street Circuit''), 'UID': vText('b'113'')}), VEVENT({'SUMMARY': vText('b'IMSA WTSC Round 4''), 'DESCRIPTION': vText('b'MOTUL Course de Monterey Powered by Hyundai N\\\\nDuration: 2 Hours 40 Minutes''), 'DTSTART': <icalendar.prop.vDDDTypes object at 0x000002D6D5D0D490>, 'DTEND': <icalendar.prop.vDDDTypes object at 0x000002D6D5D0D520>, 'DTSTAMP': <icalendar.prop.vDDDTypes object at 0x000002D6D5D0D5B0>, 'LOCATION': vText('b'WeatherTech Raceway Laguna Seca''), 'UID': vText('b'114'')}), VEVENT({'SUMMARY': vText('b'IMSA WTSC Round 5''), 'DESCRIPTION': vText('b'Detroit Grand Prix\\\\nDuration: 100 Minutes''), 'DTSTART': <icalendar.prop.vDDDTypes object at 0x000002D6D5D0D760>, 'DTEND': <icalendar.prop.vDDDTypes object at 0x000002D6D5D0D7F0>, 'DTSTAMP': <icalendar.prop.vDDDTypes object at 0x000002D6D5D0D880>, 'LOCATION': vText('b'Detroit Street Circuit''), 'UID': vText('b'115'')}), VEVENT({'SUMMARY': vText('b'IMSA WTSC Round 6''), 'DESCRIPTION': vText('b\"Sahlen's Six Hours of The Glen\\\\nDuration: 6 Hours\"'), 'DTSTART': <icalendar.prop.vDDDTypes object at 0x000002D6D5D0DA00>, 'DTEND': <icalendar.prop.vDDDTypes object at 0x000002D6D5D0DA90>, 'DTSTAMP': <icalendar.prop.vDDDTypes object at 0x000002D6D5D0DB20>, 'LOCATION': vText('b'Watkins Glen International''), 'UID': vText('b'116'')}), VEVENT({'SUMMARY': vText('b'IMSA WTSC Round 7''), 'DESCRIPTION': vText('b'Chevrolet Grand Prix\\\\nDuration: 2 Hours 40 Minutes''), 'DTSTART': <icalendar.prop.vDDDTypes object at 0x000002D6D5D0DCA0>, 'DTEND': <icalendar.prop.vDDDTypes object at 0x000002D6D5D0DD30>, 'DTSTAMP': <icalendar.prop.vDDDTypes object at 0x000002D6D5D0DDC0>, 'LOCATION': vText('b'Canadian Tire Motorsport Park''), 'UID': vText('b'117'')}), VEVENT({'SUMMARY': vText('b'IMSA WTSC Round 8''), 'DESCRIPTION': vText('b'IMSA SportsCar Weekend\\\\nDuration: 2 Hours 40 Minutes''), 'DTSTART': <icalendar.prop.vDDDTypes object at 0x000002D6D5D0DF40>, 'DTEND': <icalendar.prop.vDDDTypes object at 0x000002D6D5D0DFD0>, 'DTSTAMP': <icalendar.prop.vDDDTypes object at 0x000002D6D5D150A0>, 'LOCATION': vText('b'Road America''), 'UID': vText('b'118'')}), VEVENT({'SUMMARY': vText('b'IMSA WTSC Round 9''), 'DESCRIPTION': vText('b'Michelin GT Challenge At VIR\\\\nDuration: 2 Hours 40 Minutes''), 'DTSTART': <icalendar.prop.vDDDTypes object at 0x000002D6D5D15220>, 'DTEND': <icalendar.prop.vDDDTypes object at 0x000002D6D5D152B0>, 'DTSTAMP': <icalendar.prop.vDDDTypes object at 0x000002D6D5D15340>, 'LOCATION': vText('b'VIRginia International Raceway''), 'UID': vText('b'119'')}), VEVENT({'SUMMARY': vText('b'IMSA WTSC Round 10''), 'DESCRIPTION': vText('b'TireRack.com Battle on the Bricks\\\\nDuration: 6 Hours''), 'DTSTART': <icalendar.prop.vDDDTypes object at 0x000002D6D5D154C0>, 'DTEND': <icalendar.prop.vDDDTypes object at 0x000002D6D5D15550>, 'DTSTAMP': <icalendar.prop.vDDDTypes object at 0x000002D6D5D155E0>, 'LOCATION': vText('b'Indianapolis Motor Speedway''), 'UID': vText('b'120'')}), VEVENT({'SUMMARY': vText('b'IMSA WTSC Round 11''), 'DESCRIPTION': vText('b'MOTUL Petit Le Mans\\\\nDuration: 10 Hours''), 'DTSTART': <icalendar.prop.vDDDTypes object at 0x000002D6D5D15790>, 'DTEND': <icalendar.prop.vDDDTypes object at 0x000002D6D5D15820>, 'DTSTAMP': <icalendar.prop.vDDDTypes object at 0x000002D6D5D158B0>, 'LOCATION': vText('b'Michelin Raceway Road Atlanta''), 'UID': vText('b'121'')}))"
      ]
     },
     "execution_count": 14,
     "metadata": {},
     "output_type": "execute_result"
    }
   ],
   "source": [
    "IMSA_WTSC"
   ]
  },
  {
   "cell_type": "code",
   "execution_count": 15,
   "id": "e540f4be",
   "metadata": {},
   "outputs": [
    {
     "name": "stdout",
     "output_type": "stream",
     "text": [
      "ics file will be generated at  C:\\Users\\chris\\Documents\\Calendars/\n"
     ]
    }
   ],
   "source": [
    "directory = str(Path(r'C:\\Users\\chris\\Documents\\Calendars')) + \"/\"\n",
    "print(\"ics file will be generated at \", directory)\n",
    "f = open(os.path.join(directory, 'IMSA_WTSC_2024.ics'), 'wb')\n",
    "f.write(IMSA_WTSC.to_ical())\n",
    "f.close()"
   ]
  }
 ],
 "metadata": {
  "kernelspec": {
   "display_name": "Python 3 (ipykernel)",
   "language": "python",
   "name": "python3"
  },
  "language_info": {
   "codemirror_mode": {
    "name": "ipython",
    "version": 3
   },
   "file_extension": ".py",
   "mimetype": "text/x-python",
   "name": "python",
   "nbconvert_exporter": "python",
   "pygments_lexer": "ipython3",
   "version": "3.9.7"
  }
 },
 "nbformat": 4,
 "nbformat_minor": 5
}
