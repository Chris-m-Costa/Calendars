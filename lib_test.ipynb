{
 "cells": [
  {
   "cell_type": "code",
   "execution_count": 1,
   "id": "79990f84",
   "metadata": {},
   "outputs": [],
   "source": [
    "from lib.testcode import printhello"
   ]
  },
  {
   "cell_type": "code",
   "execution_count": 2,
   "id": "9f746b8e",
   "metadata": {},
   "outputs": [
    {
     "name": "stdout",
     "output_type": "stream",
     "text": [
      "hello\n"
     ]
    }
   ],
   "source": [
    "printhello()"
   ]
  },
  {
   "cell_type": "code",
   "execution_count": 9,
   "id": "242071fd",
   "metadata": {},
   "outputs": [
    {
     "data": {
      "text/plain": [
       "['C:\\\\Users\\\\chris\\\\Documents\\\\Calendars',\n",
       " 'C:\\\\Users\\\\chris\\\\anaconda3\\\\python39.zip',\n",
       " 'C:\\\\Users\\\\chris\\\\anaconda3\\\\DLLs',\n",
       " 'C:\\\\Users\\\\chris\\\\anaconda3\\\\lib',\n",
       " 'C:\\\\Users\\\\chris\\\\anaconda3',\n",
       " '',\n",
       " 'C:\\\\Users\\\\chris\\\\anaconda3\\\\lib\\\\site-packages',\n",
       " 'C:\\\\Users\\\\chris\\\\anaconda3\\\\lib\\\\site-packages\\\\win32',\n",
       " 'C:\\\\Users\\\\chris\\\\anaconda3\\\\lib\\\\site-packages\\\\win32\\\\lib',\n",
       " 'C:\\\\Users\\\\chris\\\\anaconda3\\\\lib\\\\site-packages\\\\Pythonwin']"
      ]
     },
     "execution_count": 9,
     "metadata": {},
     "output_type": "execute_result"
    }
   ],
   "source": [
    "import sys\n",
    "sys.path"
   ]
  }
 ],
 "metadata": {
  "kernelspec": {
   "display_name": "Python 3 (ipykernel)",
   "language": "python",
   "name": "python3"
  },
  "language_info": {
   "codemirror_mode": {
    "name": "ipython",
    "version": 3
   },
   "file_extension": ".py",
   "mimetype": "text/x-python",
   "name": "python",
   "nbconvert_exporter": "python",
   "pygments_lexer": "ipython3",
   "version": "3.9.7"
  }
 },
 "nbformat": 4,
 "nbformat_minor": 5
}
