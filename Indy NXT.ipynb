{
 "cells": [
  {
   "cell_type": "code",
   "execution_count": 1,
   "id": "f61ee1a8",
   "metadata": {},
   "outputs": [],
   "source": [
    "from bs4 import BeautifulSoup\n",
    "import requests\n",
    "from selenium import webdriver\n",
    "from datetime import datetime\n"
   ]
  },
  {
   "cell_type": "code",
   "execution_count": 2,
   "id": "0aa47d05",
   "metadata": {},
   "outputs": [],
   "source": [
    "driver = webdriver.Chrome()\n",
    "driver.get(\"https://www.indycar.com/INDYNXT/Schedule\")\n",
    "\n",
    "# Wait for dynamic content to load if needed\n",
    "\n",
    "sched_soup = BeautifulSoup(driver.page_source, 'html.parser')\n",
    "schedule_details = sched_soup.find_all('li', {'class': 'schedule-list__item'})\n",
    "\n",
    "driver.quit()\n",
    "\n",
    "                                        "
   ]
  },
  {
   "cell_type": "code",
   "execution_count": 3,
   "id": "e20d2723",
   "metadata": {},
   "outputs": [],
   "source": [
    "# schedule_details"
   ]
  },
  {
   "cell_type": "code",
   "execution_count": 4,
   "id": "1ddf11cc",
   "metadata": {},
   "outputs": [],
   "source": [
    "days = [] \n",
    "months = []\n",
    "titles = [] \n",
    "descs = []\n",
    "circuits = []\n",
    "time = []\n",
    "start_hours = []\n",
    "start_minutes = []\n",
    "end_hours = []\n",
    "end_minutes = []\n",
    "\n",
    "year = datetime.now().year\n",
    "\n",
    "\n",
    "\n",
    "month_mapping = {\n",
    "        'Jan': 1,\n",
    "        'JAN': 1,\n",
    "        'January': 1,\n",
    "        'Feb': 2,\n",
    "        'FEB': 2,\n",
    "        'Mar': 3,\n",
    "        'March': 3,\n",
    "        'Apr': 4,\n",
    "        'May': 5,\n",
    "        'Jun': 6,\n",
    "        'Jul': 7,\n",
    "        'Aug': 8,\n",
    "        'Sep': 9,\n",
    "        'Oct': 10,\n",
    "        'October': 10,\n",
    "        'Nov': 11,\n",
    "        'Dec': 12,\n",
    "        'DEC': 12\n",
    "    }\n",
    "\n",
    "\n",
    "\n"
   ]
  },
  {
   "cell_type": "code",
   "execution_count": 5,
   "id": "3db33d14",
   "metadata": {},
   "outputs": [],
   "source": [
    "circuit_naming = {}\n",
    "link_names = []\n",
    "for i in schedule_details:\n",
    "    link_temp = i.find('a', class_='panel-trigger schedule-list__title')\n",
    "    link = link_temp['href'].split('/')[-1]\n",
    "    link_names.append(link)\n",
    "    \n",
    "circ_names = ['St Petersburg Street Circuit' '\\n' 'St. Petersburg, FL.',\n",
    "              'Barber Motorsports Park' '\\n' 'Birmingham, AL',\n",
    "              'Indianapolis Motor Speedway Road Course' '\\n' 'Indianapolis, IN.',\n",
    "              'Indianapolis Motor Speedway Road Course' '\\n' 'Indianapolis, IN.',\n",
    "              'Downtown Detroit Street Circuit' '\\n' 'Detroit, MI',\n",
    "              'Road America' '\\n' 'Elkhart Lake, WI.',\n",
    "              'Laguna Seca Raceway' '\\n' 'Monterey, CA',\n",
    "              'Laguna Seca Raceway' '\\n' 'Monterey, CA',\n",
    "              'Mid-Ohio Sports Car Course' '\\n' 'Lexington, OH',\n",
    "              'Iowa Speedway' '\\n' 'Newton, IA',\n",
    "              'Gateway Motorsports Park' '\\n' 'Madison, IL.',\n",
    "              'Portland International Raceway' '\\n' 'Portland, OR.',\n",
    "              'Milwaukee Mile' '\\n' 'West Allis, WI',\n",
    "              'Nashville Superspeedway' '\\n' 'Lebanon, TN'\n",
    "             ]\n",
    "\n",
    "circuit_naming = dict(zip(link_names, circ_names))"
   ]
  },
  {
   "cell_type": "code",
   "execution_count": 6,
   "id": "1a679bf1",
   "metadata": {},
   "outputs": [],
   "source": [
    "# #Testing##\n",
    "# link_prefix = 'https://www.indycar.com'\n",
    "\n",
    "# schedule_details[1].find('a', class_='panel-trigger schedule-list__title')\n",
    "# link_temp = schedule_details[1].find('a', class_='panel-trigger schedule-list__title')\n",
    "# link = link_temp['href']\n",
    "# driver = webdriver.Chrome()\n",
    "# driver.get(link_prefix + link)\n",
    "# event_soup = BeautifulSoup(driver.page_source, 'html.parser')\n",
    "# desc = event_soup.find('h2', {'style':''}).text.strip()\n",
    "# desc\n",
    "\n",
    "# # # <div class=\"race-list__date text\">Sunday,   Sep 15 </div>"
   ]
  },
  {
   "cell_type": "code",
   "execution_count": 7,
   "id": "444b3a6b",
   "metadata": {},
   "outputs": [],
   "source": [
    "link_prefix = 'https://www.indycar.com'\n",
    "round_counter = 1\n",
    "\n",
    "for i in schedule_details:\n",
    "    link_temp = i.find('a', class_='panel-trigger schedule-list__title')\n",
    "    link = link_temp['href']\n",
    "    driver = webdriver.Chrome()\n",
    "    driver.get(link_prefix + link)\n",
    "    event_soup = BeautifulSoup(driver.page_source, 'html.parser')\n",
    "    \n",
    "    desc = event_soup.find('h2', {'style':''}).text.strip()\n",
    "    dist = event_soup.find('h2', {'class':'race-details'}).text.split('|')\n",
    "    lap_count = dist[0].strip().replace('\\n', '').replace('LAPS', 'Laps').split()\n",
    "    lap_count = ' '.join(lap_count)  # Join the split elements to remove excess space\n",
    "    distance = dist[1].strip().replace('\\n', '')\n",
    "    formatted_output = f\"{lap_count}, {distance}\"                  \n",
    "    descs.append(desc + '\\n' + formatted_output)\n",
    "    \n",
    "    temp_circuit = link_temp['href'].split('/')[-1]\n",
    "    converted_circuit = circuit_naming[temp_circuit]\n",
    "    circuits.append(converted_circuit)\n",
    "\n",
    "    temp_title = 'IndyNXT Round ' + '0' + str(round_counter)\n",
    "    round_counter += 1\n",
    "    titles.append(temp_title)\n",
    "    \n",
    "    temp_date = event_soup.find('div', class_='race-list__date text').text.split(' ')\n",
    "    temp_month = temp_date[-3]\n",
    "    conv_month = month_mapping[temp_month]\n",
    "    temp_day = temp_date[-2]\n",
    "    months.append(conv_month)\n",
    "    days.append(int(temp_day))\n",
    "    \n",
    "    temp_time = event_soup.find('div', class_='race-list__time text').text.split('-')\n",
    "    if 'TBD' in temp_time:\n",
    "        start_hours.append(12)\n",
    "        start_minutes.append(0)\n",
    "        end_hours.append(13)\n",
    "        end_minutes.append(0)\n",
    "        \n",
    "    else:\n",
    "        start_h, start_m = temp_time[0].split(':')[0], temp_time[0].split(':')[-1].strip(' PM').strip(' A')\n",
    "        if 'PM' in temp_time[0]:\n",
    "            if start_h == '12':\n",
    "                start_hours.append(int(start_h))\n",
    "            else:  \n",
    "                start_h = int(start_h) + 12\n",
    "                start_hours.append(start_h)\n",
    "        else:\n",
    "            start_hours.append(int(start_h))\n",
    "        \n",
    "        if start_m == '00':\n",
    "            start_minutes.append(0)\n",
    "        else:\n",
    "            start_minutes.append(int(start_m))\n",
    "\n",
    "        end_h, end_m = temp_time[1].split(':')[0], temp_time[1].split(':')[-1].strip(' PM ET').strip(' A')\n",
    "        if 'PM' in temp_time[1]:\n",
    "            if end_h == ' 12':\n",
    "                end_hours.append(int(end_h))\n",
    "            else:  \n",
    "                end_h = int(end_h) + 12\n",
    "                end_hours.append(end_h)\n",
    "        else:\n",
    "            end_hours.append(int(end_h))\n",
    "            \n",
    "        if end_m == '00':\n",
    "            end_minutes.append(0)\n",
    "        else:\n",
    "            end_minutes.append(int(end_m))\n",
    "     "
   ]
  },
  {
   "cell_type": "code",
   "execution_count": 8,
   "id": "37915cec",
   "metadata": {},
   "outputs": [
    {
     "data": {
      "text/plain": [
       "['12:50 PM ', ' 2:05 PM ET']"
      ]
     },
     "execution_count": 8,
     "metadata": {},
     "output_type": "execute_result"
    }
   ],
   "source": [
    "temp_time"
   ]
  },
  {
   "cell_type": "code",
   "execution_count": 9,
   "id": "38cbb635",
   "metadata": {},
   "outputs": [
    {
     "data": {
      "text/plain": [
       "[8, 26, 10, 11, 2, 9, 22, 23, 7, 13, 17, 25, 31, 15]"
      ]
     },
     "execution_count": 9,
     "metadata": {},
     "output_type": "execute_result"
    }
   ],
   "source": [
    "days \n",
    "\n"
   ]
  },
  {
   "cell_type": "code",
   "execution_count": 10,
   "id": "36a223c9",
   "metadata": {},
   "outputs": [
    {
     "data": {
      "text/plain": [
       "[3, 4, 5, 5, 6, 6, 6, 6, 7, 7, 8, 8, 8, 9]"
      ]
     },
     "execution_count": 10,
     "metadata": {},
     "output_type": "execute_result"
    }
   ],
   "source": [
    "months "
   ]
  },
  {
   "cell_type": "code",
   "execution_count": 11,
   "id": "599d2251",
   "metadata": {},
   "outputs": [
    {
     "data": {
      "text/plain": [
       "['IndyNXT Round 01',\n",
       " 'IndyNXT Round 02',\n",
       " 'IndyNXT Round 03',\n",
       " 'IndyNXT Round 04',\n",
       " 'IndyNXT Round 05',\n",
       " 'IndyNXT Round 06',\n",
       " 'IndyNXT Round 07',\n",
       " 'IndyNXT Round 08',\n",
       " 'IndyNXT Round 09',\n",
       " 'IndyNXT Round 010',\n",
       " 'IndyNXT Round 011',\n",
       " 'IndyNXT Round 012',\n",
       " 'IndyNXT Round 013',\n",
       " 'IndyNXT Round 014']"
      ]
     },
     "execution_count": 11,
     "metadata": {},
     "output_type": "execute_result"
    }
   ],
   "source": [
    "titles\n"
   ]
  },
  {
   "cell_type": "code",
   "execution_count": 12,
   "id": "1b33d235",
   "metadata": {},
   "outputs": [
    {
     "data": {
      "text/plain": [
       "['Grand Prix of St. Petersburg\\nStreets of St. Petersburg 45 Laps, 81 Miles',\n",
       " 'Grand Prix of Alabama\\nBarber Motorsports Park 35 Laps, 80.5 Miles',\n",
       " 'Indianapolis Grand Prix Race 1\\nIndianapolis Motor Speedway Road Course 35 Laps, 85.37 Miles',\n",
       " 'Indianapolis Grand Prix Race 2\\nIndianapolis Motor Speedway Road Course 35 Laps, 85.37 Miles',\n",
       " 'Detroit Grand Prix\\nStreets of Detroit 45 Laps, 74.03 Miles',\n",
       " 'Grand Prix at Road America\\nRoad America 20 Laps, 80.28 Miles',\n",
       " 'Grand Prix of Monterey Race 1\\nWeatherTech Raceway Laguna Seca 35 Laps, 78.33 Miles',\n",
       " 'Grand Prix of Monterey Race 2\\nWeatherTech Raceway Laguna Seca 35 Laps, 78.33 Miles',\n",
       " 'Grand Prix at Mid-Ohio\\nMid-Ohio Sports Car Course 35 Laps, 79.03 Miles',\n",
       " 'Iowa 100\\nIowa Speedway 75 Laps, 67.05 Miles',\n",
       " 'OUTFRONT Showdown\\nWorld Wide Technology Raceway 75 Laps, 93.75 Miles',\n",
       " 'Grand Prix of Portland\\nPortland International Raceway 35 Laps, 68.74 Miles',\n",
       " 'Milwaukee 100\\nMilwaukee Mile Laps, ',\n",
       " 'Music City Grand Prix\\nNashville Superspeedway Laps, ']"
      ]
     },
     "execution_count": 12,
     "metadata": {},
     "output_type": "execute_result"
    }
   ],
   "source": [
    "descs \n"
   ]
  },
  {
   "cell_type": "code",
   "execution_count": 13,
   "id": "ed641bf6",
   "metadata": {},
   "outputs": [
    {
     "data": {
      "text/plain": [
       "['St Petersburg Street Circuit\\nSt. Petersburg, FL.',\n",
       " 'Barber Motorsports Park\\nBirmingham, AL',\n",
       " 'Indianapolis Motor Speedway Road Course\\nIndianapolis, IN.',\n",
       " 'Indianapolis Motor Speedway Road Course\\nIndianapolis, IN.',\n",
       " 'Downtown Detroit Street Circuit\\nDetroit, MI',\n",
       " 'Road America\\nElkhart Lake, WI.',\n",
       " 'Laguna Seca Raceway\\nMonterey, CA',\n",
       " 'Laguna Seca Raceway\\nMonterey, CA',\n",
       " 'Mid-Ohio Sports Car Course\\nLexington, OH',\n",
       " 'Iowa Speedway\\nNewton, IA',\n",
       " 'Gateway Motorsports Park\\nMadison, IL.',\n",
       " 'Portland International Raceway\\nPortland, OR.',\n",
       " 'Milwaukee Mile\\nWest Allis, WI',\n",
       " 'Nashville Superspeedway\\nLebanon, TN']"
      ]
     },
     "execution_count": 13,
     "metadata": {},
     "output_type": "execute_result"
    }
   ],
   "source": [
    "circuits \n"
   ]
  },
  {
   "cell_type": "code",
   "execution_count": 14,
   "id": "c42c85d5",
   "metadata": {},
   "outputs": [
    {
     "data": {
      "text/plain": [
       "[]"
      ]
     },
     "execution_count": 14,
     "metadata": {},
     "output_type": "execute_result"
    }
   ],
   "source": [
    "time \n"
   ]
  },
  {
   "cell_type": "code",
   "execution_count": 15,
   "id": "09925b10",
   "metadata": {},
   "outputs": [
    {
     "data": {
      "text/plain": [
       "[13, 14, 11, 13, 10, 13, 15, 15, 11, 14, 15, 13, 15, 12]"
      ]
     },
     "execution_count": 15,
     "metadata": {},
     "output_type": "execute_result"
    }
   ],
   "source": [
    "start_hours \n"
   ]
  },
  {
   "cell_type": "code",
   "execution_count": 16,
   "id": "0a00ee43",
   "metadata": {},
   "outputs": [
    {
     "data": {
      "text/plain": [
       "[35, 30, 5, 0, 20, 5, 25, 55, 15, 5, 55, 10, 50, 50]"
      ]
     },
     "execution_count": 16,
     "metadata": {},
     "output_type": "execute_result"
    }
   ],
   "source": [
    "start_minutes \n"
   ]
  },
  {
   "cell_type": "code",
   "execution_count": 17,
   "id": "bcdcd322",
   "metadata": {},
   "outputs": [
    {
     "data": {
      "text/plain": [
       "[14, 15, 11, 14, 23, 14, 16, 17, 12, 15, 17, 14, 17, 14]"
      ]
     },
     "execution_count": 17,
     "metadata": {},
     "output_type": "execute_result"
    }
   ],
   "source": [
    "end_hours\n"
   ]
  },
  {
   "cell_type": "code",
   "execution_count": 18,
   "id": "5dd89182",
   "metadata": {},
   "outputs": [
    {
     "data": {
      "text/plain": [
       "[20, 15, 55, 15, 35, 20, 40, 10, 30, 20, 10, 25, 5, 5]"
      ]
     },
     "execution_count": 18,
     "metadata": {},
     "output_type": "execute_result"
    }
   ],
   "source": [
    "end_minutes"
   ]
  },
  {
   "cell_type": "code",
   "execution_count": null,
   "id": "b96df5e2",
   "metadata": {},
   "outputs": [],
   "source": []
  },
  {
   "cell_type": "code",
   "execution_count": null,
   "id": "f76a9670",
   "metadata": {},
   "outputs": [],
   "source": []
  },
  {
   "cell_type": "code",
   "execution_count": 19,
   "id": "6b8dc3dd",
   "metadata": {},
   "outputs": [],
   "source": [
    "import pytz\n",
    "import icalendar\n",
    "from datetime import datetime\n",
    "from pathlib import Path\n",
    "import os\n",
    "from icalendar import Calendar, Event,  vText, vCalAddress"
   ]
  },
  {
   "cell_type": "code",
   "execution_count": 20,
   "id": "f5465cb9",
   "metadata": {},
   "outputs": [],
   "source": [
    "IndyNXT = Calendar()\n",
    "IndyNXT.add('prodid', '-//My calendar product//example.com//')\n",
    "IndyNXT.add('version', '2.0')\n",
    "uid = 110"
   ]
  },
  {
   "cell_type": "code",
   "execution_count": 21,
   "id": "1529f6fc",
   "metadata": {},
   "outputs": [],
   "source": [
    " \n",
    "for title, circuit, day, month, desc, s_h, s_m, e_h, e_m in zip(titles, circuits, days, months, descs, start_hours, start_minutes, end_hours, end_minutes):\n",
    "    ievent = Event()\n",
    "    ievent.add('summary', title) #Title of the event\n",
    "    ievent.add('description', desc)     #Description of event\n",
    "    #     ievent.add('description', f\"{event}\\n{length}\")\n",
    "\n",
    "    ievent.add('dtstart', datetime(year, month, day, s_h, s_m, 0, tzinfo=pytz.timezone('est')))\n",
    "    ievent.add('dtend', datetime(year, month, day, e_h, e_m, 0, tzinfo=pytz.timezone('est')))\n",
    "    ievent.add('dtstamp', datetime(2024, 1, 16, 0, 10, 0, tzinfo=pytz.timezone('est')))\n",
    "    ievent.add('location', circuit)\n",
    "    ievent.add('uid', uid)\n",
    "    uid += 1\n",
    "    IndyNXT.add_component(ievent)"
   ]
  },
  {
   "cell_type": "code",
   "execution_count": null,
   "id": "81d30274",
   "metadata": {},
   "outputs": [],
   "source": []
  },
  {
   "cell_type": "code",
   "execution_count": 22,
   "id": "168d1bd2",
   "metadata": {},
   "outputs": [
    {
     "data": {
      "text/plain": [
       "VCALENDAR({'PRODID': vText('b'-//My calendar product//example.com//''), 'VERSION': vText('b'2.0'')}, VEVENT({'SUMMARY': vText('b'IndyNXT Round 01''), 'DESCRIPTION': vText('b'Grand Prix of St. Petersburg\\\\nStreets of St. Petersburg 45 Laps\\\\, 81 Miles''), 'DTSTART': <icalendar.prop.vDDDTypes object at 0x000002A0112C3EE0>, 'DTEND': <icalendar.prop.vDDDTypes object at 0x000002A0112C39D0>, 'DTSTAMP': <icalendar.prop.vDDDTypes object at 0x000002A0112C3430>, 'LOCATION': vText('b'St Petersburg Street Circuit\\\\nSt. Petersburg\\\\, FL.''), 'UID': vText('b'110'')}), VEVENT({'SUMMARY': vText('b'IndyNXT Round 02''), 'DESCRIPTION': vText('b'Grand Prix of Alabama\\\\nBarber Motorsports Park 35 Laps\\\\, 80.5 Miles''), 'DTSTART': <icalendar.prop.vDDDTypes object at 0x000002A0112C31F0>, 'DTEND': <icalendar.prop.vDDDTypes object at 0x000002A0112C30A0>, 'DTSTAMP': <icalendar.prop.vDDDTypes object at 0x000002A0112C39A0>, 'LOCATION': vText('b'Barber Motorsports Park\\\\nBirmingham\\\\, AL''), 'UID': vText('b'111'')}), VEVENT({'SUMMARY': vText('b'IndyNXT Round 03''), 'DESCRIPTION': vText('b'Indianapolis Grand Prix Race 1\\\\nIndianapolis Motor Speedway Road Course 35 Laps\\\\, 85.37 Miles''), 'DTSTART': <icalendar.prop.vDDDTypes object at 0x000002A0112C3760>, 'DTEND': <icalendar.prop.vDDDTypes object at 0x000002A0112C3460>, 'DTSTAMP': <icalendar.prop.vDDDTypes object at 0x000002A0112C3940>, 'LOCATION': vText('b'Indianapolis Motor Speedway Road Course\\\\nIndianapolis\\\\, IN.''), 'UID': vText('b'112'')}), VEVENT({'SUMMARY': vText('b'IndyNXT Round 04''), 'DESCRIPTION': vText('b'Indianapolis Grand Prix Race 2\\\\nIndianapolis Motor Speedway Road Course 35 Laps\\\\, 85.37 Miles''), 'DTSTART': <icalendar.prop.vDDDTypes object at 0x000002A0112C2A60>, 'DTEND': <icalendar.prop.vDDDTypes object at 0x000002A0112C2820>, 'DTSTAMP': <icalendar.prop.vDDDTypes object at 0x000002A0112C2790>, 'LOCATION': vText('b'Indianapolis Motor Speedway Road Course\\\\nIndianapolis\\\\, IN.''), 'UID': vText('b'113'')}), VEVENT({'SUMMARY': vText('b'IndyNXT Round 05''), 'DESCRIPTION': vText('b'Detroit Grand Prix\\\\nStreets of Detroit 45 Laps\\\\, 74.03 Miles''), 'DTSTART': <icalendar.prop.vDDDTypes object at 0x000002A0112C2340>, 'DTEND': <icalendar.prop.vDDDTypes object at 0x000002A0112C2640>, 'DTSTAMP': <icalendar.prop.vDDDTypes object at 0x000002A0112C28B0>, 'LOCATION': vText('b'Downtown Detroit Street Circuit\\\\nDetroit\\\\, MI''), 'UID': vText('b'114'')}), VEVENT({'SUMMARY': vText('b'IndyNXT Round 06''), 'DESCRIPTION': vText('b'Grand Prix at Road America\\\\nRoad America 20 Laps\\\\, 80.28 Miles''), 'DTSTART': <icalendar.prop.vDDDTypes object at 0x000002A0118960A0>, 'DTEND': <icalendar.prop.vDDDTypes object at 0x000002A0118BB040>, 'DTSTAMP': <icalendar.prop.vDDDTypes object at 0x000002A0118BB0D0>, 'LOCATION': vText('b'Road America\\\\nElkhart Lake\\\\, WI.''), 'UID': vText('b'115'')}), VEVENT({'SUMMARY': vText('b'IndyNXT Round 07''), 'DESCRIPTION': vText('b'Grand Prix of Monterey Race 1\\\\nWeatherTech Raceway Laguna Seca 35 Laps\\\\, 78.33 Miles''), 'DTSTART': <icalendar.prop.vDDDTypes object at 0x000002A0118BB250>, 'DTEND': <icalendar.prop.vDDDTypes object at 0x000002A0118BB2E0>, 'DTSTAMP': <icalendar.prop.vDDDTypes object at 0x000002A0118BB370>, 'LOCATION': vText('b'Laguna Seca Raceway\\\\nMonterey\\\\, CA''), 'UID': vText('b'116'')}), VEVENT({'SUMMARY': vText('b'IndyNXT Round 08''), 'DESCRIPTION': vText('b'Grand Prix of Monterey Race 2\\\\nWeatherTech Raceway Laguna Seca 35 Laps\\\\, 78.33 Miles''), 'DTSTART': <icalendar.prop.vDDDTypes object at 0x000002A01138A7F0>, 'DTEND': <icalendar.prop.vDDDTypes object at 0x000002A01138A760>, 'DTSTAMP': <icalendar.prop.vDDDTypes object at 0x000002A01138A6A0>, 'LOCATION': vText('b'Laguna Seca Raceway\\\\nMonterey\\\\, CA''), 'UID': vText('b'117'')}), VEVENT({'SUMMARY': vText('b'IndyNXT Round 09''), 'DESCRIPTION': vText('b'Grand Prix at Mid-Ohio\\\\nMid-Ohio Sports Car Course 35 Laps\\\\, 79.03 Miles''), 'DTSTART': <icalendar.prop.vDDDTypes object at 0x000002A01138AE50>, 'DTEND': <icalendar.prop.vDDDTypes object at 0x000002A01138ADC0>, 'DTSTAMP': <icalendar.prop.vDDDTypes object at 0x000002A01138AD30>, 'LOCATION': vText('b'Mid-Ohio Sports Car Course\\\\nLexington\\\\, OH''), 'UID': vText('b'118'')}), VEVENT({'SUMMARY': vText('b'IndyNXT Round 010''), 'DESCRIPTION': vText('b'Iowa 100\\\\nIowa Speedway 75 Laps\\\\, 67.05 Miles''), 'DTSTART': <icalendar.prop.vDDDTypes object at 0x000002A01138AA90>, 'DTEND': <icalendar.prop.vDDDTypes object at 0x000002A01138A850>, 'DTSTAMP': <icalendar.prop.vDDDTypes object at 0x000002A01138AC70>, 'LOCATION': vText('b'Iowa Speedway\\\\nNewton\\\\, IA''), 'UID': vText('b'119'')}), VEVENT({'SUMMARY': vText('b'IndyNXT Round 011''), 'DESCRIPTION': vText('b'OUTFRONT Showdown\\\\nWorld Wide Technology Raceway 75 Laps\\\\, 93.75 Miles''), 'DTSTART': <icalendar.prop.vDDDTypes object at 0x000002A0112CF790>, 'DTEND': <icalendar.prop.vDDDTypes object at 0x000002A0112CF1F0>, 'DTSTAMP': <icalendar.prop.vDDDTypes object at 0x000002A0112CF910>, 'LOCATION': vText('b'Gateway Motorsports Park\\\\nMadison\\\\, IL.''), 'UID': vText('b'120'')}), VEVENT({'SUMMARY': vText('b'IndyNXT Round 012''), 'DESCRIPTION': vText('b'Grand Prix of Portland\\\\nPortland International Raceway 35 Laps\\\\, 68.74 Miles''), 'DTSTART': <icalendar.prop.vDDDTypes object at 0x000002A0112CFB20>, 'DTEND': <icalendar.prop.vDDDTypes object at 0x000002A0112CF190>, 'DTSTAMP': <icalendar.prop.vDDDTypes object at 0x000002A0112CF700>, 'LOCATION': vText('b'Portland International Raceway\\\\nPortland\\\\, OR.''), 'UID': vText('b'121'')}), VEVENT({'SUMMARY': vText('b'IndyNXT Round 013''), 'DESCRIPTION': vText('b'Milwaukee 100\\\\nMilwaukee Mile Laps\\\\, ''), 'DTSTART': <icalendar.prop.vDDDTypes object at 0x000002A0112CF5E0>, 'DTEND': <icalendar.prop.vDDDTypes object at 0x000002A0112CFFD0>, 'DTSTAMP': <icalendar.prop.vDDDTypes object at 0x000002A0118A30A0>, 'LOCATION': vText('b'Milwaukee Mile\\\\nWest Allis\\\\, WI''), 'UID': vText('b'122'')}), VEVENT({'SUMMARY': vText('b'IndyNXT Round 014''), 'DESCRIPTION': vText('b'Music City Grand Prix\\\\nNashville Superspeedway Laps\\\\, ''), 'DTSTART': <icalendar.prop.vDDDTypes object at 0x000002A0118A3220>, 'DTEND': <icalendar.prop.vDDDTypes object at 0x000002A0118A32B0>, 'DTSTAMP': <icalendar.prop.vDDDTypes object at 0x000002A0118A3340>, 'LOCATION': vText('b'Nashville Superspeedway\\\\nLebanon\\\\, TN''), 'UID': vText('b'123'')}))"
      ]
     },
     "execution_count": 22,
     "metadata": {},
     "output_type": "execute_result"
    }
   ],
   "source": [
    "IndyNXT"
   ]
  },
  {
   "cell_type": "code",
   "execution_count": 23,
   "id": "0146ef04",
   "metadata": {},
   "outputs": [
    {
     "name": "stdout",
     "output_type": "stream",
     "text": [
      "ics file will be generated at  C:\\Users\\chris\\Documents\\Calendars/\n"
     ]
    }
   ],
   "source": [
    "directory = str(Path(r'C:\\Users\\chris\\Documents\\Calendars')) + \"/\"\n",
    "print(\"ics file will be generated at \", directory)\n",
    "f = open(os.path.join(directory, 'IndyNXT.ics'), 'wb')\n",
    "f.write(IndyNXT.to_ical())\n",
    "f.close()"
   ]
  }
 ],
 "metadata": {
  "kernelspec": {
   "display_name": "Python 3 (ipykernel)",
   "language": "python",
   "name": "python3"
  },
  "language_info": {
   "codemirror_mode": {
    "name": "ipython",
    "version": 3
   },
   "file_extension": ".py",
   "mimetype": "text/x-python",
   "name": "python",
   "nbconvert_exporter": "python",
   "pygments_lexer": "ipython3",
   "version": "3.9.7"
  }
 },
 "nbformat": 4,
 "nbformat_minor": 5
}
