{
 "cells": [
  {
   "cell_type": "code",
   "execution_count": 1,
   "id": "6a92a9c8",
   "metadata": {},
   "outputs": [],
   "source": [
    "import icalendar\n",
    "import recurring_ical_events\n",
    "from datetime import datetime\n",
    "from pathlib import Path\n",
    "import os\n",
    "from pytz import timezone\n",
    "\n",
    "import pytz\n",
    "\n",
    "from icalendar import Calendar, Event, vText, vCalAddress\n",
    "\n",
    "#ICALENDAR DOCS\n",
    "# https://icalendar.org/iCalendar-RFC-5545/3-6-1-event-component.html\n",
    "#     https://icalendar.readthedocs.io/en/latest/usage.html#\n",
    "#         https://github.com/collective/icalendar"
   ]
  },
  {
   "cell_type": "code",
   "execution_count": 2,
   "id": "6fb168d5",
   "metadata": {},
   "outputs": [],
   "source": [
    "this = 'Circuit de La Sarthe' '\\n' 'Le Mans, Pays de la Loire, France'"
   ]
  },
  {
   "cell_type": "code",
   "execution_count": 3,
   "id": "6198e166",
   "metadata": {},
   "outputs": [
    {
     "name": "stdout",
     "output_type": "stream",
     "text": [
      "Circuit de La Sarthe\n",
      "Le Mans, Pays de la Loire, France\n"
     ]
    }
   ],
   "source": [
    "print(this)"
   ]
  },
  {
   "cell_type": "code",
   "execution_count": 2,
   "id": "6ac5a405",
   "metadata": {},
   "outputs": [],
   "source": [
    "WEC = Calendar()"
   ]
  },
  {
   "cell_type": "code",
   "execution_count": 3,
   "id": "3e2c637e",
   "metadata": {},
   "outputs": [],
   "source": [
    "# Some properties are required to be compliant\n",
    "WEC.add('prodid', '-//My calendar product//example.com//')\n",
    "WEC.add('version', '2.0')\n",
    "\n",
    "# # class Timezone(Component):\n",
    "#     name = 'VTIMEZONE'\n",
    "#     canonical_order = ('TZID', 'US/Eastern')\n",
    "#     required = ('TZID', 'US/Eastern') # it also requires one of components DAYLIGHT and STANDARD\n",
    "#     singletons = ('US/Eastern')\n"
   ]
  },
  {
   "cell_type": "code",
   "execution_count": 4,
   "id": "e1d89da9",
   "metadata": {},
   "outputs": [
    {
     "data": {
      "text/plain": [
       "['Africa/Abidjan', 'Africa/Accra', 'Africa/Addis_Ababa', 'Africa/Algiers', 'Africa/Asmara', 'Africa/Bamako', 'Africa/Bangui', 'Africa/Banjul', 'Africa/Bissau', 'Africa/Blantyre', 'Africa/Brazzaville', 'Africa/Bujumbura', 'Africa/Cairo', 'Africa/Casablanca', 'Africa/Ceuta', 'Africa/Conakry', 'Africa/Dakar', 'Africa/Dar_es_Salaam', 'Africa/Djibouti', 'Africa/Douala', 'Africa/El_Aaiun', 'Africa/Freetown', 'Africa/Gaborone', 'Africa/Harare', 'Africa/Johannesburg', 'Africa/Juba', 'Africa/Kampala', 'Africa/Khartoum', 'Africa/Kigali', 'Africa/Kinshasa', 'Africa/Lagos', 'Africa/Libreville', 'Africa/Lome', 'Africa/Luanda', 'Africa/Lubumbashi', 'Africa/Lusaka', 'Africa/Malabo', 'Africa/Maputo', 'Africa/Maseru', 'Africa/Mbabane', 'Africa/Mogadishu', 'Africa/Monrovia', 'Africa/Nairobi', 'Africa/Ndjamena', 'Africa/Niamey', 'Africa/Nouakchott', 'Africa/Ouagadougou', 'Africa/Porto-Novo', 'Africa/Sao_Tome', 'Africa/Tripoli', 'Africa/Tunis', 'Africa/Windhoek', 'America/Adak', 'America/Anchorage', 'America/Anguilla', 'America/Antigua', 'America/Araguaina', 'America/Argentina/Buenos_Aires', 'America/Argentina/Catamarca', 'America/Argentina/Cordoba', 'America/Argentina/Jujuy', 'America/Argentina/La_Rioja', 'America/Argentina/Mendoza', 'America/Argentina/Rio_Gallegos', 'America/Argentina/Salta', 'America/Argentina/San_Juan', 'America/Argentina/San_Luis', 'America/Argentina/Tucuman', 'America/Argentina/Ushuaia', 'America/Aruba', 'America/Asuncion', 'America/Atikokan', 'America/Bahia', 'America/Bahia_Banderas', 'America/Barbados', 'America/Belem', 'America/Belize', 'America/Blanc-Sablon', 'America/Boa_Vista', 'America/Bogota', 'America/Boise', 'America/Cambridge_Bay', 'America/Campo_Grande', 'America/Cancun', 'America/Caracas', 'America/Cayenne', 'America/Cayman', 'America/Chicago', 'America/Chihuahua', 'America/Ciudad_Juarez', 'America/Costa_Rica', 'America/Creston', 'America/Cuiaba', 'America/Curacao', 'America/Danmarkshavn', 'America/Dawson', 'America/Dawson_Creek', 'America/Denver', 'America/Detroit', 'America/Dominica', 'America/Edmonton', 'America/Eirunepe', 'America/El_Salvador', 'America/Fort_Nelson', 'America/Fortaleza', 'America/Glace_Bay', 'America/Goose_Bay', 'America/Grand_Turk', 'America/Grenada', 'America/Guadeloupe', 'America/Guatemala', 'America/Guayaquil', 'America/Guyana', 'America/Halifax', 'America/Havana', 'America/Hermosillo', 'America/Indiana/Indianapolis', 'America/Indiana/Knox', 'America/Indiana/Marengo', 'America/Indiana/Petersburg', 'America/Indiana/Tell_City', 'America/Indiana/Vevay', 'America/Indiana/Vincennes', 'America/Indiana/Winamac', 'America/Inuvik', 'America/Iqaluit', 'America/Jamaica', 'America/Juneau', 'America/Kentucky/Louisville', 'America/Kentucky/Monticello', 'America/Kralendijk', 'America/La_Paz', 'America/Lima', 'America/Los_Angeles', 'America/Lower_Princes', 'America/Maceio', 'America/Managua', 'America/Manaus', 'America/Marigot', 'America/Martinique', 'America/Matamoros', 'America/Mazatlan', 'America/Menominee', 'America/Merida', 'America/Metlakatla', 'America/Mexico_City', 'America/Miquelon', 'America/Moncton', 'America/Monterrey', 'America/Montevideo', 'America/Montserrat', 'America/Nassau', 'America/New_York', 'America/Nome', 'America/Noronha', 'America/North_Dakota/Beulah', 'America/North_Dakota/Center', 'America/North_Dakota/New_Salem', 'America/Nuuk', 'America/Ojinaga', 'America/Panama', 'America/Paramaribo', 'America/Phoenix', 'America/Port-au-Prince', 'America/Port_of_Spain', 'America/Porto_Velho', 'America/Puerto_Rico', 'America/Punta_Arenas', 'America/Rankin_Inlet', 'America/Recife', 'America/Regina', 'America/Resolute', 'America/Rio_Branco', 'America/Santarem', 'America/Santiago', 'America/Santo_Domingo', 'America/Sao_Paulo', 'America/Scoresbysund', 'America/Sitka', 'America/St_Barthelemy', 'America/St_Johns', 'America/St_Kitts', 'America/St_Lucia', 'America/St_Thomas', 'America/St_Vincent', 'America/Swift_Current', 'America/Tegucigalpa', 'America/Thule', 'America/Tijuana', 'America/Toronto', 'America/Tortola', 'America/Vancouver', 'America/Whitehorse', 'America/Winnipeg', 'America/Yakutat', 'America/Yellowknife', 'Antarctica/Casey', 'Antarctica/Davis', 'Antarctica/DumontDUrville', 'Antarctica/Macquarie', 'Antarctica/Mawson', 'Antarctica/McMurdo', 'Antarctica/Palmer', 'Antarctica/Rothera', 'Antarctica/Syowa', 'Antarctica/Troll', 'Antarctica/Vostok', 'Arctic/Longyearbyen', 'Asia/Aden', 'Asia/Almaty', 'Asia/Amman', 'Asia/Anadyr', 'Asia/Aqtau', 'Asia/Aqtobe', 'Asia/Ashgabat', 'Asia/Atyrau', 'Asia/Baghdad', 'Asia/Bahrain', 'Asia/Baku', 'Asia/Bangkok', 'Asia/Barnaul', 'Asia/Beirut', 'Asia/Bishkek', 'Asia/Brunei', 'Asia/Chita', 'Asia/Choibalsan', 'Asia/Colombo', 'Asia/Damascus', 'Asia/Dhaka', 'Asia/Dili', 'Asia/Dubai', 'Asia/Dushanbe', 'Asia/Famagusta', 'Asia/Gaza', 'Asia/Hebron', 'Asia/Ho_Chi_Minh', 'Asia/Hong_Kong', 'Asia/Hovd', 'Asia/Irkutsk', 'Asia/Jakarta', 'Asia/Jayapura', 'Asia/Jerusalem', 'Asia/Kabul', 'Asia/Kamchatka', 'Asia/Karachi', 'Asia/Kathmandu', 'Asia/Khandyga', 'Asia/Kolkata', 'Asia/Krasnoyarsk', 'Asia/Kuala_Lumpur', 'Asia/Kuching', 'Asia/Kuwait', 'Asia/Macau', 'Asia/Magadan', 'Asia/Makassar', 'Asia/Manila', 'Asia/Muscat', 'Asia/Nicosia', 'Asia/Novokuznetsk', 'Asia/Novosibirsk', 'Asia/Omsk', 'Asia/Oral', 'Asia/Phnom_Penh', 'Asia/Pontianak', 'Asia/Pyongyang', 'Asia/Qatar', 'Asia/Qostanay', 'Asia/Qyzylorda', 'Asia/Riyadh', 'Asia/Sakhalin', 'Asia/Samarkand', 'Asia/Seoul', 'Asia/Shanghai', 'Asia/Singapore', 'Asia/Srednekolymsk', 'Asia/Taipei', 'Asia/Tashkent', 'Asia/Tbilisi', 'Asia/Tehran', 'Asia/Thimphu', 'Asia/Tokyo', 'Asia/Tomsk', 'Asia/Ulaanbaatar', 'Asia/Urumqi', 'Asia/Ust-Nera', 'Asia/Vientiane', 'Asia/Vladivostok', 'Asia/Yakutsk', 'Asia/Yangon', 'Asia/Yekaterinburg', 'Asia/Yerevan', 'Atlantic/Azores', 'Atlantic/Bermuda', 'Atlantic/Canary', 'Atlantic/Cape_Verde', 'Atlantic/Faroe', 'Atlantic/Madeira', 'Atlantic/Reykjavik', 'Atlantic/South_Georgia', 'Atlantic/St_Helena', 'Atlantic/Stanley', 'Australia/Adelaide', 'Australia/Brisbane', 'Australia/Broken_Hill', 'Australia/Darwin', 'Australia/Eucla', 'Australia/Hobart', 'Australia/Lindeman', 'Australia/Lord_Howe', 'Australia/Melbourne', 'Australia/Perth', 'Australia/Sydney', 'Canada/Atlantic', 'Canada/Central', 'Canada/Eastern', 'Canada/Mountain', 'Canada/Newfoundland', 'Canada/Pacific', 'Europe/Amsterdam', 'Europe/Andorra', 'Europe/Astrakhan', 'Europe/Athens', 'Europe/Belgrade', 'Europe/Berlin', 'Europe/Bratislava', 'Europe/Brussels', 'Europe/Bucharest', 'Europe/Budapest', 'Europe/Busingen', 'Europe/Chisinau', 'Europe/Copenhagen', 'Europe/Dublin', 'Europe/Gibraltar', 'Europe/Guernsey', 'Europe/Helsinki', 'Europe/Isle_of_Man', 'Europe/Istanbul', 'Europe/Jersey', 'Europe/Kaliningrad', 'Europe/Kirov', 'Europe/Kyiv', 'Europe/Lisbon', 'Europe/Ljubljana', 'Europe/London', 'Europe/Luxembourg', 'Europe/Madrid', 'Europe/Malta', 'Europe/Mariehamn', 'Europe/Minsk', 'Europe/Monaco', 'Europe/Moscow', 'Europe/Oslo', 'Europe/Paris', 'Europe/Podgorica', 'Europe/Prague', 'Europe/Riga', 'Europe/Rome', 'Europe/Samara', 'Europe/San_Marino', 'Europe/Sarajevo', 'Europe/Saratov', 'Europe/Simferopol', 'Europe/Skopje', 'Europe/Sofia', 'Europe/Stockholm', 'Europe/Tallinn', 'Europe/Tirane', 'Europe/Ulyanovsk', 'Europe/Vaduz', 'Europe/Vatican', 'Europe/Vienna', 'Europe/Vilnius', 'Europe/Volgograd', 'Europe/Warsaw', 'Europe/Zagreb', 'Europe/Zurich', 'GMT', 'Indian/Antananarivo', 'Indian/Chagos', 'Indian/Christmas', 'Indian/Cocos', 'Indian/Comoro', 'Indian/Kerguelen', 'Indian/Mahe', 'Indian/Maldives', 'Indian/Mauritius', 'Indian/Mayotte', 'Indian/Reunion', 'Pacific/Apia', 'Pacific/Auckland', 'Pacific/Bougainville', 'Pacific/Chatham', 'Pacific/Chuuk', 'Pacific/Easter', 'Pacific/Efate', 'Pacific/Fakaofo', 'Pacific/Fiji', 'Pacific/Funafuti', 'Pacific/Galapagos', 'Pacific/Gambier', 'Pacific/Guadalcanal', 'Pacific/Guam', 'Pacific/Honolulu', 'Pacific/Kanton', 'Pacific/Kiritimati', 'Pacific/Kosrae', 'Pacific/Kwajalein', 'Pacific/Majuro', 'Pacific/Marquesas', 'Pacific/Midway', 'Pacific/Nauru', 'Pacific/Niue', 'Pacific/Norfolk', 'Pacific/Noumea', 'Pacific/Pago_Pago', 'Pacific/Palau', 'Pacific/Pitcairn', 'Pacific/Pohnpei', 'Pacific/Port_Moresby', 'Pacific/Rarotonga', 'Pacific/Saipan', 'Pacific/Tahiti', 'Pacific/Tarawa', 'Pacific/Tongatapu', 'Pacific/Wake', 'Pacific/Wallis', 'US/Alaska', 'US/Arizona', 'US/Central', 'US/Eastern', 'US/Hawaii', 'US/Mountain', 'US/Pacific', 'UTC']"
      ]
     },
     "execution_count": 4,
     "metadata": {},
     "output_type": "execute_result"
    }
   ],
   "source": [
    "pytz.common_timezones"
   ]
  },
  {
   "cell_type": "code",
   "execution_count": 5,
   "id": "707783e5",
   "metadata": {},
   "outputs": [],
   "source": [
    "\n",
    "# cal = Calendar()\n",
    "# # cal.add('attendee', 'MAILTO:abc@example.com')\n",
    "# # cal.add('attendee', 'MAILTO:xyz@example.com')\n",
    "\n",
    "# event = Event()\n",
    "# event.add('summary', 'title of the event')\n",
    "# event.add('description', 'description of the event')\n",
    "# event.add('dtstart', datetime(2023, 3, 11, 8, 5, 0, pytz.timezone('utc')))\n",
    "# event.add('dtend', datetime(2023, 3, 12, 16, 5, 0, pytz.timezone('utc')))\n",
    "# event.add('dtstamp', datetime(2023, 3, 12, 0, 10, 0, pytz.timezone('utc')))\n",
    "# event['location'] = vText('Sebring International Raceway' '/n' 'Sebring, Fla')\n",
    "\n",
    "\n",
    "# # event['organizer'] = organizer\n",
    "\n",
    "\n",
    "# 'title of the event' = event\n",
    "# # Adding events to calendar\n",
    "# WEC.add_component('title of the event')\n",
    "\n",
    "\n",
    "\n",
    "\n",
    "\n",
    "\n",
    "\n",
    "\n"
   ]
  },
  {
   "cell_type": "code",
   "execution_count": 6,
   "id": "d5f97878",
   "metadata": {},
   "outputs": [],
   "source": [
    "\n",
    "\n",
    "event = Event()\n",
    "\n",
    "event.add('summary', 'WEC Prologue') #Title of the event\n",
    "event.add('description', 'Prologue Test Days')     #Description of event\n",
    "event.add('dtstart', datetime(2023, 3, 11, 8, 0, 0, tzinfo=pytz.timezone('utc')))\n",
    "event.add('dtend', datetime(2023, 3, 12, 10, 0, 0, tzinfo=pytz.timezone('utc')))\n",
    "event.add('dtstamp', datetime(2023, 3, 12, 0, 10, 0, tzinfo=pytz.timezone('utc')))\n",
    "event['location'] = vText('Sebring International Raceway' '\\n' 'Sebring, Fla')\n",
    "event.add('uid', 100)\n",
    "\n",
    "WEC_Prologue = event\n",
    "WEC.add_component(WEC_Prologue)"
   ]
  },
  {
   "cell_type": "code",
   "execution_count": 7,
   "id": "96605f72",
   "metadata": {},
   "outputs": [],
   "source": [
    "event = Event()\n",
    "\n",
    "event.add('summary', 'WEC Race R01')\n",
    "event.add('description', 'Sebring 1000mi')\n",
    "event.add('dtstart', datetime(2023, 3, 17, 16, 0, 0, tzinfo=pytz.timezone('utc')))\n",
    "event.add('dtend', datetime(2023, 3, 18, 0, 0, 0, tzinfo=pytz.timezone('utc')))\n",
    "event.add('dtstamp', datetime(2023, 3, 12, 0, 10, 0, tzinfo=pytz.timezone('utc')))\n",
    "event['location'] = vText('Sebring International Raceway' '\\n' 'Sebring, Fla')\n",
    "event.add('uid', 101)\n",
    "\n",
    "WEC_R01 = event\n",
    "WEC.add_component(WEC_R01)"
   ]
  },
  {
   "cell_type": "code",
   "execution_count": 8,
   "id": "34952018",
   "metadata": {},
   "outputs": [],
   "source": [
    "event = Event()\n",
    "\n",
    "event.add('summary', 'WEC Race R02')\n",
    "event.add('description', '6hrs of Portimao')\n",
    "event.add('dtstart', datetime(2023, 4, 16, 11, 0, 0, tzinfo=pytz.timezone('utc')))\n",
    "event.add('dtend', datetime(2023, 4, 16, 16, 0, 0, tzinfo=pytz.timezone('utc')))\n",
    "event.add('dtstamp', datetime(2023, 3, 12, 0, 10, 0, tzinfo=pytz.timezone('utc')))\n",
    "event['location'] = vText('Autódromo Internacional do Algarve' '\\n' 'Portimão, Algarve, Portugal')\n",
    "event.add('uid', 102)\n",
    "\n",
    "WEC_R02 = event\n",
    "WEC.add_component(WEC_R02)"
   ]
  },
  {
   "cell_type": "code",
   "execution_count": 9,
   "id": "a612ee3a",
   "metadata": {},
   "outputs": [],
   "source": [
    "event = Event()\n",
    "\n",
    "event.add('summary', 'WEC Race R03')\n",
    "event.add('description', '6hrs of Spa-Francorchamps')\n",
    "event.add('dtstart', datetime(2023, 4, 29, 10, 45, 0, tzinfo=pytz.timezone('utc')))\n",
    "event.add('dtend', datetime(2023, 4, 29, 16, 45, 0, tzinfo=pytz.timezone('utc')))\n",
    "event.add('dtstamp', datetime(2023, 3, 12, 0, 10, 0, tzinfo=pytz.timezone('utc')))\n",
    "event['location'] = vText('Circuit de Spa-Francorchamps' '\\n' 'Stavelot, Belgium')\n",
    "event.add('uid', 103)\n",
    "\n",
    "WEC_R03 = event\n",
    "WEC.add_component(WEC_R03)"
   ]
  },
  {
   "cell_type": "code",
   "execution_count": 10,
   "id": "ca91be2e",
   "metadata": {},
   "outputs": [],
   "source": [
    "event = Event()\n",
    "\n",
    "event.add('summary', 'WEC Race R04')\n",
    "event.add('description', '24 Heures Du Mans' '\\n' '100th Running')\n",
    "event.add('dtstart', datetime(2023, 6, 10, 14, 00, 0, tzinfo=pytz.timezone('utc')))\n",
    "event.add('dtend', datetime(2023, 6, 11, 14, 00, 0, tzinfo=pytz.timezone('utc')))\n",
    "event.add('dtstamp', datetime(2023, 3, 12, 0, 10, 0, tzinfo=pytz.timezone('utc')))\n",
    "event['location'] = vText('Circuit de La Sarthe' '\\n' 'Le Mans, Pays de la Loire, France')\n",
    "event.add('uid', 104)\n",
    "\n",
    "WEC_R04 = event\n",
    "WEC.add_component(WEC_R04)"
   ]
  },
  {
   "cell_type": "code",
   "execution_count": 11,
   "id": "d40cf2cd",
   "metadata": {},
   "outputs": [],
   "source": [
    "event = Event()\n",
    "\n",
    "event.add('summary', 'WEC Race R05')\n",
    "event.add('description', '6hrs of Monza')\n",
    "event.add('dtstart', datetime(2023, 7, 9, 10, 30, 0, tzinfo=pytz.timezone('utc')))\n",
    "event.add('dtend', datetime(2023, 7, 9, 16, 30, 0, tzinfo=pytz.timezone('utc')))\n",
    "event.add('dtstamp', datetime(2023, 3, 12, 0, 10, 0, tzinfo=pytz.timezone('utc')))\n",
    "event['location'] = vText('Autodromo Nazionale di Monza' '\\n' 'Monza, Italy')\n",
    "event.add('uid', 105)\n",
    "\n",
    "WEC_R05 = event\n",
    "WEC.add_component(WEC_R05)"
   ]
  },
  {
   "cell_type": "code",
   "execution_count": 12,
   "id": "84300600",
   "metadata": {},
   "outputs": [],
   "source": [
    "event = Event()\n",
    "event.add('summary', 'WEC Race R06')\n",
    "event.add('description', '6hrs of Fuji')\n",
    "event.add('dtstart', datetime(2023, 9, 10, 2, 00, 0, tzinfo=pytz.timezone('utc')))\n",
    "event.add('dtend', datetime(2023, 9, 10, 8, 00, 0, tzinfo=pytz.timezone('utc')))\n",
    "event.add('dtstamp', datetime(2023, 3, 12, 0, 10, 0, tzinfo=pytz.timezone('utc')))\n",
    "event['location'] = vText('Fuji Speedway' '\\n' 'Oyama, Suntō District, Shizuoka Prefecture, Japan')\n",
    "event.add('uid', 106)\n",
    "WEC_R06 = event\n",
    "WEC.add_component(WEC_R06)"
   ]
  },
  {
   "cell_type": "code",
   "execution_count": 13,
   "id": "d21acab8",
   "metadata": {},
   "outputs": [],
   "source": [
    "event = Event()\n",
    "event.add('summary', 'WEC Race R07')\n",
    "event.add('description', '8hrs of Bahrain')\n",
    "event.add('dtstart', datetime(2023, 11, 4, 11, 00, 0, tzinfo=pytz.timezone('utc')))\n",
    "event.add('dtend', datetime(2023, 11, 4, 18, 00, 0, tzinfo=pytz.timezone('utc')))\n",
    "event.add('dtstamp', datetime(2023, 3, 12, 0, 10, 0, tzinfo=pytz.timezone('utc')))\n",
    "event['location'] = vText('Bahrain International Circuit' '\\n' 'Sakhir, Bahrain')\n",
    "event.add('uid', 107)\n",
    "WEC_R07 = event\n",
    "WEC.add_component(WEC_R07)"
   ]
  },
  {
   "cell_type": "code",
   "execution_count": 14,
   "id": "a7732706",
   "metadata": {},
   "outputs": [
    {
     "data": {
      "text/plain": [
       "VCALENDAR({'PRODID': vText('b'-//My calendar product//example.com//''), 'VERSION': vText('b'2.0'')}, VEVENT({'SUMMARY': vText('b'WEC Prologue''), 'DESCRIPTION': vText('b'Prologue Test Days''), 'DTSTART': <icalendar.prop.vDDDTypes object at 0x00000169D839B670>, 'DTEND': <icalendar.prop.vDDDTypes object at 0x00000169D839B5E0>, 'DTSTAMP': <icalendar.prop.vDDDTypes object at 0x00000169D839B550>, 'LOCATION': vText('b'Sebring International Raceway\\\\nSebring\\\\, Fla''), 'UID': vText('b'100'')}), VEVENT({'SUMMARY': vText('b'WEC Race R01''), 'DESCRIPTION': vText('b'Sebring 1000mi''), 'DTSTART': <icalendar.prop.vDDDTypes object at 0x00000169D7F2BDF0>, 'DTEND': <icalendar.prop.vDDDTypes object at 0x00000169D7F2BD60>, 'DTSTAMP': <icalendar.prop.vDDDTypes object at 0x00000169D7F2B2E0>, 'LOCATION': vText('b'Sebring International Raceway\\\\nSebring\\\\, Fla''), 'UID': vText('b'101'')}), VEVENT({'SUMMARY': vText('b'WEC Race R02''), 'DESCRIPTION': vText('b'6hrs of Portimao''), 'DTSTART': <icalendar.prop.vDDDTypes object at 0x00000169D83A4A00>, 'DTEND': <icalendar.prop.vDDDTypes object at 0x00000169D83A4940>, 'DTSTAMP': <icalendar.prop.vDDDTypes object at 0x00000169D83A48B0>, 'LOCATION': vText('b'Aut\\xc3\\xb3dromo Internacional do Algarve\\\\nPortim\\xc3\\xa3o\\\\, Algarve\\\\, Portugal''), 'UID': vText('b'102'')}), VEVENT({'SUMMARY': vText('b'WEC Race R03''), 'DESCRIPTION': vText('b'6hrs of Spa-Francorchamps''), 'DTSTART': <icalendar.prop.vDDDTypes object at 0x00000169D8388C40>, 'DTEND': <icalendar.prop.vDDDTypes object at 0x00000169D8388A90>, 'DTSTAMP': <icalendar.prop.vDDDTypes object at 0x00000169D8388700>, 'LOCATION': vText('b'Circuit de Spa-Francorchamps\\\\nStavelot\\\\, Belgium''), 'UID': vText('b'103'')}), VEVENT({'SUMMARY': vText('b'WEC Race R04''), 'DESCRIPTION': vText('b'24 Heures Du Mans\\\\n100th Running''), 'DTSTART': <icalendar.prop.vDDDTypes object at 0x00000169D839B3A0>, 'DTEND': <icalendar.prop.vDDDTypes object at 0x00000169D83A4D30>, 'DTSTAMP': <icalendar.prop.vDDDTypes object at 0x00000169D83A4F70>, 'LOCATION': vText('b'Circuit de La Sarthe\\\\nLe Mans\\\\, Pays de la Loire\\\\, France''), 'UID': vText('b'104'')}), VEVENT({'SUMMARY': vText('b'WEC Race R05''), 'DESCRIPTION': vText('b'6hrs of Monza''), 'DTSTART': <icalendar.prop.vDDDTypes object at 0x00000169D83AE040>, 'DTEND': <icalendar.prop.vDDDTypes object at 0x00000169D83AE0D0>, 'DTSTAMP': <icalendar.prop.vDDDTypes object at 0x00000169D83AE160>, 'LOCATION': vText('b'Autodromo Nazionale di Monza\\\\nMonza\\\\, Italy''), 'UID': vText('b'105'')}), VEVENT({'SUMMARY': vText('b'WEC Race R06''), 'DESCRIPTION': vText('b'6hrs of Fuji''), 'DTSTART': <icalendar.prop.vDDDTypes object at 0x00000169D83A4550>, 'DTEND': <icalendar.prop.vDDDTypes object at 0x00000169D83A4400>, 'DTSTAMP': <icalendar.prop.vDDDTypes object at 0x00000169D83A4A60>, 'LOCATION': vText('b'Fuji Speedway\\\\nOyama\\\\, Sunt\\xc5\\x8d District\\\\, Shizuoka Prefecture\\\\, Japan''), 'UID': vText('b'106'')}), VEVENT({'SUMMARY': vText('b'WEC Race R07''), 'DESCRIPTION': vText('b'8hrs of Bahrain''), 'DTSTART': <icalendar.prop.vDDDTypes object at 0x00000169D8388F10>, 'DTEND': <icalendar.prop.vDDDTypes object at 0x00000169D83AED30>, 'DTSTAMP': <icalendar.prop.vDDDTypes object at 0x00000169D83AE0A0>, 'LOCATION': vText('b'Bahrain International Circuit\\\\nSakhir\\\\, Bahrain''), 'UID': vText('b'107'')}))"
      ]
     },
     "execution_count": 14,
     "metadata": {},
     "output_type": "execute_result"
    }
   ],
   "source": [
    "WEC"
   ]
  },
  {
   "cell_type": "markdown",
   "id": "37a2db17",
   "metadata": {},
   "source": [
    "Extra Sessions"
   ]
  },
  {
   "cell_type": "code",
   "execution_count": 15,
   "id": "211efbd4",
   "metadata": {},
   "outputs": [],
   "source": [
    "event = Event()\n",
    "\n",
    "event.add('summary', 'WEC LM FP1')\n",
    "event.add('description', '24 Heures Du Mans' '\\n' '100th Running')\n",
    "event.add('dtstart', datetime(2023, 6, 7, 15, 00, 0, tzinfo=pytz.timezone('utc')))\n",
    "event.add('dtend', datetime(2023, 6, 7, 17, 00, 0, tzinfo=pytz.timezone('utc')))\n",
    "event.add('dtstamp', datetime(2023, 3, 12, 0, 10, 0, tzinfo=pytz.timezone('utc')))\n",
    "event['location'] = vText('Circuit de La Sarthe' '\\n' 'Le Mans, Pays de la Loire, France')\n",
    "event.add('uid', 110)\n",
    "\n",
    "WEC_LM_FP1 = event\n",
    "WEC.add_component(WEC_LM_FP1)"
   ]
  },
  {
   "cell_type": "code",
   "execution_count": 16,
   "id": "79b0eb65",
   "metadata": {},
   "outputs": [],
   "source": [
    "event = Event()\n",
    "\n",
    "event.add('summary', 'WEC LM FP2')\n",
    "event.add('description', '24 Heures Du Mans' '\\n' '100th Running')\n",
    "event.add('dtstart', datetime(2023, 6, 7, 19, 00, 0, tzinfo=pytz.timezone('utc')))\n",
    "event.add('dtend', datetime(2023, 6, 7, 21, 00, 0, tzinfo=pytz.timezone('utc')))\n",
    "event.add('dtstamp', datetime(2023, 3, 12, 0, 10, 0, tzinfo=pytz.timezone('utc')))\n",
    "event['location'] = vText('Circuit de La Sarthe' '\\n' 'Le Mans, Pays de la Loire, France')\n",
    "event.add('uid', 111)\n",
    "\n",
    "WEC_LM_FP2 = event\n",
    "WEC.add_component(WEC_LM_FP2)"
   ]
  },
  {
   "cell_type": "code",
   "execution_count": 17,
   "id": "a345f486",
   "metadata": {},
   "outputs": [],
   "source": [
    "event = Event()\n",
    "\n",
    "event.add('summary', 'WEC LM Q1')\n",
    "event.add('description', '24 Heures Du Mans' '\\n' '100th Running')\n",
    "event.add('dtstart', datetime(2023, 6, 8, 15, 00, 0, tzinfo=pytz.timezone('utc')))\n",
    "event.add('dtend', datetime(2023, 6, 8, 17, 00, 0, tzinfo=pytz.timezone('utc')))\n",
    "event.add('dtstamp', datetime(2023, 3, 12, 0, 10, 0, tzinfo=pytz.timezone('utc')))\n",
    "event['location'] = vText('Circuit de La Sarthe' '\\n' 'Le Mans, Pays de la Loire, France')\n",
    "event.add('uid', 112)\n",
    "\n",
    "WEC_LM_Q1 = event\n",
    "WEC.add_component(WEC_LM_Q1)"
   ]
  },
  {
   "cell_type": "code",
   "execution_count": 18,
   "id": "5b8edf0d",
   "metadata": {},
   "outputs": [],
   "source": [
    "event = Event()\n",
    "\n",
    "event.add('summary', 'WEC LM HyP')\n",
    "event.add('description', '24 Heures Du Mans' '\\n' '100th Running')\n",
    "event.add('dtstart', datetime(2023, 6, 8, 18, 00, 0, tzinfo=pytz.timezone('utc')))\n",
    "event.add('dtend', datetime(2023, 6, 8, 19, 00, 0, tzinfo=pytz.timezone('utc')))\n",
    "event.add('dtstamp', datetime(2023, 3, 12, 0, 10, 0, tzinfo=pytz.timezone('utc')))\n",
    "event['location'] = vText('Circuit de La Sarthe' '\\n' 'Le Mans, Pays de la Loire, France')\n",
    "event.add('uid', 113)\n",
    "\n",
    "WEC_LM_HyP = event\n",
    "WEC.add_component(WEC_LM_HyP)"
   ]
  },
  {
   "cell_type": "code",
   "execution_count": 19,
   "id": "ee0c8ef8",
   "metadata": {},
   "outputs": [],
   "source": [
    "event = Event()\n",
    "\n",
    "event.add('summary', 'WEC LM FP3')\n",
    "event.add('description', '24 Heures Du Mans' '\\n' '100th Running')\n",
    "event.add('dtstart', datetime(2023, 6, 8, 19, 00, 0, tzinfo=pytz.timezone('utc')))\n",
    "event.add('dtend', datetime(2023, 6, 8, 23, 00, 0, tzinfo=pytz.timezone('utc')))\n",
    "event.add('dtstamp', datetime(2023, 3, 12, 0, 10, 0, tzinfo=pytz.timezone('utc')))\n",
    "event['location'] = vText('Circuit de La Sarthe' '\\n' 'Le Mans, Pays de la Loire, France')\n",
    "event.add('uid', 114)\n",
    "\n",
    "WEC_LM_FP3 = event\n",
    "WEC.add_component(WEC_LM_FP3)"
   ]
  },
  {
   "cell_type": "code",
   "execution_count": 20,
   "id": "9828ac5a",
   "metadata": {},
   "outputs": [],
   "source": [
    "event = Event()\n",
    "\n",
    "event.add('summary', 'WEC Sebring FP3')\n",
    "event.add('description', 'Sebring 1000mi')\n",
    "event.add('dtstart', datetime(2023, 3, 16, 15, 55, 0, tzinfo=pytz.timezone('utc')))\n",
    "event.add('dtend', datetime(2023, 3, 16, 16, 55, 0, tzinfo=pytz.timezone('utc')))\n",
    "event.add('dtstamp', datetime(2023, 3, 12, 0, 10, 0, tzinfo=pytz.timezone('utc')))\n",
    "event['location'] = vText('Sebring International Raceway' '\\n' 'Sebring, Fla')\n",
    "event.add('uid', 115)\n",
    "\n",
    "WEC_Seb_FP3 = event\n",
    "WEC.add_component(WEC_Seb_FP3)"
   ]
  },
  {
   "cell_type": "code",
   "execution_count": 21,
   "id": "e878487c",
   "metadata": {},
   "outputs": [],
   "source": [
    "event = Event()\n",
    "\n",
    "event.add('summary', 'WEC Sebring Qy')\n",
    "event.add('description', 'Sebring 1000mi')\n",
    "event.add('dtstart', datetime(2023, 3, 16, 22, 30, 0, tzinfo=pytz.timezone('utc')))\n",
    "event.add('dtend', datetime(2023, 3, 16, 23, 35, 0, tzinfo=pytz.timezone('utc')))\n",
    "event.add('dtstamp', datetime(2023, 3, 12, 0, 10, 0, tzinfo=pytz.timezone('utc')))\n",
    "event['location'] = vText('Sebring International Raceway' '\\n' 'Sebring, Fla')\n",
    "event.add('uid', 116)\n",
    "\n",
    "WEC_Seb_Qy = event\n",
    "WEC.add_component(WEC_Seb_Qy)"
   ]
  },
  {
   "cell_type": "code",
   "execution_count": 22,
   "id": "caf34ef9",
   "metadata": {},
   "outputs": [
    {
     "name": "stdout",
     "output_type": "stream",
     "text": [
      "ics file will be generated at  C:\\Users\\chris\\Documents\\Calendars/\n"
     ]
    }
   ],
   "source": [
    "directory = str(Path(r'C:\\Users\\chris\\Documents\\Calendars')) + \"/\"\n",
    "print(\"ics file will be generated at \", directory)\n",
    "f = open(os.path.join(directory, 'WEC 2023.ics'), 'wb')\n",
    "f.write(WEC.to_ical())\n",
    "f.close()"
   ]
  }
 ],
 "metadata": {
  "kernelspec": {
   "display_name": "Python 3 (ipykernel)",
   "language": "python",
   "name": "python3"
  },
  "language_info": {
   "codemirror_mode": {
    "name": "ipython",
    "version": 3
   },
   "file_extension": ".py",
   "mimetype": "text/x-python",
   "name": "python",
   "nbconvert_exporter": "python",
   "pygments_lexer": "ipython3",
   "version": "3.9.7"
  }
 },
 "nbformat": 4,
 "nbformat_minor": 5
}
