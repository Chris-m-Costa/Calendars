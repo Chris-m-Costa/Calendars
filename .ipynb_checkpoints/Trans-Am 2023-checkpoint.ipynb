{
 "cells": [
  {
   "cell_type": "code",
   "execution_count": 1,
   "id": "862563f4",
   "metadata": {},
   "outputs": [],
   "source": [
    "\n",
    "from bs4 import BeautifulSoup\n",
    "import requests\n",
    "import pandas as pd\n",
    "import numpy as np\n",
    "\n",
    "import re\n",
    "\n",
    "import pytz\n",
    "\n",
    "from time import strptime\n",
    "import calendar\n",
    "\n",
    "from datetime import datetime, date\n",
    "from pathlib import Path\n",
    "import os\n",
    "from icalendar import Calendar, Event,  vText, vCalAddress"
   ]
  },
  {
   "cell_type": "code",
   "execution_count": null,
   "id": "255712da",
   "metadata": {},
   "outputs": [],
   "source": []
  },
  {
   "cell_type": "code",
   "execution_count": 2,
   "id": "b69c7d83",
   "metadata": {},
   "outputs": [],
   "source": [
    "def make_soup(url):\n",
    "    \n",
    "    request = requests.get(url)\n",
    "    if request.status_code == 200:\n",
    "        soup = BeautifulSoup(request.content, 'html.parser')\n",
    "    else:\n",
    "        print('failed: ' + request.status_code)\n",
    "    \n",
    "    return soup\n",
    "    \n",
    "# url = 'https://www.nuerburgring-langstrecken-serie.de/en/calendar-nurburgring-langstrecken-serie-2023/'"
   ]
  },
  {
   "cell_type": "code",
   "execution_count": 3,
   "id": "bea1a192",
   "metadata": {},
   "outputs": [],
   "source": [
    "soup = make_soup('https://gotransam.com/events/2023-Trans-Am-Championship/cat/534')\n"
   ]
  },
  {
   "cell_type": "code",
   "execution_count": 4,
   "id": "3f44d950",
   "metadata": {},
   "outputs": [],
   "source": [
    "events = soup.find_all('div', {'class':'events-listbox'})"
   ]
  },
  {
   "cell_type": "code",
   "execution_count": 5,
   "id": "7c5428b3",
   "metadata": {},
   "outputs": [],
   "source": [
    "def TA_scrape_locations():\n",
    "    \n",
    "    # import re\n",
    "    \n",
    "    regex = re.compile(\"\\((.*?)\\)\")\n",
    "    locations = []\n",
    "\n",
    "    events = soup.find_all('div', {'class':'events-listbox'})\n",
    "\n",
    "    for i in range(len(events)):\n",
    "        loc = events[i].find('div', {'class':'event-destination'}).text.strip()\n",
    "        loc = re.sub(regex, '', loc)\n",
    "        locations.append(loc)\n",
    "    return locations\n",
    "    "
   ]
  },
  {
   "cell_type": "code",
   "execution_count": 6,
   "id": "fc7669ca",
   "metadata": {},
   "outputs": [
    {
     "name": "stdout",
     "output_type": "stream",
     "text": [
      "['Sebring International Raceway \\nSebring, FL', 'NOLA Motorsports Park \\nAvondale, LA', 'Road Atlanta \\nBraselton, GA', 'Lime Rock Park \\nLakeville, CT', 'Detroit Grand Prix \\nDetroit, MI', 'Indianapolis Motor Speedway \\nSpeedway, IN', 'Mid-Ohio Sports Car Course \\nLexington, OH', 'Road America\\nElkhart Lake, WI', 'Big Machine Music City Grand Prix \\nNashville, TN', 'Watkins Glen International \\nWatkins Glen, NY', 'World Wide Technology Raceway \\nMadison, IL', 'VIRginia International Raceway \\nAlton, VA', 'Circuit of The Americas \\nAustin, TX']\n"
     ]
    }
   ],
   "source": [
    "locations = TA_scrape_locations()\n",
    "print(locations)"
   ]
  },
  {
   "cell_type": "code",
   "execution_count": 7,
   "id": "7d067274",
   "metadata": {},
   "outputs": [],
   "source": [
    "def TA_create_titles():\n",
    "    \n",
    "    tit_prt_0 = 'Trans-Am Race R0'\n",
    "    tit_prt = 'Trans-Am Race R'\n",
    "    rnd_cnt = 1\n",
    "    titles = []\n",
    "    \n",
    "    events = soup.find_all('div', {'class':'events-listbox'})\n",
    "    \n",
    "    for i in range(len(events)):\n",
    "        if rnd_cnt <10:\n",
    "            tit = tit_prt_0 + str(rnd_cnt)\n",
    "        elif rnd_cnt >=10:\n",
    "            tit = tit_prt + str(rnd_cnt)\n",
    "        rnd_cnt += 1\n",
    "        titles.append(tit) \n",
    "\n",
    "    return titles"
   ]
  },
  {
   "cell_type": "code",
   "execution_count": 8,
   "id": "9a9c1b61",
   "metadata": {},
   "outputs": [
    {
     "data": {
      "text/plain": [
       "['Trans-Am Race R01',\n",
       " 'Trans-Am Race R02',\n",
       " 'Trans-Am Race R03',\n",
       " 'Trans-Am Race R04',\n",
       " 'Trans-Am Race R05',\n",
       " 'Trans-Am Race R06',\n",
       " 'Trans-Am Race R07',\n",
       " 'Trans-Am Race R08',\n",
       " 'Trans-Am Race R09',\n",
       " 'Trans-Am Race R10',\n",
       " 'Trans-Am Race R11',\n",
       " 'Trans-Am Race R12',\n",
       " 'Trans-Am Race R13']"
      ]
     },
     "execution_count": 8,
     "metadata": {},
     "output_type": "execute_result"
    }
   ],
   "source": [
    "titles = TA_create_titles()\n",
    "titles"
   ]
  },
  {
   "cell_type": "code",
   "execution_count": 9,
   "id": "a7470565",
   "metadata": {},
   "outputs": [
    {
     "data": {
      "text/plain": [
       "[23, 24, 25, 26]"
      ]
     },
     "execution_count": 9,
     "metadata": {},
     "output_type": "execute_result"
    }
   ],
   "source": [
    " \n",
    "scrp_day = events[0].find('div', {'class':'event-calendar'}).text.split()[1]\n",
    "scrp_day = scrp_day.split('-')\n",
    "\n",
    "day_ints = []\n",
    "for i in scrp_day:\n",
    "    day_ints.append(int(i))\n",
    "\n",
    "scrp_days = np.arange(day_ints[0], day_ints[1]+1, 1).tolist()\n",
    "\n",
    "scrp_days"
   ]
  },
  {
   "cell_type": "code",
   "execution_count": 10,
   "id": "55619303",
   "metadata": {},
   "outputs": [
    {
     "data": {
      "text/plain": [
       "13"
      ]
     },
     "execution_count": 10,
     "metadata": {},
     "output_type": "execute_result"
    }
   ],
   "source": [
    "len(events)"
   ]
  },
  {
   "cell_type": "code",
   "execution_count": 11,
   "id": "7f4e97e3",
   "metadata": {},
   "outputs": [
    {
     "data": {
      "text/plain": [
       "['Feb', '23-26']"
      ]
     },
     "execution_count": 11,
     "metadata": {},
     "output_type": "execute_result"
    }
   ],
   "source": [
    "x = events[0].find('div', {'class':'event-calendar'}).text.split()\n",
    "x"
   ]
  },
  {
   "cell_type": "code",
   "execution_count": 12,
   "id": "55c29191",
   "metadata": {},
   "outputs": [
    {
     "data": {
      "text/plain": [
       "'2'"
      ]
     },
     "execution_count": 12,
     "metadata": {},
     "output_type": "execute_result"
    }
   ],
   "source": [
    "scrp_mon = strptime(x[0],'%b').tm_mon #separates the month and changes to string digit '2'\n",
    "scrp_mon = str(scrp_mon)\n",
    "scrp_mon"
   ]
  },
  {
   "cell_type": "code",
   "execution_count": 13,
   "id": "683ca7ae",
   "metadata": {},
   "outputs": [
    {
     "data": {
      "text/plain": [
       "['23', '24', '25', '26']"
      ]
     },
     "execution_count": 13,
     "metadata": {},
     "output_type": "execute_result"
    }
   ],
   "source": [
    "day_ints = []\n",
    "scrp_daystr = []\n",
    "\n",
    "scrp_day = x[1].split('-') #separates the days, changes from '23-26' to ['23', '26']\n",
    "for i in scrp_day:\n",
    "    day_ints.append(int(i)) # changes to integers [23, 26] needed for .arrange below\n",
    "scrp_days = np.arange(day_ints[0], day_ints[1]+1, 1).tolist() #creates a list with all days in the event length [23,24,25,26]\n",
    "for day in scrp_days:\n",
    "    scrp_daystr.append(str(day)) # back to str\n",
    "scrp_daystr"
   ]
  },
  {
   "cell_type": "code",
   "execution_count": 14,
   "id": "1221ebca",
   "metadata": {},
   "outputs": [
    {
     "data": {
      "text/plain": [
       "['2023, 23, 2', '2023, 24, 2', '2023, 25, 2', '2023, 26, 2']"
      ]
     },
     "execution_count": 14,
     "metadata": {},
     "output_type": "execute_result"
    }
   ],
   "source": [
    "dates = []\n",
    "year = '2023'\n",
    "for day in scrp_daystr:\n",
    "    assy_date = year + ', ' + day + ', ' + scrp_mon\n",
    "    dates.append(assy_date)\n",
    "\n",
    "dates"
   ]
  },
  {
   "cell_type": "code",
   "execution_count": 15,
   "id": "98d01422",
   "metadata": {},
   "outputs": [],
   "source": [
    "wknd_dates = []\n",
    "for date in dates:\n",
    "    date_obj = datetime.strptime(date, '%Y, %d, %m')\n",
    "    year, month, day = date_obj.year, date_obj.month, date_obj.day\n",
    "    if calendar.weekday(year, month, day) >= 5:\n",
    "        wknd_dates.append(date)"
   ]
  },
  {
   "cell_type": "code",
   "execution_count": 16,
   "id": "6f164034",
   "metadata": {},
   "outputs": [
    {
     "data": {
      "text/plain": [
       "['2023, 25, 2', '2023, 26, 2']"
      ]
     },
     "execution_count": 16,
     "metadata": {},
     "output_type": "execute_result"
    }
   ],
   "source": [
    "wknd_dates"
   ]
  },
  {
   "cell_type": "code",
   "execution_count": null,
   "id": "ef845f4a",
   "metadata": {},
   "outputs": [],
   "source": []
  },
  {
   "cell_type": "code",
   "execution_count": null,
   "id": "fcc1b624",
   "metadata": {},
   "outputs": [],
   "source": []
  },
  {
   "cell_type": "code",
   "execution_count": 17,
   "id": "29017363",
   "metadata": {},
   "outputs": [],
   "source": [
    "\n",
    "dates = []\n",
    "wknd_dates = []\n",
    "\n",
    "year = '2023'\n",
    "\n",
    "for event in events:\n",
    "    \n",
    "    scrp_date = event.find('div', {'class':'event-calendar'}).text.split() #finds full date as ['Feb', '23-26']\n",
    "    scrp_mon = strptime(scrp_date[0],'%b').tm_mon #separates the month and changes to string digit '2'\n",
    "    scrp_mon = str(scrp_mon)\n",
    "\n",
    "    day_ints = []\n",
    "    scrp_daystr = []\n",
    "    scrp_day = scrp_date[1].split('-') #separates the days, changes from '23-26' to ['23', '26']\n",
    "    for i in scrp_day:\n",
    "        day_ints.append(int(i)) # changes to integers [23, 26] needed for .arrange below\n",
    "    scrp_days = np.arange(day_ints[0], day_ints[1]+1, 1).tolist() #creates a list with all days in the event length [23,24,25,26]\n",
    "    for day in scrp_days:\n",
    "        scrp_daystr.append(str(day)) # back to str\n",
    "\n",
    "       \n",
    "    for day in scrp_daystr:\n",
    "        assy_date = [year, day, scrp_mon]\n",
    "        dates.append(assy_date)\n",
    "        \n",
    "for date in dates:\n",
    "    date_str = ','.join(date)\n",
    "    date_obj = datetime.strptime(date_str, '%Y,%d,%m')\n",
    "    year, month, day = date_obj.year, date_obj.month, date_obj.day\n",
    "    if calendar.weekday(year, month, day) >= 5:\n",
    "        wknd_dates.append(date)"
   ]
  },
  {
   "cell_type": "code",
   "execution_count": 18,
   "id": "dcee6734",
   "metadata": {},
   "outputs": [
    {
     "data": {
      "text/plain": [
       "[['2023', '25', '2'],\n",
       " ['2023', '26', '2'],\n",
       " ['2023', '11', '3'],\n",
       " ['2023', '12', '3'],\n",
       " ['2023', '25', '3'],\n",
       " ['2023', '26', '3'],\n",
       " ['2023', '27', '5'],\n",
       " ['2023', '28', '5'],\n",
       " ['2023', '3', '6'],\n",
       " ['2023', '17', '6'],\n",
       " ['2023', '18', '6'],\n",
       " ['2023', '24', '6'],\n",
       " ['2023', '25', '6'],\n",
       " ['2023', '8', '7'],\n",
       " ['2023', '9', '7'],\n",
       " ['2023', '5', '8'],\n",
       " ['2023', '9', '9'],\n",
       " ['2023', '10', '9'],\n",
       " ['2023', '23', '9'],\n",
       " ['2023', '24', '9'],\n",
       " ['2023', '7', '10'],\n",
       " ['2023', '8', '10'],\n",
       " ['2023', '4', '11'],\n",
       " ['2023', '5', '11']]"
      ]
     },
     "execution_count": 18,
     "metadata": {},
     "output_type": "execute_result"
    }
   ],
   "source": [
    "wknd_dates"
   ]
  },
  {
   "cell_type": "code",
   "execution_count": 20,
   "id": "95a81017",
   "metadata": {},
   "outputs": [
    {
     "ename": "SyntaxError",
     "evalue": "invalid syntax (1070419849.py, line 5)",
     "output_type": "error",
     "traceback": [
      "\u001b[1;36m  Cell \u001b[1;32mIn[20], line 5\u001b[1;36m\u001b[0m\n\u001b[1;33m    else:\u001b[0m\n\u001b[1;37m    ^\u001b[0m\n\u001b[1;31mSyntaxError\u001b[0m\u001b[1;31m:\u001b[0m invalid syntax\n"
     ]
    }
   ],
   "source": [
    "decr = []\n",
    "for event in events:\n",
    "    try:\n",
    "        decr = event.find('div', {'class':'tv-broad'}).text.split('MAVTV')\n",
    "    else:\n",
    "        print('is this right')\n",
    "\n",
    "decr"
   ]
  },
  {
   "cell_type": "code",
   "execution_count": null,
   "id": "a958ad75",
   "metadata": {},
   "outputs": [],
   "source": []
  },
  {
   "cell_type": "code",
   "execution_count": null,
   "id": "5ef6979b",
   "metadata": {},
   "outputs": [],
   "source": []
  },
  {
   "cell_type": "code",
   "execution_count": null,
   "id": "c1739058",
   "metadata": {},
   "outputs": [],
   "source": []
  },
  {
   "cell_type": "code",
   "execution_count": null,
   "id": "a0352fee",
   "metadata": {},
   "outputs": [],
   "source": [
    "halt"
   ]
  },
  {
   "cell_type": "code",
   "execution_count": null,
   "id": "092cb462",
   "metadata": {},
   "outputs": [],
   "source": []
  },
  {
   "cell_type": "code",
   "execution_count": null,
   "id": "96363247",
   "metadata": {},
   "outputs": [],
   "source": []
  },
  {
   "cell_type": "code",
   "execution_count": null,
   "id": "dabc213e",
   "metadata": {},
   "outputs": [],
   "source": []
  },
  {
   "cell_type": "code",
   "execution_count": null,
   "id": "20306b3f",
   "metadata": {},
   "outputs": [],
   "source": [
    "def scrape_nls(soup):\n",
    "    \n",
    "    cln_days = []\n",
    "    cln_mons = []\n",
    "    year = 2023\n",
    "    titles = []\n",
    "    circuit = []\n",
    "    \n",
    "    tr = soup.find_all('tr')\n",
    "    \n",
    "\n",
    "## For each round item (tr) find date, trim day to race date only (ie 11-13 becomes just 13, fri-sat becomes just sat)\n",
    "## store dates in clean_dates in format for iCalendar req's\n",
    "    for i in range(len(soup.find_all('tr'))): \n",
    "        temp_date = soup.find_all('tr')[i].find_all('td')[0].text.strip().split('-')[1].split('.')\n",
    "\n",
    "        temp_day = temp_date[0]\n",
    "        if temp_day[0] == '0':\n",
    "            temp_day = temp_day[1:]\n",
    "        cln_days.append(temp_day)\n",
    "\n",
    "        temp_mon = temp_date[1]\n",
    "        if temp_mon[0] == '0':\n",
    "            temp_mon = temp_mon[1:]\n",
    "        cln_mons.append(temp_mon)\n",
    "\n",
    "        cln_yr = temp_date[2]\n",
    "        cln_yrs.append(cln_yr)\n",
    "\n",
    "#     clean_dates = []\n",
    "#     for yr, mon, day in zip(cln_yrs, cln_mons, cln_days):\n",
    "#         temp_date_ = yr + ', ' + mon + ', ' + day\n",
    "#         clean_dates.append(temp_date_)\n",
    "##\n",
    "\n",
    "\n",
    "## Pull the event names as description and store to description list\n",
    "    descriptions = []\n",
    "    for i in range(len(soup.find_all('tr'))):\n",
    "        temp_desc = soup.find_all('tr')[i].find_all('td')[1].text.strip()\n",
    "        descriptions.append(temp_desc)\n",
    "##\n",
    "\n",
    "## Make a simple title string for each index.\n",
    "#  index 0 is preseason test days, mnaully added to list\n",
    "   \n",
    "    titles = []\n",
    "    titles.append('NLS Test Days')\n",
    "    \n",
    "    count = 1\n",
    "    for i in range(len(soup.find_all('tr')[1:9])):\n",
    "        titles.append('NLS Race R0' + str(count))\n",
    "        count += 1\n",
    "#         titles.append(temp_tit)\n",
    "    \n",
    "    titles.append('NLS Alternative Date')\n",
    "\n",
    "        \n",
    "    return cln_yrs, cln_mons, cln_days, descriptions, titles"
   ]
  },
  {
   "cell_type": "code",
   "execution_count": null,
   "id": "a9a90ec3",
   "metadata": {},
   "outputs": [],
   "source": [
    "cln_yrs, cln_mons, cln_days, descriptions, titles = scrape_nls(soup)"
   ]
  },
  {
   "cell_type": "code",
   "execution_count": null,
   "id": "28858241",
   "metadata": {},
   "outputs": [],
   "source": [
    "cln_yrs"
   ]
  },
  {
   "cell_type": "code",
   "execution_count": null,
   "id": "c7275a12",
   "metadata": {},
   "outputs": [],
   "source": [
    "cln_mons"
   ]
  },
  {
   "cell_type": "code",
   "execution_count": null,
   "id": "24e613d9",
   "metadata": {},
   "outputs": [],
   "source": [
    "cln_days"
   ]
  },
  {
   "cell_type": "code",
   "execution_count": null,
   "id": "0296599b",
   "metadata": {},
   "outputs": [],
   "source": [
    "descriptions"
   ]
  },
  {
   "cell_type": "code",
   "execution_count": null,
   "id": "a60c3a6d",
   "metadata": {},
   "outputs": [],
   "source": [
    "titles"
   ]
  },
  {
   "cell_type": "code",
   "execution_count": null,
   "id": "5e068f3f",
   "metadata": {},
   "outputs": [],
   "source": [
    "circuit = 'Nürburgring Gesamtrecke' '\\n' 'Nürburg, Rhineland-Palatinate, Germany'# \n",
    "print(circuit)"
   ]
  },
  {
   "cell_type": "code",
   "execution_count": null,
   "id": "0652c5f2",
   "metadata": {},
   "outputs": [],
   "source": [
    "## Creating and Populating the Calendar"
   ]
  },
  {
   "cell_type": "code",
   "execution_count": null,
   "id": "77dd7f99",
   "metadata": {},
   "outputs": [],
   "source": [
    "import pytz\n",
    "import icalendar\n",
    "from datetime import datetime\n",
    "from pathlib import Path\n",
    "import os\n",
    "from icalendar import Calendar, Event,  vText, vCalAddress"
   ]
  },
  {
   "cell_type": "code",
   "execution_count": null,
   "id": "81078c7a",
   "metadata": {},
   "outputs": [],
   "source": [
    "def new_ical(series_name):\n",
    "    \n",
    "   \n",
    "    series_name = Calendar()\n",
    "    series_name.add('prodid', '-//My calendar product//example.com//')\n",
    "    series_name.add('version', '2.0')\n",
    "    \n",
    "    return series_name\n",
    "\n"
   ]
  },
  {
   "cell_type": "code",
   "execution_count": null,
   "id": "643af21f",
   "metadata": {},
   "outputs": [],
   "source": [
    "NLS = None\n",
    "NLS = new_ical(NLS)\n",
    "NLS"
   ]
  },
  {
   "cell_type": "code",
   "execution_count": null,
   "id": "24bd7e59",
   "metadata": {},
   "outputs": [],
   "source": [
    "\n",
    "\n",
    "def make_events(cal):\n",
    "    uid = 110\n",
    "    circuit = 'Nürburgring Gesamtrecke' '\\n' 'Nürburg, Rhineland-Palatinate, Germany'\n",
    "\n",
    "    for title, description, year, month, day in zip(titles, descriptions, cln_yrs, cln_mons, cln_days):\n",
    "        ievent = Event()\n",
    "        ievent.add('summary', title) #Title of the event\n",
    "        ievent.add('description', description)     #Description of event\n",
    "        ievent.add('dtstart', datetime(int(year), int(month), int(day), 10, 0, 0, tzinfo=pytz.timezone('utc')))\n",
    "        ievent.add('dtend', datetime(int(year), int(month), int(day), 14, 0, 0, tzinfo=pytz.timezone('utc')))\n",
    "        ievent.add('dtstamp', datetime(2023, 3, 17, 0, 10, 0, tzinfo=pytz.timezone('utc')))\n",
    "        ievent.add('location', vText(circuit))\n",
    "        ievent.add('uid', uid)\n",
    "        uid += 1\n",
    "        cal.add_component(ievent)\n",
    "        \n",
    "    return cal\n",
    "    "
   ]
  },
  {
   "cell_type": "code",
   "execution_count": null,
   "id": "4a09dc3f",
   "metadata": {},
   "outputs": [],
   "source": [
    "NLS = make_events(NLS)\n",
    "# NLS"
   ]
  },
  {
   "cell_type": "code",
   "execution_count": null,
   "id": "f8b46c81",
   "metadata": {},
   "outputs": [],
   "source": [
    "directory = str(Path(r'C:\\Users\\chris\\Documents\\Calendars')) + \"/\"\n",
    "print(\"ics file will be generated at \", directory)\n",
    "f = open(os.path.join(directory, 'NLS 2023.ics'), 'wb')\n",
    "f.write(NLS.to_ical())\n",
    "f.close()\n"
   ]
  },
  {
   "cell_type": "code",
   "execution_count": null,
   "id": "657d1323",
   "metadata": {},
   "outputs": [],
   "source": []
  },
  {
   "cell_type": "code",
   "execution_count": null,
   "id": "e69fd9dd",
   "metadata": {},
   "outputs": [],
   "source": []
  },
  {
   "cell_type": "code",
   "execution_count": null,
   "id": "ede16c7e",
   "metadata": {},
   "outputs": [],
   "source": []
  }
 ],
 "metadata": {
  "kernelspec": {
   "display_name": "Python 3 (ipykernel)",
   "language": "python",
   "name": "python3"
  },
  "language_info": {
   "codemirror_mode": {
    "name": "ipython",
    "version": 3
   },
   "file_extension": ".py",
   "mimetype": "text/x-python",
   "name": "python",
   "nbconvert_exporter": "python",
   "pygments_lexer": "ipython3",
   "version": "3.9.7"
  }
 },
 "nbformat": 4,
 "nbformat_minor": 5
}
