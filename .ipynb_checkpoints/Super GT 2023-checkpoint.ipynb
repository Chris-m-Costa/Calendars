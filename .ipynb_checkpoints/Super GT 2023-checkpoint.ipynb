{
 "cells": [
  {
   "cell_type": "code",
   "execution_count": 1,
   "id": "ee63b9bd",
   "metadata": {},
   "outputs": [],
   "source": [
    "from bs4 import BeautifulSoup\n",
    "import requests\n",
    "import pandas as pd\n",
    "import numpy as np"
   ]
  },
  {
   "cell_type": "code",
   "execution_count": 2,
   "id": "250c851c",
   "metadata": {},
   "outputs": [],
   "source": [
    "url = 'https://supergt.net/?ln=en'"
   ]
  },
  {
   "cell_type": "code",
   "execution_count": 3,
   "id": "a87ee9bb",
   "metadata": {},
   "outputs": [],
   "source": [
    "response = requests.get(url)\n",
    "soup = BeautifulSoup(response.content, \"html.parser\")\n",
    "#soup"
   ]
  },
  {
   "cell_type": "code",
   "execution_count": 4,
   "id": "ee8381ef",
   "metadata": {},
   "outputs": [
    {
     "data": {
      "text/plain": [
       "[<td class=\"date\">4/15-16</td>,\n",
       " <td class=\"date\">5/03-04</td>,\n",
       " <td class=\"date\">6/03-04</td>,\n",
       " <td class=\"date\">8/05-06</td>,\n",
       " <td class=\"date\">8/26-27</td>,\n",
       " <td class=\"date\">9/16-17</td>,\n",
       " <td class=\"date\">10/14-15</td>,\n",
       " <td class=\"date\">11/04-05</td>]"
      ]
     },
     "execution_count": 4,
     "metadata": {},
     "output_type": "execute_result"
    }
   ],
   "source": [
    "sgt_dates = soup.find_all('td', {'class':'date'})\n",
    "sgt_dates"
   ]
  },
  {
   "cell_type": "code",
   "execution_count": 5,
   "id": "9daab584",
   "metadata": {},
   "outputs": [],
   "source": [
    "sgt_dates = soup.find_all('td', {'class':'date'})\n",
    "\n",
    "temps = []\n",
    "days = []\n",
    "months = []\n",
    "\n",
    "\n",
    "for i in sgt_dates:\n",
    "    \n",
    "    temp_month = i.text.strip().split('/')[0] \n",
    "    temp_month = int(temp_month)\n",
    "    months.append(temp_month)\n",
    "    \n",
    "    temp_day = i.text.strip().split('/')[1]\n",
    "    temp_day = temp_day.split('-')[1]\n",
    "    if temp_day[0] == '0':\n",
    "        temp_day = temp_day[1]\n",
    "    else:\n",
    "        pass\n",
    "    temp_day = int(temp_day)\n",
    "    days.append(temp_day)\n",
    "    \n",
    "#     temp = 2023, int(temp_month), int(temp_day)\n",
    "#     temps.append(temp)\n",
    "\n",
    "# sgt_dates = temps\n",
    "# sgt_dates\n"
   ]
  },
  {
   "cell_type": "code",
   "execution_count": 6,
   "id": "c2417235",
   "metadata": {},
   "outputs": [],
   "source": []
  },
  {
   "cell_type": "code",
   "execution_count": 7,
   "id": "69e4fd74",
   "metadata": {},
   "outputs": [
    {
     "data": {
      "text/plain": [
       "[16, 4, 4, 6, 27, 17, 15, 5]"
      ]
     },
     "execution_count": 7,
     "metadata": {},
     "output_type": "execute_result"
    }
   ],
   "source": [
    "days"
   ]
  },
  {
   "cell_type": "code",
   "execution_count": 8,
   "id": "5e7b7c06",
   "metadata": {},
   "outputs": [
    {
     "data": {
      "text/plain": [
       "[4, 5, 6, 8, 8, 9, 10, 11]"
      ]
     },
     "execution_count": 8,
     "metadata": {},
     "output_type": "execute_result"
    }
   ],
   "source": [
    "months"
   ]
  },
  {
   "cell_type": "code",
   "execution_count": 9,
   "id": "ded81ac0",
   "metadata": {},
   "outputs": [
    {
     "data": {
      "text/plain": [
       "'Super GT Race R01'"
      ]
     },
     "execution_count": 9,
     "metadata": {},
     "output_type": "execute_result"
    }
   ],
   "source": [
    "sgt_round = soup.find('tr', {'class':'round_box'}).find_all('td')[2].text.strip().split(' ')[0]\n",
    "sgt_round = 'Super GT Race' + ' ' + sgt_round[0] + '0' + sgt_round[5:]\n",
    "sgt_round"
   ]
  },
  {
   "cell_type": "code",
   "execution_count": 10,
   "id": "9d016aa3",
   "metadata": {},
   "outputs": [
    {
     "data": {
      "text/plain": [
       "'Okayama'"
      ]
     },
     "execution_count": 10,
     "metadata": {},
     "output_type": "execute_result"
    }
   ],
   "source": [
    "sgt_circuit = soup.find('tr', {'class':'round_box'}).find_all('td')[2].text.strip().split(' ')[1]\n",
    "sgt_circuit = sgt_circuit[0] + sgt_circuit[1:].lower()\n",
    "sgt_circuit"
   ]
  },
  {
   "cell_type": "code",
   "execution_count": null,
   "id": "6a681bde",
   "metadata": {},
   "outputs": [],
   "source": []
  },
  {
   "cell_type": "code",
   "execution_count": 11,
   "id": "0a0e5dad",
   "metadata": {},
   "outputs": [],
   "source": [
    "round_boxs = soup.find_all('tr', {'class':'round_box'})\n",
    "\n",
    "sgt_rounds = []\n",
    "sgt_circuits = []\n",
    "   \n",
    "for index, element in enumerate(round_boxs):\n",
    "    temp_round = element.find_all('td')[2].text.strip().split(' ')[0]\n",
    "#     temp_round = temp_round.split(' ')[0]\n",
    "    temp_round = 'Super GT Race' + ' ' + temp_round[0] + '0' + temp_round[5:]\n",
    "    sgt_rounds.append(temp_round)\n",
    "    \n",
    "    temp_circuit = element.find_all('td')[2].text.strip().split(' ')[1]\n",
    "    temp_circuit = temp_circuit[0] + temp_circuit[1:].lower()\n",
    "    sgt_circuits.append(temp_circuit)\n",
    "   \n"
   ]
  },
  {
   "cell_type": "code",
   "execution_count": 12,
   "id": "c2420910",
   "metadata": {},
   "outputs": [
    {
     "data": {
      "text/plain": [
       "['Okayama', 'Fuji', 'Suzuka', 'Fuji', 'Suzuka', 'Sugo', 'Autopolis', 'Motegi']"
      ]
     },
     "execution_count": 12,
     "metadata": {},
     "output_type": "execute_result"
    }
   ],
   "source": [
    "sgt_circuits"
   ]
  },
  {
   "cell_type": "code",
   "execution_count": 13,
   "id": "3611cfbf",
   "metadata": {},
   "outputs": [
    {
     "data": {
      "text/plain": [
       "['Super GT Race R01',\n",
       " 'Super GT Race R02',\n",
       " 'Super GT Race R03',\n",
       " 'Super GT Race R04',\n",
       " 'Super GT Race R05',\n",
       " 'Super GT Race R06',\n",
       " 'Super GT Race R07',\n",
       " 'Super GT Race R08']"
      ]
     },
     "execution_count": 13,
     "metadata": {},
     "output_type": "execute_result"
    }
   ],
   "source": [
    "sgt_rounds"
   ]
  },
  {
   "cell_type": "code",
   "execution_count": null,
   "id": "0d6af6e9",
   "metadata": {},
   "outputs": [],
   "source": []
  },
  {
   "cell_type": "code",
   "execution_count": 14,
   "id": "95235918",
   "metadata": {},
   "outputs": [],
   "source": [
    "import pytz\n",
    "import icalendar\n",
    "from datetime import datetime\n",
    "from pathlib import Path\n",
    "import os\n",
    "from icalendar import Calendar, Event,  vText, vCalAddress"
   ]
  },
  {
   "cell_type": "code",
   "execution_count": 15,
   "id": "bba6ef5e",
   "metadata": {},
   "outputs": [],
   "source": [
    "\n",
    "\n",
    "\n",
    "Super_GT = Calendar()\n",
    "Super_GT.add('prodid', '-//My calendar product//example.com//')\n",
    "Super_GT.add('version', '2.0')\n"
   ]
  },
  {
   "cell_type": "code",
   "execution_count": 16,
   "id": "a8dde8d6",
   "metadata": {},
   "outputs": [],
   "source": [
    "# sgt_rounds\n",
    "\n",
    "# sgt_circuits\n",
    "\n",
    "# sgt_dates\n",
    "\n",
    "\n",
    "# <td class=\"infobox-data label\">"
   ]
  },
  {
   "cell_type": "code",
   "execution_count": 17,
   "id": "d74d01c8",
   "metadata": {},
   "outputs": [],
   "source": [
    "# for round in sgt_rounds, circuit in sgt_circuits, date in sgt_dates:\n",
    "    \n",
    "#     ievent = Event()\n",
    "\n",
    "#     ievent.add('summary', round ) #Title of the event\n",
    "# #     ievent.add('description', '')     #Description of event\n",
    "#     for date in sgt_dates:\n",
    "#         ievent.add('dtstart', datetime(date[0], date[1], date[2], 3, 0, 0, tzinfo=pytz.timezone('utc')))\n",
    "#         ievent.add('dtend', datetime(date[0], date[1], date[2], 5, 0, 0, tzinfo=pytz.timezone('utc')))\n",
    "#         ievent.add('dtstamp', datetime(2023, 3, 17, 0, 10, 0, tzinfo=pytz.timezone('utc')))\n",
    "#     for i in sgt_circuits:\n",
    "#         ievent['location'] = vText(circuit)\n",
    "#     ievent.add('uid', 110)\n",
    "#     Super_GT.add_component(ievent)\n",
    "\n",
    "# Super_GT\n",
    "\n",
    "# # R1_sgt = event\n",
    "# # Super_GT.add_component(R1_sgt)\n"
   ]
  },
  {
   "cell_type": "code",
   "execution_count": 18,
   "id": "f6e7167e",
   "metadata": {},
   "outputs": [],
   "source": [
    "uid = 110\n",
    "\n",
    "for round, circuit, date, day, month in zip(sgt_rounds, sgt_circuits, sgt_dates, days, months):\n",
    "    ievent = Event()\n",
    "    ievent.add('summary', round) #Title of the event\n",
    "    # ievent.add('description', '')     #Description of event\n",
    "    ievent.add('dtstart', datetime(2023, month, day, 3, 0, 0, tzinfo=pytz.timezone('utc')))\n",
    "    ievent.add('dtend', datetime(2023, month, day, 5, 0, 0, tzinfo=pytz.timezone('utc')))\n",
    "    ievent.add('dtstamp', datetime(2023, 3, 17, 0, 10, 0, tzinfo=pytz.timezone('utc')))\n",
    "    ievent.add('location', vText(circuit))\n",
    "    ievent.add('uid', uid)\n",
    "    uid += 1\n",
    "    Super_GT.add_component(ievent)"
   ]
  },
  {
   "cell_type": "code",
   "execution_count": 19,
   "id": "90f3537d",
   "metadata": {},
   "outputs": [
    {
     "data": {
      "text/plain": [
       "VCALENDAR({'PRODID': vText('b'-//My calendar product//example.com//''), 'VERSION': vText('b'2.0'')}, VEVENT({'SUMMARY': vText('b'Super GT Race R01''), 'DTSTART': <icalendar.prop.vDDDTypes object at 0x00000169AD4AE100>, 'DTEND': <icalendar.prop.vDDDTypes object at 0x00000169AD4AE190>, 'DTSTAMP': <icalendar.prop.vDDDTypes object at 0x00000169AD4AE430>, 'LOCATION': vText('b'Okayama''), 'UID': vText('b'110'')}), VEVENT({'SUMMARY': vText('b'Super GT Race R02''), 'DTSTART': <icalendar.prop.vDDDTypes object at 0x00000169AD4AE2E0>, 'DTEND': <icalendar.prop.vDDDTypes object at 0x00000169AD4AED00>, 'DTSTAMP': <icalendar.prop.vDDDTypes object at 0x00000169AD4AED90>, 'LOCATION': vText('b'Fuji''), 'UID': vText('b'111'')}), VEVENT({'SUMMARY': vText('b'Super GT Race R03''), 'DTSTART': <icalendar.prop.vDDDTypes object at 0x00000169AD4AEEE0>, 'DTEND': <icalendar.prop.vDDDTypes object at 0x00000169AD4AEF70>, 'DTSTAMP': <icalendar.prop.vDDDTypes object at 0x00000169AD4AE250>, 'LOCATION': vText('b'Suzuka''), 'UID': vText('b'112'')}), VEVENT({'SUMMARY': vText('b'Super GT Race R04''), 'DTSTART': <icalendar.prop.vDDDTypes object at 0x00000169AD4A9910>, 'DTEND': <icalendar.prop.vDDDTypes object at 0x00000169AD4A9130>, 'DTSTAMP': <icalendar.prop.vDDDTypes object at 0x00000169AD4A9640>, 'LOCATION': vText('b'Fuji''), 'UID': vText('b'113'')}), VEVENT({'SUMMARY': vText('b'Super GT Race R05''), 'DTSTART': <icalendar.prop.vDDDTypes object at 0x00000169AD4A9400>, 'DTEND': <icalendar.prop.vDDDTypes object at 0x00000169AD4A97F0>, 'DTSTAMP': <icalendar.prop.vDDDTypes object at 0x00000169AD4A9F10>, 'LOCATION': vText('b'Suzuka''), 'UID': vText('b'114'')}), VEVENT({'SUMMARY': vText('b'Super GT Race R06''), 'DTSTART': <icalendar.prop.vDDDTypes object at 0x00000169AD4A9E20>, 'DTEND': <icalendar.prop.vDDDTypes object at 0x00000169AD4A9CA0>, 'DTSTAMP': <icalendar.prop.vDDDTypes object at 0x00000169AD4A9C10>, 'LOCATION': vText('b'Sugo''), 'UID': vText('b'115'')}), VEVENT({'SUMMARY': vText('b'Super GT Race R07''), 'DTSTART': <icalendar.prop.vDDDTypes object at 0x00000169AD4A9AC0>, 'DTEND': <icalendar.prop.vDDDTypes object at 0x00000169AD4A9A30>, 'DTSTAMP': <icalendar.prop.vDDDTypes object at 0x00000169AD4A9760>, 'LOCATION': vText('b'Autopolis''), 'UID': vText('b'116'')}), VEVENT({'SUMMARY': vText('b'Super GT Race R08''), 'DTSTART': <icalendar.prop.vDDDTypes object at 0x00000169AD4A94F0>, 'DTEND': <icalendar.prop.vDDDTypes object at 0x00000169AD4A9370>, 'DTSTAMP': <icalendar.prop.vDDDTypes object at 0x00000169AD4A92E0>, 'LOCATION': vText('b'Motegi''), 'UID': vText('b'117'')}))"
      ]
     },
     "execution_count": 19,
     "metadata": {},
     "output_type": "execute_result"
    }
   ],
   "source": [
    "Super_GT"
   ]
  },
  {
   "cell_type": "code",
   "execution_count": 20,
   "id": "e7efae8d",
   "metadata": {},
   "outputs": [
    {
     "name": "stdout",
     "output_type": "stream",
     "text": [
      "ics file will be generated at  C:\\Users\\chris\\Documents\\Calendars/\n"
     ]
    }
   ],
   "source": [
    "directory = str(Path(r'C:\\Users\\chris\\Documents\\Calendars')) + \"/\"\n",
    "print(\"ics file will be generated at \", directory)\n",
    "f = open(os.path.join(directory, 'Super_GT 2023.ics'), 'wb')\n",
    "f.write(Super_GT.to_ical())\n",
    "f.close()"
   ]
  },
  {
   "cell_type": "code",
   "execution_count": null,
   "id": "be1cdf78",
   "metadata": {},
   "outputs": [],
   "source": []
  },
  {
   "cell_type": "code",
   "execution_count": null,
   "id": "78f759eb",
   "metadata": {},
   "outputs": [],
   "source": []
  },
  {
   "cell_type": "code",
   "execution_count": null,
   "id": "1de28044",
   "metadata": {},
   "outputs": [],
   "source": []
  },
  {
   "cell_type": "code",
   "execution_count": null,
   "id": "24c20ffa",
   "metadata": {},
   "outputs": [],
   "source": []
  },
  {
   "cell_type": "code",
   "execution_count": null,
   "id": "d77b46b4",
   "metadata": {},
   "outputs": [],
   "source": []
  }
 ],
 "metadata": {
  "kernelspec": {
   "display_name": "Python 3 (ipykernel)",
   "language": "python",
   "name": "python3"
  },
  "language_info": {
   "codemirror_mode": {
    "name": "ipython",
    "version": 3
   },
   "file_extension": ".py",
   "mimetype": "text/x-python",
   "name": "python",
   "nbconvert_exporter": "python",
   "pygments_lexer": "ipython3",
   "version": "3.9.7"
  }
 },
 "nbformat": 4,
 "nbformat_minor": 5
}
