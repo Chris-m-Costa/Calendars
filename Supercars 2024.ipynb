{
 "cells": [
  {
   "cell_type": "code",
   "execution_count": 1,
   "id": "f61ee1a8",
   "metadata": {},
   "outputs": [],
   "source": [
    "from bs4 import BeautifulSoup\n",
    "import requests\n",
    "from selenium import webdriver\n",
    "import numpy as np\n",
    "import re\n",
    "from datetime import datetime, date\n",
    "import calendar\n",
    "from calendar import monthrange\n",
    "from datetime import datetime\n",
    "import pytz"
   ]
  },
  {
   "cell_type": "code",
   "execution_count": 2,
   "id": "0aa47d05",
   "metadata": {},
   "outputs": [],
   "source": [
    "driver = webdriver.Chrome()\n",
    "driver.get(\"https://www.supercars.com/calendar?tab=UPCOMING\")\n",
    "\n",
    "# Wait for dynamic content to load if needed\n",
    "\n",
    "sched_soup = BeautifulSoup(driver.page_source, 'html.parser')\n",
    "schedule_details = sched_soup.find_all('div', {'class': 'col-span-12 md:col-span-4'})\n",
    "# <div class=\"col-span-12 md:col-span-4\">\n",
    "driver.quit()\n",
    "\n",
    "\n"
   ]
  },
  {
   "cell_type": "code",
   "execution_count": 3,
   "id": "e20d2723",
   "metadata": {},
   "outputs": [],
   "source": [
    "# schedule_details"
   ]
  },
  {
   "cell_type": "code",
   "execution_count": 4,
   "id": "1ddf11cc",
   "metadata": {},
   "outputs": [],
   "source": [
    "days = [] \n",
    "months = []\n",
    "titles = [] \n",
    "descs = []\n",
    "circuits = [] \n",
    "year = str(datetime.now().year)\n",
    "\n",
    "tit_prt = 'Australian Supercars Race '\n",
    "rnd_cnt = 1\n",
    "titles = []\n",
    "\n",
    "month_mapping = {\n",
    "        'Jan': 1,\n",
    "        'JAN': 1,\n",
    "        'January': 1,\n",
    "        'Feb': 2,\n",
    "        'FEB': 2,\n",
    "        'Mar': 3,\n",
    "        'March': 3,\n",
    "        'Apr': 4,\n",
    "        'May': 5,\n",
    "        'Jun': 6,\n",
    "        'Jul': 7,\n",
    "        'Aug': 8,\n",
    "        'Sep': 9,\n",
    "        'Oct': 10,\n",
    "        'October': 10,\n",
    "        'Nov': 11,\n",
    "        'Dec': 12,\n",
    "        'DEC': 12\n",
    "    }\n",
    "\n"
   ]
  },
  {
   "cell_type": "code",
   "execution_count": 5,
   "id": "b58522b9",
   "metadata": {},
   "outputs": [
    {
     "data": {
      "text/plain": [
       "12"
      ]
     },
     "execution_count": 5,
     "metadata": {},
     "output_type": "execute_result"
    }
   ],
   "source": [
    "len(schedule_details)"
   ]
  },
  {
   "cell_type": "code",
   "execution_count": 6,
   "id": "ecf32985",
   "metadata": {},
   "outputs": [
    {
     "data": {
      "text/plain": [
       "['15', '-', '25', 'Feb']"
      ]
     },
     "execution_count": 6,
     "metadata": {},
     "output_type": "execute_result"
    }
   ],
   "source": [
    "# <div class=\"font-inter font-normal normal text-md antialiased text-white px-1 pt-[1px] leading-6\">15 - 25 Feb</div>\n",
    "\n",
    "\n",
    "date_test = schedule_details[0].find('div', {'class':\"font-inter font-normal normal text-md antialiased text-white px-1 pt-[1px] leading-6\"}).text.split()\n",
    "date_test"
   ]
  },
  {
   "cell_type": "code",
   "execution_count": 7,
   "id": "f537ea10",
   "metadata": {},
   "outputs": [],
   "source": [
    "dates = []\n",
    "\n",
    "for i in schedule_details:\n",
    "    day_ints = []\n",
    "    scrp_daystr = []\n",
    "    dates = []\n",
    "    wknd_dates = []\n",
    "    \n",
    "    temp_date = i.find('div', {'class':\"font-inter font-normal normal text-md antialiased text-white px-1 pt-[1px] leading-6\"}).text.split()    \n",
    "    temp_month = temp_date[-1]\n",
    "    \n",
    "    #   Logic for multi-month events\n",
    "    if '-' in temp_month:\n",
    "        temp_start_month = temp_month.split('-')[0]\n",
    "        temp_end_month = temp_month.split('-')[1]\n",
    "        converted_start_month = month_mapping[temp_start_month]\n",
    "        converted_end_month = month_mapping[temp_end_month]\n",
    "#         print('converted_start_month: ' + str(converted_start_month), 'converted_end_month: ' + str(converted_end_month))\n",
    "\n",
    "        scrp_day = temp_date[1].split('-')\n",
    "        start_day, end_day = map(int, scrp_day)  # start_day = 31, end_day = 3\n",
    "#         print('start_day: ' + str(start_day), 'end_day: ' + str(end_day))\n",
    "        \n",
    "        start_date = year + '-' + str(converted_start_month).zfill(2) + '-' + str(start_day).zfill(2)      \n",
    "#         print('start_date: ' + str(start_date))\n",
    "\n",
    "        end_date = year + '-' + str(converted_end_month).zfill(2) + '-' + str(end_day).zfill(2)\n",
    "#         print('end_date: ' + str(end_date))\n",
    "\n",
    "        _, last_day_of_month = monthrange(int(year), converted_start_month)\n",
    "        days_in_strt_month = np.arange(start_day, last_day_of_month + 1).tolist()\n",
    "#         print('last_day_of_month: ' + str(last_day_of_month), 'days_in_strt_month: ' + str(days_in_strt_month) ) \n",
    "        \n",
    "        days_in_end_month = np.arange(1, end_day + 1).tolist()\n",
    "#         print('days_in_end_month: ' + str(days_in_end_month) ) \n",
    "            \n",
    "        for day in days_in_strt_month:\n",
    "            date_str = year + '-' + str(converted_start_month).zfill(2) + '-' + str(day).zfill(2)\n",
    "            dates.append(date_str)\n",
    "            \n",
    "        for day in days_in_end_month:\n",
    "            date_str = year + '-' + str(converted_end_month).zfill(2) + '-' + str(day).zfill(2)\n",
    "            dates.append(date_str)\n",
    "            \n",
    "   \n",
    "\n",
    "\n",
    "#         logic for single month events\n",
    "\n",
    "    else:  \n",
    "        converted_month = month_mapping[temp_month]\n",
    "#         print('converted_month: ' + str(converted_month))\n",
    "        \n",
    "        start_day = int(temp_date[0])\n",
    "        end_day = int(temp_date[2])\n",
    "#         start_day, end_day = map(int, scrp_day)  # start_day = 22, end_day = 25\n",
    "#         print('start_day: ' + str(start_day), 'end_day: ' + str(end_day))\n",
    "        \n",
    "#         start_date = year + '-' + str(converted_month).zfill(2) + '-' + str(start_day).zfill(2)      \n",
    "# #         print('start_date: ' + str(start_date))\n",
    "\n",
    "#         end_date = year + '-' + str(converted_month).zfill(2) + '-' + str(end_day).zfill(2)\n",
    "# #         print('end_date: ' + str(end_date))\n",
    "        \n",
    "        if len(range(start_day, end_day + 1)) > 6:\n",
    "            for day in range(start_day, end_day + 1)[5:]:\n",
    "                date_str = year + '-' + str(converted_month).zfill(2) + '-' + str(day).zfill(2)\n",
    "                dates.append(date_str)\n",
    "        \n",
    "        if len(range(start_day, end_day + 1)) <= 5:\n",
    "            for day in range(start_day, end_day + 1):\n",
    "                date_str = year + '-' + str(converted_month).zfill(2) + '-' + str(day).zfill(2)\n",
    "                dates.append(date_str)\n",
    "\n",
    "#     print('Dates:', ', '.join(dates))\n",
    "    \n",
    "    \n",
    "    for date in dates:\n",
    "        date_obj = datetime.strptime(date, '%Y-%m-%d')\n",
    "\n",
    "        year, month, day = date_obj.year, date_obj.month, date_obj.day\n",
    "        if calendar.weekday(year, month, day) >= 5:\n",
    "            wknd_dates.append(date)\n",
    "#     print('wknd_dates: ' + ', '.join(wknd_dates))\n",
    "    \n",
    "    for date in wknd_dates:\n",
    "        year, month, day = date.split('-')\n",
    "        day = int(day) # Remove leading zero if present\n",
    "        month = int(month) # Remove leading zero if present\n",
    "        days.append(day)\n",
    "        months.append(month)\n",
    "\n",
    "# <div class=\"font-inter font-normal normal text-md antialiased leading-6 text-light-grey-4\">Bathurst, NSW</div>\n",
    "# <div class=\"font-inter font-normal normal text-md antialiased leading-6 text-light-grey-4\">Bathurst, NSW</div>\n",
    "# <div target=\"_blank\" class=\"flex flex-row items-center gap-1.5\"><div class=\"font-inter font-normal normal text-md antialiased leading-6 text-light-grey-4\">Melbourne, VIC</div></div>\n",
    "    \n",
    "    if len(wknd_dates) > 2:\n",
    "        temp_circuit = i.find('div', {'class':'font-inter font-normal normal text-md antialiased leading-6 text-light-grey-4'}).text\n",
    "        circuits.extend([temp_circuit] * 2)\n",
    "\n",
    "        tit = tit_prt + str(rnd_cnt)\n",
    "        titles.append(tit) \n",
    "        rnd_cnt += 1\n",
    "        tit = tit_prt + str(rnd_cnt)\n",
    "        titles.append(tit) \n",
    "        rnd_cnt += 1\n",
    "        \n",
    "        desc = i.find('div', {'class':'font-inter font-normal normal text-base antialiased z-[3] pt-2 md:pt-3 text-dark-grey-2'}).text\n",
    "        descs.append(desc + ' Race 1')\n",
    "        descs.append(desc + ' Race 2')\n",
    "        \n",
    "    \n",
    "    \n",
    "    elif len(wknd_dates) == 2:   \n",
    "        temp_circuit = i.find('div', {'class':'font-inter font-normal normal text-md antialiased leading-6 text-light-grey-4'}).text\n",
    "        circuits.extend([temp_circuit] * 2)\n",
    "\n",
    "        tit = tit_prt + str(rnd_cnt)\n",
    "        titles.append(tit) \n",
    "        rnd_cnt += 1\n",
    "        tit = tit_prt + str(rnd_cnt)\n",
    "        titles.append(tit) \n",
    "        rnd_cnt += 1\n",
    "        \n",
    "        \n",
    "# <div class=\"font-inter font-normal normal text-base antialiased z-[3] pt-2 md:pt-3 text-dark-grey-2\">2024 Bathurst SuperFest</div>\n",
    "# <div class=\"font-inter font-normal normal text-base antialiased z-[3] pt-2 md:pt-3 text-dark-grey-2\">2024 Melbourne SuperSprint</div>\n",
    "        \n",
    "        desc = i.find('div', {'class':'font-inter font-normal normal text-base antialiased z-[3] pt-2 md:pt-3 text-dark-grey-2'}).text\n",
    "        descs.append(desc + ' Race 1')\n",
    "        descs.append(desc + ' Race 2')\n",
    "        \n",
    "    elif len(wknd_dates) == 1:\n",
    "        temp_circuit = i.find('div', {'class':'font-inter font-normal normal text-md antialiased leading-6 text-light-grey-4'}).text\n",
    "        circuits.append(temp_circuit)\n",
    "\n",
    "        tit = tit_prt + str(rnd_cnt)\n",
    "        rnd_cnt += 1\n",
    "        titles.append(tit) \n",
    "\n",
    "        desc = i.find('div', {'class':'font-inter font-normal normal text-base antialiased z-[3] pt-2 md:pt-3 text-dark-grey-2'}).text\n",
    "        descs.append(desc)\n",
    "\n",
    "\n",
    "    \n",
    "    \n",
    "\n",
    "#### If you need to handle the case where the range spans over a year, you can add logic to update the year accordingly.\n",
    "\n",
    "# # Checking if the range spans over a year\n",
    "# if converted_start_month > converted_end_month:\n",
    "#     next_year = str(int(year) + 1)\n",
    "#     for month in range(1, converted_end_month + 1):\n",
    "#         start_date = next_year + '-' + str(month).zfill(2) + '-' + str(start_day).zfill(2)\n",
    "#         _, last_day_of_month = monthrange(int(next_year), month)\n",
    "#         days_in_month = np.arange(start_day, last_day_of_month + 1).tolist()\n",
    "        \n",
    "#         for day in days_in_month:\n",
    "#             date_str = next_year + '-' + str(month).zfill(2) + '-' + str(day).zfill(2)\n",
    "#             dates.append(date_str)\n",
    "    \n",
    "#     print('Dates:', ', '.join(dates))"
   ]
  },
  {
   "cell_type": "code",
   "execution_count": null,
   "id": "b952a3e5",
   "metadata": {},
   "outputs": [],
   "source": []
  },
  {
   "cell_type": "code",
   "execution_count": 8,
   "id": "46e9af11",
   "metadata": {},
   "outputs": [
    {
     "data": {
      "text/plain": [
       "24"
      ]
     },
     "execution_count": 8,
     "metadata": {},
     "output_type": "execute_result"
    }
   ],
   "source": [
    "len(titles)"
   ]
  },
  {
   "cell_type": "code",
   "execution_count": 9,
   "id": "4f66db16",
   "metadata": {},
   "outputs": [
    {
     "data": {
      "text/plain": [
       "24"
      ]
     },
     "execution_count": 9,
     "metadata": {},
     "output_type": "execute_result"
    }
   ],
   "source": [
    "len(circuits)"
   ]
  },
  {
   "cell_type": "code",
   "execution_count": 10,
   "id": "cee695c8",
   "metadata": {},
   "outputs": [
    {
     "data": {
      "text/plain": [
       "24"
      ]
     },
     "execution_count": 10,
     "metadata": {},
     "output_type": "execute_result"
    }
   ],
   "source": [
    "len(descs)"
   ]
  },
  {
   "cell_type": "code",
   "execution_count": 11,
   "id": "ed8af54a",
   "metadata": {},
   "outputs": [
    {
     "data": {
      "text/plain": [
       "24"
      ]
     },
     "execution_count": 11,
     "metadata": {},
     "output_type": "execute_result"
    }
   ],
   "source": [
    "len(months)"
   ]
  },
  {
   "cell_type": "code",
   "execution_count": 12,
   "id": "07802285",
   "metadata": {},
   "outputs": [
    {
     "data": {
      "text/plain": [
       "24"
      ]
     },
     "execution_count": 12,
     "metadata": {},
     "output_type": "execute_result"
    }
   ],
   "source": [
    "len(days)"
   ]
  },
  {
   "cell_type": "code",
   "execution_count": 13,
   "id": "c2e59ff2",
   "metadata": {},
   "outputs": [
    {
     "data": {
      "text/plain": [
       "'2024'"
      ]
     },
     "execution_count": 13,
     "metadata": {},
     "output_type": "execute_result"
    }
   ],
   "source": [
    "year"
   ]
  },
  {
   "cell_type": "code",
   "execution_count": 14,
   "id": "6b8dc3dd",
   "metadata": {},
   "outputs": [],
   "source": [
    "import pytz\n",
    "import icalendar\n",
    "from datetime import datetime\n",
    "from pathlib import Path\n",
    "import os\n",
    "from icalendar import Calendar, Event,  vText, vCalAddress"
   ]
  },
  {
   "cell_type": "code",
   "execution_count": 15,
   "id": "f5465cb9",
   "metadata": {},
   "outputs": [],
   "source": [
    "Aussie_Supercars = Calendar()\n",
    "Aussie_Supercars.add('prodid', '-//My calendar product//example.com//')\n",
    "Aussie_Supercars.add('version', '2.0')\n",
    "uid = 110"
   ]
  },
  {
   "cell_type": "code",
   "execution_count": 16,
   "id": "1529f6fc",
   "metadata": {},
   "outputs": [],
   "source": [
    " \n",
    "for title, circuit, day, month, desc in zip(titles, circuits, days, months, descs):\n",
    "    ievent = Event()\n",
    "    ievent.add('summary', title) #Title of the event\n",
    "    ievent.add('description', desc)     #Description of event\n",
    "    #     ievent.add('description', f\"{event}\\n{length}\")\n",
    "\n",
    "    ievent.add('dtstart', datetime(int(year), month, day, 13, 0, 0, tzinfo=pytz.timezone('Australia/Sydney')))\n",
    "    ievent.add('dtend', datetime(int(year), month, day, 15, 0, 0, tzinfo=pytz.timezone('Australia/Sydney')))\n",
    "    ievent.add('dtstamp', datetime(2024, 1, 16, 0, 10, 0, tzinfo=pytz.timezone('est')))\n",
    "    ievent.add('location', circuit)\n",
    "    ievent.add('uid', uid)\n",
    "    uid += 1\n",
    "    Aussie_Supercars.add_component(ievent)"
   ]
  },
  {
   "cell_type": "code",
   "execution_count": 17,
   "id": "168d1bd2",
   "metadata": {},
   "outputs": [
    {
     "data": {
      "text/plain": [
       "2"
      ]
     },
     "execution_count": 17,
     "metadata": {},
     "output_type": "execute_result"
    }
   ],
   "source": [
    "len(Aussie_Supercars)"
   ]
  },
  {
   "cell_type": "code",
   "execution_count": null,
   "id": "cca5a581",
   "metadata": {},
   "outputs": [],
   "source": []
  },
  {
   "cell_type": "code",
   "execution_count": 18,
   "id": "0146ef04",
   "metadata": {},
   "outputs": [
    {
     "name": "stdout",
     "output_type": "stream",
     "text": [
      "ics file will be generated at  C:\\Users\\chris\\Documents\\Calendars/\n"
     ]
    }
   ],
   "source": [
    "directory = str(Path(r'C:\\Users\\chris\\Documents\\Calendars')) + \"/\"\n",
    "print(\"ics file will be generated at \", directory)\n",
    "f = open(os.path.join(directory, 'Aussie Supercars.ics'), 'wb')\n",
    "f.write(Aussie_Supercars.to_ical())\n",
    "f.close()"
   ]
  }
 ],
 "metadata": {
  "kernelspec": {
   "display_name": "Python 3 (ipykernel)",
   "language": "python",
   "name": "python3"
  },
  "language_info": {
   "codemirror_mode": {
    "name": "ipython",
    "version": 3
   },
   "file_extension": ".py",
   "mimetype": "text/x-python",
   "name": "python",
   "nbconvert_exporter": "python",
   "pygments_lexer": "ipython3",
   "version": "3.9.7"
  }
 },
 "nbformat": 4,
 "nbformat_minor": 5
}
