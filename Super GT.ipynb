{
 "cells": [
  {
   "cell_type": "code",
   "execution_count": 1,
   "id": "f61ee1a8",
   "metadata": {},
   "outputs": [],
   "source": [
    "from bs4 import BeautifulSoup\n",
    "import requests\n",
    "from selenium import webdriver\n",
    "from datetime import datetime\n"
   ]
  },
  {
   "cell_type": "code",
   "execution_count": 2,
   "id": "0aa47d05",
   "metadata": {},
   "outputs": [],
   "source": [
    "driver = webdriver.Chrome()\n",
    "driver.get(\"https://supergt.net/pages\")\n",
    "\n",
    "# Wait for dynamic content to load if needed\n",
    "\n",
    "sched_soup = BeautifulSoup(driver.page_source, 'html.parser')\n",
    "schedule_details = sched_soup.find_all('tr', {'class':'round_box'})\n",
    "\n",
    "driver.quit()\n"
   ]
  },
  {
   "cell_type": "code",
   "execution_count": 3,
   "id": "e20d2723",
   "metadata": {
    "scrolled": true
   },
   "outputs": [],
   "source": [
    "# len(schedule_details)"
   ]
  },
  {
   "cell_type": "code",
   "execution_count": 4,
   "id": "1ddf11cc",
   "metadata": {},
   "outputs": [],
   "source": [
    "days = [] \n",
    "months = []\n",
    "titles = [] \n",
    "descs = []\n",
    "circuits = []\n",
    "time = []\n",
    "start_hours = []\n",
    "start_minutes = []\n",
    "end_hours = []\n",
    "end_minutes = []\n",
    "\n",
    "year = datetime.now().year\n",
    "\n",
    "round_counter = 1\n",
    "\n",
    "\n",
    "month_mapping = {\n",
    "        'Jan': 1,\n",
    "        'JAN': 1,\n",
    "        'January': 1,\n",
    "        'Feb': 2,\n",
    "        'FEB': 2,\n",
    "        'February': 2,\n",
    "        'Mar': 3,\n",
    "        'March': 3,\n",
    "        'Apr': 4,\n",
    "        'April': 4,\n",
    "        'May': 5,\n",
    "        'Jun': 6,\n",
    "        'June': 6,\n",
    "        'Jul': 7,\n",
    "        'July': 7,\n",
    "        'Aug': 8,\n",
    "        'August': 8,\n",
    "        'Sep': 9,\n",
    "        'September': 9,\n",
    "        'Oct': 10,\n",
    "        'October': 10,\n",
    "        'Nov': 11,\n",
    "        'November': 11,\n",
    "        'Dec': 12,\n",
    "        'DEC': 12,\n",
    "        'December': 12\n",
    "    }\n",
    "\n",
    "\n",
    "lengths = ['300km', '3 Hours', '3 Hours', '350km', '350km', '300km', '3 Hours', '300km']"
   ]
  },
  {
   "cell_type": "code",
   "execution_count": 5,
   "id": "97dc1512",
   "metadata": {},
   "outputs": [],
   "source": [
    "##Example building info lists\n",
    "\n",
    "# for i in schedule_details:\n",
    "#     temp_circuit = i.find('div', {'class': 'race-circuit'}).text\n",
    "#     circuits.append(temp_circuit)\n",
    "    \n",
    "#     temp_date = i.find('div', {'class':\"race-date\"}).text\n",
    "#     temp_date = temp_date.split(' ')\n",
    "#     days.append(int(temp_date[0]))\n",
    "    \n",
    "#     temp_month = temp_date[1]\n",
    "#     converted_month = month_mapping[temp_month]\n",
    "#     months.append(converted_month)\n",
    "    \n",
    "#     round_counter = 1\n",
    "#     temp_title = 'AsLMS Round' + ' ' + str(round_counter)\n",
    "#     round_counter += 1\n",
    "#     titles.append(temp_title)"
   ]
  },
  {
   "cell_type": "code",
   "execution_count": 6,
   "id": "9901c570",
   "metadata": {},
   "outputs": [],
   "source": [
    "# <tr class=\"round_box\" id=\"2024_Round1\">\n",
    "#  <td><img alt=\"next\" height=\"20\" src=\"/img/icons/icon_next.png\" width=\"20\"/></td>\n",
    "#  <td class=\"date\">4/13-14</td>\n",
    "#  <td>Round1 OKAYAMA</td>\n",
    "#  </tr>\n",
    "\n",
    "for i, length in zip(schedule_details, lengths):\n",
    "    \n",
    "    temp_date = i.find('td', {'class':'date'}).text.split('-')\n",
    "    temp_day = temp_date[-1]\n",
    "    if '/' in temp_day:\n",
    "        day = int(temp_day.split('/')[-1])\n",
    "        month = int(temp_day.split('/')[0])\n",
    "    else:\n",
    "        day = int(temp_day)\n",
    "        month = int(temp_date[0].split('/')[0])\n",
    "    days.append(day)\n",
    "    months.append(month)\n",
    "\n",
    "\n",
    "    temp_title = 'Super GT Round' + ' ' + str(round_counter)\n",
    "    round_counter += 1\n",
    "    titles.append(temp_title)\n",
    "    \n",
    "    name = i.find_all('td')[-1].text\n",
    "    desc = name[:5] + ' ' + name[5:] + ' ' + length\n",
    "    descs.append(desc)\n",
    "\n",
    "    start_hour = 11\n",
    "    start_hours.append(start_hour)\n",
    "        \n",
    "    if length == '3 Hours':\n",
    "        end_hour = start_hour + 3\n",
    "        end_hours.append(end_hour)\n",
    "    \n",
    "    else:\n",
    "        end_hour = start_hour + 4\n",
    "        end_hours.append(end_hour)\n",
    "        \n",
    "    "
   ]
  },
  {
   "cell_type": "code",
   "execution_count": 7,
   "id": "b4a8d553",
   "metadata": {},
   "outputs": [
    {
     "data": {
      "text/plain": [
       "['Round 1 OKAYAMA 300km',\n",
       " 'Round 2 FUJI 3 Hours',\n",
       " 'Round 3 SUZUKA 3 Hours',\n",
       " 'Round 4 FUJI 350km',\n",
       " 'Round 5 SUZUKA 350km',\n",
       " 'Round 6 SUGO 300km',\n",
       " 'Round 7 AUTOPOLIS 3 Hours',\n",
       " 'Round 8 MOTEGI 300km']"
      ]
     },
     "execution_count": 7,
     "metadata": {},
     "output_type": "execute_result"
    }
   ],
   "source": [
    "descs"
   ]
  },
  {
   "cell_type": "code",
   "execution_count": 8,
   "id": "a443fb63",
   "metadata": {},
   "outputs": [
    {
     "data": {
      "text/plain": [
       "['Super GT Round 1',\n",
       " 'Super GT Round 2',\n",
       " 'Super GT Round 3',\n",
       " 'Super GT Round 4',\n",
       " 'Super GT Round 5',\n",
       " 'Super GT Round 6',\n",
       " 'Super GT Round 7',\n",
       " 'Super GT Round 8']"
      ]
     },
     "execution_count": 8,
     "metadata": {},
     "output_type": "execute_result"
    }
   ],
   "source": [
    "titles"
   ]
  },
  {
   "cell_type": "code",
   "execution_count": 9,
   "id": "e90d5741",
   "metadata": {},
   "outputs": [
    {
     "data": {
      "text/plain": [
       "[11, 11, 11, 11, 11, 11, 11, 11]"
      ]
     },
     "execution_count": 9,
     "metadata": {},
     "output_type": "execute_result"
    }
   ],
   "source": [
    "start_hours"
   ]
  },
  {
   "cell_type": "code",
   "execution_count": 10,
   "id": "6f0bbbd8",
   "metadata": {},
   "outputs": [
    {
     "data": {
      "text/plain": [
       "[15, 14, 14, 15, 15, 15, 14, 15]"
      ]
     },
     "execution_count": 10,
     "metadata": {},
     "output_type": "execute_result"
    }
   ],
   "source": [
    "end_hours"
   ]
  },
  {
   "cell_type": "code",
   "execution_count": null,
   "id": "d20729ab",
   "metadata": {},
   "outputs": [],
   "source": []
  },
  {
   "cell_type": "code",
   "execution_count": 12,
   "id": "6b8dc3dd",
   "metadata": {},
   "outputs": [],
   "source": [
    "import pytz\n",
    "import icalendar\n",
    "from datetime import datetime\n",
    "from pathlib import Path\n",
    "import os\n",
    "from icalendar import Calendar, Event,  vText, vCalAddress"
   ]
  },
  {
   "cell_type": "code",
   "execution_count": 13,
   "id": "f5465cb9",
   "metadata": {},
   "outputs": [],
   "source": [
    "Super_GT = Calendar()\n",
    "Super_GT.add('prodid', '-//My calendar product//example.com//')\n",
    "Super_GT.add('version', '2.0')\n",
    "uid = 110"
   ]
  },
  {
   "cell_type": "code",
   "execution_count": 14,
   "id": "1529f6fc",
   "metadata": {},
   "outputs": [],
   "source": [
    " \n",
    "for title, desc, day, month, s_h, e_h in zip(titles, descs, days, months, start_hours, end_hours):\n",
    "    ievent = Event()\n",
    "    ievent.add('summary', title) #Title of the event\n",
    "    ievent.add('description', desc)     #Description of event\n",
    "    #     ievent.add('description', f\"{event}\\n{length}\")\n",
    "\n",
    "    ievent.add('dtstart', datetime(year, month, day, s_h, 0, 0, tzinfo=pytz.timezone('Asia/Tokyo')))\n",
    "    ievent.add('dtend', datetime(year, month, day, e_h, 0, 0, tzinfo=pytz.timezone('Asia/Tokyo')))\n",
    "    ievent.add('dtstamp', datetime(year, 1, 16, 0, 10, 0, tzinfo=pytz.timezone('est')))\n",
    "#     ievent.add('location', circuit)\n",
    "    ievent.add('uid', uid)\n",
    "    uid += 1\n",
    "    Super_GT.add_component(ievent)"
   ]
  },
  {
   "cell_type": "code",
   "execution_count": 15,
   "id": "168d1bd2",
   "metadata": {},
   "outputs": [
    {
     "data": {
      "text/plain": [
       "VCALENDAR({'PRODID': vText('b'-//My calendar product//example.com//''), 'VERSION': vText('b'2.0'')}, VEVENT({'SUMMARY': vText('b'Super GT Round 1''), 'DESCRIPTION': vText('b'Round 1 OKAYAMA 300km''), 'DTSTART': <icalendar.prop.vDDDTypes object at 0x000001802076A880>, 'DTEND': <icalendar.prop.vDDDTypes object at 0x000001802076A1F0>, 'DTSTAMP': <icalendar.prop.vDDDTypes object at 0x000001802076A8B0>, 'UID': vText('b'110'')}), VEVENT({'SUMMARY': vText('b'Super GT Round 2''), 'DESCRIPTION': vText('b'Round 2 FUJI 3 Hours''), 'DTSTART': <icalendar.prop.vDDDTypes object at 0x0000018020ADA670>, 'DTEND': <icalendar.prop.vDDDTypes object at 0x0000018020AED1C0>, 'DTSTAMP': <icalendar.prop.vDDDTypes object at 0x0000018020AEDB50>, 'UID': vText('b'111'')}), VEVENT({'SUMMARY': vText('b'Super GT Round 3''), 'DESCRIPTION': vText('b'Round 3 SUZUKA 3 Hours''), 'DTSTART': <icalendar.prop.vDDDTypes object at 0x0000018020AE5FA0>, 'DTEND': <icalendar.prop.vDDDTypes object at 0x0000018020AE5700>, 'DTSTAMP': <icalendar.prop.vDDDTypes object at 0x0000018020936A00>, 'UID': vText('b'112'')}), VEVENT({'SUMMARY': vText('b'Super GT Round 4''), 'DESCRIPTION': vText('b'Round 4 FUJI 350km''), 'DTSTART': <icalendar.prop.vDDDTypes object at 0x000001802090FD60>, 'DTEND': <icalendar.prop.vDDDTypes object at 0x000001802085A700>, 'DTSTAMP': <icalendar.prop.vDDDTypes object at 0x000001802085A610>, 'UID': vText('b'113'')}), VEVENT({'SUMMARY': vText('b'Super GT Round 5''), 'DESCRIPTION': vText('b'Round 5 SUZUKA 350km''), 'DTSTART': <icalendar.prop.vDDDTypes object at 0x000001802085AF40>, 'DTEND': <icalendar.prop.vDDDTypes object at 0x00000180209D3A60>, 'DTSTAMP': <icalendar.prop.vDDDTypes object at 0x000001802084EBE0>, 'UID': vText('b'114'')}), VEVENT({'SUMMARY': vText('b'Super GT Round 6''), 'DESCRIPTION': vText('b'Round 6 SUGO 300km''), 'DTSTART': <icalendar.prop.vDDDTypes object at 0x0000018020594EE0>, 'DTEND': <icalendar.prop.vDDDTypes object at 0x0000018020A583A0>, 'DTSTAMP': <icalendar.prop.vDDDTypes object at 0x0000018021341040>, 'UID': vText('b'115'')}), VEVENT({'SUMMARY': vText('b'Super GT Round 7''), 'DESCRIPTION': vText('b'Round 7 AUTOPOLIS 3 Hours''), 'DTSTART': <icalendar.prop.vDDDTypes object at 0x0000018020AF2670>, 'DTEND': <icalendar.prop.vDDDTypes object at 0x0000018020AF2700>, 'DTSTAMP': <icalendar.prop.vDDDTypes object at 0x0000018020AF2A90>, 'UID': vText('b'116'')}), VEVENT({'SUMMARY': vText('b'Super GT Round 8''), 'DESCRIPTION': vText('b'Round 8 MOTEGI 300km''), 'DTSTART': <icalendar.prop.vDDDTypes object at 0x0000018020AF2E20>, 'DTEND': <icalendar.prop.vDDDTypes object at 0x000001802096C5E0>, 'DTSTAMP': <icalendar.prop.vDDDTypes object at 0x000001802096C550>, 'UID': vText('b'117'')}))"
      ]
     },
     "execution_count": 15,
     "metadata": {},
     "output_type": "execute_result"
    }
   ],
   "source": [
    "Super_GT"
   ]
  },
  {
   "cell_type": "code",
   "execution_count": null,
   "id": "b0b7f7c7",
   "metadata": {},
   "outputs": [],
   "source": [
    "br"
   ]
  },
  {
   "cell_type": "code",
   "execution_count": 16,
   "id": "0146ef04",
   "metadata": {},
   "outputs": [
    {
     "name": "stdout",
     "output_type": "stream",
     "text": [
      "ics file will be generated at  C:\\Users\\chris\\Documents\\Calendars/\n"
     ]
    }
   ],
   "source": [
    "directory = str(Path(r'C:\\Users\\chris\\Documents\\Calendars')) + \"/\"\n",
    "print(\"ics file will be generated at \", directory)\n",
    "f = open(os.path.join(directory, 'Super_GT.ics'), 'wb')\n",
    "f.write(Super_GT.to_ical())\n",
    "f.close()"
   ]
  }
 ],
 "metadata": {
  "kernelspec": {
   "display_name": "Python 3 (ipykernel)",
   "language": "python",
   "name": "python3"
  },
  "language_info": {
   "codemirror_mode": {
    "name": "ipython",
    "version": 3
   },
   "file_extension": ".py",
   "mimetype": "text/x-python",
   "name": "python",
   "nbconvert_exporter": "python",
   "pygments_lexer": "ipython3",
   "version": "3.9.7"
  }
 },
 "nbformat": 4,
 "nbformat_minor": 5
}
