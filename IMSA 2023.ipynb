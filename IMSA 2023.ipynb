{
 "cells": [
  {
   "cell_type": "code",
   "execution_count": 10,
   "id": "869aaef4",
   "metadata": {},
   "outputs": [],
   "source": [
    "from bs4 import BeautifulSoup\n",
    "import requests\n",
    "import pandas as pd\n",
    "import numpy as np"
   ]
  },
  {
   "cell_type": "code",
   "execution_count": 11,
   "id": "46b1d47e",
   "metadata": {},
   "outputs": [
    {
     "ename": "NameError",
     "evalue": "name 'trs' is not defined",
     "output_type": "error",
     "traceback": [
      "\u001b[1;31m---------------------------------------------------------------------------\u001b[0m",
      "\u001b[1;31mNameError\u001b[0m                                 Traceback (most recent call last)",
      "Cell \u001b[1;32mIn[11], line 10\u001b[0m\n\u001b[0;32m      5\u001b[0m         trs \u001b[38;5;241m=\u001b[39m soup\u001b[38;5;241m.\u001b[39mfind_all(\u001b[38;5;124m'\u001b[39m\u001b[38;5;124mtr\u001b[39m\u001b[38;5;124m'\u001b[39m)\n\u001b[0;32m      6\u001b[0m \u001b[38;5;66;03m#     request = requests.get(url)\u001b[39;00m\n\u001b[0;32m      7\u001b[0m \u001b[38;5;66;03m#     if request.status_code == 200:\u001b[39;00m\n\u001b[0;32m      8\u001b[0m \u001b[38;5;66;03m#         soup = BeautifulSoup(request.content, 'html.parser')\u001b[39;00m\n\u001b[0;32m      9\u001b[0m \u001b[38;5;66;03m#         trs = soup.find_all('tr')\u001b[39;00m\n\u001b[1;32m---> 10\u001b[0m \u001b[43mtrs\u001b[49m\n",
      "\u001b[1;31mNameError\u001b[0m: name 'trs' is not defined"
     ]
    }
   ],
   "source": [
    "url = 'https://www.imsa.com/'\n",
    "request = requests.get(url)\n",
    "if request.status_code == 200:\n",
    "        soup = BeautifulSoup(request.content, 'html.parser')\n",
    "        trs = soup.find_all('tr')\n",
    "#     request = requests.get(url)\n",
    "#     if request.status_code == 200:\n",
    "#         soup = BeautifulSoup(request.content, 'html.parser')\n",
    "#         trs = soup.find_all('tr')\n",
    "trs"
   ]
  },
  {
   "cell_type": "code",
   "execution_count": null,
   "id": "edb89fa8",
   "metadata": {},
   "outputs": [],
   "source": [
    "soup = BeautifulSoup(response.content, \"html.parser\")\n",
    "#soup"
   ]
  },
  {
   "cell_type": "code",
   "execution_count": null,
   "id": "297dfc78",
   "metadata": {},
   "outputs": [],
   "source": [
    "dates = soup.find_all('div', {'class':\"schedule-item\"})\n",
    "            "
   ]
  },
  {
   "cell_type": "code",
   "execution_count": null,
   "id": "d718cb49",
   "metadata": {},
   "outputs": [],
   "source": [
    "dates"
   ]
  },
  {
   "cell_type": "code",
   "execution_count": null,
   "id": "ec681b80",
   "metadata": {},
   "outputs": [],
   "source": [
    "<div class=\"schedule-item\">"
   ]
  },
  {
   "cell_type": "code",
   "execution_count": null,
   "id": "4869a295",
   "metadata": {},
   "outputs": [],
   "source": []
  },
  {
   "cell_type": "code",
   "execution_count": null,
   "id": "c5ed5ec4",
   "metadata": {},
   "outputs": [],
   "source": []
  },
  {
   "cell_type": "code",
   "execution_count": null,
   "id": "6760a894",
   "metadata": {},
   "outputs": [],
   "source": []
  },
  {
   "cell_type": "code",
   "execution_count": null,
   "id": "fe2ddd90",
   "metadata": {},
   "outputs": [],
   "source": []
  },
  {
   "cell_type": "code",
   "execution_count": null,
   "id": "97d66fd2",
   "metadata": {},
   "outputs": [],
   "source": []
  }
 ],
 "metadata": {
  "kernelspec": {
   "display_name": "Python 3 (ipykernel)",
   "language": "python",
   "name": "python3"
  },
  "language_info": {
   "codemirror_mode": {
    "name": "ipython",
    "version": 3
   },
   "file_extension": ".py",
   "mimetype": "text/x-python",
   "name": "python",
   "nbconvert_exporter": "python",
   "pygments_lexer": "ipython3",
   "version": "3.9.7"
  }
 },
 "nbformat": 4,
 "nbformat_minor": 5
}
