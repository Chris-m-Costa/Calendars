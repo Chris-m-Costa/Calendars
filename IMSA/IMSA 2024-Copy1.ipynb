{
 "cells": [
  {
   "cell_type": "code",
   "execution_count": null,
   "id": "869aaef4",
   "metadata": {},
   "outputs": [],
   "source": [
    "from bs4 import BeautifulSoup\n",
    "import requests\n",
    "import pandas as pd\n",
    "import numpy as np"
   ]
  },
  {
   "cell_type": "code",
   "execution_count": null,
   "id": "46b1d47e",
   "metadata": {},
   "outputs": [],
   "source": [
    "from selenium import webdriver\n",
    "\n",
    "driver = webdriver.Chrome()\n",
    "driver.get(\"https://www.imsa.com/weathertech/weathertech-2024-schedule/\")\n",
    "\n",
    "# Wait for dynamic content to load if needed\n",
    "\n",
    "soup = BeautifulSoup(driver.page_source, 'html.parser')\n",
    "schedule_details = soup.find_all('div', {'class': 'schedule-details'})\n",
    "\n",
    "driver.quit()\n"
   ]
  },
  {
   "cell_type": "code",
   "execution_count": null,
   "id": "edb89fa8",
   "metadata": {},
   "outputs": [],
   "source": [
    "schedule_details"
   ]
  },
  {
   "cell_type": "code",
   "execution_count": null,
   "id": "ec681b80",
   "metadata": {},
   "outputs": [],
   "source": []
  },
  {
   "cell_type": "code",
   "execution_count": null,
   "id": "4869a295",
   "metadata": {},
   "outputs": [],
   "source": [
    "events = []\n",
    "circuit = []\n",
    "length = []\n",
    "dates = []\n",
    "\n",
    "\n",
    "for div in schedule_details:\n",
    "    events.append(div.find('h2', class_='schedule-title').text)\n",
    "    circuit.append(div.find('div', class_='schedule-location').text)\n",
    "    length.append(div.find('div', class_='schedule-duration').text)\n",
    "    dates.append(div.find('div', class_='schedule-date').text)"
   ]
  },
  {
   "cell_type": "code",
   "execution_count": null,
   "id": "1f103faf",
   "metadata": {},
   "outputs": [],
   "source": [
    "length"
   ]
  },
  {
   "cell_type": "code",
   "execution_count": null,
   "id": "c5ed5ec4",
   "metadata": {},
   "outputs": [],
   "source": [
    "dates"
   ]
  },
  {
   "cell_type": "code",
   "execution_count": null,
   "id": "ec8f3610",
   "metadata": {},
   "outputs": [],
   "source": [
    "def convert_dates(dates):\n",
    "    month_mapping = {\n",
    "        'Jan': 1,\n",
    "        'January': 1,\n",
    "        'Feb': 2,\n",
    "        'Mar': 3,\n",
    "        'March': 3,\n",
    "        'Apr': 4,\n",
    "        'May': 5,\n",
    "        'Jun': 6,\n",
    "        'Jul': 7,\n",
    "        'Aug': 8,\n",
    "        'Sep': 9,\n",
    "        'Oct': 10,\n",
    "        'October': 10,\n",
    "        'Nov': 11,\n",
    "        'Dec': 12\n",
    "    }\n",
    "\n",
    "    converted_months = []\n",
    "    converted_days = []\n",
    "\n",
    "    for i, date_range in enumerate(dates):\n",
    "        start_month, start_day, _, end_month, end_day = date_range.split()\n",
    "\n",
    "        start_month_number = month_mapping[start_month]\n",
    "        end_month_number = month_mapping[end_month]\n",
    "\n",
    "        if i == 0:  # Include all days for the roar\n",
    "            for day in range(int(start_day), int(end_day) + 1):\n",
    "                converted_months.append(start_month_number)\n",
    "                converted_days.append(day)\n",
    "        elif i == 1:  # Include both days of 24hr\n",
    "            for day in range(max(1, int(end_day) - 1), int(end_day) + 1):\n",
    "                converted_months.append(end_month_number)\n",
    "                converted_days.append(day)\n",
    "        else:  # Include only the last day for other events\n",
    "            converted_months.append(end_month_number)\n",
    "            converted_days.append(int(end_day))\n",
    "\n",
    "    return converted_months, converted_days\n",
    "\n",
    "\n",
    "\n",
    "converted_months, converted_days = convert_dates(dates)\n",
    "\n",
    "print(converted_months)\n",
    "print(converted_days)\n",
    "\n"
   ]
  },
  {
   "cell_type": "code",
   "execution_count": null,
   "id": "ae8e346f",
   "metadata": {},
   "outputs": [],
   "source": [
    "len(converted_months)"
   ]
  },
  {
   "cell_type": "code",
   "execution_count": null,
   "id": "88450246",
   "metadata": {},
   "outputs": [],
   "source": [
    "len(converted_days)"
   ]
  },
  {
   "cell_type": "code",
   "execution_count": null,
   "id": "97d66fd2",
   "metadata": {},
   "outputs": [],
   "source": []
  },
  {
   "cell_type": "code",
   "execution_count": null,
   "id": "d9d15d80",
   "metadata": {},
   "outputs": [],
   "source": [
    "rounds = []\n",
    "\n",
    "for i, date_range in enumerate(dates):\n",
    "    temp_round = f'IMSA WTSC Round {i}'\n",
    "    rounds.append(temp_round)\n",
    "\n",
    "rounds.pop(0)\n",
    "rounds\n"
   ]
  },
  {
   "cell_type": "code",
   "execution_count": null,
   "id": "669c7251",
   "metadata": {},
   "outputs": [],
   "source": []
  },
  {
   "cell_type": "code",
   "execution_count": null,
   "id": "e1129f2c",
   "metadata": {},
   "outputs": [],
   "source": [
    "#Scraping and adding all Daytona Sessions"
   ]
  },
  {
   "cell_type": "code",
   "execution_count": null,
   "id": "0f76431f",
   "metadata": {},
   "outputs": [],
   "source": [
    "from selenium import webdriver\n",
    "\n",
    "driver = webdriver.Chrome()\n",
    "driver.get(\"https://www.imsa.com/events/2024-rolex-24-at-daytona/\")\n",
    "\n",
    "# Wait for dynamic content to load if needed\n",
    "\n",
    "soup = BeautifulSoup(driver.page_source, 'html.parser')\n",
    "driver.quit()"
   ]
  },
  {
   "cell_type": "code",
   "execution_count": null,
   "id": "97bf5a48",
   "metadata": {},
   "outputs": [],
   "source": [
    "daytona_soup = soup.find('div', {'class':'race-event-schedule-container-inner'})\n",
    "daytona_soup"
   ]
  },
  {
   "cell_type": "code",
   "execution_count": null,
   "id": "ff46be80",
   "metadata": {},
   "outputs": [],
   "source": [
    "from selenium import webdriver\n",
    "\n",
    "driver = webdriver.Chrome()\n",
    "driver.get(\"https://www.imsa.com/events/2024-roar-before-the-rolex-24/\")\n",
    "\n",
    "# Wait for dynamic content to load if needed\n",
    "\n",
    "soup = BeautifulSoup(driver.page_source, 'html.parser')\n",
    "driver.quit()"
   ]
  },
  {
   "cell_type": "code",
   "execution_count": null,
   "id": "c37f0059",
   "metadata": {},
   "outputs": [],
   "source": [
    "roar_soup = soup.find('div', {'class':'race-event-schedule-container-inner'})\n",
    "roar_soup"
   ]
  },
  {
   "cell_type": "code",
   "execution_count": null,
   "id": "6606285b",
   "metadata": {},
   "outputs": [],
   "source": []
  },
  {
   "cell_type": "code",
   "execution_count": null,
   "id": "9ddcdccd",
   "metadata": {},
   "outputs": [],
   "source": [
    "schedule_dict = {}\n",
    "current_header = None\n",
    "\n",
    "for item in roar_soup.find_all(['div', 'h2']):\n",
    "    if item.name == 'h2' and item.text == 'Event Schedule':\n",
    "        continue\n",
    "    elif item.name == 'div' and 'day-event-header' in item.get('class'):\n",
    "        current_header = item.text\n",
    "        schedule_dict[current_header] = []\n",
    "    elif item.name == 'div' and 'day-event-details-container' in item.get('class') and current_header is not None:\n",
    "        schedule_dict[current_header].append(item)"
   ]
  },
  {
   "cell_type": "code",
   "execution_count": null,
   "id": "2b71eb2f",
   "metadata": {},
   "outputs": [],
   "source": [
    "# schedule_dict = {}\n",
    "current_header = None\n",
    "\n",
    "for item in daytona_soup.find_all(['div', 'h2']):\n",
    "    if item.name == 'h2' and item.text == 'Event Schedule':\n",
    "        continue\n",
    "    elif item.name == 'div' and 'day-event-header' in item.get('class'):\n",
    "        current_header = item.text\n",
    "        schedule_dict[current_header] = []\n",
    "    elif item.name == 'div' and 'day-event-details-container' in item.get('class') and current_header is not None:\n",
    "        schedule_dict[current_header].append(item)\n",
    "\n",
    "# # Print the result\n",
    "# for header, details in schedule_dict.items():\n",
    "#     print(f\"{header}: {details}\")\n",
    "\n"
   ]
  },
  {
   "cell_type": "code",
   "execution_count": null,
   "id": "59b32c37",
   "metadata": {},
   "outputs": [],
   "source": [
    "schedule_dict"
   ]
  },
  {
   "cell_type": "code",
   "execution_count": null,
   "id": "27b31426",
   "metadata": {},
   "outputs": [],
   "source": [
    "len(schedule_dict)"
   ]
  },
  {
   "cell_type": "code",
   "execution_count": null,
   "id": "0ed6f594",
   "metadata": {},
   "outputs": [],
   "source": []
  },
  {
   "cell_type": "code",
   "execution_count": null,
   "id": "34f78f90",
   "metadata": {},
   "outputs": [],
   "source": [
    "# # Remove Me\n",
    "\n",
    "# rounds = []\n",
    "\n",
    "# for i, date_range in enumerate(dates):\n",
    "#     temp_round = f'IMSA WTSC Round {i}'\n",
    "#     rounds.append(temp_round)\n",
    "\n",
    "# rounds"
   ]
  },
  {
   "cell_type": "code",
   "execution_count": null,
   "id": "a4322916",
   "metadata": {},
   "outputs": [],
   "source": []
  },
  {
   "cell_type": "code",
   "execution_count": null,
   "id": "9b62943f",
   "metadata": {},
   "outputs": [],
   "source": [
    "dats = []\n",
    "\n",
    "# for date, events in reversed(list(schedule_dict.items())[:-2]):\n",
    "#     for event in reversed(events):\n",
    "#         event_name = event.find('div', class_='event-name').text\n",
    "#         rounds.insert(1, f\"{event_name}\")\n",
    "#         dats.append(f\"{date}\")\n",
    "\n",
    "for date, events in list(schedule_dict.items())[:-2]:\n",
    "    for event in events:\n",
    "        event_name = event.find('div', class_='event-name').text\n",
    "        rounds.insert(1, f\"{event_name}\")\n",
    "        dats.append(f\"{date}\")"
   ]
  },
  {
   "cell_type": "code",
   "execution_count": null,
   "id": "ada59d86",
   "metadata": {},
   "outputs": [],
   "source": [
    "dats"
   ]
  },
  {
   "cell_type": "code",
   "execution_count": null,
   "id": "4e6bc05c",
   "metadata": {},
   "outputs": [],
   "source": [
    "len(dats)"
   ]
  },
  {
   "cell_type": "code",
   "execution_count": null,
   "id": "eca1fc25",
   "metadata": {},
   "outputs": [],
   "source": [
    "new_dats = []\n",
    "for i in dats:\n",
    "    i = i.split(', ', 1)[-1]\n",
    "    i = i.split()\n",
    "    new_dats.append(i)\n",
    "new_dats"
   ]
  },
  {
   "cell_type": "code",
   "execution_count": null,
   "id": "1b7206a6",
   "metadata": {},
   "outputs": [],
   "source": [
    "month_mapping = {\n",
    "    'Jan': 1,\n",
    "    'January': 1,\n",
    "    'Feb': 2,\n",
    "    'Mar': 3,\n",
    "    'March': 3,\n",
    "    'Apr': 4,\n",
    "    'May': 5,\n",
    "    'Jun': 6,\n",
    "    'Jul': 7,\n",
    "    'Aug': 8,\n",
    "    'Sep': 9,\n",
    "    'Oct': 10,\n",
    "    'October': 10,\n",
    "    'Nov': 11,\n",
    "    'Dec': 12\n",
    "}\n",
    "\n",
    "conv_months = []\n",
    "conv_days = []\n",
    "\n",
    "for date_list in new_dats:\n",
    "    month_name, day, year = date_list\n",
    "    conv_months.append(month_mapping[month_name])\n",
    "    conv_days.append(int(day.strip(',')))\n",
    "\n",
    "conv_months.sort()\n"
   ]
  },
  {
   "cell_type": "code",
   "execution_count": null,
   "id": "296c2d4d",
   "metadata": {},
   "outputs": [],
   "source": [
    "len(conv_months)"
   ]
  },
  {
   "cell_type": "code",
   "execution_count": null,
   "id": "1be641a2",
   "metadata": {},
   "outputs": [],
   "source": [
    "for i in conv_months:\n",
    "    converted_months.insert(0, i)\n"
   ]
  },
  {
   "cell_type": "code",
   "execution_count": null,
   "id": "434bd26d",
   "metadata": {},
   "outputs": [],
   "source": [
    "converted_months"
   ]
  },
  {
   "cell_type": "code",
   "execution_count": null,
   "id": "f23e5be3",
   "metadata": {},
   "outputs": [],
   "source": [
    "for i in reversed(conv_days):\n",
    "    converted_days.insert(0, i)"
   ]
  },
  {
   "cell_type": "code",
   "execution_count": null,
   "id": "7f48fa83",
   "metadata": {},
   "outputs": [],
   "source": [
    "converted_days"
   ]
  },
  {
   "cell_type": "code",
   "execution_count": null,
   "id": "aadbf4d5",
   "metadata": {},
   "outputs": [],
   "source": [
    "# new_dats = []\n",
    "# for i in dats:\n",
    "#     i = i.split(', ', 1)[-1]  # Split at the first comma and take the second part\n",
    "#     new_dats.append(i)\n",
    "\n",
    "# new_dats\n"
   ]
  },
  {
   "cell_type": "code",
   "execution_count": null,
   "id": "8ff2b950",
   "metadata": {},
   "outputs": [],
   "source": [
    "# rounds = ['some text', 'some more test', 'other text']\n",
    "\n",
    "for date, events in reversed(list(schedule_dict.items())[:-2]): #drops the last two items since they are the same as 'round 1'\n",
    "    for event in reversed(events):\n",
    "        event_name = event.find('div', class_='event-name').text\n",
    "        rounds.insert(1, f\"{event_name}\")\n"
   ]
  },
  {
   "cell_type": "code",
   "execution_count": null,
   "id": "2c818160",
   "metadata": {},
   "outputs": [],
   "source": [
    "rounds"
   ]
  },
  {
   "cell_type": "code",
   "execution_count": null,
   "id": "f77f21da",
   "metadata": {},
   "outputs": [],
   "source": [
    "import pytz\n",
    "import icalendar\n",
    "from datetime import datetime\n",
    "from pathlib import Path\n",
    "import os\n",
    "from icalendar import Calendar, Event,  vText, vCalAddress"
   ]
  },
  {
   "cell_type": "code",
   "execution_count": null,
   "id": "e7b57b17",
   "metadata": {},
   "outputs": [],
   "source": [
    "IMSA_WTSC = Calendar()\n",
    "IMSA_WTSC.add('prodid', '-//My calendar product//example.com//')\n",
    "IMSA_WTSC.add('version', '2.0')"
   ]
  },
  {
   "cell_type": "code",
   "execution_count": null,
   "id": "5e60c1ea",
   "metadata": {},
   "outputs": [],
   "source": [
    "uid = 110\n",
    "\n",
    "for round, circuit, day, month, length, event in zip(rounds, circuit, converted_days, converted_months, length, events):\n",
    "    ievent = Event()\n",
    "    ievent.add('summary', round) #Title of the event\n",
    "#     ievent.add('description', event)     #Description of event\n",
    "#     ievent.add('description', f\"{event}\\n{length}\")\n",
    "\n",
    "  \n",
    "    # Format the length for a cleaner display\n",
    "    formatted_length = length.replace('DURATION: ', '')\n",
    "    \n",
    "    # Include the formatted length in the description\n",
    "    ievent.add('description', f\"{event}\\nDuration: {formatted_length}\")\n",
    "\n",
    "    ievent.add('dtstart', datetime(2024, month, day, 14, 0, 0, tzinfo=pytz.timezone('est')))\n",
    "    ievent.add('dtend', datetime(2024, month, day, 16, 40, 0, tzinfo=pytz.timezone('est')))\n",
    "    ievent.add('dtstamp', datetime(2024, 1, 9, 0, 10, 0, tzinfo=pytz.timezone('est')))\n",
    "    ievent.add('location', vText(circuit))\n",
    "    ievent.add('uid', uid)\n",
    "    uid += 1\n",
    "    IMSA_WTSC.add_component(ievent)"
   ]
  },
  {
   "cell_type": "code",
   "execution_count": null,
   "id": "8c0af03f",
   "metadata": {},
   "outputs": [],
   "source": [
    "IMSA_WTSC"
   ]
  },
  {
   "cell_type": "code",
   "execution_count": null,
   "id": "e540f4be",
   "metadata": {},
   "outputs": [],
   "source": [
    "directory = str(Path(r'C:\\Users\\chris\\Documents\\Calendars')) + \"/\"\n",
    "print(\"ics file will be generated at \", directory)\n",
    "f = open(os.path.join(directory, 'IMSA_WTSC_2024.ics'), 'wb')\n",
    "f.write(IMSA_WTSC.to_ical())\n",
    "f.close()"
   ]
  }
 ],
 "metadata": {
  "kernelspec": {
   "display_name": "Python 3 (ipykernel)",
   "language": "python",
   "name": "python3"
  },
  "language_info": {
   "codemirror_mode": {
    "name": "ipython",
    "version": 3
   },
   "file_extension": ".py",
   "mimetype": "text/x-python",
   "name": "python",
   "nbconvert_exporter": "python",
   "pygments_lexer": "ipython3",
   "version": "3.9.7"
  }
 },
 "nbformat": 4,
 "nbformat_minor": 5
}
