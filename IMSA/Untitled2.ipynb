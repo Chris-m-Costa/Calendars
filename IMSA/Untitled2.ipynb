{
 "cells": [
  {
   "cell_type": "code",
   "execution_count": 1,
   "id": "ab992cfb",
   "metadata": {},
   "outputs": [],
   "source": [
    "from bs4 import BeautifulSoup\n",
    "import requests\n",
    "import pandas as pd\n",
    "import numpy as np"
   ]
  },
  {
   "cell_type": "code",
   "execution_count": 2,
   "id": "6b945a97",
   "metadata": {},
   "outputs": [],
   "source": [
    "from selenium import webdriver\n",
    "\n",
    "driver = webdriver.Chrome()\n",
    "driver.get(\"https://www.imsa.com/weathertech/weathertech-2024-schedule/\")\n",
    "\n",
    "# Wait for dynamic content to load if needed\n",
    "\n",
    "soup = BeautifulSoup(driver.page_source, 'html.parser')\n",
    "schedule_details = soup.find_all('div', {'class': 'schedule-details'})\n",
    "\n",
    "driver.quit()\n"
   ]
  },
  {
   "cell_type": "code",
   "execution_count": null,
   "id": "4fe8969a",
   "metadata": {},
   "outputs": [],
   "source": [
    "# schedule_details"
   ]
  },
  {
   "cell_type": "code",
   "execution_count": 3,
   "id": "d783a39e",
   "metadata": {},
   "outputs": [],
   "source": [
    "events = []\n",
    "circuit = []\n",
    "length = []\n",
    "dates = []\n",
    "\n",
    "\n",
    "for div in schedule_details:\n",
    "    events.append(div.find('h2', class_='schedule-title').text)\n",
    "    circuit.append(div.find('div', class_='schedule-location').text)\n",
    "    length.append(div.find('div', class_='schedule-duration').text)\n",
    "    dates.append(div.find('div', class_='schedule-date').text)"
   ]
  },
  {
   "cell_type": "code",
   "execution_count": 4,
   "id": "bc12545f",
   "metadata": {},
   "outputs": [
    {
     "data": {
      "text/plain": [
       "['Daytona International Speedway',\n",
       " 'Daytona International Speedway',\n",
       " 'Sebring International Raceway',\n",
       " 'Long Beach Street Circuit',\n",
       " 'WeatherTech Raceway Laguna Seca',\n",
       " 'Detroit Street Circuit',\n",
       " 'Watkins Glen International',\n",
       " 'Canadian Tire Motorsport Park',\n",
       " 'Road America',\n",
       " 'VIRginia International Raceway',\n",
       " 'Indianapolis Motor Speedway',\n",
       " 'Michelin Raceway Road Atlanta']"
      ]
     },
     "execution_count": 4,
     "metadata": {},
     "output_type": "execute_result"
    }
   ],
   "source": [
    "circuit"
   ]
  },
  {
   "cell_type": "code",
   "execution_count": 5,
   "id": "33cd5d51",
   "metadata": {},
   "outputs": [
    {
     "data": {
      "text/plain": [
       "['DURATION: N/A',\n",
       " 'DURATION: 24 Hours',\n",
       " 'DURATION: 12 Hours',\n",
       " 'DURATION: 100 Minutes',\n",
       " 'DURATION: 2 Hours 40 Minutes',\n",
       " 'DURATION: 100 Minutes',\n",
       " 'DURATION: 6 Hours',\n",
       " 'DURATION: 2 Hours 40 Minutes',\n",
       " 'DURATION: 2 Hours 40 Minutes',\n",
       " 'DURATION: 2 Hours 40 Minutes',\n",
       " 'DURATION: 6 Hours',\n",
       " 'DURATION: 10 Hours']"
      ]
     },
     "execution_count": 5,
     "metadata": {},
     "output_type": "execute_result"
    }
   ],
   "source": [
    "length"
   ]
  },
  {
   "cell_type": "code",
   "execution_count": 6,
   "id": "a94d70eb",
   "metadata": {},
   "outputs": [
    {
     "data": {
      "text/plain": [
       "['Roar Before The Rolex 24',\n",
       " 'Rolex 24 At DAYTONA',\n",
       " 'Mobil 1 Twelve Hours of Sebring',\n",
       " 'Acura Grand Prix of Long Beach',\n",
       " 'MOTUL Course de Monterey Powered by Hyundai N',\n",
       " 'Detroit Grand Prix',\n",
       " \"Sahlen's Six Hours of The Glen\",\n",
       " 'Chevrolet Grand Prix',\n",
       " 'IMSA SportsCar Weekend',\n",
       " 'Michelin GT Challenge At VIR',\n",
       " 'TireRack.com Battle on the Bricks',\n",
       " 'MOTUL Petit Le Mans']"
      ]
     },
     "execution_count": 6,
     "metadata": {},
     "output_type": "execute_result"
    }
   ],
   "source": [
    "events"
   ]
  },
  {
   "cell_type": "code",
   "execution_count": 9,
   "id": "4932b4df",
   "metadata": {},
   "outputs": [
    {
     "data": {
      "text/plain": [
       "['Jan 19 - Jan 21',\n",
       " 'Jan 24 - Jan 28',\n",
       " 'Mar 13 - Mar 16',\n",
       " 'Apr 19 - Apr 20',\n",
       " 'May 10 - May 12',\n",
       " 'May 31 - Jun 1',\n",
       " 'Jun 20 - Jun 23',\n",
       " 'Jul 12 - Jul 14',\n",
       " 'Aug 2 - Aug 4',\n",
       " 'Aug 23 - Aug 25',\n",
       " 'Sep 20 - Sep 22',\n",
       " 'Oct 9 - Oct 12']"
      ]
     },
     "execution_count": 9,
     "metadata": {},
     "output_type": "execute_result"
    }
   ],
   "source": [
    "dates"
   ]
  },
  {
   "cell_type": "code",
   "execution_count": 12,
   "id": "458d8513",
   "metadata": {},
   "outputs": [
    {
     "name": "stdout",
     "output_type": "stream",
     "text": [
      "[1, 1, 1, 3, 4, 5, 6, 6, 7, 8, 8, 9, 10]\n",
      "[21, 27, 28, 16, 20, 12, 1, 23, 14, 4, 25, 22, 12]\n"
     ]
    }
   ],
   "source": [
    "def convert_dates(dates):\n",
    "    month_mapping = {\n",
    "        'Jan': 1,\n",
    "        'January': 1,\n",
    "        'Feb': 2,\n",
    "        'Mar': 3,\n",
    "        'March': 3,\n",
    "        'Apr': 4,\n",
    "        'May': 5,\n",
    "        'Jun': 6,\n",
    "        'Jul': 7,\n",
    "        'Aug': 8,\n",
    "        'Sep': 9,\n",
    "        'Oct': 10,\n",
    "        'October': 10,\n",
    "        'Nov': 11,\n",
    "        'Dec': 12\n",
    "    }\n",
    "\n",
    "    converted_months = []\n",
    "    converted_days = []\n",
    "\n",
    "    for i, date_range in enumerate(dates):\n",
    "        start_month, start_day, _, end_month, end_day = date_range.split()\n",
    "\n",
    "        start_month_number = month_mapping[start_month]\n",
    "        end_month_number = month_mapping[end_month]\n",
    "\n",
    "        if i == 0:  # Include all days for the roar\n",
    "            pass\n",
    "#             for day in range(int(start_day), int(end_day) + 1):\n",
    "#                 converted_months.append(start_month_number)\n",
    "#                 converted_days.append(day)\n",
    "        if i == 1:  # Include both days of 24hr\n",
    "            for day in range(max(1, int(end_day) - 1), int(end_day) + 1):\n",
    "                converted_months.append(end_month_number)\n",
    "                converted_days.append(day)\n",
    "        else:  # Include only the last day for other events\n",
    "            converted_months.append(end_month_number)\n",
    "            converted_days.append(int(end_day))\n",
    "\n",
    "    return converted_months, converted_days\n",
    "\n",
    "\n",
    "\n",
    "converted_months, converted_days = convert_dates(dates)\n",
    "\n",
    "print(converted_months)\n",
    "print(converted_days)"
   ]
  },
  {
   "cell_type": "code",
   "execution_count": null,
   "id": "5931b732",
   "metadata": {},
   "outputs": [],
   "source": [
    "len(converted_days)\n"
   ]
  },
  {
   "cell_type": "code",
   "execution_count": null,
   "id": "391546be",
   "metadata": {},
   "outputs": [],
   "source": [
    "len(converted_months)"
   ]
  },
  {
   "cell_type": "code",
   "execution_count": null,
   "id": "d53660dc",
   "metadata": {},
   "outputs": [],
   "source": [
    "rounds = []\n",
    "\n",
    "for i, date_range in enumerate(dates):\n",
    "    temp_round = f'IMSA WTSC Round {i}'\n",
    "    rounds.append(temp_round)\n",
    "\n",
    "rounds.pop(0) \n",
    "#pop to remove first event (roar) since it is covered by individual sessions\n",
    "rounds\n"
   ]
  },
  {
   "cell_type": "code",
   "execution_count": null,
   "id": "7556b036",
   "metadata": {},
   "outputs": [],
   "source": []
  },
  {
   "cell_type": "code",
   "execution_count": null,
   "id": "6000e092",
   "metadata": {},
   "outputs": [],
   "source": [
    "from selenium import webdriver\n",
    "\n",
    "driver = webdriver.Chrome()\n",
    "driver.get(\"https://www.imsa.com/events/2024-rolex-24-at-daytona/\")\n",
    "\n",
    "# Wait for dynamic content to load if needed\n",
    "\n",
    "soup = BeautifulSoup(driver.page_source, 'html.parser')\n",
    "driver.quit()"
   ]
  },
  {
   "cell_type": "code",
   "execution_count": null,
   "id": "fe16a1ed",
   "metadata": {},
   "outputs": [],
   "source": [
    "daytona_soup = soup.find('div', {'class':'race-event-schedule-container-inner'})\n",
    "daytona_soup"
   ]
  },
  {
   "cell_type": "code",
   "execution_count": null,
   "id": "019ae85b",
   "metadata": {},
   "outputs": [],
   "source": []
  },
  {
   "cell_type": "code",
   "execution_count": null,
   "id": "4a8133a1",
   "metadata": {},
   "outputs": [],
   "source": [
    "from selenium import webdriver\n",
    "\n",
    "driver = webdriver.Chrome()\n",
    "driver.get(\"https://www.imsa.com/events/2024-roar-before-the-rolex-24/\")\n",
    "\n",
    "# Wait for dynamic content to load if needed\n",
    "\n",
    "soup = BeautifulSoup(driver.page_source, 'html.parser')\n",
    "driver.quit()"
   ]
  },
  {
   "cell_type": "code",
   "execution_count": null,
   "id": "b2814d05",
   "metadata": {},
   "outputs": [],
   "source": [
    "roar_soup = soup.find('div', {'class':'race-event-schedule-container-inner'})\n",
    "roar_soup"
   ]
  },
  {
   "cell_type": "code",
   "execution_count": null,
   "id": "902f1cc3",
   "metadata": {},
   "outputs": [],
   "source": [
    "schedule_dict = {}\n",
    "current_header = None\n",
    "\n",
    "for item in roar_soup.find_all(['div', 'h2']):\n",
    "    if item.name == 'h2' and item.text == 'Event Schedule':\n",
    "        continue\n",
    "    elif item.name == 'div' and 'day-event-header' in item.get('class'):\n",
    "        current_header = item.text\n",
    "        schedule_dict[current_header] = []\n",
    "    elif item.name == 'div' and 'day-event-details-container' in item.get('class') and current_header is not None:\n",
    "        schedule_dict[current_header].append(item)"
   ]
  },
  {
   "cell_type": "code",
   "execution_count": null,
   "id": "ae21882e",
   "metadata": {},
   "outputs": [],
   "source": [
    "schedule_dict"
   ]
  },
  {
   "cell_type": "code",
   "execution_count": null,
   "id": "5871cc8d",
   "metadata": {},
   "outputs": [],
   "source": [
    "# schedule_dict = {}\n",
    "current_header = None\n",
    "\n",
    "for item in daytona_soup.find_all(['div', 'h2']):\n",
    "    if item.name == 'h2' and item.text == 'Event Schedule':\n",
    "        continue\n",
    "    elif item.name == 'div' and 'day-event-header' in item.get('class'):\n",
    "        current_header = item.text\n",
    "        schedule_dict[current_header] = []\n",
    "    elif item.name == 'div' and 'day-event-details-container' in item.get('class') and current_header is not None:\n",
    "        schedule_dict[current_header].append(item)"
   ]
  },
  {
   "cell_type": "code",
   "execution_count": null,
   "id": "7a91f152",
   "metadata": {},
   "outputs": [],
   "source": []
  },
  {
   "cell_type": "code",
   "execution_count": null,
   "id": "ab2d9d8f",
   "metadata": {},
   "outputs": [],
   "source": [
    "schedule_dict\n",
    "# len(schedule_dict)"
   ]
  },
  {
   "cell_type": "code",
   "execution_count": null,
   "id": "0db59f6a",
   "metadata": {},
   "outputs": [],
   "source": []
  },
  {
   "cell_type": "code",
   "execution_count": null,
   "id": "8917a062",
   "metadata": {},
   "outputs": [],
   "source": [
    "dats = []\n",
    "\n",
    "for date, session in list(schedule_dict.items())[:-2]:\n",
    "    for event in events:\n",
    "#         session_name = session.find('div', class_='event-name').text\n",
    "#         rounds.insert(0, f\"{session_name}\")\n",
    "        dats.append(f\"{date}\")"
   ]
  },
  {
   "cell_type": "code",
   "execution_count": null,
   "id": "7d550789",
   "metadata": {},
   "outputs": [],
   "source": [
    "rounds"
   ]
  },
  {
   "cell_type": "code",
   "execution_count": null,
   "id": "a2a48972",
   "metadata": {},
   "outputs": [],
   "source": [
    "# dats\n",
    "len(dats)"
   ]
  },
  {
   "cell_type": "code",
   "execution_count": null,
   "id": "19ac94d4",
   "metadata": {},
   "outputs": [],
   "source": [
    "hh"
   ]
  },
  {
   "cell_type": "code",
   "execution_count": null,
   "id": "adb72322",
   "metadata": {},
   "outputs": [],
   "source": [
    "dats"
   ]
  },
  {
   "cell_type": "code",
   "execution_count": null,
   "id": "df0d412b",
   "metadata": {},
   "outputs": [],
   "source": [
    "new_dats = []\n",
    "for i in dats:\n",
    "    i = i.split(', ', 1)[-1]\n",
    "    i = i.split()\n",
    "    new_dats.append(i)\n",
    "new_dats"
   ]
  },
  {
   "cell_type": "code",
   "execution_count": null,
   "id": "7705d59a",
   "metadata": {},
   "outputs": [],
   "source": [
    "len(new_dats)"
   ]
  },
  {
   "cell_type": "code",
   "execution_count": null,
   "id": "e2f252f7",
   "metadata": {},
   "outputs": [],
   "source": [
    "month_mapping = {\n",
    "    'Jan': 1,\n",
    "    'January': 1,\n",
    "    'Feb': 2,\n",
    "    'Mar': 3,\n",
    "    'March': 3,\n",
    "    'Apr': 4,\n",
    "    'May': 5,\n",
    "    'Jun': 6,\n",
    "    'Jul': 7,\n",
    "    'Aug': 8,\n",
    "    'Sep': 9,\n",
    "    'Oct': 10,\n",
    "    'October': 10,\n",
    "    'Nov': 11,\n",
    "    'Dec': 12\n",
    "}\n",
    "\n",
    "conv_months = []\n",
    "conv_days = []\n",
    "\n",
    "for date_list in new_dats:\n",
    "    month_name, day, year = date_list\n",
    "    conv_months.append(month_mapping[month_name])\n",
    "    conv_days.append(int(day.strip(',')))\n",
    "\n",
    "conv_months.sort()\n"
   ]
  },
  {
   "cell_type": "code",
   "execution_count": null,
   "id": "2f88da54",
   "metadata": {},
   "outputs": [],
   "source": [
    "# conv_months\n",
    "len(conv_months)"
   ]
  },
  {
   "cell_type": "code",
   "execution_count": null,
   "id": "a6a4c05b",
   "metadata": {},
   "outputs": [],
   "source": [
    "for i in conv_months:\n",
    "    converted_months.insert(0, i)\n"
   ]
  },
  {
   "cell_type": "code",
   "execution_count": null,
   "id": "615345ad",
   "metadata": {},
   "outputs": [],
   "source": [
    "# converted_months\n",
    "len(converted_months)"
   ]
  },
  {
   "cell_type": "code",
   "execution_count": null,
   "id": "cb3c92d0",
   "metadata": {},
   "outputs": [],
   "source": []
  },
  {
   "cell_type": "code",
   "execution_count": null,
   "id": "569cb120",
   "metadata": {},
   "outputs": [],
   "source": [
    "for i in reversed(conv_days):\n",
    "    converted_days.insert(0, i)"
   ]
  },
  {
   "cell_type": "code",
   "execution_count": null,
   "id": "b564d8b9",
   "metadata": {},
   "outputs": [],
   "source": [
    "# converted_days\n",
    "len(converted_days)"
   ]
  },
  {
   "cell_type": "code",
   "execution_count": null,
   "id": "9eb94da3",
   "metadata": {},
   "outputs": [],
   "source": [
    "rounds"
   ]
  },
  {
   "cell_type": "code",
   "execution_count": null,
   "id": "cd6d42c2",
   "metadata": {},
   "outputs": [],
   "source": [
    "# rounds = ['some text', 'some more test', 'other text']\n",
    "\n",
    "for date, events in reversed(list(schedule_dict.items())[:-2]): #drops the last two items since they are the same as 'round 1'\n",
    "    for event in reversed(events):\n",
    "        event_name = event.find('div', class_='event-name').text\n",
    "        rounds.insert(0, f\"{event_name}\")"
   ]
  },
  {
   "cell_type": "code",
   "execution_count": null,
   "id": "c73d2413",
   "metadata": {},
   "outputs": [],
   "source": [
    "rounds\n",
    "# len(rounds)"
   ]
  },
  {
   "cell_type": "code",
   "execution_count": null,
   "id": "c2d4f17e",
   "metadata": {},
   "outputs": [],
   "source": [
    "circuit\n"
   ]
  },
  {
   "cell_type": "code",
   "execution_count": null,
   "id": "87bb44bd",
   "metadata": {},
   "outputs": [],
   "source": [
    "for i in enumerate(new_dats):\n",
    "    circuit.insert(0, 'Daytona International Speedway')\n",
    "    length.insert(0, 'DURATION: N/A')\n",
    "    events.insert(0, 'test')"
   ]
  },
  {
   "cell_type": "code",
   "execution_count": null,
   "id": "4afd339f",
   "metadata": {},
   "outputs": [],
   "source": [
    "circuit"
   ]
  },
  {
   "cell_type": "code",
   "execution_count": null,
   "id": "0a380daf",
   "metadata": {},
   "outputs": [],
   "source": [
    "length"
   ]
  },
  {
   "cell_type": "code",
   "execution_count": null,
   "id": "d633896e",
   "metadata": {},
   "outputs": [],
   "source": [
    "events"
   ]
  },
  {
   "cell_type": "code",
   "execution_count": null,
   "id": "bf029c28",
   "metadata": {},
   "outputs": [],
   "source": []
  },
  {
   "cell_type": "code",
   "execution_count": null,
   "id": "02b253d7",
   "metadata": {},
   "outputs": [],
   "source": []
  },
  {
   "cell_type": "code",
   "execution_count": null,
   "id": "934884bd",
   "metadata": {},
   "outputs": [],
   "source": []
  },
  {
   "cell_type": "code",
   "execution_count": null,
   "id": "d431e22a",
   "metadata": {},
   "outputs": [],
   "source": []
  },
  {
   "cell_type": "code",
   "execution_count": null,
   "id": "3522ba18",
   "metadata": {},
   "outputs": [],
   "source": [
    "import pytz\n",
    "import icalendar\n",
    "from datetime import datetime\n",
    "from pathlib import Path\n",
    "import os\n",
    "from icalendar import Calendar, Event,  vText, vCalAddress"
   ]
  },
  {
   "cell_type": "code",
   "execution_count": null,
   "id": "c83152e7",
   "metadata": {},
   "outputs": [],
   "source": [
    "IMSA_WTSC = Calendar()\n",
    "IMSA_WTSC.add('prodid', '-//My calendar product//example.com//')\n",
    "IMSA_WTSC.add('version', '2.0')"
   ]
  },
  {
   "cell_type": "code",
   "execution_count": null,
   "id": "25b22679",
   "metadata": {},
   "outputs": [],
   "source": [
    "uid = 110\n",
    "\n",
    "for round, circuit, day, month, length, event in zip(rounds, circuit, converted_days, converted_months, length, events):\n",
    "    ievent = Event()\n",
    "    ievent.add('summary', round) #Title of the event\n",
    "#     ievent.add('description', event)     #Description of event\n",
    "#     ievent.add('description', f\"{event}\\n{length}\")\n",
    "\n",
    "  \n",
    "    # Format the length for a cleaner display\n",
    "    formatted_length = length.replace('DURATION: ', '')\n",
    "    \n",
    "    # Include the formatted length in the description\n",
    "    ievent.add('description', f\"{event}\\nDuration: {formatted_length}\")\n",
    "\n",
    "    ievent.add('dtstart', datetime(2024, month, day, 14, 0, 0, tzinfo=pytz.timezone('est')))\n",
    "    ievent.add('dtend', datetime(2024, month, day, 16, 40, 0, tzinfo=pytz.timezone('est')))\n",
    "    ievent.add('dtstamp', datetime(2024, 1, 9, 0, 10, 0, tzinfo=pytz.timezone('est')))\n",
    "    ievent.add('location', vText(circuit))\n",
    "    ievent.add('uid', uid)\n",
    "    uid += 1\n",
    "    IMSA_WTSC.add_component(ievent)"
   ]
  },
  {
   "cell_type": "code",
   "execution_count": null,
   "id": "ea6a6066",
   "metadata": {},
   "outputs": [],
   "source": [
    "IMSA_WTSC"
   ]
  },
  {
   "cell_type": "code",
   "execution_count": null,
   "id": "16c123b7",
   "metadata": {},
   "outputs": [],
   "source": [
    "directory = str(Path(r'C:\\Users\\chris\\Documents\\Calendars')) + \"/\"\n",
    "print(\"ics file will be generated at \", directory)\n",
    "f = open(os.path.join(directory, 'IMSA_WTSC_2024.ics'), 'wb')\n",
    "f.write(IMSA_WTSC.to_ical())\n",
    "f.close()"
   ]
  },
  {
   "cell_type": "code",
   "execution_count": null,
   "id": "fb4fd87c",
   "metadata": {},
   "outputs": [],
   "source": []
  }
 ],
 "metadata": {
  "kernelspec": {
   "display_name": "Python 3 (ipykernel)",
   "language": "python",
   "name": "python3"
  },
  "language_info": {
   "codemirror_mode": {
    "name": "ipython",
    "version": 3
   },
   "file_extension": ".py",
   "mimetype": "text/x-python",
   "name": "python",
   "nbconvert_exporter": "python",
   "pygments_lexer": "ipython3",
   "version": "3.9.7"
  }
 },
 "nbformat": 4,
 "nbformat_minor": 5
}
