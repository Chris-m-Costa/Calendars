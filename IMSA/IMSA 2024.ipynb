{
 "cells": [
  {
   "cell_type": "code",
   "execution_count": 1,
   "id": "869aaef4",
   "metadata": {},
   "outputs": [],
   "source": [
    "from bs4 import BeautifulSoup\n",
    "import requests\n",
    "from selenium import webdriver"
   ]
  },
  {
   "cell_type": "code",
   "execution_count": 2,
   "id": "46b1d47e",
   "metadata": {},
   "outputs": [],
   "source": [
    "\n",
    "driver = webdriver.Chrome()\n",
    "driver.get(\"https://www.imsa.com/weathertech/weathertech-2024-schedule/\")\n",
    "\n",
    "# Wait for dynamic content to load if needed\n",
    "\n",
    "sched_soup = BeautifulSoup(driver.page_source, 'html.parser')\n",
    "schedule_details = sched_soup.find_all('div', {'class': 'schedule-details'})\n",
    "\n",
    "\n",
    "driver.quit()\n"
   ]
  },
  {
   "cell_type": "code",
   "execution_count": 3,
   "id": "edb89fa8",
   "metadata": {},
   "outputs": [
    {
     "data": {
      "text/plain": [
       "<div class=\"schedule-details\">\n",
       "<h2 class=\"schedule-title\" tabindex=\"0\">Roar Before The Rolex 24</h2>\n",
       "<div class=\"schedule-date\" tabindex=\"0\">Jan 19 - Jan 21</div>\n",
       "<div class=\"schedule-location\" tabindex=\"0\">Daytona International Speedway</div>\n",
       "<div class=\"schedule-duration\" tabindex=\"0\">DURATION: N/A</div>\n",
       "</div>"
      ]
     },
     "execution_count": 3,
     "metadata": {},
     "output_type": "execute_result"
    }
   ],
   "source": [
    "schedule_details.pop(0) # Pop to remove first item (the roar). It will be covered by individual sessions\n",
    "# schedule_details"
   ]
  },
  {
   "cell_type": "code",
   "execution_count": 59,
   "id": "ec681b80",
   "metadata": {},
   "outputs": [
    {
     "data": {
      "text/plain": [
       "[<div class=\"schedule-details\">\n",
       " <h2 class=\"schedule-title\" tabindex=\"0\">Rolex 24 At DAYTONA</h2>\n",
       " <div class=\"schedule-date\" tabindex=\"0\">Jan 24 - Jan 28</div>\n",
       " <div class=\"schedule-location\" tabindex=\"0\">Daytona International Speedway</div>\n",
       " <div class=\"schedule-duration\" tabindex=\"0\">DURATION: 24 Hours</div>\n",
       " </div>,\n",
       " <div class=\"schedule-details\">\n",
       " <h2 class=\"schedule-title\" tabindex=\"0\">Mobil 1 Twelve Hours of Sebring Presented by Cadillac</h2>\n",
       " <div class=\"schedule-date\" tabindex=\"0\">Mar 13 - Mar 16</div>\n",
       " <div class=\"schedule-location\" tabindex=\"0\">Sebring International Raceway</div>\n",
       " <div class=\"schedule-duration\" tabindex=\"0\">DURATION: 12 Hours</div>\n",
       " </div>,\n",
       " <div class=\"schedule-details\">\n",
       " <h2 class=\"schedule-title\" tabindex=\"0\">Acura Grand Prix of Long Beach</h2>\n",
       " <div class=\"schedule-date\" tabindex=\"0\">Apr 19 - Apr 20</div>\n",
       " <div class=\"schedule-location\" tabindex=\"0\">Long Beach Street Circuit</div>\n",
       " <div class=\"schedule-duration\" tabindex=\"0\">DURATION: 100 Minutes</div>\n",
       " </div>,\n",
       " <div class=\"schedule-details\">\n",
       " <h2 class=\"schedule-title\" tabindex=\"0\">MOTUL Course de Monterey Powered by Hyundai N</h2>\n",
       " <div class=\"schedule-date\" tabindex=\"0\">May 10 - May 12</div>\n",
       " <div class=\"schedule-location\" tabindex=\"0\">WeatherTech Raceway Laguna Seca</div>\n",
       " <div class=\"schedule-duration\" tabindex=\"0\">DURATION: 2 Hours 40 Minutes</div>\n",
       " </div>,\n",
       " <div class=\"schedule-details\">\n",
       " <h2 class=\"schedule-title\" tabindex=\"0\">Detroit Grand Prix</h2>\n",
       " <div class=\"schedule-date\" tabindex=\"0\">May 31 - Jun 1</div>\n",
       " <div class=\"schedule-location\" tabindex=\"0\">Detroit Street Circuit</div>\n",
       " <div class=\"schedule-duration\" tabindex=\"0\">DURATION: 100 Minutes</div>\n",
       " </div>,\n",
       " <div class=\"schedule-details\">\n",
       " <h2 class=\"schedule-title\" tabindex=\"0\">Sahlen's Six Hours of The Glen</h2>\n",
       " <div class=\"schedule-date\" tabindex=\"0\">Jun 20 - Jun 23</div>\n",
       " <div class=\"schedule-location\" tabindex=\"0\">Watkins Glen International</div>\n",
       " <div class=\"schedule-duration\" tabindex=\"0\">DURATION: 6 Hours</div>\n",
       " </div>,\n",
       " <div class=\"schedule-details\">\n",
       " <h2 class=\"schedule-title\" tabindex=\"0\">Chevrolet Grand Prix</h2>\n",
       " <div class=\"schedule-date\" tabindex=\"0\">Jul 12 - Jul 14</div>\n",
       " <div class=\"schedule-location\" tabindex=\"0\">Canadian Tire Motorsport Park</div>\n",
       " <div class=\"schedule-duration\" tabindex=\"0\">DURATION: 2 Hours 40 Minutes</div>\n",
       " </div>,\n",
       " <div class=\"schedule-details\">\n",
       " <h2 class=\"schedule-title\" tabindex=\"0\">IMSA SportsCar Weekend</h2>\n",
       " <div class=\"schedule-date\" tabindex=\"0\">Aug 1 - Aug 4</div>\n",
       " <div class=\"schedule-location\" tabindex=\"0\">Road America</div>\n",
       " <div class=\"schedule-duration\" tabindex=\"0\">DURATION: 2 Hours 40 Minutes</div>\n",
       " </div>,\n",
       " <div class=\"schedule-details\">\n",
       " <h2 class=\"schedule-title\" tabindex=\"0\">Michelin GT Challenge At VIR</h2>\n",
       " <div class=\"schedule-date\" tabindex=\"0\">Aug 23 - Aug 25</div>\n",
       " <div class=\"schedule-location\" tabindex=\"0\">VIRginia International Raceway</div>\n",
       " <div class=\"schedule-duration\" tabindex=\"0\">DURATION: 2 Hours 40 Minutes</div>\n",
       " </div>,\n",
       " <div class=\"schedule-details\">\n",
       " <h2 class=\"schedule-title\" tabindex=\"0\">TireRack.com Battle on the Bricks</h2>\n",
       " <div class=\"schedule-date\" tabindex=\"0\">Sep 19 - Sep 22</div>\n",
       " <div class=\"schedule-location\" tabindex=\"0\">Indianapolis Motor Speedway</div>\n",
       " <div class=\"schedule-duration\" tabindex=\"0\">DURATION: 6 Hours</div>\n",
       " </div>,\n",
       " <div class=\"schedule-details\">\n",
       " <h2 class=\"schedule-title\" tabindex=\"0\">MOTUL Petit Le Mans</h2>\n",
       " <div class=\"schedule-date\" tabindex=\"0\">Oct 9 - Oct 12</div>\n",
       " <div class=\"schedule-location\" tabindex=\"0\">Michelin Raceway Road Atlanta</div>\n",
       " <div class=\"schedule-duration\" tabindex=\"0\">DURATION: 10 Hours</div>\n",
       " </div>]"
      ]
     },
     "execution_count": 59,
     "metadata": {},
     "output_type": "execute_result"
    }
   ],
   "source": [
    "schedule_details"
   ]
  },
  {
   "cell_type": "code",
   "execution_count": 4,
   "id": "4869a295",
   "metadata": {},
   "outputs": [],
   "source": [
    "event_names = []\n",
    "circuits = []\n",
    "lengths = []\n",
    "dates = []\n",
    "start_days = []\n",
    "end_days = []\n",
    "months = []\n",
    "start_hours = []\n",
    "start_minutes = []\n",
    "end_hours = []\n",
    "end_minutes = []\n",
    "\n",
    "\n",
    "\n",
    "for div in schedule_details:\n",
    "    event_names.append(div.find('h2', class_='schedule-title').text)\n",
    "    circuits.append(div.find('div', class_='schedule-location').text)\n",
    "    lengths.append(div.find('div', class_='schedule-duration').text)\n",
    "    dates.append(div.find('div', class_='schedule-date').text)"
   ]
  },
  {
   "cell_type": "code",
   "execution_count": 5,
   "id": "2a800346",
   "metadata": {},
   "outputs": [
    {
     "data": {
      "text/plain": [
       "['Rolex 24 At DAYTONA',\n",
       " 'Mobil 1 Twelve Hours of Sebring Presented by Cadillac',\n",
       " 'Acura Grand Prix of Long Beach',\n",
       " 'MOTUL Course de Monterey Powered by Hyundai N',\n",
       " 'Detroit Grand Prix',\n",
       " \"Sahlen's Six Hours of The Glen\",\n",
       " 'Chevrolet Grand Prix',\n",
       " 'IMSA SportsCar Weekend',\n",
       " 'Michelin GT Challenge At VIR',\n",
       " 'TireRack.com Battle on the Bricks',\n",
       " 'MOTUL Petit Le Mans']"
      ]
     },
     "execution_count": 5,
     "metadata": {},
     "output_type": "execute_result"
    }
   ],
   "source": [
    "event_names"
   ]
  },
  {
   "cell_type": "code",
   "execution_count": 6,
   "id": "0017f18a",
   "metadata": {},
   "outputs": [
    {
     "data": {
      "text/plain": [
       "['Daytona International Speedway',\n",
       " 'Sebring International Raceway',\n",
       " 'Long Beach Street Circuit',\n",
       " 'WeatherTech Raceway Laguna Seca',\n",
       " 'Detroit Street Circuit',\n",
       " 'Watkins Glen International',\n",
       " 'Canadian Tire Motorsport Park',\n",
       " 'Road America',\n",
       " 'VIRginia International Raceway',\n",
       " 'Indianapolis Motor Speedway',\n",
       " 'Michelin Raceway Road Atlanta']"
      ]
     },
     "execution_count": 6,
     "metadata": {},
     "output_type": "execute_result"
    }
   ],
   "source": [
    "circuit"
   ]
  },
  {
   "cell_type": "code",
   "execution_count": 7,
   "id": "1f103faf",
   "metadata": {},
   "outputs": [
    {
     "data": {
      "text/plain": [
       "['DURATION: 24 Hours',\n",
       " 'DURATION: 12 Hours',\n",
       " 'DURATION: 100 Minutes',\n",
       " 'DURATION: 2 Hours 40 Minutes',\n",
       " 'DURATION: 100 Minutes',\n",
       " 'DURATION: 6 Hours',\n",
       " 'DURATION: 2 Hours 40 Minutes',\n",
       " 'DURATION: 2 Hours 40 Minutes',\n",
       " 'DURATION: 2 Hours 40 Minutes',\n",
       " 'DURATION: 6 Hours',\n",
       " 'DURATION: 10 Hours']"
      ]
     },
     "execution_count": 7,
     "metadata": {},
     "output_type": "execute_result"
    }
   ],
   "source": [
    "length"
   ]
  },
  {
   "cell_type": "code",
   "execution_count": 8,
   "id": "c5ed5ec4",
   "metadata": {},
   "outputs": [
    {
     "data": {
      "text/plain": [
       "['Jan 24 - Jan 28',\n",
       " 'Mar 13 - Mar 16',\n",
       " 'Apr 19 - Apr 20',\n",
       " 'May 10 - May 12',\n",
       " 'May 31 - Jun 1',\n",
       " 'Jun 20 - Jun 23',\n",
       " 'Jul 12 - Jul 14',\n",
       " 'Aug 1 - Aug 4',\n",
       " 'Aug 23 - Aug 25',\n",
       " 'Sep 19 - Sep 22',\n",
       " 'Oct 9 - Oct 12']"
      ]
     },
     "execution_count": 8,
     "metadata": {},
     "output_type": "execute_result"
    }
   ],
   "source": [
    "dates"
   ]
  },
  {
   "cell_type": "code",
   "execution_count": 9,
   "id": "ec8f3610",
   "metadata": {},
   "outputs": [
    {
     "name": "stdout",
     "output_type": "stream",
     "text": [
      "[1, 3, 4, 5, 6, 6, 7, 8, 8, 9, 10]\n",
      "[27, 16, 20, 12, 1, 23, 14, 4, 25, 22, 12]\n"
     ]
    }
   ],
   "source": [
    "def convert_dates(dates):\n",
    "    month_mapping = {\n",
    "        'Jan': 1,\n",
    "        'January': 1,\n",
    "        'Feb': 2,\n",
    "        'Mar': 3,\n",
    "        'March': 3,\n",
    "        'Apr': 4,\n",
    "        'May': 5,\n",
    "        'Jun': 6,\n",
    "        'Jul': 7,\n",
    "        'Aug': 8,\n",
    "        'Sep': 9,\n",
    "        'Oct': 10,\n",
    "        'October': 10,\n",
    "        'Nov': 11,\n",
    "        'Dec': 12\n",
    "    }\n",
    "\n",
    "    converted_months = []\n",
    "    converted_days = []\n",
    "\n",
    "    for i, date_range in enumerate(dates):\n",
    "        start_month, start_day, _, end_month, end_day = date_range.split()\n",
    "\n",
    "        start_month_number = month_mapping[start_month]\n",
    "        end_month_number = month_mapping[end_month]\n",
    "\n",
    "        \n",
    "        if i == 0:  # Include only start day (saturday) of 24hr\n",
    "#             for day in range(max(1, int(end_day) - 1), int(end_day) + 1):\n",
    "                converted_months.append(end_month_number)\n",
    "                converted_days.append(int(end_day)-1)\n",
    "        else:  # Include only the last day for other events\n",
    "            converted_months.append(end_month_number)\n",
    "            converted_days.append(int(end_day))\n",
    "\n",
    "    return converted_months, converted_days\n",
    "\n",
    "\n",
    "\n",
    "converted_months, converted_days = convert_dates(dates)\n",
    "\n",
    "print(converted_months)\n",
    "print(converted_days)\n",
    "\n"
   ]
  },
  {
   "cell_type": "code",
   "execution_count": 10,
   "id": "c751b0ca",
   "metadata": {},
   "outputs": [
    {
     "data": {
      "text/plain": [
       "['IMSA WTSC Round 1',\n",
       " 'IMSA WTSC Round 2',\n",
       " 'IMSA WTSC Round 3',\n",
       " 'IMSA WTSC Round 4',\n",
       " 'IMSA WTSC Round 5',\n",
       " 'IMSA WTSC Round 6',\n",
       " 'IMSA WTSC Round 7',\n",
       " 'IMSA WTSC Round 8',\n",
       " 'IMSA WTSC Round 9',\n",
       " 'IMSA WTSC Round 10',\n",
       " 'IMSA WTSC Round 11']"
      ]
     },
     "execution_count": 10,
     "metadata": {},
     "output_type": "execute_result"
    }
   ],
   "source": [
    "rounds = []\n",
    "\n",
    "for i, date_range in enumerate(dates):\n",
    "    temp_round = f'IMSA WTSC Round {i+1}'\n",
    "    rounds.append(temp_round)\n",
    "\n",
    "rounds\n"
   ]
  },
  {
   "cell_type": "markdown",
   "id": "54067e98",
   "metadata": {},
   "source": [
    "At this point we have all titles(rounds), days, months, lenght, circuit, and description(event_names) for each race."
   ]
  },
  {
   "cell_type": "code",
   "execution_count": null,
   "id": "669c7251",
   "metadata": {},
   "outputs": [],
   "source": []
  },
  {
   "cell_type": "code",
   "execution_count": 11,
   "id": "e1129f2c",
   "metadata": {},
   "outputs": [],
   "source": [
    "#Scraping and adding all Roar and Race Week Sessions (minus the 24hr race)"
   ]
  },
  {
   "cell_type": "code",
   "execution_count": 12,
   "id": "0f76431f",
   "metadata": {},
   "outputs": [],
   "source": [
    "# from selenium import webdriver\n",
    "\n",
    "# driver = webdriver.Chrome()\n",
    "# driver.get(\"https://www.imsa.com/events/2024-rolex-24-at-daytona/\")\n",
    "\n",
    "# # Wait for dynamic content to load if needed\n",
    "\n",
    "# rolex_soup = BeautifulSoup(driver.page_source, 'html.parser')\n",
    "# driver.quit()"
   ]
  },
  {
   "cell_type": "code",
   "execution_count": 13,
   "id": "97bf5a48",
   "metadata": {},
   "outputs": [],
   "source": [
    "# rolex_soup = rolex_soup.find('div', {'class':'race-event-schedule-container-inner'})\n",
    "# rolex_soup"
   ]
  },
  {
   "cell_type": "code",
   "execution_count": 14,
   "id": "ff46be80",
   "metadata": {},
   "outputs": [],
   "source": [
    "# from selenium import webdriver\n",
    "\n",
    "# driver = webdriver.Chrome()\n",
    "# driver.get(\"https://www.imsa.com/events/2024-roar-before-the-rolex-24/\")\n",
    "\n",
    "# # Wait for dynamic content to load if needed\n",
    "\n",
    "# roar_soup = BeautifulSoup(driver.page_source, 'html.parser')\n",
    "# driver.quit()"
   ]
  },
  {
   "cell_type": "code",
   "execution_count": 15,
   "id": "25be47b0",
   "metadata": {},
   "outputs": [],
   "source": [
    "# roar_soup = roar_soup.find('div', {'class':'race-event-schedule-container-inner'})\n",
    "# roar_soup"
   ]
  },
  {
   "cell_type": "code",
   "execution_count": 16,
   "id": "40b3d6a7",
   "metadata": {},
   "outputs": [],
   "source": [
    "from selenium import webdriver\n",
    "\n",
    "driver = webdriver.Chrome()\n",
    "driver.get(\"https://www.imsa.com/events/2024-mobil-1-twelve-hours-of-sebring/\")\n",
    "\n",
    "# Wait for dynamic content to load if needed\n",
    "\n",
    "sebring_soup = BeautifulSoup(driver.page_source, 'html.parser')\n",
    "driver.quit()"
   ]
  },
  {
   "cell_type": "code",
   "execution_count": 17,
   "id": "ea35ab54",
   "metadata": {},
   "outputs": [
    {
     "data": {
      "text/plain": [
       "<div class=\"race-event-schedule-container-inner\">\n",
       "<h2>Event Schedule</h2>\n",
       "<div class=\"day-event-header\">Wednesday, March 13, 2024</div><div class=\"day-event-details-container\"><div class=\"event-time\">8:45 AM to 9:25 AM ET</div><div class=\"event-name\">Practice 1 - Mazda MX-5 Cup</div></div><div class=\"day-event-details-container\"><div class=\"event-time\">9:40 AM to 10:10 AM ET</div><div class=\"event-name\">Practice 1 - Porsche Carrera Cup</div></div><div class=\"day-event-details-container\"><div class=\"event-time\">10:25 AM to 11:10 AM ET</div><div class=\"event-name\">Practice 1 - Lamborghini Super Trofeo</div></div><div class=\"day-event-details-container\"><div class=\"event-time\">11:25 AM to 12:25 PM ET</div><div class=\"event-name\">Practice 1 - Michelin Pilot Challenge</div></div><div class=\"day-event-details-container\"><div class=\"event-time\">1:25 PM to 1:55 PM ET</div><div class=\"event-name\">Practice 2 - Mazda MX-5 Cup</div></div><div class=\"day-event-details-container\"><div class=\"event-time\">2:10 PM to 2:50 PM ET</div><div class=\"event-name\">Practice 2 - Porsche Carrera Cup</div></div><div class=\"day-event-details-container\"><div class=\"event-time\">3:05 PM to 3:50 PM ET</div><div class=\"event-name\">Practice 2 - Lamborghini Super Trofeo</div></div><div class=\"day-event-details-container\"><div class=\"event-time\">4:05 PM to 4:25 PM ET</div><div class=\"event-name\">Qualifying - Mazda MX-5 Cup</div></div><div class=\"day-event-header\">Thursday, March 14, 2024</div><div class=\"day-event-details-container\"><div class=\"event-time\">8:00 AM to 9:00 AM ET</div><div class=\"event-name\">Practice 2 - Michelin Pilot Challenge</div></div><div class=\"day-event-details-container\"><div class=\"event-time\">9:15 AM to 9:45 AM ET</div><div class=\"event-name\">Qualifying - Porsche Carrera Cup</div></div><div class=\"day-event-details-container\"><div class=\"event-time\">10:05 AM to 11:35 AM ET</div><div class=\"event-name\">Practice 1 - WeatherTech Championship</div></div><div class=\"day-event-details-container\"><div class=\"event-time\">11:55 AM to 12:30 PM ET</div><div class=\"event-name\">Qualifying - Lamborghini Super Trofeo</div></div><div class=\"day-event-details-container\"><div class=\"event-time\">1:05 PM to 1:50 PM ET</div><div class=\"event-name\">Race 1 of 2 - Mazda MX-5 Cup</div></div><div class=\"day-event-details-container\"><div class=\"event-time\">2:10 PM to 2:45 PM ET</div><div class=\"event-name\">Qualifying - Michelin Pilot Challenge</div></div><div class=\"day-event-details-container\"><div class=\"event-time\">3:05 PM to 4:35 PM ET</div><div class=\"event-name\">Practice 2  - WeatherTech Championship</div></div><div class=\"day-event-details-container\"><div class=\"event-time\">4:55 PM to 5:35 PM ET</div><div class=\"event-name\">Race 1 of 2 - Porsche Carrera Cup</div></div><div class=\"day-event-details-container\"><div class=\"event-time\">5:55 PM to 6:45 PM ET</div><div class=\"event-name\">Race 1 of 2 - Lamborghini Super Trofeo</div></div><div class=\"day-event-details-container\"><div class=\"event-time\">7:45 PM to 9:15 PM ET</div><div class=\"event-name\">Practice 3 - WeatherTech Championship</div></div><div class=\"day-event-header\">Friday, March 15, 2024</div><div class=\"day-event-details-container\"><div class=\"event-time\">11:45 AM to 12:30 PM ET</div><div class=\"event-name\">Race 2 of 2 - Mazda MX-5 Cup</div></div><div class=\"day-event-details-container\"><div class=\"event-time\">12:50 PM to 1:55 PM ET</div><div class=\"event-name\">Qualifying - WeatherTech Championship</div></div><div class=\"day-event-details-container\"><div class=\"event-time\">3:15 PM to 5:15 PM ET</div><div class=\"event-name\">Alan Jay Automotive Network 120</div></div><div class=\"day-event-details-container\"><div class=\"event-time\">6:05 PM to 6:55 PM ET</div><div class=\"event-name\">Race 2 of 2 - Lamborghini Super Trofeo</div></div><div class=\"day-event-details-container\"><div class=\"event-time\">7:15 PM to 7:55 PM ET</div><div class=\"event-name\">Race 2 of 2 - Porsche Carrera Cup</div></div><div class=\"day-event-header\">Saturday, March 16, 2024</div><div class=\"day-event-details-container\"><div class=\"event-time\">9:40 AM to 9:40 PM ET</div><div class=\"event-name\">Mobil 1 Twelve Hours of Sebring Presented by Cadillac</div></div>\n",
       "</div>"
      ]
     },
     "execution_count": 17,
     "metadata": {},
     "output_type": "execute_result"
    }
   ],
   "source": [
    "sebring_soup = sebring_soup.find('div', {'class':'race-event-schedule-container-inner'})\n",
    "sebring_soup"
   ]
  },
  {
   "cell_type": "code",
   "execution_count": null,
   "id": "e1943ee8",
   "metadata": {},
   "outputs": [],
   "source": []
  },
  {
   "cell_type": "code",
   "execution_count": null,
   "id": "2231fffb",
   "metadata": {},
   "outputs": [],
   "source": []
  },
  {
   "cell_type": "code",
   "execution_count": 18,
   "id": "2b71eb2f",
   "metadata": {},
   "outputs": [],
   "source": [
    "# rolex_dict = {}\n",
    "# current_header = None\n",
    "\n",
    "# for item in rolex_soup.find_all(['div', 'h2']):\n",
    "#     if item.name == 'h2' and item.text == 'Event Schedule':\n",
    "#         continue\n",
    "#     elif item.name == 'div' and 'day-event-header' in item.get('class'):\n",
    "#         current_header = item.text\n",
    "#         rolex_dict[current_header] = []\n",
    "#     elif item.name == 'div' and 'day-event-details-container' in item.get('class') and current_header is not None:\n",
    "#         rolex_dict[current_header].append(item)\n",
    "\n",
    "# # Print the result\n",
    "# for header, details in schedule_dict.items():\n",
    "#     print(f\"{header}: {details}\")\n",
    "\n"
   ]
  },
  {
   "cell_type": "code",
   "execution_count": 19,
   "id": "f7ed3df0",
   "metadata": {},
   "outputs": [
    {
     "name": "stdout",
     "output_type": "stream",
     "text": [
      "Wednesday, March 13, 2024: [<div class=\"day-event-details-container\"><div class=\"event-time\">8:45 AM to 9:25 AM ET</div><div class=\"event-name\">Practice 1 - Mazda MX-5 Cup</div></div>, <div class=\"day-event-details-container\"><div class=\"event-time\">9:40 AM to 10:10 AM ET</div><div class=\"event-name\">Practice 1 - Porsche Carrera Cup</div></div>, <div class=\"day-event-details-container\"><div class=\"event-time\">10:25 AM to 11:10 AM ET</div><div class=\"event-name\">Practice 1 - Lamborghini Super Trofeo</div></div>, <div class=\"day-event-details-container\"><div class=\"event-time\">11:25 AM to 12:25 PM ET</div><div class=\"event-name\">Practice 1 - Michelin Pilot Challenge</div></div>, <div class=\"day-event-details-container\"><div class=\"event-time\">1:25 PM to 1:55 PM ET</div><div class=\"event-name\">Practice 2 - Mazda MX-5 Cup</div></div>, <div class=\"day-event-details-container\"><div class=\"event-time\">2:10 PM to 2:50 PM ET</div><div class=\"event-name\">Practice 2 - Porsche Carrera Cup</div></div>, <div class=\"day-event-details-container\"><div class=\"event-time\">3:05 PM to 3:50 PM ET</div><div class=\"event-name\">Practice 2 - Lamborghini Super Trofeo</div></div>, <div class=\"day-event-details-container\"><div class=\"event-time\">4:05 PM to 4:25 PM ET</div><div class=\"event-name\">Qualifying - Mazda MX-5 Cup</div></div>]\n",
      "Thursday, March 14, 2024: [<div class=\"day-event-details-container\"><div class=\"event-time\">8:00 AM to 9:00 AM ET</div><div class=\"event-name\">Practice 2 - Michelin Pilot Challenge</div></div>, <div class=\"day-event-details-container\"><div class=\"event-time\">9:15 AM to 9:45 AM ET</div><div class=\"event-name\">Qualifying - Porsche Carrera Cup</div></div>, <div class=\"day-event-details-container\"><div class=\"event-time\">10:05 AM to 11:35 AM ET</div><div class=\"event-name\">Practice 1 - WeatherTech Championship</div></div>, <div class=\"day-event-details-container\"><div class=\"event-time\">11:55 AM to 12:30 PM ET</div><div class=\"event-name\">Qualifying - Lamborghini Super Trofeo</div></div>, <div class=\"day-event-details-container\"><div class=\"event-time\">1:05 PM to 1:50 PM ET</div><div class=\"event-name\">Race 1 of 2 - Mazda MX-5 Cup</div></div>, <div class=\"day-event-details-container\"><div class=\"event-time\">2:10 PM to 2:45 PM ET</div><div class=\"event-name\">Qualifying - Michelin Pilot Challenge</div></div>, <div class=\"day-event-details-container\"><div class=\"event-time\">3:05 PM to 4:35 PM ET</div><div class=\"event-name\">Practice 2  - WeatherTech Championship</div></div>, <div class=\"day-event-details-container\"><div class=\"event-time\">4:55 PM to 5:35 PM ET</div><div class=\"event-name\">Race 1 of 2 - Porsche Carrera Cup</div></div>, <div class=\"day-event-details-container\"><div class=\"event-time\">5:55 PM to 6:45 PM ET</div><div class=\"event-name\">Race 1 of 2 - Lamborghini Super Trofeo</div></div>, <div class=\"day-event-details-container\"><div class=\"event-time\">7:45 PM to 9:15 PM ET</div><div class=\"event-name\">Practice 3 - WeatherTech Championship</div></div>]\n",
      "Friday, March 15, 2024: [<div class=\"day-event-details-container\"><div class=\"event-time\">11:45 AM to 12:30 PM ET</div><div class=\"event-name\">Race 2 of 2 - Mazda MX-5 Cup</div></div>, <div class=\"day-event-details-container\"><div class=\"event-time\">12:50 PM to 1:55 PM ET</div><div class=\"event-name\">Qualifying - WeatherTech Championship</div></div>, <div class=\"day-event-details-container\"><div class=\"event-time\">3:15 PM to 5:15 PM ET</div><div class=\"event-name\">Alan Jay Automotive Network 120</div></div>, <div class=\"day-event-details-container\"><div class=\"event-time\">6:05 PM to 6:55 PM ET</div><div class=\"event-name\">Race 2 of 2 - Lamborghini Super Trofeo</div></div>, <div class=\"day-event-details-container\"><div class=\"event-time\">7:15 PM to 7:55 PM ET</div><div class=\"event-name\">Race 2 of 2 - Porsche Carrera Cup</div></div>]\n",
      "Saturday, March 16, 2024: [<div class=\"day-event-details-container\"><div class=\"event-time\">9:40 AM to 9:40 PM ET</div><div class=\"event-name\">Mobil 1 Twelve Hours of Sebring Presented by Cadillac</div></div>]\n"
     ]
    }
   ],
   "source": [
    "sebring_dict = {}\n",
    "current_header = None\n",
    "\n",
    "for item in sebring_soup.find_all(['div', 'h2']):\n",
    "    if item.name == 'h2' and item.text == 'Event Schedule':\n",
    "        continue\n",
    "    elif item.name == 'div' and 'day-event-header' in item.get('class'):\n",
    "        current_header = item.text\n",
    "        sebring_dict[current_header] = []\n",
    "    elif item.name == 'div' and 'day-event-details-container' in item.get('class') and current_header is not None:\n",
    "        sebring_dict[current_header].append(item)\n",
    "# Print the result\n",
    "for header, details in sebring_dict.items():\n",
    "    print(f\"{header}: {details}\")\n",
    "\n"
   ]
  },
  {
   "cell_type": "code",
   "execution_count": 20,
   "id": "59b32c37",
   "metadata": {},
   "outputs": [],
   "source": [
    "# schedule_dict"
   ]
  },
  {
   "cell_type": "code",
   "execution_count": 21,
   "id": "edebb4a1",
   "metadata": {},
   "outputs": [],
   "source": [
    "# len(schedule_dict)"
   ]
  },
  {
   "cell_type": "code",
   "execution_count": 22,
   "id": "16db1fd1",
   "metadata": {},
   "outputs": [],
   "source": [
    "# dats = []\n",
    "# new_rounds = []\n",
    "# session_times = []\n",
    "\n",
    "# for date, events in list(rolex_dict.items())[:-2]: \n",
    "#     for event in events:\n",
    "#         event_name = event.find('div', class_='event-name').text\n",
    "#         event_time = event.find('div', class_='event-time').text\n",
    "#         new_rounds.append(f\"{event_name}\")\n",
    "#         dats.append(f\"{date}\")\n",
    "#         session_times.append(f'{event_time}')\n",
    "        \n",
    "        \n",
    "# # # Only take event-time for the last two items in schedule_dict (the 24hr race itself)\n",
    "\n",
    "# for events in list(rolex_dict.values())[-2:]:\n",
    "#     for event in events:\n",
    "#         event_time = event.find('div', class_='event-time').text\n",
    "#         session_times.append(f'{event_time}')\n",
    "\n"
   ]
  },
  {
   "cell_type": "code",
   "execution_count": 23,
   "id": "8e45a483",
   "metadata": {},
   "outputs": [],
   "source": [
    "dats = []\n",
    "new_rounds = []\n",
    "session_times = []\n",
    "\n",
    "for date, events in list(sebring_dict.items())[:-1]: \n",
    "    for event in events:\n",
    "        event_name = event.find('div', class_='event-name').text\n",
    "        event_time = event.find('div', class_='event-time').text\n",
    "        new_rounds.append(f\"{event_name}\")\n",
    "        dats.append(f\"{date}\")\n",
    "        session_times.append(f'{event_time}')\n",
    "        \n",
    "        \n"
   ]
  },
  {
   "cell_type": "code",
   "execution_count": 24,
   "id": "e762a1f8",
   "metadata": {},
   "outputs": [
    {
     "data": {
      "text/plain": [
       "23"
      ]
     },
     "execution_count": 24,
     "metadata": {},
     "output_type": "execute_result"
    }
   ],
   "source": [
    "len(dats)"
   ]
  },
  {
   "cell_type": "code",
   "execution_count": 25,
   "id": "029a339e",
   "metadata": {},
   "outputs": [
    {
     "data": {
      "text/plain": [
       "23"
      ]
     },
     "execution_count": 25,
     "metadata": {},
     "output_type": "execute_result"
    }
   ],
   "source": [
    "len(new_rounds)"
   ]
  },
  {
   "cell_type": "code",
   "execution_count": 26,
   "id": "dfcd1019",
   "metadata": {},
   "outputs": [
    {
     "data": {
      "text/plain": [
       "23"
      ]
     },
     "execution_count": 26,
     "metadata": {},
     "output_type": "execute_result"
    }
   ],
   "source": [
    "len(session_times)"
   ]
  },
  {
   "cell_type": "code",
   "execution_count": 27,
   "id": "9f4b785a",
   "metadata": {},
   "outputs": [
    {
     "name": "stdout",
     "output_type": "stream",
     "text": [
      "Start Times: ['08,45,00', '09,40,00', '10,25,00', '11,25,00', '13,25,00', '14,10,00', '15,05,00', '16,05,00', '08,00,00', '09,15,00', '10,05,00', '11,55,00', '13,05,00', '14,10,00', '15,05,00', '16,55,00', '17,55,00', '19,45,00', '11,45,00', '12,50,00', '15,15,00', '18,05,00', '19,15,00']\n",
      "End Times: ['09,25,00', '10,10,00', '11,10,00', '12,25,00', '13,55,00', '14,50,00', '15,50,00', '16,25,00', '09,00,00', '09,45,00', '11,35,00', '12,30,00', '13,50,00', '14,45,00', '16,35,00', '17,35,00', '18,45,00', '21,15,00', '12,30,00', '13,55,00', '17,15,00', '18,55,00', '19,55,00']\n"
     ]
    }
   ],
   "source": [
    "from datetime import datetime\n",
    "\n",
    "\n",
    "start_times = []\n",
    "end_times = []\n",
    "\n",
    "for time_range in session_times:\n",
    "    start_str, end_str = time_range.split(' to ')\n",
    "\n",
    "    # Remove 'ET' from end_str\n",
    "    end_str = end_str.replace(' ET', '')\n",
    "\n",
    "    # Parse the start time and convert to 24hr format\n",
    "    start_time = datetime.strptime(start_str, '%I:%M %p').strftime('%H,%M,%S')\n",
    "    start_times.append(start_time)\n",
    "\n",
    "    # Parse the end time and convert to 24hr format\n",
    "    end_time = datetime.strptime(end_str, '%I:%M %p').strftime('%H,%M,%S')\n",
    "    end_times.append(end_time)\n",
    "\n",
    "print(\"Start Times:\", start_times)\n",
    "print(\"End Times:\", end_times)\n"
   ]
  },
  {
   "cell_type": "code",
   "execution_count": 28,
   "id": "c843b400",
   "metadata": {},
   "outputs": [
    {
     "data": {
      "text/plain": [
       "23"
      ]
     },
     "execution_count": 28,
     "metadata": {},
     "output_type": "execute_result"
    }
   ],
   "source": [
    "len(start_times)"
   ]
  },
  {
   "cell_type": "code",
   "execution_count": 29,
   "id": "a4ed6df3",
   "metadata": {},
   "outputs": [
    {
     "name": "stdout",
     "output_type": "stream",
     "text": [
      "[8, 9, 10, 11, 13, 14, 15, 16, 8, 9, 10, 11, 13, 14, 15, 16, 17, 19, 11, 12, 15, 18]\n",
      "[45, 40, 25, 25, 25, 10, 5, 5, 0, 15, 5, 55, 5, 10, 5, 55, 55, 45, 45, 50, 15, 5]\n",
      "[0, 0, 0, 0, 0, 0, 0, 0, 0, 0, 0, 0, 0, 0, 0, 0, 0, 0, 0, 0, 0, 0]\n"
     ]
    }
   ],
   "source": [
    "\n",
    "start_h = []\n",
    "start_m = []\n",
    "start_s = []\n",
    "for time_str in start_times[:-1]: #Ignores the last start time which is midnight during the 24hr race\n",
    "    hours, minutes, seconds = map(int, time_str.split(','))\n",
    "    \n",
    "    # Remove leading 0 if present in hours\n",
    "    hours = int(str(hours).lstrip('0')) if hours != 0 else 0\n",
    "    start_h.append(hours)\n",
    "    \n",
    "   # Remove leading 0 if present in minutes\n",
    "    minutes = int(str(minutes).lstrip('0')) if minutes != 0 else 0\n",
    "    start_m.append(minutes)\n",
    "    \n",
    "    # Remove leading 0 if present in seconds\n",
    "    seconds = int(str(seconds).lstrip('0')) if seconds != 0 else 0\n",
    "    start_s.append(seconds)\n",
    "\n",
    "print(start_h)\n",
    "print(start_m)\n",
    "print(start_s)"
   ]
  },
  {
   "cell_type": "code",
   "execution_count": null,
   "id": "9e5e3aef",
   "metadata": {},
   "outputs": [],
   "source": []
  },
  {
   "cell_type": "code",
   "execution_count": 30,
   "id": "7b63a488",
   "metadata": {},
   "outputs": [
    {
     "data": {
      "text/plain": [
       "23"
      ]
     },
     "execution_count": 30,
     "metadata": {},
     "output_type": "execute_result"
    }
   ],
   "source": [
    "len(end_times)"
   ]
  },
  {
   "cell_type": "code",
   "execution_count": 31,
   "id": "91d68be1",
   "metadata": {},
   "outputs": [
    {
     "name": "stdout",
     "output_type": "stream",
     "text": [
      "[9, 10, 11, 12, 13, 14, 15, 16, 9, 9, 11, 12, 13, 14, 16, 17, 18, 21, 12, 13, 17, 19]\n",
      "[25, 10, 10, 25, 55, 50, 50, 25, 0, 45, 35, 30, 50, 45, 35, 35, 45, 15, 30, 55, 15, 55]\n",
      "[0, 0, 0, 0, 0, 0, 0, 0, 0, 0, 0, 0, 0, 0, 0, 0, 0, 0, 0, 0, 0, 0]\n"
     ]
    }
   ],
   "source": [
    "end_h = []\n",
    "end_m = []\n",
    "end_s = []\n",
    "\n",
    "end_times = end_times[:-2] + end_times[-1:]\n",
    "\n",
    "for time_str in end_times:\n",
    "    hours, minutes, seconds = map(int, time_str.split(','))\n",
    "    \n",
    "    # Remove leading 0 if present in hours\n",
    "    hours = int(str(hours).lstrip('0')) if hours != 0 else 0\n",
    "    end_h.append(hours)\n",
    "    \n",
    "   # Remove leading 0 if present in minutes\n",
    "    minutes = int(str(minutes).lstrip('0')) if minutes != 0 else 0\n",
    "    end_m.append(minutes)\n",
    "    \n",
    "    # Remove leading 0 if present in seconds\n",
    "    seconds = int(str(seconds).lstrip('0')) if seconds != 0 else 0\n",
    "    end_s.append(seconds)\n",
    "\n",
    "print(end_h)\n",
    "print(end_m)\n",
    "print(end_s)"
   ]
  },
  {
   "cell_type": "code",
   "execution_count": 32,
   "id": "115afb54",
   "metadata": {},
   "outputs": [
    {
     "data": {
      "text/plain": [
       "22"
      ]
     },
     "execution_count": 32,
     "metadata": {},
     "output_type": "execute_result"
    }
   ],
   "source": [
    "len(end_h)"
   ]
  },
  {
   "cell_type": "code",
   "execution_count": 33,
   "id": "4180ec52",
   "metadata": {},
   "outputs": [
    {
     "data": {
      "text/plain": [
       "23"
      ]
     },
     "execution_count": 33,
     "metadata": {},
     "output_type": "execute_result"
    }
   ],
   "source": [
    "len(new_rounds)"
   ]
  },
  {
   "cell_type": "code",
   "execution_count": 34,
   "id": "9e7039e6",
   "metadata": {},
   "outputs": [
    {
     "data": {
      "text/plain": [
       "['Wednesday, March 13, 2024',\n",
       " 'Wednesday, March 13, 2024',\n",
       " 'Wednesday, March 13, 2024',\n",
       " 'Wednesday, March 13, 2024',\n",
       " 'Wednesday, March 13, 2024',\n",
       " 'Wednesday, March 13, 2024',\n",
       " 'Wednesday, March 13, 2024',\n",
       " 'Wednesday, March 13, 2024',\n",
       " 'Thursday, March 14, 2024',\n",
       " 'Thursday, March 14, 2024',\n",
       " 'Thursday, March 14, 2024',\n",
       " 'Thursday, March 14, 2024',\n",
       " 'Thursday, March 14, 2024',\n",
       " 'Thursday, March 14, 2024',\n",
       " 'Thursday, March 14, 2024',\n",
       " 'Thursday, March 14, 2024',\n",
       " 'Thursday, March 14, 2024',\n",
       " 'Thursday, March 14, 2024',\n",
       " 'Friday, March 15, 2024',\n",
       " 'Friday, March 15, 2024',\n",
       " 'Friday, March 15, 2024',\n",
       " 'Friday, March 15, 2024',\n",
       " 'Friday, March 15, 2024']"
      ]
     },
     "execution_count": 34,
     "metadata": {},
     "output_type": "execute_result"
    }
   ],
   "source": [
    "dats"
   ]
  },
  {
   "cell_type": "code",
   "execution_count": 35,
   "id": "bbb68203",
   "metadata": {},
   "outputs": [
    {
     "data": {
      "text/plain": [
       "23"
      ]
     },
     "execution_count": 35,
     "metadata": {},
     "output_type": "execute_result"
    }
   ],
   "source": [
    "len(dats)"
   ]
  },
  {
   "cell_type": "code",
   "execution_count": null,
   "id": "22fef0d4",
   "metadata": {},
   "outputs": [],
   "source": []
  },
  {
   "cell_type": "code",
   "execution_count": 36,
   "id": "c6692125",
   "metadata": {},
   "outputs": [
    {
     "data": {
      "text/plain": [
       "[['March', '13,', '2024'],\n",
       " ['March', '13,', '2024'],\n",
       " ['March', '13,', '2024'],\n",
       " ['March', '13,', '2024'],\n",
       " ['March', '13,', '2024'],\n",
       " ['March', '13,', '2024'],\n",
       " ['March', '13,', '2024'],\n",
       " ['March', '13,', '2024'],\n",
       " ['March', '14,', '2024'],\n",
       " ['March', '14,', '2024'],\n",
       " ['March', '14,', '2024'],\n",
       " ['March', '14,', '2024'],\n",
       " ['March', '14,', '2024'],\n",
       " ['March', '14,', '2024'],\n",
       " ['March', '14,', '2024'],\n",
       " ['March', '14,', '2024'],\n",
       " ['March', '14,', '2024'],\n",
       " ['March', '14,', '2024'],\n",
       " ['March', '15,', '2024'],\n",
       " ['March', '15,', '2024'],\n",
       " ['March', '15,', '2024'],\n",
       " ['March', '15,', '2024'],\n",
       " ['March', '15,', '2024']]"
      ]
     },
     "execution_count": 36,
     "metadata": {},
     "output_type": "execute_result"
    }
   ],
   "source": [
    "new_dats = []\n",
    "for i in dats:\n",
    "    i = i.split(', ', 1)[-1]\n",
    "    i = i.split()\n",
    "    new_dats.append(i)\n",
    "new_dats"
   ]
  },
  {
   "cell_type": "code",
   "execution_count": 37,
   "id": "7e37a47b",
   "metadata": {},
   "outputs": [
    {
     "data": {
      "text/plain": [
       "23"
      ]
     },
     "execution_count": 37,
     "metadata": {},
     "output_type": "execute_result"
    }
   ],
   "source": [
    "len(new_dats)"
   ]
  },
  {
   "cell_type": "code",
   "execution_count": 38,
   "id": "689caaad",
   "metadata": {},
   "outputs": [],
   "source": [
    "month_mapping = {\n",
    "    'Jan': 1,\n",
    "    'January': 1,\n",
    "    'Feb': 2,\n",
    "    'Mar': 3,\n",
    "    'March': 3,\n",
    "    'Apr': 4,\n",
    "    'May': 5,\n",
    "    'Jun': 6,\n",
    "    'Jul': 7,\n",
    "    'Aug': 8,\n",
    "    'Sep': 9,\n",
    "    'Oct': 10,\n",
    "    'October': 10,\n",
    "    'Nov': 11,\n",
    "    'Dec': 12\n",
    "}\n",
    "\n",
    "conv_months = []\n",
    "conv_days = []\n",
    "\n",
    "for date_list in new_dats:\n",
    "    month_name, day, year = date_list\n",
    "    conv_months.append(month_mapping[month_name])\n",
    "    conv_days.append(int(day.strip(',')))\n",
    "\n",
    "# conv_months.sort()\n"
   ]
  },
  {
   "cell_type": "code",
   "execution_count": 39,
   "id": "79fad668",
   "metadata": {},
   "outputs": [
    {
     "data": {
      "text/plain": [
       "23"
      ]
     },
     "execution_count": 39,
     "metadata": {},
     "output_type": "execute_result"
    }
   ],
   "source": [
    "len(conv_months)"
   ]
  },
  {
   "cell_type": "code",
   "execution_count": 40,
   "id": "c53082a6",
   "metadata": {},
   "outputs": [
    {
     "data": {
      "text/plain": [
       "23"
      ]
     },
     "execution_count": 40,
     "metadata": {},
     "output_type": "execute_result"
    }
   ],
   "source": [
    "len(conv_days)"
   ]
  },
  {
   "cell_type": "code",
   "execution_count": null,
   "id": "cffaba5e",
   "metadata": {},
   "outputs": [],
   "source": []
  },
  {
   "cell_type": "code",
   "execution_count": 41,
   "id": "dbc085cb",
   "metadata": {},
   "outputs": [
    {
     "data": {
      "text/plain": [
       "11"
      ]
     },
     "execution_count": 41,
     "metadata": {},
     "output_type": "execute_result"
    }
   ],
   "source": [
    "len(converted_months)"
   ]
  },
  {
   "cell_type": "code",
   "execution_count": 42,
   "id": "d1c496aa",
   "metadata": {},
   "outputs": [
    {
     "data": {
      "text/plain": [
       "23"
      ]
     },
     "execution_count": 42,
     "metadata": {},
     "output_type": "execute_result"
    }
   ],
   "source": [
    "len(conv_months)"
   ]
  },
  {
   "cell_type": "code",
   "execution_count": 43,
   "id": "8c6e5baf",
   "metadata": {},
   "outputs": [
    {
     "data": {
      "text/plain": [
       "34"
      ]
     },
     "execution_count": 43,
     "metadata": {},
     "output_type": "execute_result"
    }
   ],
   "source": [
    "for i in conv_months:\n",
    "    converted_months.insert(0, i)\n",
    "\n",
    "len(converted_months)"
   ]
  },
  {
   "cell_type": "code",
   "execution_count": 44,
   "id": "90b954eb",
   "metadata": {},
   "outputs": [
    {
     "data": {
      "text/plain": [
       "23"
      ]
     },
     "execution_count": 44,
     "metadata": {},
     "output_type": "execute_result"
    }
   ],
   "source": [
    "len(conv_days)"
   ]
  },
  {
   "cell_type": "code",
   "execution_count": 45,
   "id": "25f4f9e6",
   "metadata": {},
   "outputs": [
    {
     "data": {
      "text/plain": [
       "[13,\n",
       " 13,\n",
       " 13,\n",
       " 13,\n",
       " 13,\n",
       " 13,\n",
       " 13,\n",
       " 13,\n",
       " 14,\n",
       " 14,\n",
       " 14,\n",
       " 14,\n",
       " 14,\n",
       " 14,\n",
       " 14,\n",
       " 14,\n",
       " 14,\n",
       " 14,\n",
       " 15,\n",
       " 15,\n",
       " 15,\n",
       " 15,\n",
       " 15]"
      ]
     },
     "execution_count": 45,
     "metadata": {},
     "output_type": "execute_result"
    }
   ],
   "source": [
    "conv_days"
   ]
  },
  {
   "cell_type": "code",
   "execution_count": 46,
   "id": "4b0d1201",
   "metadata": {},
   "outputs": [
    {
     "data": {
      "text/plain": [
       "11"
      ]
     },
     "execution_count": 46,
     "metadata": {},
     "output_type": "execute_result"
    }
   ],
   "source": [
    "len(converted_days)"
   ]
  },
  {
   "cell_type": "code",
   "execution_count": 47,
   "id": "6ed4ad66",
   "metadata": {},
   "outputs": [],
   "source": [
    "for i in reversed(conv_days):\n",
    "    converted_days.insert(0, i)"
   ]
  },
  {
   "cell_type": "code",
   "execution_count": 48,
   "id": "121aca5c",
   "metadata": {},
   "outputs": [
    {
     "data": {
      "text/plain": [
       "[13,\n",
       " 13,\n",
       " 13,\n",
       " 13,\n",
       " 13,\n",
       " 13,\n",
       " 13,\n",
       " 13,\n",
       " 14,\n",
       " 14,\n",
       " 14,\n",
       " 14,\n",
       " 14,\n",
       " 14,\n",
       " 14,\n",
       " 14,\n",
       " 14,\n",
       " 14,\n",
       " 15,\n",
       " 15,\n",
       " 15,\n",
       " 15,\n",
       " 15,\n",
       " 27,\n",
       " 16,\n",
       " 20,\n",
       " 12,\n",
       " 1,\n",
       " 23,\n",
       " 14,\n",
       " 4,\n",
       " 25,\n",
       " 22,\n",
       " 12]"
      ]
     },
     "execution_count": 48,
     "metadata": {},
     "output_type": "execute_result"
    }
   ],
   "source": [
    "converted_days"
   ]
  },
  {
   "cell_type": "code",
   "execution_count": 49,
   "id": "d50e5fd8",
   "metadata": {},
   "outputs": [
    {
     "data": {
      "text/plain": [
       "34"
      ]
     },
     "execution_count": 49,
     "metadata": {},
     "output_type": "execute_result"
    }
   ],
   "source": [
    "len(converted_days)"
   ]
  },
  {
   "cell_type": "code",
   "execution_count": null,
   "id": "fad4d098",
   "metadata": {},
   "outputs": [],
   "source": []
  },
  {
   "cell_type": "code",
   "execution_count": 50,
   "id": "c54f1190",
   "metadata": {},
   "outputs": [],
   "source": [
    "names = []\n",
    "\n",
    "for date, events in list(sebring_dict.items())[:-2]:\n",
    "    for event in events:\n",
    "        event_name = event.find('div', class_='event-name').text\n",
    "        names.append(f\"{event_name}\")\n",
    "    \n",
    "\n"
   ]
  },
  {
   "cell_type": "code",
   "execution_count": 51,
   "id": "4f85708b",
   "metadata": {},
   "outputs": [],
   "source": [
    "for i in reversed(names):\n",
    "    circuit.insert(0, 'Sebring International Raceway')\n",
    "    length.insert(0, 'DURATION: NA')\n",
    "    event_names.insert(0, i)\n",
    "    rounds.insert(0, i)"
   ]
  },
  {
   "cell_type": "code",
   "execution_count": null,
   "id": "58e0ac81",
   "metadata": {},
   "outputs": [],
   "source": []
  },
  {
   "cell_type": "markdown",
   "id": "e6a79c8f",
   "metadata": {},
   "source": [
    "All necessary data is now collected in the corect format to start populating schedule entries"
   ]
  },
  {
   "cell_type": "code",
   "execution_count": null,
   "id": "fcf98922",
   "metadata": {},
   "outputs": [],
   "source": []
  },
  {
   "cell_type": "code",
   "execution_count": 52,
   "id": "ecba03c8",
   "metadata": {},
   "outputs": [],
   "source": [
    "length_1 = length[:-10]\n",
    "length_2 = length[-10:]"
   ]
  },
  {
   "cell_type": "code",
   "execution_count": 53,
   "id": "12510c1a",
   "metadata": {},
   "outputs": [],
   "source": [
    "converted_months_1 = converted_months[:-10]\n",
    "converted_months_2 = converted_months[-10:]"
   ]
  },
  {
   "cell_type": "code",
   "execution_count": 54,
   "id": "e6f81a61",
   "metadata": {},
   "outputs": [],
   "source": [
    "converted_days_1 = converted_days[:-10]\n",
    "converted_days_2 = converted_days[-10:]"
   ]
  },
  {
   "cell_type": "code",
   "execution_count": 55,
   "id": "4a94ba6e",
   "metadata": {},
   "outputs": [],
   "source": [
    "circuit_1 = circuit[:-10]\n",
    "circuit_2 = circuit[-10:]"
   ]
  },
  {
   "cell_type": "code",
   "execution_count": 56,
   "id": "3e5b61b4",
   "metadata": {},
   "outputs": [],
   "source": [
    "event_names_1 = event_names[:-10]\n",
    "event_names_2 = event_names[-10:]"
   ]
  },
  {
   "cell_type": "code",
   "execution_count": 57,
   "id": "d2a78b2d",
   "metadata": {},
   "outputs": [],
   "source": [
    "rounds_1 = rounds[:-10]\n",
    "rounds_2 = rounds[-10:]"
   ]
  },
  {
   "cell_type": "code",
   "execution_count": 58,
   "id": "e03fb57e",
   "metadata": {},
   "outputs": [
    {
     "ename": "SyntaxError",
     "evalue": "'break' outside loop (668683560.py, line 1)",
     "output_type": "error",
     "traceback": [
      "\u001b[1;36m  Cell \u001b[1;32mIn[58], line 1\u001b[1;36m\u001b[0m\n\u001b[1;33m    break\u001b[0m\n\u001b[1;37m    ^\u001b[0m\n\u001b[1;31mSyntaxError\u001b[0m\u001b[1;31m:\u001b[0m 'break' outside loop\n"
     ]
    }
   ],
   "source": [
    "break"
   ]
  },
  {
   "cell_type": "code",
   "execution_count": null,
   "id": "f77f21da",
   "metadata": {},
   "outputs": [],
   "source": [
    "import pytz\n",
    "import icalendar\n",
    "from datetime import datetime\n",
    "from pathlib import Path\n",
    "import os\n",
    "from icalendar import Calendar, Event,  vText, vCalAddress"
   ]
  },
  {
   "cell_type": "code",
   "execution_count": null,
   "id": "e7b57b17",
   "metadata": {},
   "outputs": [],
   "source": [
    "IMSA_WTSC = Calendar()\n",
    "IMSA_WTSC.add('prodid', '-//My calendar product//example.com//')\n",
    "IMSA_WTSC.add('version', '2.0')\n",
    "uid = 410 "
   ]
  },
  {
   "cell_type": "code",
   "execution_count": null,
   "id": "5e60c1ea",
   "metadata": {},
   "outputs": [],
   "source": [
    "# # Adding All Daytona Sessions\n",
    "\n",
    "\n",
    "for round, circuit, day, month, start_h, start_m, end_h, end_m, length, event in zip(rounds_1, circuit_1, converted_days_1, converted_months_1, start_h, start_m, end_h, end_m, length_1, event_names_1):\n",
    "    ievent = Event()\n",
    "    ievent.add('summary', round) #Title of the event\n",
    "    #     ievent.add('description', event)     #Description of event\n",
    "    #     ievent.add('description', f\"{event}\\n{length}\")\n",
    "\n",
    "\n",
    "        # Format the length for a cleaner display\n",
    "    formatted_length = length.replace('DURATION: ', '')\n",
    "\n",
    "        # Include the formatted length in the description\n",
    "    ievent.add('description', f\"{event}\\nDuration: {formatted_length}\")\n",
    "\n",
    "    ievent.add('dtstart', datetime(2024, month, day, start_h, start_m, 0, tzinfo=pytz.timezone('est')))\n",
    "    ievent.add('dtend', datetime(2024, month, day, end_h, end_m, 0, tzinfo=pytz.timezone('est')))\n",
    "    ievent.add('dtstamp', datetime(2024, 1, 16, 0, 10, 0, tzinfo=pytz.timezone('est')))\n",
    "    ievent.add('location', vText(circuit))\n",
    "    ievent.add('uid', uid)\n",
    "    uid += 1\n",
    "    IMSA_WTSC.add_component(ievent)"
   ]
  },
  {
   "cell_type": "code",
   "execution_count": null,
   "id": "4bd05067",
   "metadata": {},
   "outputs": [],
   "source": [
    "# Adding all other races\n",
    "\n",
    "\n",
    "\n",
    "for round, circuit, day, month, length, event in zip(rounds_2, circuit_2, converted_days_2, converted_months_2, length_2, event_names_2):\n",
    "    ievent = Event()\n",
    "    ievent.add('summary', round) #Title of the event\n",
    "#     ievent.add('description', event)     #Description of event\n",
    "#     ievent.add('description', f\"{event}\\n{length}\")\n",
    "\n",
    "  \n",
    "    # Format the length for a cleaner display\n",
    "    formatted_length = length.replace('DURATION: ', '')\n",
    "    \n",
    "    # Include the formatted length in the description\n",
    "    ievent.add('description', f\"{event}\\nDuration: {formatted_length}\")\n",
    "\n",
    "#     if round == rounds_2[0]:\n",
    "#         ievent.add('dtstart', datetime(2024, month, day, 10, 10, 0, tzinfo=pytz.timezone('est')))\n",
    "#         ievent.add('dtend', datetime(2024, month, day, 22, 10, 0, tzinfo=pytz.timezone('est')))\n",
    "#         ievent.add('dtstamp', datetime(2024, 1, 9, 0, 10, 0, tzinfo=pytz.timezone('est')))\n",
    "#         ievent.add('location', vText(circuit))\n",
    "#         ievent.add('uid', uid)\n",
    "#         uid += 1\n",
    "#         IMSA_WTSC.add_component(ievent)\n",
    "#     else:\n",
    "#         ievent.add('dtstart', datetime(2024, month, day, 12, 00, 0, tzinfo=pytz.timezone('est')))\n",
    "#         ievent.add('dtend', datetime(2024, month, day, 14, 40, 0, tzinfo=pytz.timezone('est')))\n",
    "#         ievent.add('dtstamp', datetime(2024, 1, 9, 0, 10, 0, tzinfo=pytz.timezone('est')))\n",
    "#         ievent.add('location', vText(circuit))\n",
    "#         ievent.add('uid', uid)\n",
    "#         uid += 1\n",
    "#         IMSA_WTSC.add_component(ievent)\n",
    "    \n",
    "    ievent.add('dtstart', datetime(2024, month, day, 12, 0, 0, tzinfo=pytz.timezone('est')))\n",
    "    ievent.add('dtend', datetime(2024, month, day, 14, 40, 0, tzinfo=pytz.timezone('est')))\n",
    "    ievent.add('dtstamp', datetime(2024, 1, 9, 0, 10, 0, tzinfo=pytz.timezone('est')))\n",
    "    ievent.add('location', vText(circuit))\n",
    "    ievent.add('uid', uid)\n",
    "    uid += 1\n",
    "    IMSA_WTSC.add_component(ievent)"
   ]
  },
  {
   "cell_type": "code",
   "execution_count": null,
   "id": "a89abc3a",
   "metadata": {},
   "outputs": [],
   "source": []
  },
  {
   "cell_type": "code",
   "execution_count": null,
   "id": "8c0af03f",
   "metadata": {},
   "outputs": [],
   "source": [
    "IMSA_WTSC"
   ]
  },
  {
   "cell_type": "code",
   "execution_count": null,
   "id": "e540f4be",
   "metadata": {},
   "outputs": [],
   "source": [
    "directory = str(Path(r'C:\\Users\\chris\\Documents\\Calendars')) + \"/\"\n",
    "print(\"ics file will be generated at \", directory)\n",
    "f = open(os.path.join(directory, 'IMSA_WTSC_2024.ics'), 'wb')\n",
    "f.write(IMSA_WTSC.to_ical())\n",
    "f.close()"
   ]
  },
  {
   "cell_type": "code",
   "execution_count": null,
   "id": "47348692",
   "metadata": {},
   "outputs": [],
   "source": []
  },
  {
   "cell_type": "code",
   "execution_count": null,
   "id": "2b91a842",
   "metadata": {},
   "outputs": [],
   "source": []
  },
  {
   "cell_type": "code",
   "execution_count": null,
   "id": "350df3dd",
   "metadata": {},
   "outputs": [],
   "source": [
    "# Extract event details\n",
    "for div in soup.find_all('div', class_='race-event-schedule-container-inner'):\n",
    "    # Get the date from the day-event-header\n",
    "    date_elements = div.find_all('div', class_='day-event-header')\n",
    "    for date_element in date_elements:\n",
    "        date_parts = date_element.text.split(', ')\n",
    "        month = month_mapping[date_parts[1].split()[0]]\n",
    "        day = int(date_parts[1].split()[1])\n",
    "        print(f\"Date: {month}-{day}\")\n",
    "\n",
    "        # Get event details from day-event-details-container\n",
    "        event_details = div.find_all('div', class_='day-event-details-container')\n",
    "        for event in event_details:\n",
    "            time_element = event.find('div', class_='event-time')\n",
    "            name_element = event.find('div', class_='event-name')\n",
    "            if time_element and name_element:\n",
    "                time = time_element.text.strip()\n",
    "                name = name_element.text.strip()\n",
    "                print(f\"Time: {time}, Event: {name}\")"
   ]
  },
  {
   "cell_type": "code",
   "execution_count": null,
   "id": "a1eb09e8",
   "metadata": {},
   "outputs": [],
   "source": []
  },
  {
   "cell_type": "code",
   "execution_count": null,
   "id": "51ce22ed",
   "metadata": {},
   "outputs": [],
   "source": []
  }
 ],
 "metadata": {
  "kernelspec": {
   "display_name": "Python 3 (ipykernel)",
   "language": "python",
   "name": "python3"
  },
  "language_info": {
   "codemirror_mode": {
    "name": "ipython",
    "version": 3
   },
   "file_extension": ".py",
   "mimetype": "text/x-python",
   "name": "python",
   "nbconvert_exporter": "python",
   "pygments_lexer": "ipython3",
   "version": "3.9.7"
  }
 },
 "nbformat": 4,
 "nbformat_minor": 5
}
