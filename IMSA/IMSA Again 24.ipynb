{
 "cells": [
  {
   "cell_type": "code",
   "execution_count": 30,
   "id": "f02396c2",
   "metadata": {},
   "outputs": [],
   "source": [
    "from bs4 import BeautifulSoup\n",
    "import requests\n",
    "from selenium import webdriver\n",
    "from selenium.webdriver.support.ui import WebDriverWait\n",
    "from selenium.webdriver.common.by import By\n",
    "from datetime import datetime\n",
    "from selenium.webdriver.support import expected_conditions as EC"
   ]
  },
  {
   "cell_type": "code",
   "execution_count": 31,
   "id": "f1b0b271",
   "metadata": {},
   "outputs": [],
   "source": [
    "days = [] \n",
    "months = []\n",
    "titles = [] \n",
    "descs = []\n",
    "circuits = []\n",
    "start_hours = []\n",
    "start_minutes = []\n",
    "end_hours = []\n",
    "end_minutes = []\n",
    "\n",
    "year = datetime.now().year\n",
    "\n",
    "round = 1\n",
    "\n",
    "month_mapping = {\n",
    "        'Jan': 1,\n",
    "        'JAN': 1,\n",
    "        'January': 1,\n",
    "        'Feb': 2,\n",
    "        'FEB': 2,\n",
    "        'Mar': 3,\n",
    "        'March': 3,\n",
    "        'Apr': 4,\n",
    "        'May': 5,\n",
    "        'Jun': 6,\n",
    "        'Jul': 7,\n",
    "        'Aug': 8,\n",
    "        'Sep': 9,\n",
    "        'Oct': 10,\n",
    "        'October': 10,\n",
    "        'Nov': 11,\n",
    "        'Dec': 12,\n",
    "        'DEC': 12  }"
   ]
  },
  {
   "cell_type": "code",
   "execution_count": null,
   "id": "a74a2573",
   "metadata": {},
   "outputs": [],
   "source": [
    "\n",
    "    "
   ]
  },
  {
   "cell_type": "code",
   "execution_count": 3,
   "id": "75292c65",
   "metadata": {},
   "outputs": [],
   "source": [
    "\n",
    "driver = webdriver.Chrome()\n",
    "driver.get(\"https://www.imsa.com/weathertech/weathertech-2024-schedule/\")\n",
    "\n",
    "sched_soup = BeautifulSoup(driver.page_source, 'html.parser')\n",
    "schedule_details = sched_soup.find_all('div', {'class': 'schedule-item'})\n",
    "\n",
    "links = []\n",
    "for i in schedule_details:\n",
    "    butt = i.find('button')\n",
    "    link = butt.find('a')['href'] \n",
    "    links.append(link)\n",
    "    \n",
    "driver.quit()\n"
   ]
  },
  {
   "cell_type": "code",
   "execution_count": 4,
   "id": "f2c06f98",
   "metadata": {},
   "outputs": [
    {
     "name": "stdout",
     "output_type": "stream",
     "text": [
      "['https://www.imsa.com/events/2024-roar-before-the-rolex-24', 'https://www.imsa.com/events/2024-rolex-24-at-daytona/', ' https://www.imsa.com/events/2024-mobil-1-twelve-hours-of-sebring', 'https://www.imsa.com/events/2024-acura-grand-prix-of-long-beach', 'https://www.imsa.com/events/2024-weathertech-raceway-laguna-seca', 'https://www.imsa.com/events/2024-detroit-grand-prix', 'https://www.imsa.com/events/2024-sahlens-six-hours-of-the-glen', 'https://www.imsa.com/events/2024-chevrolet-grand-prix', 'https://www.imsa.com/events/2024-imsa-sportscar-weekend', 'https://www.imsa.com/events/2024-michelin-gt-challenge-at-vir', 'https://www.imsa.com/events/2024-indianapolis-motor-speedway', 'https://www.imsa.com/events/2024-motul-petit-le-mans']\n"
     ]
    }
   ],
   "source": [
    "print(links)"
   ]
  },
  {
   "cell_type": "code",
   "execution_count": 5,
   "id": "c6502b41",
   "metadata": {},
   "outputs": [],
   "source": [
    "dates = []\n",
    "session_names = []\n",
    "session_times = []\n",
    "\n",
    "for i in links:\n",
    "    driver = webdriver.Chrome()\n",
    "    driver.get(i)\n",
    "    wait = WebDriverWait(driver, 10)  # Define WebDriverWait object here\n",
    "    wait.until(EC.presence_of_element_located((By.CLASS_NAME, 'race-event-schedule-container-inner')))\n",
    "    event_soup = BeautifulSoup(driver.page_source, 'html.parser')\n",
    "    \n",
    "    event_dict = {}\n",
    "    current_header = None\n",
    "    \n",
    "    for div in event_soup.find(['div', {\"class\": 'race-event-schedule-container-inner'}]):\n",
    "        if 'day-event-header' in div.get('class', []):\n",
    "            current_header = div.text\n",
    "            event_dict[current_header] = []\n",
    "        elif 'day-event-details-container' in div.get('class', []) and current_header is not None:\n",
    "            event_dict[current_header].append(div)\n",
    "\n",
    "\n",
    "\n",
    "    \n",
    "\n",
    "    for date, session in list(event_dict.items()): \n",
    "        for session in sessions:\n",
    "            session_name = session.find('div', class_='event-name').text\n",
    "            session_time = session.find('div', class_='event-time').text\n",
    "            session_names.append(f\"{session_name}\")\n",
    "            dates.append(f\"{date}\")\n",
    "            session_times.append(f'{session_time}')\n",
    "\n",
    "driver.quit()\n"
   ]
  },
  {
   "cell_type": "code",
   "execution_count": 6,
   "id": "4c051c5e",
   "metadata": {},
   "outputs": [],
   "source": [
    "dates = []\n",
    "session_names = []\n",
    "session_times = []\n",
    "\n",
    "for i in links:\n",
    "    driver = webdriver.Chrome()\n",
    "    driver.get(i)\n",
    "    wait = WebDriverWait(driver, 10)  # Define WebDriverWait object here\n",
    "    wait.until(EC.presence_of_element_located((By.CLASS_NAME, 'race-event-schedule-container-inner')))\n",
    "    event_soup = BeautifulSoup(driver.page_source, 'html.parser')\n",
    "    \n",
    "    event_dict = {}\n",
    "    current_header = None\n",
    "    \n",
    "    for div in event_soup.find_all(['div', {\"class\": 'race-event-schedule-container-inner'}]):\n",
    "        if 'day-event-header' in div.get('class', []):\n",
    "            current_header = div.text\n",
    "            event_dict[current_header] = []\n",
    "        elif 'day-event-details-container' in div.get('class', []) and current_header is not None:\n",
    "            event_dict[current_header].append(div)\n",
    "\n",
    "    for sessions in event_dict.values():  # Iterate over values of event_dict\n",
    "        for session in sessions:\n",
    "            session_name = session.find('div', class_='event-name').text\n",
    "            session_time = session.find('div', class_='event-time').text\n",
    "            session_names.append(session_name)  # Fixing variable name here\n",
    "            dates.append(current_header)  # Use current_header for the date\n",
    "            session_times.append(session_time)\n",
    "\n",
    "driver.quit()\n"
   ]
  },
  {
   "cell_type": "code",
   "execution_count": 7,
   "id": "c6970dd0",
   "metadata": {},
   "outputs": [
    {
     "data": {
      "text/plain": [
       "{'Wednesday, October 9, 2024': [<div class=\"day-event-details-container\"><div class=\"event-time\">9:35 AM to 10:05 AM ET</div><div class=\"event-name\">Practice 1 - VP Racing SportsCar Challenge</div></div>,\n",
       "  <div class=\"day-event-details-container\"><div class=\"event-time\">10:20 AM to 11:00 AM ET</div><div class=\"event-name\">Practice 1 - Mazda MX-5 Cup</div></div>,\n",
       "  <div class=\"day-event-details-container\"><div class=\"event-time\">11:15 AM to 11:45 AM ET</div><div class=\"event-name\">Practice 1 - Porsche Carrera Cup</div></div>,\n",
       "  <div class=\"day-event-details-container\"><div class=\"event-time\">12:45 PM to 1:45 PM ET</div><div class=\"event-name\">Practice 1 - Michelin Pilot Challenge</div></div>,\n",
       "  <div class=\"day-event-details-container\"><div class=\"event-time\">2:00 PM to 2:30 PM ET</div><div class=\"event-name\">Practice 2 - VP Racing SportsCar Challenge</div></div>,\n",
       "  <div class=\"day-event-details-container\"><div class=\"event-time\">2:45 PM to 3:15 PM ET</div><div class=\"event-name\">Practice 2 - Mazda MX-5 Cup</div></div>,\n",
       "  <div class=\"day-event-details-container\"><div class=\"event-time\">3:30 PM to 4:10 PM ET</div><div class=\"event-name\">Practice 2 - Porsche Carrera Cup</div></div>,\n",
       "  <div class=\"day-event-details-container\"><div class=\"event-time\">4:25 PM to 5:00 PM ET</div><div class=\"event-name\">Qualifying - VP Racing SportsCar Challenge</div></div>],\n",
       " 'Thursday, October 10, 2024': [<div class=\"day-event-details-container\"><div class=\"event-time\">8:00 AM to 8:20 AM ET</div><div class=\"event-name\">Qualifying - Mazda MX-5 Cup</div></div>,\n",
       "  <div class=\"day-event-details-container\"><div class=\"event-time\">8:35 AM to 9:05 AM ET</div><div class=\"event-name\">Qualifying - Porsche Carrera Cup</div></div>,\n",
       "  <div class=\"day-event-details-container\"><div class=\"event-time\">9:20 AM to 10:20 AM ET</div><div class=\"event-name\">Practice 2 - Michelin Pilot Challenge</div></div>,\n",
       "  <div class=\"day-event-details-container\"><div class=\"event-time\">10:40 AM to 12:10 PM ET</div><div class=\"event-name\">Practice 1 - WeatherTech Championship</div></div>,\n",
       "  <div class=\"day-event-details-container\"><div class=\"event-time\">1:10 PM to 1:55 PM ET</div><div class=\"event-name\">Race 1 of 2 - VP Racing SportsCar Challenge</div></div>,\n",
       "  <div class=\"day-event-details-container\"><div class=\"event-time\">2:15 PM to 3:00 PM ET</div><div class=\"event-name\">Race 1 of 2 - Mazda MX-5 Cup</div></div>,\n",
       "  <div class=\"day-event-details-container\"><div class=\"event-time\">3:20 PM to 4:45 PM ET</div><div class=\"event-name\">Practice 2  - WeatherTech Championship</div></div>,\n",
       "  <div class=\"day-event-details-container\"><div class=\"event-time\">5:05 PM to 5:45 PM ET</div><div class=\"event-name\">Race 1 of 2 - Porsche Carrera Cup</div></div>,\n",
       "  <div class=\"day-event-details-container\"><div class=\"event-time\">6:30 PM to 7:10 PM ET</div><div class=\"event-name\">Qualifying - Michelin Pilot Challenge</div></div>,\n",
       "  <div class=\"day-event-details-container\"><div class=\"event-time\">7:30 PM to 9:00 PM ET</div><div class=\"event-name\">Practice 3 - WeatherTech Championship</div></div>],\n",
       " 'Friday, October 11, 2024': [<div class=\"day-event-details-container\"><div class=\"event-time\">8:00 AM to 8:45 AM ET</div><div class=\"event-name\">Race 2 of 2 - VP Racing SportsCar Challenge</div></div>,\n",
       "  <div class=\"day-event-details-container\"><div class=\"event-time\">9:05 AM to 9:50 AM ET</div><div class=\"event-name\">Race 2 of 2 - Mazda MX-5 Cup</div></div>,\n",
       "  <div class=\"day-event-details-container\"><div class=\"event-time\">10:10 AM to 10:50 AM ET</div><div class=\"event-name\">Race 2 of 2 - Porsche Carrera Cup</div></div>,\n",
       "  <div class=\"day-event-details-container\"><div class=\"event-time\">12:00 PM to 2:00 PM ET</div><div class=\"event-name\">Fox Factory 120</div></div>,\n",
       "  <div class=\"day-event-details-container\"><div class=\"event-time\">2:40 PM to 3:45 PM ET</div><div class=\"event-name\">Qualifying - WeatherTech Championship</div></div>],\n",
       " 'Saturday, October 12, 2024': [<div class=\"day-event-details-container\"><div class=\"event-time\">12:10 PM to 10:10 PM ET</div><div class=\"event-name\">MOTUL Petit Le Mans</div></div>]}"
      ]
     },
     "execution_count": 7,
     "metadata": {},
     "output_type": "execute_result"
    }
   ],
   "source": [
    "event_dict"
   ]
  },
  {
   "cell_type": "code",
   "execution_count": 13,
   "id": "4389673f",
   "metadata": {},
   "outputs": [
    {
     "ename": "AttributeError",
     "evalue": "'NoneType' object has no attribute 'text'",
     "output_type": "error",
     "traceback": [
      "\u001b[1;31m---------------------------------------------------------------------------\u001b[0m",
      "\u001b[1;31mAttributeError\u001b[0m                            Traceback (most recent call last)",
      "Cell \u001b[1;32mIn[13], line 21\u001b[0m\n\u001b[0;32m     19\u001b[0m     \u001b[38;5;28mprint\u001b[39m(temp_date)\n\u001b[0;32m     20\u001b[0m \u001b[38;5;28;01melif\u001b[39;00m \u001b[38;5;124m'\u001b[39m\u001b[38;5;124mday-event-details-container\u001b[39m\u001b[38;5;124m'\u001b[39m \u001b[38;5;129;01min\u001b[39;00m div\u001b[38;5;241m.\u001b[39mget(\u001b[38;5;124m'\u001b[39m\u001b[38;5;124mclass\u001b[39m\u001b[38;5;124m'\u001b[39m, []) \u001b[38;5;129;01mand\u001b[39;00m current_header \u001b[38;5;129;01mis\u001b[39;00m \u001b[38;5;129;01mnot\u001b[39;00m \u001b[38;5;28;01mNone\u001b[39;00m:\n\u001b[1;32m---> 21\u001b[0m     temp_time \u001b[38;5;241m=\u001b[39m \u001b[43mdiv\u001b[49m\u001b[38;5;241;43m.\u001b[39;49m\u001b[43mfind\u001b[49m\u001b[43m(\u001b[49m\u001b[38;5;124;43m'\u001b[39;49m\u001b[38;5;124;43mdiv\u001b[39;49m\u001b[38;5;124;43m'\u001b[39;49m\u001b[43m,\u001b[49m\u001b[43m \u001b[49m\u001b[43m{\u001b[49m\u001b[38;5;124;43m'\u001b[39;49m\u001b[38;5;124;43mclass\u001b[39;49m\u001b[38;5;124;43m'\u001b[39;49m\u001b[43m:\u001b[49m\u001b[38;5;124;43m'\u001b[39;49m\u001b[38;5;124;43mevent-time\u001b[39;49m\u001b[38;5;124;43m'\u001b[39;49m\u001b[43m}\u001b[49m\u001b[43m)\u001b[49m\u001b[38;5;241;43m.\u001b[39;49m\u001b[43mtext\u001b[49m\n\u001b[0;32m     22\u001b[0m     temp_name \u001b[38;5;241m=\u001b[39m div\u001b[38;5;241m.\u001b[39mfind(\u001b[38;5;124m'\u001b[39m\u001b[38;5;124mdiv\u001b[39m\u001b[38;5;124m'\u001b[39m, {\u001b[38;5;124m'\u001b[39m\u001b[38;5;124mclass\u001b[39m\u001b[38;5;124m'\u001b[39m:\u001b[38;5;124m'\u001b[39m\u001b[38;5;124mevent-name\u001b[39m\u001b[38;5;124m'\u001b[39m})\u001b[38;5;241m.\u001b[39mtext\n\u001b[0;32m     25\u001b[0m     \u001b[38;5;28mprint\u001b[39m(temp_time)\n",
      "\u001b[1;31mAttributeError\u001b[0m: 'NoneType' object has no attribute 'text'"
     ]
    }
   ],
   "source": [
    "dates = []\n",
    "session_names = []\n",
    "session_times = []\n",
    "driver = webdriver.Chrome()\n",
    "\n",
    "for i in links:\n",
    "   \n",
    "    driver.get(i)\n",
    "#     wait = WebDriverWait(driver, 10)  # Define WebDriverWait object here\n",
    "#     wait.until(EC.presence_of_element_located((By.CLASS_NAME, 'race-event-schedule-container-inner')))\n",
    "    event_soup = BeautifulSoup(driver.page_source, 'html.parser')\n",
    "    \n",
    "#     event_dict = {}\n",
    "#     current_header = None\n",
    "    \n",
    "    for div in event_soup.find_all(['div', {\"class\": 'race-event-schedule-container-inner'}]):\n",
    "        if 'day-event-header' in div.get('class', []):\n",
    "            temp_date = div.text\n",
    "            print(temp_date)\n",
    "        elif 'day-event-details-container' in div.get('class', []) and current_header is not None:\n",
    "            temp_time = div.find('div', {'class':'event-time'}).text\n",
    "            temp_name = div.find('div', {'class':'event-name'}).text\n",
    "            \n",
    "            \n",
    "            print(temp_time)\n",
    "            print(temp_name)\n",
    "\n",
    "#     for sessions in event_dict.values():  # Iterate over values of event_dict\n",
    "#         for session in sessions:\n",
    "#             session_name = session.find('div', class_='event-name').text\n",
    "#             session_time = session.find('div', class_='event-time').text\n",
    "#             session_names.append(session_name)  # Fixing variable name here\n",
    "#             dates.append(current_header)  # Use current_header for the date\n",
    "#             session_times.append(session_time)\n",
    "\n",
    "driver.quit()"
   ]
  },
  {
   "cell_type": "code",
   "execution_count": 34,
   "id": "9df4bcaf",
   "metadata": {},
   "outputs": [
    {
     "name": "stdout",
     "output_type": "stream",
     "text": [
      "<div class=\"event-time\">12:10 PM to 10:10 PM ET</div>\n",
      "12:10 PM\n",
      "10:10 PM ET\n",
      "<div class=\"event-time\">12:10 PM to 10:10 PM ET</div>\n",
      "12:10 PM\n",
      "10:10 PM ET\n",
      "<div class=\"event-time\">12:10 PM to 10:10 PM ET</div>\n",
      "12:10 PM\n",
      "10:10 PM ET\n",
      "<div class=\"event-time\">12:10 PM to 10:10 PM ET</div>\n",
      "12:10 PM\n",
      "10:10 PM ET\n"
     ]
    }
   ],
   "source": [
    "\n",
    "driver = webdriver.Chrome()\n",
    "\n",
    "driver.get('https://www.imsa.com/events/2024-motul-petit-le-mans/')\n",
    "#     wait = WebDriverWait(driver, 10)  # Define WebDriverWait object here\n",
    "#     wait.until(EC.presence_of_element_located((By.CLASS_NAME, 'race-event-schedule-container-inner')))\n",
    "soup = BeautifulSoup(driver.page_source, 'html.parser')\n",
    "\n",
    "# Extract event details\n",
    "for div in soup.find_all('div', class_='race-event-schedule-container-inner'):\n",
    "    # Get the date from the day-event-header\n",
    "    date_elements = div.find_all('div', class_='day-event-header')\n",
    "    for date_element in date_elements:\n",
    "        date_parts = date_element.text.split(', ')\n",
    "        month = month_mapping[date_parts[1].split()[0]]\n",
    "        day = int(date_parts[1].split()[1])\n",
    "        \n",
    "        \n",
    "\n",
    "        # Get event details from day-event-details-container\n",
    "        event_details = div.find_all('div', class_='day-event-details-container')\n",
    "        \n",
    "\n",
    "        time_element = event.find('div', class_='event-time')\n",
    "        name_element = event.find('div', class_='event-name')\n",
    "\n",
    "        print(time_element)\n",
    "\n",
    "        if time_element and name_element:\n",
    "            start_time = time_element.text.strip().split(' to ')[0]\n",
    "            print(start_time)\n",
    "            start_hour = start_time.split(':')[0]\n",
    "            start_minute = start_time.split(':')[1].rstrip()\n",
    "            end_time = time_element.text.strip().split(' to ')[1]\n",
    "            print(end_time)\n",
    "            end_hour = end_time.split(':')[0]\n",
    "            end_minute = end_time.split(':')[1].rstrip()\n",
    "\n",
    "            desc = name_element.text.strip()\n",
    "            circuit = soup.find('div', class_='track-name')\n",
    "            title = ('IMSA WTSC Race Round ' + str(round))\n",
    "\n",
    "            days.append(day)\n",
    "            months.append(month)\n",
    "            titles.append(title)\n",
    "            descs.append(desc)\n",
    "            circuits.append(circuit)\n",
    "            start_hours.append(start_hour)\n",
    "            start_minutes.append(start_minute)\n",
    "            end_hours.append(end_hour)\n",
    "            end_minutes.append(end_minute)\n",
    "\n",
    "                \n",
    "\n",
    "    round += 1"
   ]
  },
  {
   "cell_type": "code",
   "execution_count": 35,
   "id": "2335a82a",
   "metadata": {},
   "outputs": [
    {
     "data": {
      "text/plain": [
       "['IMSA WTSC Race Round 1',\n",
       " 'IMSA WTSC Race Round 1',\n",
       " 'IMSA WTSC Race Round 1',\n",
       " 'IMSA WTSC Race Round 1']"
      ]
     },
     "execution_count": 35,
     "metadata": {},
     "output_type": "execute_result"
    }
   ],
   "source": [
    "titles"
   ]
  },
  {
   "cell_type": "code",
   "execution_count": 36,
   "id": "2ca46eec",
   "metadata": {},
   "outputs": [
    {
     "data": {
      "text/plain": [
       "['MOTUL Petit Le Mans',\n",
       " 'MOTUL Petit Le Mans',\n",
       " 'MOTUL Petit Le Mans',\n",
       " 'MOTUL Petit Le Mans']"
      ]
     },
     "execution_count": 36,
     "metadata": {},
     "output_type": "execute_result"
    }
   ],
   "source": [
    "descs"
   ]
  },
  {
   "cell_type": "code",
   "execution_count": 18,
   "id": "723629a0",
   "metadata": {},
   "outputs": [
    {
     "data": {
      "text/plain": [
       "[10]"
      ]
     },
     "execution_count": 18,
     "metadata": {},
     "output_type": "execute_result"
    }
   ],
   "source": [
    "months"
   ]
  },
  {
   "cell_type": "code",
   "execution_count": 19,
   "id": "f31c004f",
   "metadata": {},
   "outputs": [
    {
     "data": {
      "text/plain": [
       "[9]"
      ]
     },
     "execution_count": 19,
     "metadata": {},
     "output_type": "execute_result"
    }
   ],
   "source": [
    "days"
   ]
  },
  {
   "cell_type": "code",
   "execution_count": 20,
   "id": "93318f26",
   "metadata": {},
   "outputs": [
    {
     "data": {
      "text/plain": [
       "[]"
      ]
     },
     "execution_count": 20,
     "metadata": {},
     "output_type": "execute_result"
    }
   ],
   "source": [
    "circuits"
   ]
  },
  {
   "cell_type": "code",
   "execution_count": 21,
   "id": "ea16bcea",
   "metadata": {},
   "outputs": [
    {
     "ename": "NameError",
     "evalue": "name 'end_hrs' is not defined",
     "output_type": "error",
     "traceback": [
      "\u001b[1;31m---------------------------------------------------------------------------\u001b[0m",
      "\u001b[1;31mNameError\u001b[0m                                 Traceback (most recent call last)",
      "Cell \u001b[1;32mIn[21], line 1\u001b[0m\n\u001b[1;32m----> 1\u001b[0m \u001b[43mend_hrs\u001b[49m\n",
      "\u001b[1;31mNameError\u001b[0m: name 'end_hrs' is not defined"
     ]
    }
   ],
   "source": [
    "end_hrs"
   ]
  },
  {
   "cell_type": "code",
   "execution_count": null,
   "id": "3d7360cd",
   "metadata": {},
   "outputs": [],
   "source": [
    "end_mins"
   ]
  },
  {
   "cell_type": "code",
   "execution_count": null,
   "id": "f42866fe",
   "metadata": {},
   "outputs": [],
   "source": [
    "start_hrs"
   ]
  },
  {
   "cell_type": "code",
   "execution_count": null,
   "id": "0adb1002",
   "metadata": {},
   "outputs": [],
   "source": [
    "start_mins"
   ]
  }
 ],
 "metadata": {
  "kernelspec": {
   "display_name": "Python 3 (ipykernel)",
   "language": "python",
   "name": "python3"
  },
  "language_info": {
   "codemirror_mode": {
    "name": "ipython",
    "version": 3
   },
   "file_extension": ".py",
   "mimetype": "text/x-python",
   "name": "python",
   "nbconvert_exporter": "python",
   "pygments_lexer": "ipython3",
   "version": "3.9.7"
  }
 },
 "nbformat": 4,
 "nbformat_minor": 5
}
