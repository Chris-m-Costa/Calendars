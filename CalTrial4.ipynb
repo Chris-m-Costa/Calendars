{
 "cells": [
  {
   "cell_type": "code",
   "execution_count": null,
   "id": "0e899ff8",
   "metadata": {},
   "outputs": [],
   "source": [
    "from datetime import datetime, timezone, timedelta\n",
    "from ics import Calendar, Event\n",
    "\n",
    "c = Calendar()\n",
    "e = Event()\n",
    "e.summary = \"My cool event\"\n",
    "e.description = \"A meaningful description\"\n",
    "e.begin = datetime.fromisoformat(\"2023-03-17T12:00:00+02:00\")\n",
    "e.end = datetime(\n",
    "    year=2023,\n",
    "    month=3,\n",
    "    day=17,\n",
    "    hour=20,\n",
    "    minute=00,\n",
    "    second=00,\n",
    "    tzinfo=timezone(timedelta(seconds=7200)),\n",
    ")\n",
    "c.events.append(e)\n",
    "c\n",
    "# Calendar(extra=Container('VCALENDAR', []), extra_params={}, version='2.0', prodid='ics.py 0.8.0-dev - http://git.io/lLljaA', scale=None, method=None, events=[Event(extra=Container('VEVENT', []), extra_params={}, timespan=EventTimespan(begin_time=datetime.datetime(2022, 6, 6, 12, 5, 23, tzinfo=datetime.timezone(datetime.timedelta(seconds=7200))), end_time=datetime.datetime(2022, 6, 6, 12, 5, 23, tzinfo=datetime.timezone(datetime.timedelta(seconds=7200))), duration=None, precision='second'), summary='My cool event', uid='e10e6921-5838-4dab-9467-fffcb8091cc3@e10e.org', description='A meaningful description', location=None, url=None, status=None, created=None, last_modified=None, dtstamp=datetime.datetime(2022, 6, 30, 12, 41, 24, 624188, tzinfo=Timezone.from_tzid('UTC')), alarms=[], attach=[], classification=None, transparent=None, organizer=None, geo=None, attendees=[], categories=[])], todos=[])"
   ]
  }
 ],
 "metadata": {
  "kernelspec": {
   "display_name": "Python 3 (ipykernel)",
   "language": "python",
   "name": "python3"
  },
  "language_info": {
   "codemirror_mode": {
    "name": "ipython",
    "version": 3
   },
   "file_extension": ".py",
   "mimetype": "text/x-python",
   "name": "python",
   "nbconvert_exporter": "python",
   "pygments_lexer": "ipython3",
   "version": "3.9.7"
  }
 },
 "nbformat": 4,
 "nbformat_minor": 5
}
