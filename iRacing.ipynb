{
 "cells": [
  {
   "cell_type": "code",
   "execution_count": 1,
   "id": "f6576830",
   "metadata": {},
   "outputs": [],
   "source": [
    "# This section of code will successfully read the data from the schedule jpg but the formatting is very broken. \n",
    "# Not all events are needed so events will be added manually\n",
    "\n",
    "\n",
    "\n",
    "# from PIL import Image\n",
    "# import pytesseract\n",
    "\n",
    "### pytesseract.pytesseract.tesseract_cmd = r'C:\\Program Files\\Tesseract-OCR\\tesseract'\n",
    "\n",
    "\n",
    "\n",
    "# try:\n",
    "#     import Image\n",
    "# except ImportError:\n",
    "#     from PIL import Image\n",
    "# import pytesseract\n",
    "\n",
    "# # Open the image file\n",
    "# image_path = 'C:\\\\Users\\\\chris\\\\Downloads\\\\irse-specialevents-schedule.jpg'\n",
    "# img = Image.open(image_path)\n",
    "\n",
    "# # Use pytesseract to extract text\n",
    "# text = pytesseract.image_to_string(img)\n",
    "\n",
    "# # Print the extracted text\n",
    "# print(text)\n"
   ]
  },
  {
   "cell_type": "code",
   "execution_count": 2,
   "id": "84ccb30a",
   "metadata": {},
   "outputs": [],
   "source": [
    "import icalendar\n",
    "import recurring_ical_events\n",
    "from datetime import datetime\n",
    "from pathlib import Path\n",
    "import os\n",
    "from pytz import timezone\n",
    "\n",
    "import pytz\n",
    "\n",
    "from icalendar import Calendar, Event, vText, vCalAddress"
   ]
  },
  {
   "cell_type": "code",
   "execution_count": 3,
   "id": "c99d5238",
   "metadata": {},
   "outputs": [],
   "source": [
    "iracing_specials = Calendar()"
   ]
  },
  {
   "cell_type": "code",
   "execution_count": 4,
   "id": "18f638a4",
   "metadata": {},
   "outputs": [],
   "source": [
    "# Some properties are required to be compliant\n",
    "iracing_specials.add('prodid', '-//My calendar product//example.com//')\n",
    "iracing_specials.add('version', '2.0')\n",
    "uid = 100 #This is required in each calendar event\n",
    "\n",
    "# # class Timezone(Component):\n",
    "#     name = 'VTIMEZONE'\n",
    "#     canonical_order = ('TZID', 'US/Eastern')\n",
    "#     required = ('TZID', 'US/Eastern') # it also requires one of components DAYLIGHT and STANDARD\n",
    "#     singletons = ('US/Eastern')\n"
   ]
  },
  {
   "cell_type": "code",
   "execution_count": 5,
   "id": "cad98dc2",
   "metadata": {},
   "outputs": [],
   "source": [
    "event = Event()\n",
    "\n",
    "event.add('summary', 'iRacing' + ' ' + 'Daytona 24H') #Title of the event\n",
    "event.add('description', 'Daytona International Speedway''\\n''24 Hours''\\n''GTP/LMP2/GT3')     #Description of event\n",
    "event.add('dtstart', datetime(2024, 1, 20, 8, 0, 0, tzinfo=pytz.timezone('est')))\n",
    "event.add('dtend', datetime(2024, 1, 21, 8, 0, 0, tzinfo=pytz.timezone('est')))\n",
    "event.add('dtstamp', datetime(2023, 3, 12, 0, 10, 0, tzinfo=pytz.timezone('utc')))\n",
    "event['location'] = vText('Daytona International Speedway')\n",
    "event.add('uid', 100)\n",
    "uid += 1\n",
    "\n",
    "# daytona = event\n",
    "iracing_specials.add_component(event)"
   ]
  },
  {
   "cell_type": "code",
   "execution_count": 6,
   "id": "0e3031bb",
   "metadata": {},
   "outputs": [],
   "source": [
    "event = Event()\n",
    "\n",
    "event.add('summary', 'iRacing' + ' ' + 'Bathurst 12H') #Title of the event\n",
    "event.add('description', 'Mount Panorama Circuit''\\n''12 Hours''\\n''GT3')     #Description of event\n",
    "event.add('dtstart', datetime(2024, 2, 24, 8, 0, 0, tzinfo=pytz.timezone('est')))\n",
    "event.add('dtend', datetime(2024, 2, 24, 20, 0, 0, tzinfo=pytz.timezone('est')))\n",
    "event.add('dtstamp', datetime(2023, 3, 12, 0, 10, 0, tzinfo=pytz.timezone('utc')))\n",
    "event['location'] = vText('Mount Panorama Circuit')\n",
    "event.add('uid', uid)\n",
    "uid += 1\n",
    "\n",
    "# daytona = event\n",
    "iracing_specials.add_component(event)"
   ]
  },
  {
   "cell_type": "code",
   "execution_count": 7,
   "id": "1ea9bfc5",
   "metadata": {},
   "outputs": [],
   "source": [
    "event = Event()\n",
    "\n",
    "event.add('summary', 'iRacing' + ' ' + 'Sebring 12H') #Title of the event\n",
    "event.add('description', 'Sebring International Raceway''\\n''12 Hours''\\n''GTP/LMP2/GT3')     #Description of event\n",
    "event.add('dtstart', datetime(2024, 3, 23, 8, 0, 0, tzinfo=pytz.timezone('est')))\n",
    "event.add('dtend', datetime(2024, 3, 23, 20, 0, 0, tzinfo=pytz.timezone('est')))\n",
    "event.add('dtstamp', datetime(2023, 3, 12, 0, 10, 0, tzinfo=pytz.timezone('utc')))\n",
    "event['location'] = vText('Sebring International Raceway')\n",
    "event.add('uid', uid)\n",
    "uid += 1\n",
    "\n",
    "# daytona = event\n",
    "iracing_specials.add_component(event)"
   ]
  },
  {
   "cell_type": "code",
   "execution_count": 8,
   "id": "f6785795",
   "metadata": {},
   "outputs": [],
   "source": [
    "event = Event()\n",
    "\n",
    "event.add('summary', 'iRacing' + ' ' + 'Road America 500') #Title of the event\n",
    "event.add('description', 'Road America''\\n''500 Miles''\\n''GTP/GTO')     #Description of event\n",
    "event.add('dtstart', datetime(2024, 4, 13, 11, 0, 0, tzinfo=pytz.timezone('est')))\n",
    "event.add('dtend', datetime(2024, 4, 13, 14, 0, 0, tzinfo=pytz.timezone('est')))\n",
    "event.add('dtstamp', datetime(2023, 3, 12, 0, 10, 0, tzinfo=pytz.timezone('utc')))\n",
    "event['location'] = vText('Road America')\n",
    "event.add('uid', uid)\n",
    "uid += 1\n",
    "\n",
    "# daytona = event\n",
    "iracing_specials.add_component(event)"
   ]
  },
  {
   "cell_type": "code",
   "execution_count": 9,
   "id": "bdb9a50e",
   "metadata": {},
   "outputs": [],
   "source": [
    "event = Event()\n",
    "\n",
    "event.add('summary', 'iRacing' + ' ' + 'Nurburgring 24H') #Title of the event\n",
    "event.add('description', 'Nurburgring Gesamstrecke 24H''\\n''24 Hours''\\n''GT3/PCup/GT4/TCR')     #Description of event\n",
    "event.add('dtstart', datetime(2024, 5, 18, 8, 0, 0, tzinfo=pytz.timezone('est')))\n",
    "event.add('dtend', datetime(2024, 5, 19, 8, 0, 0, tzinfo=pytz.timezone('est')))\n",
    "event.add('dtstamp', datetime(2023, 3, 12, 0, 10, 0, tzinfo=pytz.timezone('utc')))\n",
    "event['location'] = vText('Nurburgring Gesamstrecke 24H')\n",
    "event.add('uid', uid)\n",
    "uid += 1\n",
    "\n",
    "# daytona = event\n",
    "iracing_specials.add_component(event)"
   ]
  },
  {
   "cell_type": "code",
   "execution_count": 10,
   "id": "3cc8a73a",
   "metadata": {},
   "outputs": [],
   "source": [
    "event = Event()\n",
    "\n",
    "event.add('summary', 'iRacing' + ' ' + 'Indy 500') #Title of the event\n",
    "event.add('description', 'Indianapolis Motor Speedway''\\n''500 Miles''\\n''IndyCar')     #Description of event\n",
    "event.add('dtstart', datetime(2024, 5, 19, 11, 0, 0, tzinfo=pytz.timezone('est')))\n",
    "event.add('dtend', datetime(2024, 5, 19, 14, 0, 0, tzinfo=pytz.timezone('est')))\n",
    "event.add('dtstamp', datetime(2023, 3, 12, 0, 10, 0, tzinfo=pytz.timezone('utc')))\n",
    "event['location'] = vText('Indianapolis Motor Speedway')\n",
    "event.add('uid', uid)\n",
    "uid += 1\n",
    "\n",
    "# daytona = event\n",
    "iracing_specials.add_component(event)"
   ]
  },
  {
   "cell_type": "code",
   "execution_count": 11,
   "id": "815d0d9a",
   "metadata": {},
   "outputs": [],
   "source": [
    "event = Event()\n",
    "\n",
    "event.add('summary', 'iRacing' + ' ' + 'Watkins Glen 6H') #Title of the event\n",
    "event.add('description', 'Watkins Glen International''\\n''6 Hours''\\n''GTP/LMP2/GT3')     #Description of event\n",
    "event.add('dtstart', datetime(2024, 6, 15, 8, 0, 0, tzinfo=pytz.timezone('est')))\n",
    "event.add('dtend', datetime(2024, 6, 15, 14, 0, 0, tzinfo=pytz.timezone('est')))\n",
    "event.add('dtstamp', datetime(2023, 3, 12, 0, 10, 0, tzinfo=pytz.timezone('utc')))\n",
    "event['location'] = vText('Watkins Glen International')\n",
    "event.add('uid', uid)\n",
    "uid += 1\n",
    "\n",
    "# daytona = event\n",
    "iracing_specials.add_component(event)"
   ]
  },
  {
   "cell_type": "code",
   "execution_count": 12,
   "id": "5ff4c915",
   "metadata": {},
   "outputs": [],
   "source": [
    "event = Event()\n",
    "\n",
    "event.add('summary', 'iRacing' + ' ' + 'Watkins Glen 6H') #Title of the event\n",
    "event.add('description', 'Indianapolis Motor Speedway''\\n''6 Hours''\\n''GTP/LMP2/GT3')     #Description of event\n",
    "event.add('dtstart', datetime(2024, 9, 14, 8, 0, 0, tzinfo=pytz.timezone('est')))\n",
    "event.add('dtend', datetime(2024, 6, 15, 14, 0, 0, tzinfo=pytz.timezone('est')))\n",
    "event.add('dtstamp', datetime(2023, 3, 12, 0, 10, 0, tzinfo=pytz.timezone('utc')))\n",
    "event['location'] = vText('Indianapolis Motor Speedway')\n",
    "event.add('uid', uid)\n",
    "uid += 1\n",
    "\n",
    "# daytona = event\n",
    "iracing_specials.add_component(event)"
   ]
  },
  {
   "cell_type": "code",
   "execution_count": 13,
   "id": "6a7de347",
   "metadata": {},
   "outputs": [],
   "source": [
    "event = Event()\n",
    "\n",
    "event.add('summary', 'iRacing' + ' ' + 'Petit Le Mans') #Title of the event\n",
    "event.add('description', 'Road Atlanta''\\n''10 Hours''\\n''GTP/LMP2/GT3')     #Description of event\n",
    "event.add('dtstart', datetime(2024, 10, 19, 8, 0, 0, tzinfo=pytz.timezone('est')))\n",
    "event.add('dtend', datetime(2024, 10, 19, 18, 0, 0, tzinfo=pytz.timezone('est')))\n",
    "event.add('dtstamp', datetime(2023, 3, 12, 0, 10, 0, tzinfo=pytz.timezone('utc')))\n",
    "event['location'] = vText('Road Atlanta')\n",
    "event.add('uid', uid)\n",
    "uid += 1\n",
    "\n",
    "# daytona = event\n",
    "iracing_specials.add_component(event)"
   ]
  },
  {
   "cell_type": "code",
   "execution_count": 14,
   "id": "189a71cc",
   "metadata": {},
   "outputs": [],
   "source": [
    "event = Event()\n",
    "\n",
    "event.add('summary', 'iRacing' + ' ' + 'Bathurst 1000') #Title of the event\n",
    "event.add('description', 'Mount Panorama Ciruit''\\n''1000 Kilometers''\\n''Supercar Gen3')     #Description of event\n",
    "event.add('dtstart', datetime(2024, 10, 5, 8, 0, 0, tzinfo=pytz.timezone('est')))\n",
    "event.add('dtend', datetime(2024, 10, 5, 14, 0, 0, tzinfo=pytz.timezone('est')))\n",
    "event.add('dtstamp', datetime(2023, 3, 12, 0, 10, 0, tzinfo=pytz.timezone('utc')))\n",
    "event['location'] = vText('Mount Panorama Circuit')\n",
    "event.add('uid', uid)\n",
    "uid += 1\n",
    "\n",
    "# daytona = event\n",
    "iracing_specials.add_component(event)"
   ]
  },
  {
   "cell_type": "code",
   "execution_count": 15,
   "id": "f644f9cd",
   "metadata": {},
   "outputs": [],
   "source": [
    "event = Event()\n",
    "\n",
    "event.add('summary', 'iRacing' + ' ' + 'Formula Ford Festival') #Title of the event\n",
    "event.add('description', 'Brands Hatch''\\n''TBA?''\\n''FF1600')     #Description of event\n",
    "event.add('dtstart', datetime(2024, 11, 3, 8, 0, 0, tzinfo=pytz.timezone('est')))\n",
    "event.add('dtend', datetime(2024, 11, 3, 14, 0, 0, tzinfo=pytz.timezone('est')))\n",
    "event.add('dtstamp', datetime(2023, 3, 12, 0, 10, 0, tzinfo=pytz.timezone('utc')))\n",
    "event['location'] = vText('Brands Hatch')\n",
    "event.add('uid', uid)\n",
    "uid += 1\n",
    "\n",
    "# daytona = event\n",
    "iracing_specials.add_component(event)"
   ]
  },
  {
   "cell_type": "code",
   "execution_count": 16,
   "id": "d773e062",
   "metadata": {},
   "outputs": [],
   "source": [
    "event = Event()\n",
    "\n",
    "event.add('summary', 'iRacing' + ' ' + 'Fuji 8H') #Title of the event\n",
    "event.add('description', 'Fuji International Speedway''\\n''8 Hours''\\n''GT3')     #Description of event\n",
    "event.add('dtstart', datetime(2024, 11, 16, 8, 0, 0, tzinfo=pytz.timezone('est')))\n",
    "event.add('dtend', datetime(2024, 11, 16, 16, 0, 0, tzinfo=pytz.timezone('est')))\n",
    "event.add('dtstamp', datetime(2023, 3, 12, 0, 10, 0, tzinfo=pytz.timezone('utc')))\n",
    "event['location'] = vText('Fuji International Speedway')\n",
    "event.add('uid', uid)\n",
    "uid += 1\n",
    "\n",
    "# daytona = event\n",
    "iracing_specials.add_component(event)"
   ]
  },
  {
   "cell_type": "code",
   "execution_count": 17,
   "id": "f47ce80e",
   "metadata": {},
   "outputs": [],
   "source": [
    "event = Event()\n",
    "\n",
    "event.add('summary', 'iRacing' + ' ' + 'SCCA Runoffs') #Title of the event\n",
    "event.add('description', 'Road America''\\n''TBA?''\\n''6 classes')     #Description of event\n",
    "event.add('dtstart', datetime(2024, 11, 23, 8, 0, 0, tzinfo=pytz.timezone('est')))\n",
    "event.add('dtend', datetime(2024, 11, 23, 14, 0, 0, tzinfo=pytz.timezone('est')))\n",
    "event.add('dtstamp', datetime(2023, 3, 12, 0, 10, 0, tzinfo=pytz.timezone('utc')))\n",
    "event['location'] = vText('Road America')\n",
    "event.add('uid', uid)\n",
    "uid += 1\n",
    "\n",
    "# daytona = event\n",
    "iracing_specials.add_component(event)"
   ]
  },
  {
   "cell_type": "code",
   "execution_count": 19,
   "id": "4cee5429",
   "metadata": {},
   "outputs": [],
   "source": [
    "event = Event()\n",
    "\n",
    "event.add('summary', 'iRacing' + ' ' + 'Spa 24H') #Title of the event\n",
    "event.add('description', 'Circuit de Spa-Francorchamps''\\n''24 Hours''\\n''GT3')     #Description of event\n",
    "event.add('dtstart', datetime(2024, 7, 20, 8, 0, 0, tzinfo=pytz.timezone('est')))\n",
    "event.add('dtend', datetime(2024, 7, 20, 8, 0, 0, tzinfo=pytz.timezone('est')))\n",
    "event.add('dtstamp', datetime(2023, 3, 12, 0, 10, 0, tzinfo=pytz.timezone('utc')))\n",
    "event['location'] = vText('Circuit de Spa-Francorchamps')\n",
    "event.add('uid', uid)\n",
    "uid += 1\n",
    "\n",
    "# daytona = event\n",
    "iracing_specials.add_component(event)"
   ]
  },
  {
   "cell_type": "code",
   "execution_count": 20,
   "id": "9533217e",
   "metadata": {},
   "outputs": [
    {
     "data": {
      "text/plain": [
       "VCALENDAR({'PRODID': vText('b'-//My calendar product//example.com//''), 'VERSION': vText('b'2.0'')}, VEVENT({'SUMMARY': vText('b'iRacing Daytona 24H''), 'DESCRIPTION': vText('b'Daytona International Speedway\\\\n24 Hours\\\\nGTP/LMP2/GT3''), 'DTSTART': <icalendar.prop.vDDDTypes object at 0x000001A91263F580>, 'DTEND': <icalendar.prop.vDDDTypes object at 0x000001A91263F430>, 'DTSTAMP': <icalendar.prop.vDDDTypes object at 0x000001A91263F610>, 'LOCATION': vText('b'Daytona International Speedway''), 'UID': vText('b'100'')}), VEVENT({'SUMMARY': vText('b'iRacing Bathurst 12H''), 'DESCRIPTION': vText('b'Mount Panorama Circuit\\\\n12 Hours\\\\nGT3''), 'DTSTART': <icalendar.prop.vDDDTypes object at 0x000001A912B751C0>, 'DTEND': <icalendar.prop.vDDDTypes object at 0x000001A912B757C0>, 'DTSTAMP': <icalendar.prop.vDDDTypes object at 0x000001A912B75460>, 'LOCATION': vText('b'Mount Panorama Circuit''), 'UID': vText('b'101'')}), VEVENT({'SUMMARY': vText('b'iRacing Sebring 12H''), 'DESCRIPTION': vText('b'Sebring International Raceway\\\\n12 Hours\\\\nGTP/LMP2/GT3''), 'DTSTART': <icalendar.prop.vDDDTypes object at 0x000001A912B76130>, 'DTEND': <icalendar.prop.vDDDTypes object at 0x000001A912B76D30>, 'DTSTAMP': <icalendar.prop.vDDDTypes object at 0x000001A912B76CA0>, 'LOCATION': vText('b'Sebring International Raceway''), 'UID': vText('b'102'')}), VEVENT({'SUMMARY': vText('b'iRacing Road America 500''), 'DESCRIPTION': vText('b'Road America\\\\n500 Miles\\\\nGTP/GTO''), 'DTSTART': <icalendar.prop.vDDDTypes object at 0x000001A912703730>, 'DTEND': <icalendar.prop.vDDDTypes object at 0x000001A9127035E0>, 'DTSTAMP': <icalendar.prop.vDDDTypes object at 0x000001A9127037F0>, 'LOCATION': vText('b'Road America''), 'UID': vText('b'103'')}), VEVENT({'SUMMARY': vText('b'iRacing Nurburgring 24H''), 'DESCRIPTION': vText('b'Nurburgring Gesamstrecke 24H\\\\n24 Hours\\\\nGT3/PCup/GT4/TCR''), 'DTSTART': <icalendar.prop.vDDDTypes object at 0x000001A912B75B80>, 'DTEND': <icalendar.prop.vDDDTypes object at 0x000001A912B75550>, 'DTSTAMP': <icalendar.prop.vDDDTypes object at 0x000001A912B75D90>, 'LOCATION': vText('b'Nurburgring Gesamstrecke 24H''), 'UID': vText('b'104'')}), VEVENT({'SUMMARY': vText('b'iRacing Indy 500''), 'DESCRIPTION': vText('b'Indianapolis Motor Speedway\\\\n500 Miles\\\\nIndyCar''), 'DTSTART': <icalendar.prop.vDDDTypes object at 0x000001A912703610>, 'DTEND': <icalendar.prop.vDDDTypes object at 0x000001A912703F40>, 'DTSTAMP': <icalendar.prop.vDDDTypes object at 0x000001A9127036A0>, 'LOCATION': vText('b'Indianapolis Motor Speedway''), 'UID': vText('b'105'')}), VEVENT({'SUMMARY': vText('b'iRacing Watkins Glen 6H''), 'DESCRIPTION': vText('b'Watkins Glen International\\\\n6 Hours\\\\nGTP/LMP2/GT3''), 'DTSTART': <icalendar.prop.vDDDTypes object at 0x000001A912B76C10>, 'DTEND': <icalendar.prop.vDDDTypes object at 0x000001A912B76280>, 'DTSTAMP': <icalendar.prop.vDDDTypes object at 0x000001A912B768E0>, 'LOCATION': vText('b'Watkins Glen International''), 'UID': vText('b'106'')}), VEVENT({'SUMMARY': vText('b'iRacing Watkins Glen 6H''), 'DESCRIPTION': vText('b'Indianapolis Motor Speedway\\\\n6 Hours\\\\nGTP/LMP2/GT3''), 'DTSTART': <icalendar.prop.vDDDTypes object at 0x000001A912B75730>, 'DTEND': <icalendar.prop.vDDDTypes object at 0x000001A912B75E80>, 'DTSTAMP': <icalendar.prop.vDDDTypes object at 0x000001A912B75520>, 'LOCATION': vText('b'Indianapolis Motor Speedway''), 'UID': vText('b'107'')}), VEVENT({'SUMMARY': vText('b'iRacing Petit Le Mans''), 'DESCRIPTION': vText('b'Road Atlanta\\\\n10 Hours\\\\nGTP/LMP2/GT3''), 'DTSTART': <icalendar.prop.vDDDTypes object at 0x000001A912B766A0>, 'DTEND': <icalendar.prop.vDDDTypes object at 0x000001A912B76580>, 'DTSTAMP': <icalendar.prop.vDDDTypes object at 0x000001A912B76E20>, 'LOCATION': vText('b'Road Atlanta''), 'UID': vText('b'108'')}), VEVENT({'SUMMARY': vText('b'iRacing Bathurst 1000''), 'DESCRIPTION': vText('b'Mount Panorama Ciruit\\\\n1000 Kilometers\\\\nSupercar Gen3''), 'DTSTART': <icalendar.prop.vDDDTypes object at 0x000001A912B758E0>, 'DTEND': <icalendar.prop.vDDDTypes object at 0x000001A912B75EB0>, 'DTSTAMP': <icalendar.prop.vDDDTypes object at 0x000001A912B750D0>, 'LOCATION': vText('b'Mount Panorama Circuit''), 'UID': vText('b'109'')}), VEVENT({'SUMMARY': vText('b'iRacing Formula Ford Festival''), 'DESCRIPTION': vText('b'Brands Hatch\\\\nTBA?\\\\nFF1600''), 'DTSTART': <icalendar.prop.vDDDTypes object at 0x000001A912B92BE0>, 'DTEND': <icalendar.prop.vDDDTypes object at 0x000001A912B92370>, 'DTSTAMP': <icalendar.prop.vDDDTypes object at 0x000001A912B92670>, 'LOCATION': vText('b'Brands Hatch''), 'UID': vText('b'110'')}), VEVENT({'SUMMARY': vText('b'iRacing Fuji 8H''), 'DESCRIPTION': vText('b'Fuji International Speedway\\\\n8 Hours\\\\nGT3''), 'DTSTART': <icalendar.prop.vDDDTypes object at 0x000001A912B89460>, 'DTEND': <icalendar.prop.vDDDTypes object at 0x000001A912B89DF0>, 'DTSTAMP': <icalendar.prop.vDDDTypes object at 0x000001A912B89760>, 'LOCATION': vText('b'Fuji International Speedway''), 'UID': vText('b'111'')}), VEVENT({'SUMMARY': vText('b'iRacing SCCA Runoffs''), 'DESCRIPTION': vText('b'Road America\\\\nTBA?\\\\n6 classes''), 'DTSTART': <icalendar.prop.vDDDTypes object at 0x000001A912B75C70>, 'DTEND': <icalendar.prop.vDDDTypes object at 0x000001A912B75850>, 'DTSTAMP': <icalendar.prop.vDDDTypes object at 0x000001A912703AF0>, 'LOCATION': vText('b'Road America''), 'UID': vText('b'112'')}), VEVENT({'SUMMARY': vText('b'iRacing Spa 24H''), 'DESCRIPTION': vText('b'Circuit de Spa-Francorchamps\\\\n24 Hours\\\\nGT3''), 'DTSTART': <icalendar.prop.vDDDTypes object at 0x000001A9127039D0>, 'DTEND': <icalendar.prop.vDDDTypes object at 0x000001A912703E50>, 'DTSTAMP': <icalendar.prop.vDDDTypes object at 0x000001A912703040>, 'LOCATION': vText('b'Circuit de Spa-Francorchamps''), 'UID': vText('b'113'')}))"
      ]
     },
     "execution_count": 20,
     "metadata": {},
     "output_type": "execute_result"
    }
   ],
   "source": [
    "iracing_specials"
   ]
  },
  {
   "cell_type": "code",
   "execution_count": 22,
   "id": "3d744a8a",
   "metadata": {},
   "outputs": [
    {
     "name": "stdout",
     "output_type": "stream",
     "text": [
      "ics file will be generated at  C:\\Users\\chris\\Documents\\Calendars/\n"
     ]
    }
   ],
   "source": [
    "directory = str(Path(r'C:\\Users\\chris\\Documents\\Calendars')) + \"/\"\n",
    "print(\"ics file will be generated at \", directory)\n",
    "f = open(os.path.join(directory, 'iracing_specials.ics'), 'wb')\n",
    "f.write(iracing_specials.to_ical())\n",
    "f.close()"
   ]
  },
  {
   "cell_type": "code",
   "execution_count": null,
   "id": "d3f79a4f",
   "metadata": {},
   "outputs": [],
   "source": []
  },
  {
   "cell_type": "code",
   "execution_count": null,
   "id": "486a01a5",
   "metadata": {},
   "outputs": [],
   "source": []
  }
 ],
 "metadata": {
  "kernelspec": {
   "display_name": "Python 3 (ipykernel)",
   "language": "python",
   "name": "python3"
  },
  "language_info": {
   "codemirror_mode": {
    "name": "ipython",
    "version": 3
   },
   "file_extension": ".py",
   "mimetype": "text/x-python",
   "name": "python",
   "nbconvert_exporter": "python",
   "pygments_lexer": "ipython3",
   "version": "3.9.7"
  }
 },
 "nbformat": 4,
 "nbformat_minor": 5
}
