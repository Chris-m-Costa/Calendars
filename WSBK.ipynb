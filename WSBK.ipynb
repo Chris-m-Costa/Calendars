{
 "cells": [
  {
   "cell_type": "code",
   "execution_count": 1,
   "id": "f61ee1a8",
   "metadata": {},
   "outputs": [],
   "source": [
    "from bs4 import BeautifulSoup\n",
    "import requests\n",
    "from selenium import webdriver\n",
    "from datetime import datetime\n"
   ]
  },
  {
   "cell_type": "code",
   "execution_count": 2,
   "id": "0aa47d05",
   "metadata": {},
   "outputs": [],
   "source": [
    "driver = webdriver.Chrome()\n",
    "driver.get(\"https://www.worldsbk.com/en/calendar\")\n",
    "\n",
    "# Wait for dynamic content to load if needed\n",
    "\n",
    "sched_soup = BeautifulSoup(driver.page_source, 'html.parser')\n",
    "schedule_details = sched_soup.find_all('li', {'class': 'col-xs-12 col-sm-6 col-md-3 col-lg-3'})\n",
    "\n",
    "driver.quit()\n",
    "\n",
    "# <li class=\"col-xs-12 col-sm-6 col-md-3 col-lg-3\" style=\"opacity: 1;\">\n"
   ]
  },
  {
   "cell_type": "code",
   "execution_count": null,
   "id": "e20d2723",
   "metadata": {
    "scrolled": true
   },
   "outputs": [],
   "source": [
    "schedule_details"
   ]
  },
  {
   "cell_type": "code",
   "execution_count": 10,
   "id": "1ddf11cc",
   "metadata": {},
   "outputs": [],
   "source": [
    "days = [] \n",
    "end_days = []\n",
    "months = []\n",
    "end_months = []\n",
    "titles = [] \n",
    "descs = []\n",
    "circuits = []\n",
    "time = []\n",
    "start_hours = []\n",
    "start_minutes = []\n",
    "end_hours = []\n",
    "end_minutes = []\n",
    "\n",
    "year = datetime.now().year\n",
    "\n",
    "round_counter = 1\n",
    "\n",
    "\n",
    "month_mapping = {\n",
    "        'Jan': 1,\n",
    "        'JAN': 1,\n",
    "        'January': 1,\n",
    "        'Feb': 2,\n",
    "        'FEB': 2,\n",
    "        'February': 2,\n",
    "        'Mar': 3,\n",
    "        'March': 3,\n",
    "        'Apr': 4,\n",
    "        'April': 4,\n",
    "        'May': 5,\n",
    "        'Jun': 6,\n",
    "        'June': 6,\n",
    "        'Jul': 7,\n",
    "        'July': 7,\n",
    "        'Aug': 8,\n",
    "        'August': 8,\n",
    "        'Sep': 9,\n",
    "        'September': 9,\n",
    "        'Oct': 10,\n",
    "        'October': 10,\n",
    "        'Nov': 11,\n",
    "        'November': 11,\n",
    "        'Dec': 12,\n",
    "        'DEC': 12,\n",
    "        'December': 12\n",
    "    }\n",
    "\n",
    "\n"
   ]
  },
  {
   "cell_type": "code",
   "execution_count": 11,
   "id": "89e6cea7",
   "metadata": {},
   "outputs": [],
   "source": [
    "address = 'https://www.worldsbk.com'\n",
    "driver = webdriver.Chrome()\n",
    "for i in schedule_details:\n",
    "    if i.find(class_='calendar-round-item banner-calendar'):\n",
    "        continue\n",
    "    else:\n",
    "        link = i.find('a', {'class': 'track-link'})['href']        \n",
    "\n",
    "        driver.get(address + link)\n",
    "        soup = BeautifulSoup(driver.page_source, 'html.parser')\n",
    "\n",
    "        # Set the 'active' class to the 'My time' tab. This allows the times scraped to be in my local time, \n",
    "        #     otherwise would need to extract event time zones for the schedule later\n",
    "        my_time_tab = soup.find('span', class_='tab', attrs={'data-tab-id': 'my_time'})\n",
    "        my_time_tab['class'] = ['tab', 'active']\n",
    "\n",
    "           # Find all divs with class 'timeIso'\n",
    "        time_iso_divs = soup.find_all('div', class_='timeIso')\n",
    "\n",
    "        for div in time_iso_divs:\n",
    "            # Extract the start time from the div\n",
    "            start_time = div.find('div', attrs={'data_ini': True})['data_ini'].strip()\n",
    "            # Extract the session name from the div\n",
    "            session_name = div.find('div', class_='cat-session').text.strip()\n",
    "\n",
    "             # Check if the session name contains 'WorldSBK Race 1' or 'WorldSBK Race 2'\n",
    "            if session_name == 'WorldSBK - Race 1' or session_name == 'WorldSBK - Race 2':\n",
    "                time, date = start_time.split('T')[1].rstrip('+'), start_time.split('T')[0]\n",
    "\n",
    "                month, day = int(date.split('-')[1]), int(date.split('-')[2])\n",
    "                months.append(month)\n",
    "                days.append(day)\n",
    "\n",
    "                start_h, start_m = int(time.split(':')[0]), int(time.split(':')[1])\n",
    "                start_hours.append(start_h)\n",
    "                start_minutes.append(start_m)\n",
    "\n",
    "                end_h, end_m = start_h + 1, start_m\n",
    "                if end_h >= 24:\n",
    "                    end_h -= 24\n",
    "                    end_day = day + 1\n",
    "                else:\n",
    "                    end_day = day\n",
    "                end_days.append(end_day)\n",
    "                end_months.append(month)\n",
    "                end_hours.append(end_h)\n",
    "                end_minutes.append(end_m)\n",
    "\n",
    "                circuit_info = soup.find('div', class_='info-circuit')\n",
    "                circuit_name = circuit_info.contents[0].strip()\n",
    "                circuits.append(circuit_name)\n",
    "\n",
    "                temp_title = 'WSBK Round' + ' ' + str(round_counter)\n",
    "                round_counter += 1\n",
    "                titles.append(temp_title)\n",
    "\n",
    "                desc_p1 = soup.find('p').text\n",
    "                full_desc = desc_p1 + ' ' + session_name\n",
    "                descs.append(full_desc)\n",
    "\n",
    "\n",
    "\n",
    "driver.quit()        \n",
    "\n",
    "     \n",
    "                \n",
    "                \n",
    "        \n",
    "\n",
    "\n",
    "\n",
    "    \n",
    "\n",
    "\n",
    "\n",
    "        \n",
    "       \n",
    "#     for i in descs:\n",
    "#         if '6h' in i:\n",
    "#             end_hour = start_hour + 6\n",
    "#             end_hours.append(end_hour)\n",
    "#         else:\n",
    "#             end_hour = start_hour + 4\n",
    "#             end_hours.append(end_hour)\n",
    "\n",
    "#     else:\n",
    "#         pass"
   ]
  },
  {
   "cell_type": "code",
   "execution_count": null,
   "id": "897bbc90",
   "metadata": {},
   "outputs": [],
   "source": [
    "br"
   ]
  },
  {
   "cell_type": "code",
   "execution_count": 12,
   "id": "6b8dc3dd",
   "metadata": {},
   "outputs": [],
   "source": [
    "import pytz\n",
    "import icalendar\n",
    "from datetime import datetime\n",
    "from pathlib import Path\n",
    "import os\n",
    "from icalendar import Calendar, Event,  vText, vCalAddress"
   ]
  },
  {
   "cell_type": "code",
   "execution_count": 13,
   "id": "f5465cb9",
   "metadata": {},
   "outputs": [],
   "source": [
    "WSBK = Calendar()\n",
    "WSBK.add('prodid', '-//My calendar product//example.com//')\n",
    "WSBK.add('version', '2.0')\n",
    "uid = 110"
   ]
  },
  {
   "cell_type": "code",
   "execution_count": 14,
   "id": "1529f6fc",
   "metadata": {},
   "outputs": [],
   "source": [
    " \n",
    "for title, desc, circuit, day, month, s_h, s_m, end_day, end_month, e_h, e_m in zip(titles, descs, circuits, days, months, start_hours, start_minutes, end_days, end_months, end_hours, end_minutes):\n",
    "    ievent = Event()\n",
    "    ievent.add('summary', title) #Title of the event\n",
    "    ievent.add('description', desc)     #Description of event\n",
    "    #     ievent.add('description', f\"{event}\\n{length}\")\n",
    "\n",
    "    ievent.add('dtstart', datetime(year, month, day, s_h, s_m, 0, tzinfo=pytz.timezone('est')))\n",
    "    ievent.add('dtend', datetime(year, end_month, end_day, e_h, e_m, 0, tzinfo=pytz.timezone('est')))\n",
    "    ievent.add('dtstamp', datetime(year, 1, 16, 0, 10, 0, tzinfo=pytz.timezone('est')))\n",
    "    ievent.add('location', circuit)\n",
    "    ievent.add('uid', uid)\n",
    "    uid += 1\n",
    "    WSBK.add_component(ievent)"
   ]
  },
  {
   "cell_type": "code",
   "execution_count": 15,
   "id": "168d1bd2",
   "metadata": {},
   "outputs": [
    {
     "data": {
      "text/plain": [
       "VCALENDAR({'PRODID': vText('b'-//My calendar product//example.com//''), 'VERSION': vText('b'2.0'')}, VEVENT({'SUMMARY': vText('b'WSBK Round 1''), 'DESCRIPTION': vText('b'Grand Ridge Brewery Australian Round WorldSBK - Race 1''), 'DTSTART': <icalendar.prop.vDDDTypes object at 0x000002178CF86B50>, 'DTEND': <icalendar.prop.vDDDTypes object at 0x000002178CF86880>, 'DTSTAMP': <icalendar.prop.vDDDTypes object at 0x000002178CF86910>, 'LOCATION': vText('b'''), 'UID': vText('b'110'')}), VEVENT({'SUMMARY': vText('b'WSBK Round 2''), 'DESCRIPTION': vText('b'Grand Ridge Brewery Australian Round WorldSBK - Race 2''), 'DTSTART': <icalendar.prop.vDDDTypes object at 0x000002178CF86580>, 'DTEND': <icalendar.prop.vDDDTypes object at 0x000002178CF86FD0>, 'DTSTAMP': <icalendar.prop.vDDDTypes object at 0x000002178CF86970>, 'LOCATION': vText('b'''), 'UID': vText('b'111'')}), VEVENT({'SUMMARY': vText('b'WSBK Round 3''), 'DESCRIPTION': vText('b'Pirelli Catalunya Round WorldSBK - Race 1''), 'DTSTART': <icalendar.prop.vDDDTypes object at 0x000002178CF86CA0>, 'DTEND': <icalendar.prop.vDDDTypes object at 0x000002178CF86E20>, 'DTSTAMP': <icalendar.prop.vDDDTypes object at 0x000002178CF86100>, 'LOCATION': vText('b'''), 'UID': vText('b'112'')}), VEVENT({'SUMMARY': vText('b'WSBK Round 4''), 'DESCRIPTION': vText('b'Pirelli Catalunya Round WorldSBK - Race 2''), 'DTSTART': <icalendar.prop.vDDDTypes object at 0x000002178CF0A8E0>, 'DTEND': <icalendar.prop.vDDDTypes object at 0x000002178CF0AB50>, 'DTSTAMP': <icalendar.prop.vDDDTypes object at 0x000002178CF0AD60>, 'LOCATION': vText('b'''), 'UID': vText('b'113'')}), VEVENT({'SUMMARY': vText('b'WSBK Round 5''), 'DESCRIPTION': vText('b'Pirelli Dutch Round WorldSBK - Race 1''), 'DTSTART': <icalendar.prop.vDDDTypes object at 0x000002178CDA5F10>, 'DTEND': <icalendar.prop.vDDDTypes object at 0x000002178CDA5EE0>, 'DTSTAMP': <icalendar.prop.vDDDTypes object at 0x000002178CFC5F40>, 'LOCATION': vText('b'''), 'UID': vText('b'114'')}), VEVENT({'SUMMARY': vText('b'WSBK Round 6''), 'DESCRIPTION': vText('b'Pirelli Dutch Round WorldSBK - Race 2''), 'DTSTART': <icalendar.prop.vDDDTypes object at 0x000002178CEEF2B0>, 'DTEND': <icalendar.prop.vDDDTypes object at 0x000002178E79A0D0>, 'DTSTAMP': <icalendar.prop.vDDDTypes object at 0x000002178E7E1280>, 'LOCATION': vText('b'''), 'UID': vText('b'115'')}), VEVENT({'SUMMARY': vText('b'WSBK Round 7''), 'DESCRIPTION': vText('b'Pirelli Emilia-Romagna Round WorldSBK - Race 1''), 'DTSTART': <icalendar.prop.vDDDTypes object at 0x000002178E7E1490>, 'DTEND': <icalendar.prop.vDDDTypes object at 0x000002178E7E1520>, 'DTSTAMP': <icalendar.prop.vDDDTypes object at 0x000002178E7E15B0>, 'LOCATION': vText('b'''), 'UID': vText('b'116'')}), VEVENT({'SUMMARY': vText('b'WSBK Round 8''), 'DESCRIPTION': vText('b'Pirelli Emilia-Romagna Round WorldSBK - Race 2''), 'DTSTART': <icalendar.prop.vDDDTypes object at 0x000002178E7E10A0>, 'DTEND': <icalendar.prop.vDDDTypes object at 0x000002178E7D3A00>, 'DTSTAMP': <icalendar.prop.vDDDTypes object at 0x000002178E7D3A90>, 'LOCATION': vText('b'''), 'UID': vText('b'117'')}), VEVENT({'SUMMARY': vText('b'WSBK Round 9''), 'DESCRIPTION': vText('b'Prosecco DOC UK Round WorldSBK - Race 1''), 'DTSTART': <icalendar.prop.vDDDTypes object at 0x000002178E7D3910>, 'DTEND': <icalendar.prop.vDDDTypes object at 0x000002178E7D3FD0>, 'DTSTAMP': <icalendar.prop.vDDDTypes object at 0x000002178E7D3EB0>, 'LOCATION': vText('b'''), 'UID': vText('b'118'')}), VEVENT({'SUMMARY': vText('b'WSBK Round 10''), 'DESCRIPTION': vText('b'Prosecco DOC UK Round WorldSBK - Race 2''), 'DTSTART': <icalendar.prop.vDDDTypes object at 0x000002178E7D3C40>, 'DTEND': <icalendar.prop.vDDDTypes object at 0x000002178E7D3BB0>, 'DTSTAMP': <icalendar.prop.vDDDTypes object at 0x000002178E7D37F0>, 'LOCATION': vText('b'''), 'UID': vText('b'119'')}), VEVENT({'SUMMARY': vText('b'WSBK Round 11''), 'DESCRIPTION': vText('b'Czech Round WorldSBK - Race 1''), 'DTSTART': <icalendar.prop.vDDDTypes object at 0x000002178E7D3F10>, 'DTEND': <icalendar.prop.vDDDTypes object at 0x000002178E7D38B0>, 'DTSTAMP': <icalendar.prop.vDDDTypes object at 0x000002178E78D5B0>, 'LOCATION': vText('b'''), 'UID': vText('b'120'')}), VEVENT({'SUMMARY': vText('b'WSBK Round 12''), 'DESCRIPTION': vText('b'Czech Round WorldSBK - Race 2''), 'DTSTART': <icalendar.prop.vDDDTypes object at 0x000002178D0B15E0>, 'DTEND': <icalendar.prop.vDDDTypes object at 0x000002178D0B1910>, 'DTSTAMP': <icalendar.prop.vDDDTypes object at 0x000002178CE9F3A0>, 'LOCATION': vText('b'''), 'UID': vText('b'121'')}), VEVENT({'SUMMARY': vText('b'WSBK Round 13''), 'DESCRIPTION': vText('b'Pirelli Portuguese Round WorldSBK - Race 1''), 'DTSTART': <icalendar.prop.vDDDTypes object at 0x000002178CE9F3D0>, 'DTEND': <icalendar.prop.vDDDTypes object at 0x000002178CE9F8E0>, 'DTSTAMP': <icalendar.prop.vDDDTypes object at 0x000002178CE9FAC0>, 'LOCATION': vText('b'''), 'UID': vText('b'122'')}), VEVENT({'SUMMARY': vText('b'WSBK Round 14''), 'DESCRIPTION': vText('b'Pirelli Portuguese Round WorldSBK - Race 2''), 'DTSTART': <icalendar.prop.vDDDTypes object at 0x000002178CE9F400>, 'DTEND': <icalendar.prop.vDDDTypes object at 0x000002178E7FF070>, 'DTSTAMP': <icalendar.prop.vDDDTypes object at 0x000002178E7FF100>, 'LOCATION': vText('b'''), 'UID': vText('b'123'')}), VEVENT({'SUMMARY': vText('b'WSBK Round 15''), 'DESCRIPTION': vText('b'Hungarian Round WorldSBK - Race 1''), 'DTSTART': <icalendar.prop.vDDDTypes object at 0x000002178E7FF2B0>, 'DTEND': <icalendar.prop.vDDDTypes object at 0x000002178E7FF340>, 'DTSTAMP': <icalendar.prop.vDDDTypes object at 0x000002178E7FF3D0>, 'LOCATION': vText('b'''), 'UID': vText('b'124'')}), VEVENT({'SUMMARY': vText('b'WSBK Round 16''), 'DESCRIPTION': vText('b'Hungarian Round WorldSBK - Race 2''), 'DTSTART': <icalendar.prop.vDDDTypes object at 0x000002178E7FF580>, 'DTEND': <icalendar.prop.vDDDTypes object at 0x000002178E7FF610>, 'DTSTAMP': <icalendar.prop.vDDDTypes object at 0x000002178E7FF6A0>, 'LOCATION': vText('b'''), 'UID': vText('b'125'')}), VEVENT({'SUMMARY': vText('b'WSBK Round 17''), 'DESCRIPTION': vText('b'Motul French Round WorldSBK - Race 1''), 'DTSTART': <icalendar.prop.vDDDTypes object at 0x000002178E7FF850>, 'DTEND': <icalendar.prop.vDDDTypes object at 0x000002178E7FF8E0>, 'DTSTAMP': <icalendar.prop.vDDDTypes object at 0x000002178E7FF970>, 'LOCATION': vText('b'''), 'UID': vText('b'126'')}), VEVENT({'SUMMARY': vText('b'WSBK Round 18''), 'DESCRIPTION': vText('b'Motul French Round WorldSBK - Race 2''), 'DTSTART': <icalendar.prop.vDDDTypes object at 0x000002178E7FFB20>, 'DTEND': <icalendar.prop.vDDDTypes object at 0x000002178E7FFBB0>, 'DTSTAMP': <icalendar.prop.vDDDTypes object at 0x000002178E7FFC40>, 'LOCATION': vText('b'''), 'UID': vText('b'127'')}), VEVENT({'SUMMARY': vText('b'WSBK Round 19''), 'DESCRIPTION': vText('b'Acerbis Italian Round WorldSBK - Race 1''), 'DTSTART': <icalendar.prop.vDDDTypes object at 0x000002178E7FFDF0>, 'DTEND': <icalendar.prop.vDDDTypes object at 0x000002178E7FFE80>, 'DTSTAMP': <icalendar.prop.vDDDTypes object at 0x000002178E7FFF10>, 'LOCATION': vText('b'''), 'UID': vText('b'128'')}), VEVENT({'SUMMARY': vText('b'WSBK Round 20''), 'DESCRIPTION': vText('b'Acerbis Italian Round WorldSBK - Race 2''), 'DTSTART': <icalendar.prop.vDDDTypes object at 0x000002178E808100>, 'DTEND': <icalendar.prop.vDDDTypes object at 0x000002178E808190>, 'DTSTAMP': <icalendar.prop.vDDDTypes object at 0x000002178E808220>, 'LOCATION': vText('b'''), 'UID': vText('b'129'')}), VEVENT({'SUMMARY': vText('b'WSBK Round 21''), 'DESCRIPTION': vText('b'Tissot Aragon Round WorldSBK - Race 1''), 'DTSTART': <icalendar.prop.vDDDTypes object at 0x000002178E8083D0>, 'DTEND': <icalendar.prop.vDDDTypes object at 0x000002178E808460>, 'DTSTAMP': <icalendar.prop.vDDDTypes object at 0x000002178E8084F0>, 'LOCATION': vText('b'''), 'UID': vText('b'130'')}), VEVENT({'SUMMARY': vText('b'WSBK Round 22''), 'DESCRIPTION': vText('b'Tissot Aragon Round WorldSBK - Race 2''), 'DTSTART': <icalendar.prop.vDDDTypes object at 0x000002178E8086A0>, 'DTEND': <icalendar.prop.vDDDTypes object at 0x000002178E808730>, 'DTSTAMP': <icalendar.prop.vDDDTypes object at 0x000002178E8087C0>, 'LOCATION': vText('b'''), 'UID': vText('b'131'')}), VEVENT({'SUMMARY': vText('b'WSBK Round 23''), 'DESCRIPTION': vText('b'Prometeon Spanish Round WorldSBK - Race 1''), 'DTSTART': <icalendar.prop.vDDDTypes object at 0x000002178E808970>, 'DTEND': <icalendar.prop.vDDDTypes object at 0x000002178E808A00>, 'DTSTAMP': <icalendar.prop.vDDDTypes object at 0x000002178E808A90>, 'LOCATION': vText('b'''), 'UID': vText('b'132'')}), VEVENT({'SUMMARY': vText('b'WSBK Round 24''), 'DESCRIPTION': vText('b'Prometeon Spanish Round WorldSBK - Race 2''), 'DTSTART': <icalendar.prop.vDDDTypes object at 0x000002178E808C70>, 'DTEND': <icalendar.prop.vDDDTypes object at 0x000002178E808D00>, 'DTSTAMP': <icalendar.prop.vDDDTypes object at 0x000002178E808D90>, 'LOCATION': vText('b'''), 'UID': vText('b'133'')}))"
      ]
     },
     "execution_count": 15,
     "metadata": {},
     "output_type": "execute_result"
    }
   ],
   "source": [
    "WSBK"
   ]
  },
  {
   "cell_type": "code",
   "execution_count": null,
   "id": "b0b7f7c7",
   "metadata": {},
   "outputs": [],
   "source": [
    "br"
   ]
  },
  {
   "cell_type": "code",
   "execution_count": 16,
   "id": "0146ef04",
   "metadata": {},
   "outputs": [
    {
     "name": "stdout",
     "output_type": "stream",
     "text": [
      "ics file will be generated at  C:\\Users\\chris\\Documents\\Calendars/\n"
     ]
    }
   ],
   "source": [
    "directory = str(Path(r'C:\\Users\\chris\\Documents\\Calendars')) + \"/\"\n",
    "print(\"ics file will be generated at \", directory)\n",
    "f = open(os.path.join(directory, 'WSBK.ics'), 'wb')\n",
    "f.write(WSBK.to_ical())\n",
    "f.close()"
   ]
  }
 ],
 "metadata": {
  "kernelspec": {
   "display_name": "Python 3 (ipykernel)",
   "language": "python",
   "name": "python3"
  },
  "language_info": {
   "codemirror_mode": {
    "name": "ipython",
    "version": 3
   },
   "file_extension": ".py",
   "mimetype": "text/x-python",
   "name": "python",
   "nbconvert_exporter": "python",
   "pygments_lexer": "ipython3",
   "version": "3.9.7"
  }
 },
 "nbformat": 4,
 "nbformat_minor": 5
}
