{
 "cells": [
  {
   "cell_type": "code",
   "execution_count": 1,
   "id": "f61ee1a8",
   "metadata": {},
   "outputs": [],
   "source": [
    "from bs4 import BeautifulSoup\n",
    "import requests\n",
    "from selenium import webdriver\n",
    "from datetime import datetime\n"
   ]
  },
  {
   "cell_type": "code",
   "execution_count": 2,
   "id": "0aa47d05",
   "metadata": {},
   "outputs": [],
   "source": [
    "driver = webdriver.Chrome()\n",
    "driver.get(\"https://www.indycar.com/Schedule\")\n",
    "\n",
    "# Wait for dynamic content to load if needed\n",
    "\n",
    "sched_soup = BeautifulSoup(driver.page_source, 'html.parser')\n",
    "schedule_details = sched_soup.find_all('li', {'class': 'schedule-list__item'})\n",
    "\n",
    "driver.quit()\n",
    "\n",
    "                                        "
   ]
  },
  {
   "cell_type": "code",
   "execution_count": 3,
   "id": "e20d2723",
   "metadata": {},
   "outputs": [],
   "source": [
    "# schedule_details"
   ]
  },
  {
   "cell_type": "code",
   "execution_count": 4,
   "id": "1ddf11cc",
   "metadata": {},
   "outputs": [],
   "source": [
    "days = [] \n",
    "months = []\n",
    "titles = [] \n",
    "descs = []\n",
    "circuits = []\n",
    "time = []\n",
    "start_hours = []\n",
    "start_minutes = []\n",
    "end_hours = []\n",
    "end_minutes = []\n",
    "\n",
    "year = datetime.now().year\n",
    "\n",
    "\n",
    "\n",
    "month_mapping = {\n",
    "        'Jan': 1,\n",
    "        'JAN': 1,\n",
    "        'January': 1,\n",
    "        'Feb': 2,\n",
    "        'FEB': 2,\n",
    "        'Mar': 3,\n",
    "        'March': 3,\n",
    "        'Apr': 4,\n",
    "        'May': 5,\n",
    "        'Jun': 6,\n",
    "        'Jul': 7,\n",
    "        'Aug': 8,\n",
    "        'Sep': 9,\n",
    "        'Oct': 10,\n",
    "        'October': 10,\n",
    "        'Nov': 11,\n",
    "        'Dec': 12,\n",
    "        'DEC': 12\n",
    "    }\n",
    "\n",
    "\n",
    "\n"
   ]
  },
  {
   "cell_type": "code",
   "execution_count": 5,
   "id": "3db33d14",
   "metadata": {},
   "outputs": [],
   "source": [
    "circuit_naming = {}\n",
    "link_names = []\n",
    "for i in schedule_details:\n",
    "    link_temp = i.find('a', class_='panel-trigger schedule-list__title')\n",
    "    link = link_temp['href'].split('/')[-1]\n",
    "    link_names.append(link)\n",
    "    \n",
    "circ_names = ['St Petersburg Street Circuit' '\\n' 'St. Petersburg, FL.',\n",
    "              'Thermal Club Circuit' '\\n' 'Thermal, CA.',\n",
    "              'Long Beach Street Circuit' '\\n' 'Long Beach, CA.',\n",
    "              'Barber Motorsports Park' '\\n' 'Birmingham, AL',\n",
    "              'Indianapolis Motor Speedway Road Course' '\\n' 'Indianapolis, IN.',\n",
    "              'Indianapolis Motor Speedway Oval' '\\n' 'Indianapolis, IN.',\n",
    "              'Downtown Detroit Street Circuit' '\\n' 'Detroit, MI',\n",
    "              'Road America' '\\n' 'Elkhart Lake, WI.',\n",
    "              'Laguna Seca Raceway' '\\n' 'Monterey, CA',\n",
    "              'Mid-Ohio Sports Car Course' '\\n' 'Lexington, OH',\n",
    "              'Iowa Speedway' '\\n' 'Newton, IA',\n",
    "              'Iowa Speedway' '\\n' 'Newton, IA',\n",
    "              'Exhibition Place Street Circuit' '\\n' 'Toronto, Ontario, Canada',\n",
    "              'Gateway Motorsports Park' '\\n' 'Madison, IL.',\n",
    "              'Portland International Raceway' '\\n' 'Portland, OR.',\n",
    "              'Milwaukee Mile' '\\n' 'West Allis, WI',\n",
    "              'Milwaukee Mile' '\\n' 'West Allis, WI',\n",
    "              'Nashville Superspeedway' '\\n' 'Lebanon, TN'\n",
    "             ]\n",
    "\n",
    "circuit_naming = dict(zip(link_names, circ_names))"
   ]
  },
  {
   "cell_type": "code",
   "execution_count": 6,
   "id": "1a679bf1",
   "metadata": {},
   "outputs": [],
   "source": [
    "##Testing##\n",
    "# link_prefix = 'https://www.indycar.com'\n",
    "\n",
    "# # schedule_details[1].find('a', class_='panel-trigger schedule-list__title')\n",
    "# link_temp = schedule_details[1].find('a', class_='panel-trigger schedule-list__title')\n",
    "# link = link_temp['href']\n",
    "# driver = webdriver.Chrome()\n",
    "# driver.get(link_prefix + link)\n",
    "# event_soup = BeautifulSoup(driver.page_source, 'html.parser')\n",
    "# desc = event_soup.find('h2', {'style':''}).text.strip()\n",
    "# desc\n",
    "\n",
    "# # <div class=\"race-list__date text\">Sunday,   Sep 15 </div>"
   ]
  },
  {
   "cell_type": "code",
   "execution_count": 7,
   "id": "444b3a6b",
   "metadata": {},
   "outputs": [],
   "source": [
    "link_prefix = 'https://www.indycar.com'\n",
    "round_counter = 1\n",
    "\n",
    "for i in schedule_details:\n",
    "    link_temp = i.find('a', class_='panel-trigger schedule-list__title')\n",
    "    link = link_temp['href']\n",
    "    driver = webdriver.Chrome()\n",
    "    driver.get(link_prefix + link)\n",
    "    event_soup = BeautifulSoup(driver.page_source, 'html.parser')\n",
    "    \n",
    "    desc = event_soup.find('h2', {'style':''}).text.strip()\n",
    "    dist = event_soup.find('h2', {'class':'race-details'}).text.split('|')\n",
    "    lap_count = dist[0].strip().replace('\\n', '').replace('LAPS', 'Laps').split()\n",
    "    lap_count = ' '.join(lap_count)  # Join the split elements to remove excess space\n",
    "    distance = dist[1].strip().replace('\\n', '')\n",
    "    formatted_output = f\"{lap_count}, {distance}\"                  \n",
    "    descs.append(desc + '\\n' + formatted_output)\n",
    "    \n",
    "    temp_circuit = link_temp['href'].split('/')[-1]\n",
    "    converted_circuit = circuit_naming[temp_circuit]\n",
    "    circuits.append(converted_circuit)\n",
    "    \n",
    "    if 'Thermal' in converted_circuit:\n",
    "        temp_title = 'IndyCar Exhibition Race'\n",
    "    else:\n",
    "        temp_title = 'IndyCar Round ' + '0' + str(round_counter)\n",
    "        round_counter += 1\n",
    "    titles.append(temp_title)\n",
    "    \n",
    "    temp_date = event_soup.find('div', class_='race-list__date text').text.split(' ')\n",
    "    temp_month = temp_date[-3]\n",
    "    conv_month = month_mapping[temp_month]\n",
    "    temp_day = temp_date[-2]\n",
    "    months.append(conv_month)\n",
    "    days.append(int(temp_day))\n",
    "    \n",
    "    temp_time = event_soup.find('div', class_='race-list__time text').text.split('-')\n",
    "    if 'TBD' in temp_time:\n",
    "        start_hours.append(12)\n",
    "        start_minutes.append(0)\n",
    "        end_hours.append(15)\n",
    "        end_minutes.append(0)\n",
    "        \n",
    "    else:\n",
    "        start_h, start_m = temp_time[0].split(':')[0], temp_time[0].split(':')[-1].strip(' PM').strip(' A')\n",
    "        if 'PM' in temp_time[0]:\n",
    "            if start_h == '12':\n",
    "                start_hours.append(int(start_h))\n",
    "            else:  \n",
    "                start_h = int(start_h) + 12\n",
    "                start_hours.append(start_h)\n",
    "        else:\n",
    "            start_hours.append(int(start_h))\n",
    "        if start_m == '00':\n",
    "            start_minutes.append(0)\n",
    "        else:\n",
    "            start_minutes.append(int(start_m))\n",
    "\n",
    "        end_h, end_m = temp_time[1].split(':')[0], temp_time[0].split(':')[-1].strip(' PM').strip(' A')\n",
    "        if 'PM' in temp_time[1]:\n",
    "            end_h = int(end_h) + 12\n",
    "            end_hours.append(end_h)\n",
    "        else:\n",
    "            end_hours.append(int(end_h))\n",
    "        if end_m == '00':\n",
    "            end_minutes.append(0)\n",
    "        else:\n",
    "            end_minutes.append(int(end_m))\n",
    "     "
   ]
  },
  {
   "cell_type": "code",
   "execution_count": 8,
   "id": "f76a9670",
   "metadata": {},
   "outputs": [],
   "source": [
    "indy_pq_month = 5\n",
    "pq_circ  ='Indianapolis Motor Speedway Oval' '\\n' 'Indianapolis, IN.'\n",
    "\n",
    "pq_days = [14, 15, 16, 17, 18, 18, 19, 19, 19, 19, 19, 20, 24, 24]\n",
    "pq_s_h = [9, 12, 12, 12, 8, 11, 11, 12, 14, 16, 17, 13, 11, 14]\n",
    "pq_s_m = [0, 0, 0, 0, 30, 0, 30, 30, 0, 0, 15, 0, 0, 30]\n",
    "pq_e_h = [18, 18, 18, 18, 9, 17, 12, 13, 15, 17, 17, 15, 13, 16]\n",
    "pq_e_m = [0, 0, 0, 0, 30, 50, 30, 30, 0, 0, 45, 0, 0, 0]\n",
    "tits = ['Indy 500 Practice', 'Indy 500 Practice', 'Indy 500 Practice', 'Indy 500 Fast Friday', 'Indy 500 Open Practice',\n",
    "        'Indy 500 Qualifying', 'Indy 500 Top 12 Practice', 'Indy 500 LCQ Practice', 'Indy 500 Top 12 Qualifying',\n",
    "        'Indy 500 Last Chance Qualifying', 'Indy 500 Fast Six Qualifying', 'Indy 500 Practice',\n",
    "        'Indy 500 Carb Day Final Practice', 'Indy 500 Pit Stop Challenge']\n",
    "\n",
    "\n",
    "\n"
   ]
  },
  {
   "cell_type": "code",
   "execution_count": 9,
   "id": "6b8dc3dd",
   "metadata": {},
   "outputs": [],
   "source": [
    "import pytz\n",
    "import icalendar\n",
    "from datetime import datetime\n",
    "from pathlib import Path\n",
    "import os\n",
    "from icalendar import Calendar, Event,  vText, vCalAddress"
   ]
  },
  {
   "cell_type": "code",
   "execution_count": 10,
   "id": "f5465cb9",
   "metadata": {},
   "outputs": [],
   "source": [
    "IndyCar = Calendar()\n",
    "IndyCar.add('prodid', '-//My calendar product//example.com//')\n",
    "IndyCar.add('version', '2.0')\n",
    "uid = 110"
   ]
  },
  {
   "cell_type": "code",
   "execution_count": 11,
   "id": "1529f6fc",
   "metadata": {},
   "outputs": [],
   "source": [
    " \n",
    "for title, circuit, day, month, desc, s_h, s_m, e_h, e_m in zip(titles, circuits, days, months, descs, start_hours, start_minutes, end_hours, end_minutes):\n",
    "    ievent = Event()\n",
    "    ievent.add('summary', title) #Title of the event\n",
    "    ievent.add('description', desc)     #Description of event\n",
    "    #     ievent.add('description', f\"{event}\\n{length}\")\n",
    "\n",
    "    ievent.add('dtstart', datetime(year, month, day, s_h, s_m, 0, tzinfo=pytz.timezone('est')))\n",
    "    ievent.add('dtend', datetime(year, month, day, e_h, e_m, 0, tzinfo=pytz.timezone('est')))\n",
    "    ievent.add('dtstamp', datetime(2024, 1, 16, 0, 10, 0, tzinfo=pytz.timezone('est')))\n",
    "    ievent.add('location', circuit)\n",
    "    ievent.add('uid', uid)\n",
    "    uid += 1\n",
    "    IndyCar.add_component(ievent)"
   ]
  },
  {
   "cell_type": "code",
   "execution_count": 12,
   "id": "81d30274",
   "metadata": {},
   "outputs": [],
   "source": [
    "for tit, day, s_h, s_m, e_h, e_m in zip(tits, pq_days, pq_s_h, pq_s_m, pq_e_h, pq_e_m):\n",
    "    ievent = Event()\n",
    "    ievent.add('summary', tit) #Title of the event\n",
    "    ievent.add('description', tit)     #Description of event\n",
    "    #     ievent.add('description', f\"{event}\\n{length}\")\n",
    "\n",
    "    ievent.add('dtstart', datetime(year, indy_pq_month, day, s_h, s_m, 0, tzinfo=pytz.timezone('est')))\n",
    "    ievent.add('dtend', datetime(year, indy_pq_month, day, e_h, e_m, 0, tzinfo=pytz.timezone('est')))\n",
    "    ievent.add('dtstamp', datetime(2024, 1, 16, 0, 10, 0, tzinfo=pytz.timezone('est')))\n",
    "    ievent.add('location', pq_circ)\n",
    "    ievent.add('uid', uid)\n",
    "    uid += 1\n",
    "    IndyCar.add_component(ievent)"
   ]
  },
  {
   "cell_type": "code",
   "execution_count": 13,
   "id": "168d1bd2",
   "metadata": {},
   "outputs": [
    {
     "data": {
      "text/plain": [
       "VCALENDAR({'PRODID': vText('b'-//My calendar product//example.com//''), 'VERSION': vText('b'2.0'')}, VEVENT({'SUMMARY': vText('b'IndyCar Round 01''), 'DESCRIPTION': vText('b'Firestone Grand Prix of St. Petersburg\\\\n100 Laps\\\\, 180 Miles''), 'DTSTART': <icalendar.prop.vDDDTypes object at 0x000001A8E29DC850>, 'DTEND': <icalendar.prop.vDDDTypes object at 0x000001A8E29DCF10>, 'DTSTAMP': <icalendar.prop.vDDDTypes object at 0x000001A8E29DCFA0>, 'LOCATION': vText('b'St Petersburg Street Circuit\\\\nSt. Petersburg\\\\, FL.''), 'UID': vText('b'110'')}), VEVENT({'SUMMARY': vText('b'IndyCar Exhibition Race''), 'DESCRIPTION': vText('b'$1 Million Challenge\\\\nLaps\\\\, ''), 'DTSTART': <icalendar.prop.vDDDTypes object at 0x000001A8E29DCD90>, 'DTEND': <icalendar.prop.vDDDTypes object at 0x000001A8E29DCD00>, 'DTSTAMP': <icalendar.prop.vDDDTypes object at 0x000001A8E29DCDC0>, 'LOCATION': vText('b'Thermal Club Circuit\\\\nThermal\\\\, CA.''), 'UID': vText('b'111'')}), VEVENT({'SUMMARY': vText('b'IndyCar Round 02''), 'DESCRIPTION': vText('b'Acura Grand Prix of Long Beach\\\\n85 Laps\\\\, 167.28 Miles''), 'DTSTART': <icalendar.prop.vDDDTypes object at 0x000001A8E29DC9A0>, 'DTEND': <icalendar.prop.vDDDTypes object at 0x000001A8E29DCBB0>, 'DTSTAMP': <icalendar.prop.vDDDTypes object at 0x000001A8E29E5DC0>, 'LOCATION': vText('b'Long Beach Street Circuit\\\\nLong Beach\\\\, CA.''), 'UID': vText('b'112'')}), VEVENT({'SUMMARY': vText('b'IndyCar Round 03''), 'DESCRIPTION': vText('b'Children\\xe2\\x80\\x99s of Alabama Indy Grand Prix\\\\n90 Laps\\\\, 207 Miles''), 'DTSTART': <icalendar.prop.vDDDTypes object at 0x000001A8E29E5CD0>, 'DTEND': <icalendar.prop.vDDDTypes object at 0x000001A8E29E59D0>, 'DTSTAMP': <icalendar.prop.vDDDTypes object at 0x000001A8E29E5970>, 'LOCATION': vText('b'Barber Motorsports Park\\\\nBirmingham\\\\, AL''), 'UID': vText('b'113'')}), VEVENT({'SUMMARY': vText('b'IndyCar Round 04''), 'DESCRIPTION': vText('b'Sonsio Grand Prix\\\\n85 Laps\\\\, 207.32 Miles''), 'DTSTART': <icalendar.prop.vDDDTypes object at 0x000001A8E29E56A0>, 'DTEND': <icalendar.prop.vDDDTypes object at 0x000001A8E29E53A0>, 'DTSTAMP': <icalendar.prop.vDDDTypes object at 0x000001A8E29E5430>, 'LOCATION': vText('b'Indianapolis Motor Speedway Road Course\\\\nIndianapolis\\\\, IN.''), 'UID': vText('b'114'')}), VEVENT({'SUMMARY': vText('b'IndyCar Round 05''), 'DESCRIPTION': vText('b'108th Running of the Indianapolis 500\\\\n200 Laps\\\\, 500 Miles''), 'DTSTART': <icalendar.prop.vDDDTypes object at 0x000001A8E2ABB340>, 'DTEND': <icalendar.prop.vDDDTypes object at 0x000001A8E2ABB2E0>, 'DTSTAMP': <icalendar.prop.vDDDTypes object at 0x000001A8E2ABB430>, 'LOCATION': vText('b'Indianapolis Motor Speedway Oval\\\\nIndianapolis\\\\, IN.''), 'UID': vText('b'115'')}), VEVENT({'SUMMARY': vText('b'IndyCar Round 06''), 'DESCRIPTION': vText('b'Chevrolet Detroit Grand Prix\\\\n100 Laps\\\\, 164.5 Miles''), 'DTSTART': <icalendar.prop.vDDDTypes object at 0x000001A8E2ABBFD0>, 'DTEND': <icalendar.prop.vDDDTypes object at 0x000001A8E2ABBF40>, 'DTSTAMP': <icalendar.prop.vDDDTypes object at 0x000001A8E2ABBEB0>, 'LOCATION': vText('b'Downtown Detroit Street Circuit\\\\nDetroit\\\\, MI''), 'UID': vText('b'116'')}), VEVENT({'SUMMARY': vText('b'IndyCar Round 07''), 'DESCRIPTION': vText('b'Road America\\\\n55 Laps\\\\, 220.55 Miles''), 'DTSTART': <icalendar.prop.vDDDTypes object at 0x000001A8E2ABB0D0>, 'DTEND': <icalendar.prop.vDDDTypes object at 0x000001A8E2ADAE50>, 'DTSTAMP': <icalendar.prop.vDDDTypes object at 0x000001A8E2ADAD90>, 'LOCATION': vText('b'Road America\\\\nElkhart Lake\\\\, WI.''), 'UID': vText('b'117'')}), VEVENT({'SUMMARY': vText('b'IndyCar Round 08''), 'DESCRIPTION': vText('b'Firestone Grand Prix of Monterey\\\\n95 Laps\\\\, 212.61 Miles''), 'DTSTART': <icalendar.prop.vDDDTypes object at 0x000001A8E2CB83A0>, 'DTEND': <icalendar.prop.vDDDTypes object at 0x000001A8E2CB8640>, 'DTSTAMP': <icalendar.prop.vDDDTypes object at 0x000001A8E2CB83D0>, 'LOCATION': vText('b'Laguna Seca Raceway\\\\nMonterey\\\\, CA''), 'UID': vText('b'118'')}), VEVENT({'SUMMARY': vText('b'IndyCar Round 09''), 'DESCRIPTION': vText('b'Honda Indy 200 at Mid-Ohio\\\\n80 Laps\\\\, 180.64 Miles''), 'DTSTART': <icalendar.prop.vDDDTypes object at 0x000001A8E29D9100>, 'DTEND': <icalendar.prop.vDDDTypes object at 0x000001A8E29D9B20>, 'DTSTAMP': <icalendar.prop.vDDDTypes object at 0x000001A8E29D9250>, 'LOCATION': vText('b'Mid-Ohio Sports Car Course\\\\nLexington\\\\, OH''), 'UID': vText('b'119'')}), VEVENT({'SUMMARY': vText('b'IndyCar Round 010''), 'DESCRIPTION': vText('b'Hy-Vee INDYCAR Race Weekend Race 1\\\\n250 Laps\\\\, 223.5 Miles''), 'DTSTART': <icalendar.prop.vDDDTypes object at 0x000001A8E29D94C0>, 'DTEND': <icalendar.prop.vDDDTypes object at 0x000001A8E29D98E0>, 'DTSTAMP': <icalendar.prop.vDDDTypes object at 0x000001A8E29D9580>, 'LOCATION': vText('b'Iowa Speedway\\\\nNewton\\\\, IA''), 'UID': vText('b'120'')}), VEVENT({'SUMMARY': vText('b'IndyCar Round 011''), 'DESCRIPTION': vText('b'Hy-Vee INDYCAR Race Weekend Race 2\\\\n250 Laps\\\\, 223.5 Miles''), 'DTSTART': <icalendar.prop.vDDDTypes object at 0x000001A8E29D9E20>, 'DTEND': <icalendar.prop.vDDDTypes object at 0x000001A8E29D9BB0>, 'DTSTAMP': <icalendar.prop.vDDDTypes object at 0x000001A8E29D9910>, 'LOCATION': vText('b'Iowa Speedway\\\\nNewton\\\\, IA''), 'UID': vText('b'121'')}), VEVENT({'SUMMARY': vText('b'IndyCar Round 012''), 'DESCRIPTION': vText('b'Honda Indy Toronto\\\\n85 Laps\\\\, 151.81 Miles''), 'DTSTART': <icalendar.prop.vDDDTypes object at 0x000001A8E3AE4040>, 'DTEND': <icalendar.prop.vDDDTypes object at 0x000001A8E3AE40D0>, 'DTSTAMP': <icalendar.prop.vDDDTypes object at 0x000001A8E3AE4160>, 'LOCATION': vText('b'Exhibition Place Street Circuit\\\\nToronto\\\\, Ontario\\\\, Canada''), 'UID': vText('b'122'')}), VEVENT({'SUMMARY': vText('b'IndyCar Round 013''), 'DESCRIPTION': vText('b'Bommarito Automotive Group 500\\\\n260 Laps\\\\, 500 Kilometers''), 'DTSTART': <icalendar.prop.vDDDTypes object at 0x000001A8E3AE42E0>, 'DTEND': <icalendar.prop.vDDDTypes object at 0x000001A8E3AE4370>, 'DTSTAMP': <icalendar.prop.vDDDTypes object at 0x000001A8E3AE4400>, 'LOCATION': vText('b'Gateway Motorsports Park\\\\nMadison\\\\, IL.''), 'UID': vText('b'123'')}), VEVENT({'SUMMARY': vText('b'IndyCar Round 014''), 'DESCRIPTION': vText('b'BITNILE.COM Grand Prix of Portland\\\\n110 Laps\\\\, 216.04 Miles''), 'DTSTART': <icalendar.prop.vDDDTypes object at 0x000001A8E3AE45B0>, 'DTEND': <icalendar.prop.vDDDTypes object at 0x000001A8E3AE4640>, 'DTSTAMP': <icalendar.prop.vDDDTypes object at 0x000001A8E3AE46D0>, 'LOCATION': vText('b'Portland International Raceway\\\\nPortland\\\\, OR.''), 'UID': vText('b'124'')}), VEVENT({'SUMMARY': vText('b'IndyCar Round 015''), 'DESCRIPTION': vText('b'Milwaukee Mile 250 - Race 1\\\\nLaps\\\\, ''), 'DTSTART': <icalendar.prop.vDDDTypes object at 0x000001A8E3AE48B0>, 'DTEND': <icalendar.prop.vDDDTypes object at 0x000001A8E3AE4940>, 'DTSTAMP': <icalendar.prop.vDDDTypes object at 0x000001A8E3AE49D0>, 'LOCATION': vText('b'Milwaukee Mile\\\\nWest Allis\\\\, WI''), 'UID': vText('b'125'')}), VEVENT({'SUMMARY': vText('b'IndyCar Round 016''), 'DESCRIPTION': vText('b'Milwaukee Mile 250 - Race 2\\\\nLaps\\\\, ''), 'DTSTART': <icalendar.prop.vDDDTypes object at 0x000001A8E3AE4B80>, 'DTEND': <icalendar.prop.vDDDTypes object at 0x000001A8E3AE4C10>, 'DTSTAMP': <icalendar.prop.vDDDTypes object at 0x000001A8E3AE4CA0>, 'LOCATION': vText('b'Milwaukee Mile\\\\nWest Allis\\\\, WI''), 'UID': vText('b'126'')}), VEVENT({'SUMMARY': vText('b'IndyCar Round 017''), 'DESCRIPTION': vText('b'Big Machine Music City Grand Prix\\\\n200 Laps\\\\, 266 Miles''), 'DTSTART': <icalendar.prop.vDDDTypes object at 0x000001A8E3AE4E20>, 'DTEND': <icalendar.prop.vDDDTypes object at 0x000001A8E3AE4EB0>, 'DTSTAMP': <icalendar.prop.vDDDTypes object at 0x000001A8E3AE4F40>, 'LOCATION': vText('b'Nashville Superspeedway\\\\nLebanon\\\\, TN''), 'UID': vText('b'127'')}), VEVENT({'SUMMARY': vText('b'Indy 500 Practice''), 'DESCRIPTION': vText('b'Indy 500 Practice''), 'DTSTART': <icalendar.prop.vDDDTypes object at 0x000001A8E3ADDA90>, 'DTEND': <icalendar.prop.vDDDTypes object at 0x000001A8E3AD9700>, 'DTSTAMP': <icalendar.prop.vDDDTypes object at 0x000001A8E3AD9790>, 'LOCATION': vText('b'Indianapolis Motor Speedway Oval\\\\nIndianapolis\\\\, IN.''), 'UID': vText('b'128'')}), VEVENT({'SUMMARY': vText('b'Indy 500 Practice''), 'DESCRIPTION': vText('b'Indy 500 Practice''), 'DTSTART': <icalendar.prop.vDDDTypes object at 0x000001A8E3AD9910>, 'DTEND': <icalendar.prop.vDDDTypes object at 0x000001A8E3AD99A0>, 'DTSTAMP': <icalendar.prop.vDDDTypes object at 0x000001A8E3AD9A30>, 'LOCATION': vText('b'Indianapolis Motor Speedway Oval\\\\nIndianapolis\\\\, IN.''), 'UID': vText('b'129'')}), VEVENT({'SUMMARY': vText('b'Indy 500 Practice''), 'DESCRIPTION': vText('b'Indy 500 Practice''), 'DTSTART': <icalendar.prop.vDDDTypes object at 0x000001A8E3AD9BB0>, 'DTEND': <icalendar.prop.vDDDTypes object at 0x000001A8E2ABBA30>, 'DTSTAMP': <icalendar.prop.vDDDTypes object at 0x000001A8E2ABB700>, 'LOCATION': vText('b'Indianapolis Motor Speedway Oval\\\\nIndianapolis\\\\, IN.''), 'UID': vText('b'130'')}), VEVENT({'SUMMARY': vText('b'Indy 500 Fast Friday''), 'DESCRIPTION': vText('b'Indy 500 Fast Friday''), 'DTSTART': <icalendar.prop.vDDDTypes object at 0x000001A8E2ABBC70>, 'DTEND': <icalendar.prop.vDDDTypes object at 0x000001A8E2ABBB80>, 'DTSTAMP': <icalendar.prop.vDDDTypes object at 0x000001A8E2ABBBB0>, 'LOCATION': vText('b'Indianapolis Motor Speedway Oval\\\\nIndianapolis\\\\, IN.''), 'UID': vText('b'131'')}), VEVENT({'SUMMARY': vText('b'Indy 500 Open Practice''), 'DESCRIPTION': vText('b'Indy 500 Open Practice''), 'DTSTART': <icalendar.prop.vDDDTypes object at 0x000001A8E2ABB730>, 'DTEND': <icalendar.prop.vDDDTypes object at 0x000001A8E2ABB8B0>, 'DTSTAMP': <icalendar.prop.vDDDTypes object at 0x000001A8E2ABB250>, 'LOCATION': vText('b'Indianapolis Motor Speedway Oval\\\\nIndianapolis\\\\, IN.''), 'UID': vText('b'132'')}), VEVENT({'SUMMARY': vText('b'Indy 500 Qualifying''), 'DESCRIPTION': vText('b'Indy 500 Qualifying''), 'DTSTART': <icalendar.prop.vDDDTypes object at 0x000001A8E3AD40D0>, 'DTEND': <icalendar.prop.vDDDTypes object at 0x000001A8E3AD4160>, 'DTSTAMP': <icalendar.prop.vDDDTypes object at 0x000001A8E3AD41F0>, 'LOCATION': vText('b'Indianapolis Motor Speedway Oval\\\\nIndianapolis\\\\, IN.''), 'UID': vText('b'133'')}), VEVENT({'SUMMARY': vText('b'Indy 500 Top 12 Practice''), 'DESCRIPTION': vText('b'Indy 500 Top 12 Practice''), 'DTSTART': <icalendar.prop.vDDDTypes object at 0x000001A8E3AD4370>, 'DTEND': <icalendar.prop.vDDDTypes object at 0x000001A8E3AD4400>, 'DTSTAMP': <icalendar.prop.vDDDTypes object at 0x000001A8E3AD4490>, 'LOCATION': vText('b'Indianapolis Motor Speedway Oval\\\\nIndianapolis\\\\, IN.''), 'UID': vText('b'134'')}), VEVENT({'SUMMARY': vText('b'Indy 500 LCQ Practice''), 'DESCRIPTION': vText('b'Indy 500 LCQ Practice''), 'DTSTART': <icalendar.prop.vDDDTypes object at 0x000001A8E3AD4610>, 'DTEND': <icalendar.prop.vDDDTypes object at 0x000001A8E3AD46A0>, 'DTSTAMP': <icalendar.prop.vDDDTypes object at 0x000001A8E3AD4730>, 'LOCATION': vText('b'Indianapolis Motor Speedway Oval\\\\nIndianapolis\\\\, IN.''), 'UID': vText('b'135'')}), VEVENT({'SUMMARY': vText('b'Indy 500 Top 12 Qualifying''), 'DESCRIPTION': vText('b'Indy 500 Top 12 Qualifying''), 'DTSTART': <icalendar.prop.vDDDTypes object at 0x000001A8E3AD48B0>, 'DTEND': <icalendar.prop.vDDDTypes object at 0x000001A8E3AD4940>, 'DTSTAMP': <icalendar.prop.vDDDTypes object at 0x000001A8E3AD49D0>, 'LOCATION': vText('b'Indianapolis Motor Speedway Oval\\\\nIndianapolis\\\\, IN.''), 'UID': vText('b'136'')}), VEVENT({'SUMMARY': vText('b'Indy 500 Last Chance Qualifying''), 'DESCRIPTION': vText('b'Indy 500 Last Chance Qualifying''), 'DTSTART': <icalendar.prop.vDDDTypes object at 0x000001A8E3AD4B50>, 'DTEND': <icalendar.prop.vDDDTypes object at 0x000001A8E3AD4BE0>, 'DTSTAMP': <icalendar.prop.vDDDTypes object at 0x000001A8E3AD4C70>, 'LOCATION': vText('b'Indianapolis Motor Speedway Oval\\\\nIndianapolis\\\\, IN.''), 'UID': vText('b'137'')}), VEVENT({'SUMMARY': vText('b'Indy 500 Fast Six Qualifying''), 'DESCRIPTION': vText('b'Indy 500 Fast Six Qualifying''), 'DTSTART': <icalendar.prop.vDDDTypes object at 0x000001A8E3AD4DF0>, 'DTEND': <icalendar.prop.vDDDTypes object at 0x000001A8E3AD4E80>, 'DTSTAMP': <icalendar.prop.vDDDTypes object at 0x000001A8E3AD4F10>, 'LOCATION': vText('b'Indianapolis Motor Speedway Oval\\\\nIndianapolis\\\\, IN.''), 'UID': vText('b'138'')}), VEVENT({'SUMMARY': vText('b'Indy 500 Practice''), 'DESCRIPTION': vText('b'Indy 500 Practice''), 'DTSTART': <icalendar.prop.vDDDTypes object at 0x000001A8E3AC90D0>, 'DTEND': <icalendar.prop.vDDDTypes object at 0x000001A8E3AC9160>, 'DTSTAMP': <icalendar.prop.vDDDTypes object at 0x000001A8E3AC91F0>, 'LOCATION': vText('b'Indianapolis Motor Speedway Oval\\\\nIndianapolis\\\\, IN.''), 'UID': vText('b'139'')}), VEVENT({'SUMMARY': vText('b'Indy 500 Carb Day Final Practice''), 'DESCRIPTION': vText('b'Indy 500 Carb Day Final Practice''), 'DTSTART': <icalendar.prop.vDDDTypes object at 0x000001A8E3AC93D0>, 'DTEND': <icalendar.prop.vDDDTypes object at 0x000001A8E3AC9460>, 'DTSTAMP': <icalendar.prop.vDDDTypes object at 0x000001A8E3AC94F0>, 'LOCATION': vText('b'Indianapolis Motor Speedway Oval\\\\nIndianapolis\\\\, IN.''), 'UID': vText('b'140'')}), VEVENT({'SUMMARY': vText('b'Indy 500 Pit Stop Challenge''), 'DESCRIPTION': vText('b'Indy 500 Pit Stop Challenge''), 'DTSTART': <icalendar.prop.vDDDTypes object at 0x000001A8E3AC9670>, 'DTEND': <icalendar.prop.vDDDTypes object at 0x000001A8E3AC9700>, 'DTSTAMP': <icalendar.prop.vDDDTypes object at 0x000001A8E3AC9790>, 'LOCATION': vText('b'Indianapolis Motor Speedway Oval\\\\nIndianapolis\\\\, IN.''), 'UID': vText('b'141'')}))"
      ]
     },
     "execution_count": 13,
     "metadata": {},
     "output_type": "execute_result"
    }
   ],
   "source": [
    "IndyCar"
   ]
  },
  {
   "cell_type": "code",
   "execution_count": 14,
   "id": "0146ef04",
   "metadata": {},
   "outputs": [
    {
     "name": "stdout",
     "output_type": "stream",
     "text": [
      "ics file will be generated at  C:\\Users\\chris\\Documents\\Calendars/\n"
     ]
    }
   ],
   "source": [
    "directory = str(Path(r'C:\\Users\\chris\\Documents\\Calendars')) + \"/\"\n",
    "print(\"ics file will be generated at \", directory)\n",
    "f = open(os.path.join(directory, 'IndyCar.ics'), 'wb')\n",
    "f.write(IndyCar.to_ical())\n",
    "f.close()"
   ]
  }
 ],
 "metadata": {
  "kernelspec": {
   "display_name": "Python 3 (ipykernel)",
   "language": "python",
   "name": "python3"
  },
  "language_info": {
   "codemirror_mode": {
    "name": "ipython",
    "version": 3
   },
   "file_extension": ".py",
   "mimetype": "text/x-python",
   "name": "python",
   "nbconvert_exporter": "python",
   "pygments_lexer": "ipython3",
   "version": "3.9.7"
  }
 },
 "nbformat": 4,
 "nbformat_minor": 5
}
