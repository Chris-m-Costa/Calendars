{
 "cells": [
  {
   "cell_type": "code",
   "execution_count": 1,
   "id": "f61ee1a8",
   "metadata": {},
   "outputs": [],
   "source": [
    "from bs4 import BeautifulSoup\n",
    "import requests\n",
    "from selenium import webdriver\n",
    "from datetime import datetime\n"
   ]
  },
  {
   "cell_type": "code",
   "execution_count": 2,
   "id": "0aa47d05",
   "metadata": {},
   "outputs": [],
   "source": [
    "driver = webdriver.Chrome()\n",
    "driver.get(\"https://www.f1academy.com/Results?raceid=8\")\n",
    "\n",
    "# Wait for dynamic content to load if needed\n",
    "\n",
    "sched_soup = BeautifulSoup(driver.page_source, 'html.parser')\n",
    "schedule_details = sched_soup.find_all('div', {'class': 'race-list'})\n",
    "\n",
    "driver.quit()\n"
   ]
  },
  {
   "cell_type": "code",
   "execution_count": 3,
   "id": "e20d2723",
   "metadata": {},
   "outputs": [
    {
     "data": {
      "text/plain": [
       "[]"
      ]
     },
     "execution_count": 3,
     "metadata": {},
     "output_type": "execute_result"
    }
   ],
   "source": [
    "schedule_details"
   ]
  },
  {
   "cell_type": "code",
   "execution_count": null,
   "id": "1ddf11cc",
   "metadata": {},
   "outputs": [],
   "source": [
    "days = [] \n",
    "months = []\n",
    "titles = [] \n",
    "descs = []\n",
    "circuits = [] \n",
    "time = []\n",
    "start_hours = []\n",
    "start_minutes = []\n",
    "end_hours = []\n",
    "end_minutes = []\n",
    "\n",
    "year = str(datetime.now().year)\n",
    "\n",
    "\n",
    "month_mapping = {\n",
    "        'Jan': 1,\n",
    "        'JAN': 1,\n",
    "        'January': 1,\n",
    "        'Feb': 2,\n",
    "        'FEB': 2,\n",
    "        'Mar': 3,\n",
    "        'March': 3,\n",
    "        'Apr': 4,\n",
    "        'May': 5,\n",
    "        'Jun': 6,\n",
    "        'Jul': 7,\n",
    "        'Aug': 8,\n",
    "        'Sep': 9,\n",
    "        'Oct': 10,\n",
    "        'October': 10,\n",
    "        'Nov': 11,\n",
    "        'Dec': 12,\n",
    "        'DEC': 12\n",
    "    }\n",
    "\n"
   ]
  },
  {
   "cell_type": "code",
   "execution_count": null,
   "id": "97dc1512",
   "metadata": {},
   "outputs": [],
   "source": [
    "##Example building info lists\n",
    "\n",
    "# for i in schedule_details:\n",
    "#     temp_circuit = i.find('div', {'class': 'race-circuit'}).text\n",
    "#     circuits.append(temp_circuit)\n",
    "    \n",
    "#     temp_date = i.find('div', {'class':\"race-date\"}).text\n",
    "#     temp_date = temp_date.split(' ')\n",
    "#     days.append(int(temp_date[0]))\n",
    "    \n",
    "#     temp_month = temp_date[1]\n",
    "#     converted_month = month_mapping[temp_month]\n",
    "#     months.append(converted_month)\n",
    "    \n",
    "#     round_counter = 1\n",
    "#     temp_title = 'AsLMS Round' + ' ' + str(round_counter)\n",
    "#     round_counter += 1\n",
    "#     titles.append(temp_title)"
   ]
  },
  {
   "cell_type": "code",
   "execution_count": null,
   "id": "9901c570",
   "metadata": {},
   "outputs": [],
   "source": []
  },
  {
   "cell_type": "code",
   "execution_count": null,
   "id": "6b8dc3dd",
   "metadata": {},
   "outputs": [],
   "source": [
    "import pytz\n",
    "import icalendar\n",
    "from datetime import datetime\n",
    "from pathlib import Path\n",
    "import os\n",
    "from icalendar import Calendar, Event,  vText, vCalAddress"
   ]
  },
  {
   "cell_type": "code",
   "execution_count": null,
   "id": "f5465cb9",
   "metadata": {},
   "outputs": [],
   "source": [
    "INSERT_CALENDAR_NAME = Calendar()\n",
    "INSERT_CALENDAR_NAME.add('prodid', '-//My calendar product//example.com//')\n",
    "INSERT_CALENDAR_NAME.add('version', '2.0')\n",
    "uid = 110"
   ]
  },
  {
   "cell_type": "code",
   "execution_count": null,
   "id": "1529f6fc",
   "metadata": {},
   "outputs": [],
   "source": [
    " \n",
    "for title, circuit, day, month, desc in zip(titles, circuits, days, months, descs):\n",
    "    ievent = Event()\n",
    "    ievent.add('summary', title) #Title of the event\n",
    "    ievent.add('description', desc)     #Description of event\n",
    "    #     ievent.add('description', f\"{event}\\n{length}\")\n",
    "\n",
    "    ievent.add('dtstart', datetime(2024, month, day, 4, 0, 0, tzinfo=pytz.timezone('est')))\n",
    "    ievent.add('dtend', datetime(2024, month, day, 8, 0, 0, tzinfo=pytz.timezone('est')))\n",
    "    ievent.add('dtstamp', datetime(2024, 1, 16, 0, 10, 0, tzinfo=pytz.timezone('est')))\n",
    "    ievent.add('location', circuit)\n",
    "    ievent.add('uid', uid)\n",
    "    uid += 1\n",
    "    INSERT_CALENDAR_NAME.add_component(ievent)"
   ]
  },
  {
   "cell_type": "code",
   "execution_count": null,
   "id": "168d1bd2",
   "metadata": {},
   "outputs": [],
   "source": []
  },
  {
   "cell_type": "code",
   "execution_count": null,
   "id": "0146ef04",
   "metadata": {},
   "outputs": [],
   "source": [
    "directory = str(Path(r'C:\\Users\\chris\\Documents\\Calendars')) + \"/\"\n",
    "print(\"ics file will be generated at \", directory)\n",
    "f = open(os.path.join(directory, 'INSERT_CALENDAR_NAME.ics'), 'wb')\n",
    "f.write(INSERT_CALENDAR_NAME.to_ical())\n",
    "f.close()"
   ]
  }
 ],
 "metadata": {
  "kernelspec": {
   "display_name": "Python 3 (ipykernel)",
   "language": "python",
   "name": "python3"
  },
  "language_info": {
   "codemirror_mode": {
    "name": "ipython",
    "version": 3
   },
   "file_extension": ".py",
   "mimetype": "text/x-python",
   "name": "python",
   "nbconvert_exporter": "python",
   "pygments_lexer": "ipython3",
   "version": "3.9.7"
  }
 },
 "nbformat": 4,
 "nbformat_minor": 5
}
