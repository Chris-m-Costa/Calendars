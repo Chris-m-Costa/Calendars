{
 "cells": [
  {
   "cell_type": "code",
   "execution_count": 1,
   "id": "f61ee1a8",
   "metadata": {},
   "outputs": [],
   "source": [
    "from bs4 import BeautifulSoup\n",
    "import requests\n",
    "from selenium import webdriver\n",
    "import numpy as np\n",
    "import re\n",
    "from datetime import datetime, date\n",
    "import calendar\n",
    "from calendar import monthrange"
   ]
  },
  {
   "cell_type": "code",
   "execution_count": 2,
   "id": "0aa47d05",
   "metadata": {},
   "outputs": [],
   "source": [
    "driver = webdriver.Chrome()\n",
    "driver.get(\"https://gotransam.com/events/2024-Trans-Am-National-Championship/cat/538\")\n",
    "\n",
    "# Wait for dynamic content to load if needed\n",
    "\n",
    "sched_soup = BeautifulSoup(driver.page_source, 'html.parser')\n",
    "schedule_details = sched_soup.find_all('div', {'class': 'events-listbox aos-init'})\n",
    "\n",
    "driver.quit()\n",
    "\n",
    "\n"
   ]
  },
  {
   "cell_type": "code",
   "execution_count": 3,
   "id": "e20d2723",
   "metadata": {},
   "outputs": [],
   "source": [
    "# schedule_details"
   ]
  },
  {
   "cell_type": "code",
   "execution_count": 4,
   "id": "1ddf11cc",
   "metadata": {},
   "outputs": [],
   "source": [
    "days = [] \n",
    "months = []\n",
    "titles = [] \n",
    "descs = []\n",
    "circuits = [] \n",
    "year = str(datetime.now().year)\n",
    "\n",
    "tit_prt = 'Trans-Am Race '\n",
    "rnd_cnt = 1\n",
    "titles = []\n",
    "\n",
    "month_mapping = {\n",
    "        'Jan': 1,\n",
    "        'JAN': 1,\n",
    "        'January': 1,\n",
    "        'Feb': 2,\n",
    "        'FEB': 2,\n",
    "        'Mar': 3,\n",
    "        'March': 3,\n",
    "        'Apr': 4,\n",
    "        'May': 5,\n",
    "        'Jun': 6,\n",
    "        'Jul': 7,\n",
    "        'Aug': 8,\n",
    "        'Sep': 9,\n",
    "        'Oct': 10,\n",
    "        'October': 10,\n",
    "        'Nov': 11,\n",
    "        'Dec': 12,\n",
    "        'DEC': 12\n",
    "    }\n",
    "\n"
   ]
  },
  {
   "cell_type": "code",
   "execution_count": 5,
   "id": "b58522b9",
   "metadata": {},
   "outputs": [
    {
     "data": {
      "text/plain": [
       "12"
      ]
     },
     "execution_count": 5,
     "metadata": {},
     "output_type": "execute_result"
    }
   ],
   "source": [
    "len(schedule_details)"
   ]
  },
  {
   "cell_type": "code",
   "execution_count": 6,
   "id": "ecf32985",
   "metadata": {},
   "outputs": [
    {
     "data": {
      "text/plain": [
       "['Feb', '22-25']"
      ]
     },
     "execution_count": 6,
     "metadata": {},
     "output_type": "execute_result"
    }
   ],
   "source": [
    "f = schedule_details[0].find('div', {'class':\"event-calendar\"}).text.split()#[0].split('-')\n",
    "f"
   ]
  },
  {
   "cell_type": "code",
   "execution_count": 7,
   "id": "f537ea10",
   "metadata": {},
   "outputs": [],
   "source": [
    "dates = []\n",
    "\n",
    "for i in schedule_details:\n",
    "    day_ints = []\n",
    "    scrp_daystr = []\n",
    "    dates = []\n",
    "    wknd_dates = []\n",
    "    \n",
    "    temp_date = i.find('div', {'class':\"event-calendar\"}).text.split()    \n",
    "    temp_month = temp_date[0]\n",
    "    \n",
    "    #   Logic for multi-month events\n",
    "    if '-' in temp_month:\n",
    "        temp_start_month = temp_month.split('-')[0]\n",
    "        temp_end_month = temp_month.split('-')[1]\n",
    "        converted_start_month = month_mapping[temp_start_month]\n",
    "        converted_end_month = month_mapping[temp_end_month]\n",
    "#         print('converted_start_month: ' + str(converted_start_month), 'converted_end_month: ' + str(converted_end_month))\n",
    "\n",
    "        scrp_day = temp_date[1].split('-')\n",
    "        start_day, end_day = map(int, scrp_day)  # start_day = 31, end_day = 3\n",
    "#         print('start_day: ' + str(start_day), 'end_day: ' + str(end_day))\n",
    "        \n",
    "        start_date = year + '-' + str(converted_start_month).zfill(2) + '-' + str(start_day).zfill(2)      \n",
    "#         print('start_date: ' + str(start_date))\n",
    "\n",
    "        end_date = year + '-' + str(converted_end_month).zfill(2) + '-' + str(end_day).zfill(2)\n",
    "#         print('end_date: ' + str(end_date))\n",
    "\n",
    "        _, last_day_of_month = monthrange(int(year), converted_start_month)\n",
    "        days_in_strt_month = np.arange(start_day, last_day_of_month + 1).tolist()\n",
    "#         print('last_day_of_month: ' + str(last_day_of_month), 'days_in_strt_month: ' + str(days_in_strt_month) ) \n",
    "        \n",
    "        days_in_end_month = np.arange(1, end_day + 1).tolist()\n",
    "#         print('days_in_end_month: ' + str(days_in_end_month) ) \n",
    "            \n",
    "        for day in days_in_strt_month:\n",
    "            date_str = year + '-' + str(converted_start_month).zfill(2) + '-' + str(day).zfill(2)\n",
    "            dates.append(date_str)\n",
    "            \n",
    "        for day in days_in_end_month:\n",
    "            date_str = year + '-' + str(converted_end_month).zfill(2) + '-' + str(day).zfill(2)\n",
    "            dates.append(date_str)\n",
    "            \n",
    "    else:\n",
    "#         logic for single month events\n",
    "        converted_month = month_mapping[temp_month]\n",
    "#         print('converted_month: ' + str(converted_month))\n",
    "        \n",
    "        scrp_day = temp_date[1].split('-')\n",
    "        start_day, end_day = map(int, scrp_day)  # start_day = 22, end_day = 25\n",
    "#         print('start_day: ' + str(start_day), 'end_day: ' + str(end_day))\n",
    "        \n",
    "        start_date = year + '-' + str(converted_month).zfill(2) + '-' + str(start_day).zfill(2)      \n",
    "#         print('start_date: ' + str(start_date))\n",
    "\n",
    "        end_date = year + '-' + str(converted_month).zfill(2) + '-' + str(end_day).zfill(2)\n",
    "#         print('end_date: ' + str(end_date))\n",
    "        \n",
    "        for day in range(start_day, end_day + 1):\n",
    "            date_str = year + '-' + str(converted_month).zfill(2) + '-' + str(day).zfill(2)\n",
    "            dates.append(date_str)\n",
    "        \n",
    "#     print('Dates:', ', '.join(dates))\n",
    "    \n",
    "    \n",
    "    for date in dates:\n",
    "        date_obj = datetime.strptime(date, '%Y-%m-%d')\n",
    "\n",
    "        year, month, day = date_obj.year, date_obj.month, date_obj.day\n",
    "        if calendar.weekday(year, month, day) >= 5:\n",
    "            wknd_dates.append(date)\n",
    "#     print('wknd_dates: ' + ', '.join(wknd_dates))\n",
    "    \n",
    "    for date in wknd_dates:\n",
    "        year, month, day = date.split('-')\n",
    "        day = int(day) # Remove leading zero if present\n",
    "        month = int(month) # Remove leading zero if present\n",
    "        days.append(day)\n",
    "        months.append(month)\n",
    "\n",
    "        \n",
    "    \n",
    "    if len(wknd_dates) == 2:   \n",
    "        temp_circuit = i.find('div', {'class':'event-destination'}).text\n",
    "        temp_circuit = re.split('Tour\\s*', temp_circuit)[-1]  # Split on 'Tour' followed by any number of spaces\n",
    "        circuits.extend([temp_circuit] * 2)\n",
    "\n",
    "        tit = tit_prt + str(rnd_cnt)\n",
    "        rnd_cnt += 1\n",
    "        titles.extend([tit] * 2) \n",
    "        \n",
    "        desc_1 = 'TA2 Race'\n",
    "        descs.append(desc_1)\n",
    "        desc_2 = 'TA1 and Friends Race'\n",
    "        descs.append(desc_2)\n",
    "        \n",
    "    elif len(wknd_dates) == 1:\n",
    "        temp_circuit = i.find('div', {'class':'event-destination'}).text\n",
    "        temp_circuit = re.split('Tour\\s*', temp_circuit)[-1]  # Split on 'Tour' followed by any number of spaces\n",
    "        circuits.append(temp_circuit)\n",
    "\n",
    "        tit = tit_prt + str(rnd_cnt)\n",
    "        rnd_cnt += 1\n",
    "        titles.append(tit) \n",
    "\n",
    "        desc_1 = 'TA2 Race'\n",
    "        descs.append(desc_1)\n",
    "\n",
    "\n",
    "    \n",
    "    \n",
    "\n",
    "#### If you need to handle the case where the range spans over a year, you can add logic to update the year accordingly.\n",
    "\n",
    "# # Checking if the range spans over a year\n",
    "# if converted_start_month > converted_end_month:\n",
    "#     next_year = str(int(year) + 1)\n",
    "#     for month in range(1, converted_end_month + 1):\n",
    "#         start_date = next_year + '-' + str(month).zfill(2) + '-' + str(start_day).zfill(2)\n",
    "#         _, last_day_of_month = monthrange(int(next_year), month)\n",
    "#         days_in_month = np.arange(start_day, last_day_of_month + 1).tolist()\n",
    "        \n",
    "#         for day in days_in_month:\n",
    "#             date_str = next_year + '-' + str(month).zfill(2) + '-' + str(day).zfill(2)\n",
    "#             dates.append(date_str)\n",
    "    \n",
    "#     print('Dates:', ', '.join(dates))"
   ]
  },
  {
   "cell_type": "code",
   "execution_count": null,
   "id": "b952a3e5",
   "metadata": {},
   "outputs": [],
   "source": []
  },
  {
   "cell_type": "code",
   "execution_count": 8,
   "id": "46e9af11",
   "metadata": {},
   "outputs": [
    {
     "data": {
      "text/plain": [
       "['Trans-Am Race 1',\n",
       " 'Trans-Am Race 1',\n",
       " 'Trans-Am Race 2',\n",
       " 'Trans-Am Race 2',\n",
       " 'Trans-Am Race 3',\n",
       " 'Trans-Am Race 3',\n",
       " 'Trans-Am Race 4',\n",
       " 'Trans-Am Race 5',\n",
       " 'Trans-Am Race 5',\n",
       " 'Trans-Am Race 6',\n",
       " 'Trans-Am Race 6',\n",
       " 'Trans-Am Race 7',\n",
       " 'Trans-Am Race 7',\n",
       " 'Trans-Am Race 8',\n",
       " 'Trans-Am Race 8',\n",
       " 'Trans-Am Race 9',\n",
       " 'Trans-Am Race 9',\n",
       " 'Trans-Am Race 10',\n",
       " 'Trans-Am Race 10',\n",
       " 'Trans-Am Race 11',\n",
       " 'Trans-Am Race 11',\n",
       " 'Trans-Am Race 12',\n",
       " 'Trans-Am Race 12']"
      ]
     },
     "execution_count": 8,
     "metadata": {},
     "output_type": "execute_result"
    }
   ],
   "source": [
    "titles"
   ]
  },
  {
   "cell_type": "code",
   "execution_count": 9,
   "id": "4f66db16",
   "metadata": {},
   "outputs": [
    {
     "data": {
      "text/plain": [
       "['Sebring International Raceway\\nSebring, FL\\n',\n",
       " 'Sebring International Raceway\\nSebring, FL\\n',\n",
       " 'Road Atlanta \\nBraselton, GA\\n',\n",
       " 'Road Atlanta \\nBraselton, GA\\n',\n",
       " 'NOLA Motorsports Park\\nAvondale, LA\\n',\n",
       " 'NOLA Motorsports Park\\nAvondale, LA\\n',\n",
       " 'World Wide Technology Raceway  (TA2 Only)\\nMadison, IL\\n',\n",
       " 'Lime Rock Park\\nLakeville, CT\\n',\n",
       " 'Lime Rock Park\\nLakeville, CT\\n',\n",
       " 'Pittsburgh International Race Complex\\nWampum, PA\\n',\n",
       " 'Pittsburgh International Race Complex\\nWampum, PA\\n',\n",
       " 'Mid-Ohio Sports Car Course\\nLexington, OH\\n',\n",
       " 'Mid-Ohio Sports Car Course\\nLexington, OH\\n',\n",
       " 'Road America\\nElkhart Lake, WI\\n',\n",
       " 'Road America\\nElkhart Lake, WI\\n',\n",
       " 'Watkins Glen International\\nWatkins Glen, NY\\n',\n",
       " 'Watkins Glen International\\nWatkins Glen, NY\\n',\n",
       " 'Canadian Tire Motorsport Park\\nBowmanville, ON\\n',\n",
       " 'Canadian Tire Motorsport Park\\nBowmanville, ON\\n',\n",
       " 'VIRginia International Raceway\\nAlton, VA\\n',\n",
       " 'VIRginia International Raceway\\nAlton, VA\\n',\n",
       " 'Circuit of The Americas\\nAustin, TX\\n',\n",
       " 'Circuit of The Americas\\nAustin, TX\\n']"
      ]
     },
     "execution_count": 9,
     "metadata": {},
     "output_type": "execute_result"
    }
   ],
   "source": [
    "circuits"
   ]
  },
  {
   "cell_type": "code",
   "execution_count": 10,
   "id": "cee695c8",
   "metadata": {},
   "outputs": [
    {
     "data": {
      "text/plain": [
       "['TA2 Race',\n",
       " 'TA1 and Friends Race',\n",
       " 'TA2 Race',\n",
       " 'TA1 and Friends Race',\n",
       " 'TA2 Race',\n",
       " 'TA1 and Friends Race',\n",
       " 'TA2 Race',\n",
       " 'TA2 Race',\n",
       " 'TA1 and Friends Race',\n",
       " 'TA2 Race',\n",
       " 'TA1 and Friends Race',\n",
       " 'TA2 Race',\n",
       " 'TA1 and Friends Race',\n",
       " 'TA2 Race',\n",
       " 'TA1 and Friends Race',\n",
       " 'TA2 Race',\n",
       " 'TA1 and Friends Race',\n",
       " 'TA2 Race',\n",
       " 'TA1 and Friends Race',\n",
       " 'TA2 Race',\n",
       " 'TA1 and Friends Race',\n",
       " 'TA2 Race',\n",
       " 'TA1 and Friends Race']"
      ]
     },
     "execution_count": 10,
     "metadata": {},
     "output_type": "execute_result"
    }
   ],
   "source": [
    "descs"
   ]
  },
  {
   "cell_type": "code",
   "execution_count": 11,
   "id": "ed8af54a",
   "metadata": {},
   "outputs": [
    {
     "data": {
      "text/plain": [
       "[2, 2, 3, 3, 4, 4, 5, 5, 5, 6, 6, 6, 6, 6, 6, 8, 8, 8, 9, 10, 10, 11, 11]"
      ]
     },
     "execution_count": 11,
     "metadata": {},
     "output_type": "execute_result"
    }
   ],
   "source": [
    "months"
   ]
  },
  {
   "cell_type": "code",
   "execution_count": 12,
   "id": "07802285",
   "metadata": {},
   "outputs": [
    {
     "data": {
      "text/plain": [
       "[24,\n",
       " 25,\n",
       " 23,\n",
       " 24,\n",
       " 13,\n",
       " 14,\n",
       " 11,\n",
       " 25,\n",
       " 26,\n",
       " 8,\n",
       " 9,\n",
       " 22,\n",
       " 23,\n",
       " 29,\n",
       " 30,\n",
       " 24,\n",
       " 25,\n",
       " 31,\n",
       " 1,\n",
       " 5,\n",
       " 6,\n",
       " 2,\n",
       " 3]"
      ]
     },
     "execution_count": 12,
     "metadata": {},
     "output_type": "execute_result"
    }
   ],
   "source": [
    "days"
   ]
  },
  {
   "cell_type": "code",
   "execution_count": 13,
   "id": "c2e59ff2",
   "metadata": {},
   "outputs": [
    {
     "data": {
      "text/plain": [
       "'2024'"
      ]
     },
     "execution_count": 13,
     "metadata": {},
     "output_type": "execute_result"
    }
   ],
   "source": [
    "year"
   ]
  },
  {
   "cell_type": "code",
   "execution_count": 14,
   "id": "6b8dc3dd",
   "metadata": {},
   "outputs": [],
   "source": [
    "import pytz\n",
    "import icalendar\n",
    "from datetime import datetime\n",
    "from pathlib import Path\n",
    "import os\n",
    "from icalendar import Calendar, Event,  vText, vCalAddress"
   ]
  },
  {
   "cell_type": "code",
   "execution_count": 15,
   "id": "f5465cb9",
   "metadata": {},
   "outputs": [],
   "source": [
    "Trans_Am = Calendar()\n",
    "Trans_Am.add('prodid', '-//My calendar product//example.com//')\n",
    "Trans_Am.add('version', '2.0')\n",
    "uid = 110"
   ]
  },
  {
   "cell_type": "code",
   "execution_count": 18,
   "id": "1529f6fc",
   "metadata": {},
   "outputs": [],
   "source": [
    " \n",
    "for title, circuit, day, month, desc in zip(titles, circuits, days, months, descs):\n",
    "    ievent = Event()\n",
    "    ievent.add('summary', title) #Title of the event\n",
    "    ievent.add('description', desc)     #Description of event\n",
    "    #     ievent.add('description', f\"{event}\\n{length}\")\n",
    "\n",
    "    ievent.add('dtstart', datetime(int(year), month, day, 14, 0, 0, tzinfo=pytz.timezone('est')))\n",
    "    ievent.add('dtend', datetime(int(year), month, day, 16, 0, 0, tzinfo=pytz.timezone('est')))\n",
    "    ievent.add('dtstamp', datetime(2024, 1, 16, 0, 10, 0, tzinfo=pytz.timezone('est')))\n",
    "    ievent.add('location', circuit)\n",
    "    ievent.add('uid', uid)\n",
    "    uid += 1\n",
    "    Trans_Am.add_component(ievent)"
   ]
  },
  {
   "cell_type": "code",
   "execution_count": 19,
   "id": "168d1bd2",
   "metadata": {},
   "outputs": [
    {
     "data": {
      "text/plain": [
       "VCALENDAR({'PRODID': vText('b'-//My calendar product//example.com//''), 'VERSION': vText('b'2.0'')}, VEVENT({'SUMMARY': vText('b'Trans-Am Race 1''), 'DESCRIPTION': vText('b'TA2 Race''), 'DTSTART': <icalendar.prop.vDDDTypes object at 0x000001F46892C4C0>, 'DTEND': <icalendar.prop.vDDDTypes object at 0x000001F4685A7FA0>, 'DTSTAMP': <icalendar.prop.vDDDTypes object at 0x000001F4685A7D60>, 'LOCATION': vText('b'Sebring International Raceway\\\\nSebring\\\\, FL\\\\n''), 'UID': vText('b'110'')}), VEVENT({'SUMMARY': vText('b'Trans-Am Race 1''), 'DESCRIPTION': vText('b'TA1 and Friends Race''), 'DTSTART': <icalendar.prop.vDDDTypes object at 0x000001F4685A7580>, 'DTEND': <icalendar.prop.vDDDTypes object at 0x000001F4685A74C0>, 'DTSTAMP': <icalendar.prop.vDDDTypes object at 0x000001F4685A7880>, 'LOCATION': vText('b'Sebring International Raceway\\\\nSebring\\\\, FL\\\\n''), 'UID': vText('b'111'')}), VEVENT({'SUMMARY': vText('b'Trans-Am Race 2''), 'DESCRIPTION': vText('b'TA2 Race''), 'DTSTART': <icalendar.prop.vDDDTypes object at 0x000001F4685A7760>, 'DTEND': <icalendar.prop.vDDDTypes object at 0x000001F4685A7C40>, 'DTSTAMP': <icalendar.prop.vDDDTypes object at 0x000001F4685A7EB0>, 'LOCATION': vText('b'Road Atlanta \\\\nBraselton\\\\, GA\\\\n''), 'UID': vText('b'112'')}), VEVENT({'SUMMARY': vText('b'Trans-Am Race 2''), 'DESCRIPTION': vText('b'TA1 and Friends Race''), 'DTSTART': <icalendar.prop.vDDDTypes object at 0x000001F4685A7FD0>, 'DTEND': <icalendar.prop.vDDDTypes object at 0x000001F4685B6EB0>, 'DTSTAMP': <icalendar.prop.vDDDTypes object at 0x000001F4685B6F10>, 'LOCATION': vText('b'Road Atlanta \\\\nBraselton\\\\, GA\\\\n''), 'UID': vText('b'113'')}), VEVENT({'SUMMARY': vText('b'Trans-Am Race 3''), 'DESCRIPTION': vText('b'TA2 Race''), 'DTSTART': <icalendar.prop.vDDDTypes object at 0x000001F46636C040>, 'DTEND': <icalendar.prop.vDDDTypes object at 0x000001F46648DE20>, 'DTSTAMP': <icalendar.prop.vDDDTypes object at 0x000001F46648DD30>, 'LOCATION': vText('b'NOLA Motorsports Park\\\\nAvondale\\\\, LA\\\\n''), 'UID': vText('b'114'')}), VEVENT({'SUMMARY': vText('b'Trans-Am Race 3''), 'DESCRIPTION': vText('b'TA1 and Friends Race''), 'DTSTART': <icalendar.prop.vDDDTypes object at 0x000001F466390430>, 'DTEND': <icalendar.prop.vDDDTypes object at 0x000001F466390580>, 'DTSTAMP': <icalendar.prop.vDDDTypes object at 0x000001F468761100>, 'LOCATION': vText('b'NOLA Motorsports Park\\\\nAvondale\\\\, LA\\\\n''), 'UID': vText('b'115'')}), VEVENT({'SUMMARY': vText('b'Trans-Am Race 4''), 'DESCRIPTION': vText('b'TA2 Race''), 'DTSTART': <icalendar.prop.vDDDTypes object at 0x000001F468761430>, 'DTEND': <icalendar.prop.vDDDTypes object at 0x000001F4687610A0>, 'DTSTAMP': <icalendar.prop.vDDDTypes object at 0x000001F468761250>, 'LOCATION': vText('b'World Wide Technology Raceway  (TA2 Only)\\\\nMadison\\\\, IL\\\\n''), 'UID': vText('b'116'')}), VEVENT({'SUMMARY': vText('b'Trans-Am Race 5''), 'DESCRIPTION': vText('b'TA2 Race''), 'DTSTART': <icalendar.prop.vDDDTypes object at 0x000001F46836D9A0>, 'DTEND': <icalendar.prop.vDDDTypes object at 0x000001F4689DFDF0>, 'DTSTAMP': <icalendar.prop.vDDDTypes object at 0x000001F4689DF310>, 'LOCATION': vText('b'Lime Rock Park\\\\nLakeville\\\\, CT\\\\n''), 'UID': vText('b'117'')}), VEVENT({'SUMMARY': vText('b'Trans-Am Race 5''), 'DESCRIPTION': vText('b'TA1 and Friends Race''), 'DTSTART': <icalendar.prop.vDDDTypes object at 0x000001F4687FE0A0>, 'DTEND': <icalendar.prop.vDDDTypes object at 0x000001F46866B8B0>, 'DTSTAMP': <icalendar.prop.vDDDTypes object at 0x000001F46866B940>, 'LOCATION': vText('b'Lime Rock Park\\\\nLakeville\\\\, CT\\\\n''), 'UID': vText('b'118'')}), VEVENT({'SUMMARY': vText('b'Trans-Am Race 6''), 'DESCRIPTION': vText('b'TA2 Race''), 'DTSTART': <icalendar.prop.vDDDTypes object at 0x000001F4688DE610>, 'DTEND': <icalendar.prop.vDDDTypes object at 0x000001F4689909D0>, 'DTSTAMP': <icalendar.prop.vDDDTypes object at 0x000001F4689EA7C0>, 'LOCATION': vText('b'Pittsburgh International Race Complex\\\\nWampum\\\\, PA\\\\n''), 'UID': vText('b'119'')}), VEVENT({'SUMMARY': vText('b'Trans-Am Race 6''), 'DESCRIPTION': vText('b'TA1 and Friends Race''), 'DTSTART': <icalendar.prop.vDDDTypes object at 0x000001F4689D4C10>, 'DTEND': <icalendar.prop.vDDDTypes object at 0x000001F4689DAD60>, 'DTSTAMP': <icalendar.prop.vDDDTypes object at 0x000001F4689DA4F0>, 'LOCATION': vText('b'Pittsburgh International Race Complex\\\\nWampum\\\\, PA\\\\n''), 'UID': vText('b'120'')}), VEVENT({'SUMMARY': vText('b'Trans-Am Race 7''), 'DESCRIPTION': vText('b'TA2 Race''), 'DTSTART': <icalendar.prop.vDDDTypes object at 0x000001F4687C90A0>, 'DTEND': <icalendar.prop.vDDDTypes object at 0x000001F4687C9CD0>, 'DTSTAMP': <icalendar.prop.vDDDTypes object at 0x000001F46888D550>, 'LOCATION': vText('b'Mid-Ohio Sports Car Course\\\\nLexington\\\\, OH\\\\n''), 'UID': vText('b'121'')}), VEVENT({'SUMMARY': vText('b'Trans-Am Race 7''), 'DESCRIPTION': vText('b'TA1 and Friends Race''), 'DTSTART': <icalendar.prop.vDDDTypes object at 0x000001F4688A3490>, 'DTEND': <icalendar.prop.vDDDTypes object at 0x000001F4685F9100>, 'DTSTAMP': <icalendar.prop.vDDDTypes object at 0x000001F468468FA0>, 'LOCATION': vText('b'Mid-Ohio Sports Car Course\\\\nLexington\\\\, OH\\\\n''), 'UID': vText('b'122'')}), VEVENT({'SUMMARY': vText('b'Trans-Am Race 8''), 'DESCRIPTION': vText('b'TA2 Race''), 'DTSTART': <icalendar.prop.vDDDTypes object at 0x000001F46875E5E0>, 'DTEND': <icalendar.prop.vDDDTypes object at 0x000001F46875E6D0>, 'DTSTAMP': <icalendar.prop.vDDDTypes object at 0x000001F46875EFD0>, 'LOCATION': vText('b'Road America\\\\nElkhart Lake\\\\, WI\\\\n''), 'UID': vText('b'123'')}), VEVENT({'SUMMARY': vText('b'Trans-Am Race 8''), 'DESCRIPTION': vText('b'TA1 and Friends Race''), 'DTSTART': <icalendar.prop.vDDDTypes object at 0x000001F46875E130>, 'DTEND': <icalendar.prop.vDDDTypes object at 0x000001F46875E1F0>, 'DTSTAMP': <icalendar.prop.vDDDTypes object at 0x000001F46875E2B0>, 'LOCATION': vText('b'Road America\\\\nElkhart Lake\\\\, WI\\\\n''), 'UID': vText('b'124'')}), VEVENT({'SUMMARY': vText('b'Trans-Am Race 9''), 'DESCRIPTION': vText('b'TA2 Race''), 'DTSTART': <icalendar.prop.vDDDTypes object at 0x000001F46875E310>, 'DTEND': <icalendar.prop.vDDDTypes object at 0x000001F46875E4C0>, 'DTSTAMP': <icalendar.prop.vDDDTypes object at 0x000001F46875E790>, 'LOCATION': vText('b'Watkins Glen International\\\\nWatkins Glen\\\\, NY\\\\n''), 'UID': vText('b'125'')}), VEVENT({'SUMMARY': vText('b'Trans-Am Race 9''), 'DESCRIPTION': vText('b'TA1 and Friends Race''), 'DTSTART': <icalendar.prop.vDDDTypes object at 0x000001F46875E8B0>, 'DTEND': <icalendar.prop.vDDDTypes object at 0x000001F46875E970>, 'DTSTAMP': <icalendar.prop.vDDDTypes object at 0x000001F46875EA00>, 'LOCATION': vText('b'Watkins Glen International\\\\nWatkins Glen\\\\, NY\\\\n''), 'UID': vText('b'126'')}), VEVENT({'SUMMARY': vText('b'Trans-Am Race 10''), 'DESCRIPTION': vText('b'TA2 Race''), 'DTSTART': <icalendar.prop.vDDDTypes object at 0x000001F46875EE20>, 'DTEND': <icalendar.prop.vDDDTypes object at 0x000001F46875ED60>, 'DTSTAMP': <icalendar.prop.vDDDTypes object at 0x000001F46875ED00>, 'LOCATION': vText('b'Canadian Tire Motorsport Park\\\\nBowmanville\\\\, ON\\\\n''), 'UID': vText('b'127'')}), VEVENT({'SUMMARY': vText('b'Trans-Am Race 10''), 'DESCRIPTION': vText('b'TA1 and Friends Race''), 'DTSTART': <icalendar.prop.vDDDTypes object at 0x000001F46875EEE0>, 'DTEND': <icalendar.prop.vDDDTypes object at 0x000001F46875EF40>, 'DTSTAMP': <icalendar.prop.vDDDTypes object at 0x000001F4687AB4F0>, 'LOCATION': vText('b'Canadian Tire Motorsport Park\\\\nBowmanville\\\\, ON\\\\n''), 'UID': vText('b'128'')}), VEVENT({'SUMMARY': vText('b'Trans-Am Race 11''), 'DESCRIPTION': vText('b'TA2 Race''), 'DTSTART': <icalendar.prop.vDDDTypes object at 0x000001F468752D60>, 'DTEND': <icalendar.prop.vDDDTypes object at 0x000001F4687521C0>, 'DTSTAMP': <icalendar.prop.vDDDTypes object at 0x000001F46876D4C0>, 'LOCATION': vText('b'VIRginia International Raceway\\\\nAlton\\\\, VA\\\\n''), 'UID': vText('b'129'')}), VEVENT({'SUMMARY': vText('b'Trans-Am Race 11''), 'DESCRIPTION': vText('b'TA1 and Friends Race''), 'DTSTART': <icalendar.prop.vDDDTypes object at 0x000001F46876D820>, 'DTEND': <icalendar.prop.vDDDTypes object at 0x000001F46876D9A0>, 'DTSTAMP': <icalendar.prop.vDDDTypes object at 0x000001F46876DA30>, 'LOCATION': vText('b'VIRginia International Raceway\\\\nAlton\\\\, VA\\\\n''), 'UID': vText('b'130'')}), VEVENT({'SUMMARY': vText('b'Trans-Am Race 12''), 'DESCRIPTION': vText('b'TA2 Race''), 'DTSTART': <icalendar.prop.vDDDTypes object at 0x000001F46876DBE0>, 'DTEND': <icalendar.prop.vDDDTypes object at 0x000001F46876DC70>, 'DTSTAMP': <icalendar.prop.vDDDTypes object at 0x000001F46876DD00>, 'LOCATION': vText('b'Circuit of The Americas\\\\nAustin\\\\, TX\\\\n''), 'UID': vText('b'131'')}), VEVENT({'SUMMARY': vText('b'Trans-Am Race 12''), 'DESCRIPTION': vText('b'TA1 and Friends Race''), 'DTSTART': <icalendar.prop.vDDDTypes object at 0x000001F46876DEB0>, 'DTEND': <icalendar.prop.vDDDTypes object at 0x000001F46876DF40>, 'DTSTAMP': <icalendar.prop.vDDDTypes object at 0x000001F4687501F0>, 'LOCATION': vText('b'Circuit of The Americas\\\\nAustin\\\\, TX\\\\n''), 'UID': vText('b'132'')}))"
      ]
     },
     "execution_count": 19,
     "metadata": {},
     "output_type": "execute_result"
    }
   ],
   "source": [
    "Trans_Am"
   ]
  },
  {
   "cell_type": "code",
   "execution_count": null,
   "id": "cca5a581",
   "metadata": {},
   "outputs": [],
   "source": []
  },
  {
   "cell_type": "code",
   "execution_count": 20,
   "id": "0146ef04",
   "metadata": {},
   "outputs": [
    {
     "name": "stdout",
     "output_type": "stream",
     "text": [
      "ics file will be generated at  C:\\Users\\chris\\Documents\\Calendars/\n"
     ]
    }
   ],
   "source": [
    "directory = str(Path(r'C:\\Users\\chris\\Documents\\Calendars')) + \"/\"\n",
    "print(\"ics file will be generated at \", directory)\n",
    "f = open(os.path.join(directory, 'Trans-Am.ics'), 'wb')\n",
    "f.write(Trans_Am.to_ical())\n",
    "f.close()"
   ]
  }
 ],
 "metadata": {
  "kernelspec": {
   "display_name": "Python 3 (ipykernel)",
   "language": "python",
   "name": "python3"
  },
  "language_info": {
   "codemirror_mode": {
    "name": "ipython",
    "version": 3
   },
   "file_extension": ".py",
   "mimetype": "text/x-python",
   "name": "python",
   "nbconvert_exporter": "python",
   "pygments_lexer": "ipython3",
   "version": "3.9.7"
  }
 },
 "nbformat": 4,
 "nbformat_minor": 5
}
